{
 "cells": [
  {
   "cell_type": "code",
   "execution_count": null,
   "metadata": {},
   "outputs": [],
   "source": []
  },
  {
   "cell_type": "code",
   "execution_count": null,
   "metadata": {},
   "outputs": [],
   "source": []
  },
  {
   "cell_type": "code",
   "execution_count": null,
   "metadata": {},
   "outputs": [],
   "source": []
  },
  {
   "cell_type": "code",
   "execution_count": null,
   "metadata": {},
   "outputs": [],
   "source": []
  },
  {
   "cell_type": "code",
   "execution_count": null,
   "metadata": {},
   "outputs": [],
   "source": []
  },
  {
   "cell_type": "markdown",
   "metadata": {},
   "source": [
    "---"
   ]
  },
  {
   "cell_type": "markdown",
   "metadata": {},
   "source": [
    "### 2.1.6.11 LAB: Operators and expressions"
   ]
  },
  {
   "cell_type": "markdown",
   "metadata": {},
   "source": [
    "#### Scenario\n",
    "Your task is to prepare a simple code able to evaluate the end time of a period of time, given as a number of minutes (it could be arbitrarily large). The start time is given as a pair of hours (0..23) and minutes (0..59). The result has to be printed to the console.\n",
    "\n",
    "For example, if an event starts at 12:17 and lasts 59 minutes, it will end at 13:16.\n",
    "\n",
    "Don't worry about any imperfections in your code - it's okay if it accepts an invalid time - the most important thing is that the code produce valid results for valid input data.\n",
    "\n",
    "Test your code carefully. Hint: using the % operator may be the key to success.\n",
    "\n",
    "Test Data\n",
    "Sample input:\n",
    "12\n",
    "17\n",
    "59\n",
    "\n",
    "Expected output: 13:16\n",
    "\n",
    "\n",
    "Sample input:\n",
    "23\n",
    "58\n",
    "642\n",
    "\n",
    "Expected output: 10:40\n",
    "\n",
    "\n",
    "Sample input:\n",
    "0\n",
    "1\n",
    "2939\n",
    "\n",
    "Expected output: 1:0"
   ]
  },
  {
   "cell_type": "code",
   "execution_count": null,
   "metadata": {},
   "outputs": [],
   "source": [
    "hour = int(input(\"Starting time (hours): \"))\n",
    "mins = int(input(\"Starting time (minutes): \"))\n",
    "dura = int(input(\"Event duration (minutes): \"))\n",
    "time_hour = (hour + dura//60 + (mins+ dura%60)//60)%24\n",
    "time_min = (mins+ dura%60)%60\n",
    "# put your code here\n",
    "print(\"The time is: \" + str(time_hour) + \":\" + str(time_min))"
   ]
  },
  {
   "cell_type": "code",
   "execution_count": null,
   "metadata": {},
   "outputs": [],
   "source": [
    "name = input(\"Enter your name: \")\n",
    "print(\"Hello, \" + name + \". Nice to meet you!\")\n",
    "\n",
    "print(\"\\nPress Enter to end the program.\")\n",
    "input()\n",
    "print(\"THE END.\")"
   ]
  },
  {
   "cell_type": "markdown",
   "metadata": {},
   "source": [
    "---"
   ]
  },
  {
   "cell_type": "markdown",
   "metadata": {},
   "source": [
    "### 2.1.6.12 SECTION SUMMARY"
   ]
  },
  {
   "cell_type": "markdown",
   "metadata": {},
   "source": [
    "1. The `print()` function sends data to the console, while the `input()` function gets data from the console.\n",
    "\n",
    "2. The `input()` function comes with an optional parameter: the prompt string. It allows you to write a message before the user input, e.g.:\n",
    "\n",
    "    ```\n",
    "    name = input(\"Enter your name: \")\n",
    "    print(\"Hello, \" + name + \". Nice to meet you!\")\n",
    "    ```\n",
    "\n",
    "3. When the `input()` function is called, the program's flow is stopped, the prompt symbol keeps blinking (it prompts the user to take action when the console is switched to input mode) until the user has entered an input and/or pressed the Enter key."
   ]
  },
  {
   "cell_type": "markdown",
   "metadata": {},
   "source": [
    "- Exercise 1"
   ]
  },
  {
   "cell_type": "code",
   "execution_count": null,
   "metadata": {},
   "outputs": [],
   "source": [
    "x = int(input(\"Enter a number: \")) # the user enters 2\n",
    "print(x * \"5\")"
   ]
  },
  {
   "cell_type": "markdown",
   "metadata": {},
   "source": [
    "- Answer: 55"
   ]
  },
  {
   "cell_type": "markdown",
   "metadata": {},
   "source": [
    "- Exercise 2"
   ]
  },
  {
   "cell_type": "code",
   "execution_count": null,
   "metadata": {},
   "outputs": [],
   "source": [
    "x = input(\"Enter a number: \") # the user enters 2\n",
    "print(type(x))"
   ]
  },
  {
   "cell_type": "markdown",
   "metadata": {},
   "source": [
    "- Answer: <class 'str'>"
   ]
  },
  {
   "cell_type": "markdown",
   "metadata": {},
   "source": [
    "---"
   ]
  },
  {
   "cell_type": "markdown",
   "metadata": {},
   "source": [
    "## Programming Essentials in Python: Module 3"
   ]
  },
  {
   "cell_type": "markdown",
   "metadata": {},
   "source": [
    "### In this module, you will learn about:\n",
    "\n",
    "- Boolean values;\n",
    "- if-elif-else instructions;\n",
    "- the while and for loops;\n",
    "- flow control;\n",
    "- logical and bitwise operations;\n",
    "- lists and arrays."
   ]
  },
  {
   "cell_type": "markdown",
   "metadata": {},
   "source": [
    "---"
   ]
  },
  {
   "cell_type": "markdown",
   "metadata": {},
   "source": [
    "### 3.1.1.2 Making decisions in Python"
   ]
  },
  {
   "cell_type": "markdown",
   "metadata": {},
   "source": [
    "#### Comparison: equality operator\n",
    "Don't forget this important distinction:\n",
    "\n",
    "- `=` is an **assignment operator**, e.g., `a = b` assigns `a` with the value of `b`;\n",
    "- `==` is the question are these values equal?; `a == b` **compares** `a` and `b`.\n",
    "It is a **binary operator with left-sided binding.** It needs two arguments and checks if they are equal."
   ]
  },
  {
   "cell_type": "markdown",
   "metadata": {},
   "source": [
    "#### Question #2: What is the result of the following comparison?\n",
    "`2 == 2.`\n",
    "\n",
    "This question is not as easy as the first one. Luckily, Python is able to convert the integer value into its real equivalent, and consequently, the answer is **True**."
   ]
  },
  {
   "cell_type": "markdown",
   "metadata": {},
   "source": [
    "---"
   ]
  },
  {
   "cell_type": "markdown",
   "metadata": {},
   "source": [
    "### 3.1.1.3 Making decisions in Python"
   ]
  },
  {
   "cell_type": "markdown",
   "metadata": {},
   "source": [
    "- Equality: the equal to operator `==`\n",
    "- Inequality: the not equal to operator `!=`"
   ]
  },
  {
   "cell_type": "markdown",
   "metadata": {},
   "source": [
    "---"
   ]
  },
  {
   "cell_type": "markdown",
   "metadata": {},
   "source": [
    "### 3.1.1.4 Making decisions in Python"
   ]
  },
  {
   "cell_type": "markdown",
   "metadata": {},
   "source": [
    "- `>=` (greater than or equal to) and `<=` (less than or equal to) are non-strict\n",
    "- Both of these operators (strict and non-strict), as well as the two others discussed in the next section, are binary operators with left-sided binding, and their priority is greater than that shown by `==` and `!=`."
   ]
  },
  {
   "cell_type": "markdown",
   "metadata": {},
   "source": [
    "- priority table"
   ]
  },
  {
   "cell_type": "markdown",
   "metadata": {},
   "source": [
    "\n",
    "|  Priority |  Operator |   |\n",
    "|:----------|:-----------|:---|\n",
    "|      1    |  `~`,`+`,`-`  |  unary |\n",
    "|      2    |  `**`     |   |\n",
    "|      3    |  `*`,`/`,`//`,`%` |   |\n",
    "|      4    |  `+`,`-`  | binary  |\n",
    "|      5    |  `<<`,`>>`|   |\n",
    "|      6    |   `<`, `<=`,`>`,`>=`|   |\n",
    "|      7    |   `==`, `!=`|   |\n",
    "|      8    |   `&`|   |\n",
    "|      9    |   `\\|`|   |\n",
    "|      10    |   `=`, `+=`, `-=`, `*=`, `/=`, `%=`, `&=`, `^=`, `\\|=`, `>>=`, `<<=`|   |"
   ]
  },
  {
   "cell_type": "markdown",
   "metadata": {},
   "source": [
    "#### Conditions and conditional execution"
   ]
  },
  {
   "cell_type": "markdown",
   "metadata": {},
   "source": [
    "The first form of a conditional statement, which you can see below is written very informally but figuratively:"
   ]
  },
  {
   "cell_type": "code",
   "execution_count": null,
   "metadata": {},
   "outputs": [],
   "source": [
    "if true_or_not:\n",
    "    do_this_if_true"
   ]
  },
  {
   "cell_type": "markdown",
   "metadata": {},
   "source": [
    "This conditional statement consists of the following, strictly necessary, elements in this and this order only:\n",
    "- the if keyword;\n",
    "- one or more white spaces;\n",
    "- an expression (a question or an answer) whose value will be interpreted solely in terms of True (when its value is non-zero) and False (when it is equal to zero);\n",
    "- a **colon** followed by a newline;\n",
    "- an **indented** instruction or set of instructions (at least one instruction is absolutely required); the **indentation** may be achieved in two ways - by inserting a particular number of spaces (the recommendation is to use **four spaces of indentation**), or by using the tab character; note: if there is more than one instruction in the indented part, the indentation should be the same in all lines; even though it may look the same if you use tabs mixed with spaces, it's important to make all indentations **exactly the same** - **Python 3 does not allow mixing spaces and tabs for indentation**."
   ]
  },
  {
   "cell_type": "code",
   "execution_count": null,
   "metadata": {},
   "outputs": [],
   "source": [
    "if the_weather_is_good\n",
    "    go_for_a_walk()\n",
    "elif tickets_are_available:\n",
    "    go_to_the_theater()\n",
    "elif table_is_available:\n",
    "    go_for_lunch()\n",
    "else:\n",
    "    play_chess_at_home()"
   ]
  },
  {
   "cell_type": "markdown",
   "metadata": {},
   "source": [
    "- The way to assemble subsequent if-elif-else statements is sometimes called a cascade.\n",
    "- you **mustn't use** `else` **without a preceding** `if`;\n",
    "- `else` is always the **last branch of the cascade**, regardless of whether you've used `elif` or not;\n",
    "- `else` is an **optional** part of the cascade, and may be omitted;\n",
    "- if there is an else branch in the cascade, only one of all the branches is executed;\n",
    "- if there is no else branch, it's possible that none of the available branches is executed."
   ]
  },
  {
   "cell_type": "markdown",
   "metadata": {},
   "source": [
    "#### Example: let's find the largest of three numbers."
   ]
  },
  {
   "cell_type": "code",
   "execution_count": null,
   "metadata": {},
   "outputs": [],
   "source": [
    "# read three numbers\n",
    "number1 = int(input(\"Enter the first number: \"))\n",
    "number2 = int(input(\"Enter the second number: \"))\n",
    "number3 = int(input(\"Enter the third number: \"))\n",
    "\n",
    "# We temporarily assume that the first number\n",
    "# is the largest one.\n",
    "# We will verify this soon.\n",
    "largest_number = number1\n",
    "\n",
    "# we check if the second number is larger than current largest_number\n",
    "# and update largest_number if needed\n",
    "if number2 > largest_number:\n",
    "    largest_number = number2\n",
    "\n",
    "# we check if the third number is larger than current largest_number\n",
    "# and update largest_number if needed\n",
    "if number3 > largest_number:\n",
    "    largest_number = number3\n",
    "\n",
    "# print the result\n",
    "print(\"The largest number is:\", largest_number)"
   ]
  },
  {
   "cell_type": "markdown",
   "metadata": {},
   "source": [
    "---"
   ]
  },
  {
   "cell_type": "markdown",
   "metadata": {},
   "source": [
    "### 3.1.1.13 LAB: Essentials of the if-elif-else statement"
   ]
  },
  {
   "cell_type": "markdown",
   "metadata": {},
   "source": [
    "#### Scenario\n",
    "\n",
    "As you surely know, due to some astronomical reasons, years may be leap or common. The former are 366 days long, while the latter are 365 days long.\n",
    "\n",
    "Since the introduction of the Gregorian calendar (in 1582), the following rule is used to determine the kind of year:\n",
    "\n",
    "if the year number isn't divisible by four, it's a common year;\n",
    "otherwise, if the year number isn't divisible by 100, it's a leap year;\n",
    "otherwise, if the year number isn't divisible by 400, it's a common year;\n",
    "otherwise, it's a leap year.\n",
    "Look at the code in the editor - it only reads a year number, and needs to be completed with the instructions implementing the test we've just described.\n",
    "\n",
    "The code should output one of two possible messages, which are Leap year or Common year, depending on the value entered.\n",
    "\n",
    "It would be good to verify if the entered year falls into the Gregorian era, and output a warning otherwise: Not within the Gregorian calendar period. Tip: use the != and % operators.\n",
    "\n",
    "Test your code using the data we've provided.\n",
    "\n",
    "Test Data\n",
    "Sample input: 2000\n",
    "\n",
    "Expected output: Leap year\n",
    "\n",
    "Sample input: 2015\n",
    "\n",
    "Expected output: Common year\n",
    "\n",
    "Sample input: 1999\n",
    "\n",
    "Expected output: Common year\n",
    "\n",
    "Sample input: 1996\n",
    "\n",
    "Expected output: Leap year\n",
    "\n",
    "Sample input: 1580\n",
    "\n",
    "Expected output: Not within the Gregorian calendar period"
   ]
  },
  {
   "cell_type": "code",
   "execution_count": null,
   "metadata": {},
   "outputs": [],
   "source": [
    "year = int(input(\"Enter a year: \"))\n",
    "\n",
    "if year < 1582: print(\"Not within the Gregorian calendar period\")\n",
    "elif year % 4 != 0: print(\"Common year\")\n",
    "elif year % 100 != 0: print(\"Leap year\")\n",
    "elif year % 400 != 0: print(\"Common year\")\n",
    "else: print(\"Leap year\")"
   ]
  },
  {
   "cell_type": "markdown",
   "metadata": {},
   "source": [
    "---"
   ]
  },
  {
   "cell_type": "markdown",
   "metadata": {},
   "source": [
    "### 3.1.2.1 Loops in Python | while"
   ]
  },
  {
   "cell_type": "markdown",
   "metadata": {},
   "source": [
    "##### Looping your code with while"
   ]
  },
  {
   "cell_type": "markdown",
   "metadata": {},
   "source": [
    "It is now important to remember that:\n",
    "\n",
    "- if you want to execute **more than one statement inside one** while, you must (as with if) **indent** all the instructions in the same way;\n",
    "- an instruction or set of instructions executed inside the while loop is called the **loop's body**;\n",
    "- if the condition is False (equal to zero) as early as when it is tested for the first time, the body is not executed even once (note the analogy of not having to do anything if there is nothing to do);\n",
    "- the body should be able to change the condition's value, because if the condition is True at the beginning, the body might run continuously to infinity - notice that doing a thing usually decreases the number of things to do)."
   ]
  },
  {
   "cell_type": "markdown",
   "metadata": {},
   "source": [
    "##### An infinite loop"
   ]
  },
  {
   "cell_type": "markdown",
   "metadata": {},
   "source": [
    "- to find the largest number from a large set of entered data"
   ]
  },
  {
   "cell_type": "code",
   "execution_count": null,
   "metadata": {},
   "outputs": [],
   "source": [
    "# we will store the current largest number here\n",
    "largest_number = -999999999\n",
    "\n",
    "# input the first value\n",
    "number = int(input(\"Enter a number or type -1 to stop: \"))\n",
    "\n",
    "# if the number is not equal to -1, we will continue\n",
    "while number != -1:\n",
    "    # is number larger than largest_number?\n",
    "    if number > largest_number:\n",
    "        # yes, update largest_number\n",
    "        largest_number = number\n",
    "    # input the next number\n",
    "    number = int(input(\"Enter a number or type -1 to stop: \"))\n",
    "\n",
    "# print the largest number\n",
    "print(\"The largest number is:\", largest_number)"
   ]
  },
  {
   "cell_type": "markdown",
   "metadata": {},
   "source": [
    "---"
   ]
  },
  {
   "cell_type": "markdown",
   "metadata": {},
   "source": [
    "### 3.1.2.3 LAB: Essentials of the while loop - Guess the secret number"
   ]
  },
  {
   "cell_type": "markdown",
   "metadata": {},
   "source": [
    "#### Scenario\n",
    "A junior magician has picked a secret number. He has hidden it in a variable named secret_number. He wants everyone who run his program to play the Guess the secret number game, and guess what number he has picked for them. Those who don't guess the number will be stuck in an endless loop forever! Unfortunately, he does not know how to complete the code.\n",
    "\n",
    "Your task is to help the magician complete the code in the editor in such a way so that the code:\n",
    "\n",
    "- will ask the user to enter an integer number;\n",
    "- will use a `while` loop;\n",
    "- will check whether the number entered by the user is the same as the number picked by the magician. If the number chosen by the user is different than the magician's secret number, the user should see the message `\"Ha ha! You're stuck in my loop!\"` and be prompted to enter a number again. If the number entered by the user matches the number picked by the magician, the number should be printed to the screen, and the magician should say the following words: `\"Well done, muggle! You are free now.\"`"
   ]
  },
  {
   "cell_type": "markdown",
   "metadata": {},
   "source": [
    "#### Example 1:"
   ]
  },
  {
   "cell_type": "code",
   "execution_count": null,
   "metadata": {},
   "outputs": [],
   "source": [
    "print(\n",
    "\"\"\"\n",
    "+================================+\n",
    "| Welcome to my game, muggle!    |\n",
    "| Enter an integer number        |\n",
    "| and guess what number I've     |\n",
    "| picked for you.                |\n",
    "| So, what is the secret number? |\n",
    "+================================+\n",
    "\"\"\")\n",
    "\n",
    "secret_number = 777\n",
    "guess_number = int(input(\"Enter a number: \"))\n",
    "\n",
    "while guess_number != secret_number:\n",
    "    print(\"Ha ha! You're stuck in my loop!\")\n",
    "    guess_number = int(input(\"Enter a number: \"))\n",
    "        \n",
    "print(\"Well done, muggle! You are free now.\")"
   ]
  },
  {
   "cell_type": "markdown",
   "metadata": {},
   "source": [
    "#### Example 2:"
   ]
  },
  {
   "cell_type": "code",
   "execution_count": null,
   "metadata": {},
   "outputs": [],
   "source": [
    "secret_number = 777\n",
    "guess_number = int(input(\"Enter a number: \"))\n",
    "\n",
    "while True:\n",
    "    if guess_number == secret_number:\n",
    "        print(\"Well done, muggle! You are free now.\")\n",
    "        break\n",
    "    else:\n",
    "        print(\"Ha ha! You're stuck in my loop!\")\n",
    "        guess_number = int(input(\"Enter a number: \"))"
   ]
  },
  {
   "cell_type": "markdown",
   "metadata": {},
   "source": [
    "---"
   ]
  },
  {
   "cell_type": "markdown",
   "metadata": {},
   "source": [
    "### 3.1.2.4 Loops in Python | for"
   ]
  },
  {
   "cell_type": "markdown",
   "metadata": {},
   "source": [
    "#### Looping your code with for"
   ]
  },
  {
   "cell_type": "code",
   "execution_count": null,
   "metadata": {},
   "outputs": [],
   "source": [
    "for i in range(10):\n",
    "    print(\"The value of i is currently\", i)"
   ]
  },
  {
   "cell_type": "markdown",
   "metadata": {},
   "source": [
    "Note:\n",
    "\n",
    "- the loop has been executed ten times (it's the `range()` function's argument)\n",
    "- the last control variable's value is `9` (not `10`, as **it starts from** `0`, not from `1`)"
   ]
  },
  {
   "cell_type": "code",
   "execution_count": null,
   "metadata": {},
   "outputs": [],
   "source": [
    "for i in range(2, 8):\n",
    "    print(\"The value of i is currently\", i)"
   ]
  },
  {
   "cell_type": "markdown",
   "metadata": {},
   "source": [
    "Note:\n",
    "- The first value shown is `2` (taken from the `range()`'s first argument.)\n",
    "- The last is `7` (although the `range()`'s second argument is `8`)."
   ]
  },
  {
   "cell_type": "markdown",
   "metadata": {},
   "source": [
    "#### More about the for loop and the range() function with three arguments"
   ]
  },
  {
   "cell_type": "code",
   "execution_count": null,
   "metadata": {},
   "outputs": [],
   "source": [
    "for i in range(2, 8, 3):\n",
    "    print(\"The value of i is currently\", i)"
   ]
  },
  {
   "cell_type": "markdown",
   "metadata": {},
   "source": [
    "Note: if the set generated by the `range()` function is empty, the loop won't execute its body at all.\n",
    "Just like here - there will be no output:"
   ]
  },
  {
   "cell_type": "code",
   "execution_count": null,
   "metadata": {},
   "outputs": [],
   "source": [
    "for i in range(1, 1):\n",
    "    print(\"The value of i is currently\", i)"
   ]
  },
  {
   "cell_type": "markdown",
   "metadata": {},
   "source": [
    "Note: the set generated by the range() has to be sorted in ascending order. There's no way to force the range() to create a set in a different form. This means that the range()'s second argument must be greater than the first."
   ]
  },
  {
   "cell_type": "markdown",
   "metadata": {},
   "source": [
    "Thus, there will be no output here, either:"
   ]
  },
  {
   "cell_type": "code",
   "execution_count": null,
   "metadata": {},
   "outputs": [],
   "source": [
    "for i in range(2, 1):\n",
    "    print(\"The value of i is currently\", i)"
   ]
  },
  {
   "cell_type": "markdown",
   "metadata": {},
   "source": [
    "Let's have a look at a short program whose task is to write some of the first powers of two:"
   ]
  },
  {
   "cell_type": "code",
   "execution_count": null,
   "metadata": {},
   "outputs": [],
   "source": [
    "pow = 1\n",
    "for exp in range(16):\n",
    "    print(\"2 to the power of\", exp, \"is\", pow)\n",
    "    pow *= 2"
   ]
  },
  {
   "cell_type": "markdown",
   "metadata": {},
   "source": [
    "---"
   ]
  },
  {
   "cell_type": "markdown",
   "metadata": {},
   "source": [
    "### 3.1.2.7 Loop control in Python | break and continue"
   ]
  },
  {
   "cell_type": "markdown",
   "metadata": {},
   "source": [
    "#### The break and continue statements"
   ]
  },
  {
   "cell_type": "markdown",
   "metadata": {},
   "source": [
    "as developer, you could be faced with the following choices:\n",
    "\n",
    "- it appears that it's unnecessary to continue the loop as a whole; you should refrain from further execution of the loop's body and go further;\n",
    "- it appears that you need to start the next turn of the loop without completing the execution of the current turn."
   ]
  },
  {
   "cell_type": "markdown",
   "metadata": {},
   "source": [
    "Python provides two special instructions for the implementation of both these tasks. Let's say for the sake of accuracy that their existence in the language is not necessary - an experienced programmer is able to code any algorithm without these instructions. Such additions, which don't improve the language's expressive power, but only simplify the developer's work, are sometimes called **syntactic candy**, or syntactic sugar."
   ]
  },
  {
   "cell_type": "markdown",
   "metadata": {},
   "source": [
    "- `break` - exits the loop immediately, and unconditionally ends the loop's operation; the program begins to execute the nearest instruction after the loop's body;\n",
    "- `continue` - behaves as if the program has suddenly reached the end of the body; the next turn is started and the condition expression is tested immediately."
   ]
  },
  {
   "cell_type": "markdown",
   "metadata": {},
   "source": [
    "---"
   ]
  },
  {
   "cell_type": "markdown",
   "metadata": {},
   "source": [
    "### 3.1.2.10 LAB: The continue statement - the Ugly Vowel Eater\n"
   ]
  },
  {
   "cell_type": "markdown",
   "metadata": {},
   "source": [
    "#### Scenario\n",
    "The `continue` statement is used to skip the current block and move ahead to the next iteration, without executing the statements inside the loop.\n",
    "\n",
    "It can be used with both the while and for loops.\n",
    "\n",
    "Your task here is very special: you must design a vowel eater! Write a program that uses:\n",
    "\n",
    "- a `for` loop;\n",
    "- the concept of conditional execution (if-elif-else)\n",
    "- the `continue` statement.\n",
    "\n",
    "Your program must:\n",
    "\n",
    "- ask the user to enter a word;\n",
    "- use `userWord = userWord.upper()` to convert the word entered by the user to upper case; we'll talk about the so-called string methods and the `upper()` method very soon - don't worry;\n",
    "- use conditional execution and the `continue` statement to \"eat\" the following vowels A, E, I, O, U from the inputted word;\n",
    "- print the uneaten letters to the screen, each one of them on a separate line.\n",
    "Test your program with the data we've provided for you.\n",
    "\n",
    "\n",
    "Test data\n",
    "Sample input: `Gregory`\n",
    "\n",
    "Expected output:\n",
    "```\n",
    "G\n",
    "R\n",
    "G\n",
    "R\n",
    "Y\n",
    "```"
   ]
  },
  {
   "cell_type": "code",
   "execution_count": null,
   "metadata": {},
   "outputs": [],
   "source": [
    "userWord = input(\"Enter a word: \").upper()\n",
    "for letter in userWord:\n",
    "    if letter == 'A' :\n",
    "        continue\n",
    "    elif letter == 'E':\n",
    "        continue\n",
    "    elif letter == 'I':\n",
    "        continue\n",
    "    elif letter == 'O':\n",
    "        continue\n",
    "    elif letter == 'U':\n",
    "        continue\n",
    "    else:\n",
    "        print(letter)"
   ]
  },
  {
   "cell_type": "markdown",
   "metadata": {},
   "source": [
    "#### redesign the (ugly) vowel eater from the previous lab"
   ]
  },
  {
   "cell_type": "code",
   "execution_count": null,
   "metadata": {},
   "outputs": [],
   "source": [
    "wordWithoutVovels = \"\"\n",
    "\n",
    "userWord = input(\"Enter a word: \").upper()\n",
    "\n",
    "for letter in userWord:\n",
    "    if letter == 'A' :\n",
    "        continue\n",
    "    elif letter == 'E':\n",
    "        continue\n",
    "    elif letter == 'I':\n",
    "        continue\n",
    "    elif letter == 'O':\n",
    "        continue\n",
    "    elif letter == 'U':\n",
    "        continue\n",
    "    else:\n",
    "        wordWithoutVovels += letter\n",
    "\n",
    "print(wordWithoutVovels)"
   ]
  },
  {
   "cell_type": "markdown",
   "metadata": {},
   "source": [
    "---"
   ]
  },
  {
   "cell_type": "markdown",
   "metadata": {},
   "source": [
    "### 3.1.2.12 Python loops | else"
   ]
  },
  {
   "cell_type": "markdown",
   "metadata": {},
   "source": [
    "#### The while loop and the else branch"
   ]
  },
  {
   "cell_type": "markdown",
   "metadata": {},
   "source": [
    "- As you may have suspected, `loops may have the` **else** `branch too`, `like` **if**s.\n",
    "\n",
    "- The loop's `else` branch is **always executed once, regardless of whether the loop has entered its body or not.**"
   ]
  },
  {
   "cell_type": "code",
   "execution_count": null,
   "metadata": {},
   "outputs": [],
   "source": [
    "i = 5\n",
    "while i < 5:\n",
    "    print(i)\n",
    "    i += 1\n",
    "else:\n",
    "    print(\"else:\", i)"
   ]
  },
  {
   "cell_type": "markdown",
   "metadata": {},
   "source": [
    "---"
   ]
  },
  {
   "cell_type": "markdown",
   "metadata": {},
   "source": [
    "### 3.1.2.13 Python loops | else"
   ]
  },
  {
   "cell_type": "markdown",
   "metadata": {},
   "source": [
    "#### The for loop and the else branch"
   ]
  },
  {
   "cell_type": "code",
   "execution_count": null,
   "metadata": {},
   "outputs": [],
   "source": [
    "i = 111\n",
    "for i in range(2, 1):\n",
    "    print(i)\n",
    "else:\n",
    "    print(\"else:\", i)"
   ]
  },
  {
   "cell_type": "markdown",
   "metadata": {},
   "source": [
    "---"
   ]
  },
  {
   "cell_type": "markdown",
   "metadata": {},
   "source": [
    "### 3.1.2.14 LAB: Essentials of the while loop"
   ]
  },
  {
   "cell_type": "markdown",
   "metadata": {},
   "source": [
    "**Scenario**\n",
    "\n",
    "Listen to this story: a boy and his father, a computer programmer, are playing with wooden blocks. They are building a pyramid.\n",
    "\n",
    "Their pyramid is a bit weird, as it is actually a pyramid-shaped wall - it's flat. The pyramid is stacked according to one simple principle: each lower layer contains one block more than the layer above.\n",
    "\n",
    "The figure illustrates the rule used by the builders:\n",
    "\n",
    "![](./images/1_pyramid_height.png)\n",
    "\n",
    "Your task is to write a program which reads the number of blocks the builders have, and outputs the height of the pyramid that can be built using these blocks.\n",
    "\n",
    "Note: the height is measured by the number of **fully completed layers** - if the builders don't have a sufficient number of blocks and cannot complete the next layer, they finish their work immediately.\n",
    "\n",
    "Test your code using the data we've provided.\n",
    "\n",
    "**Test Data**\n",
    "\n",
    "Sample input: `20`\n",
    "\n",
    "Expected output: The height of the pyramid: `5`\n",
    "\n",
    "Sample input: `1000`\n",
    "\n",
    "Expected output: The height of the pyramid: `44`"
   ]
  },
  {
   "cell_type": "markdown",
   "metadata": {},
   "source": [
    "[Stackoverflow reference -- height of pyramid](https://stackoverflow.com/questions/58292099/outputting-height-of-a-pyramid-in-python)"
   ]
  },
  {
   "cell_type": "code",
   "execution_count": null,
   "metadata": {},
   "outputs": [],
   "source": [
    "blocks = int(input(\"Enter the number of blocks: \"))\n",
    "count = 1\n",
    "\n",
    "while blocks >= 1:\n",
    "    if blocks == 1:\n",
    "        height = count\n",
    "        break\n",
    "    else:\n",
    "        count += 1\n",
    "        total =0\n",
    "        for i in range(1, count+1):\n",
    "            total += i\n",
    "        if total == blocks:\n",
    "            height = count\n",
    "            break\n",
    "        elif total > blocks:\n",
    "            height = count -1\n",
    "            break\n",
    "\n",
    "print(\"The height of the pyramid:\", height)"
   ]
  },
  {
   "cell_type": "code",
   "execution_count": null,
   "metadata": {},
   "outputs": [],
   "source": []
  },
  {
   "cell_type": "markdown",
   "metadata": {},
   "source": [
    "**Scenario**\n",
    "\n",
    "In 1937, a German mathematician named Lothar Collatz formulated an intriguing hypothesis (it still remains unproven) which can be described in the following way:\n",
    "\n",
    "1. take any non-negative and non-zero integer number and name it `c0`;\n",
    "2. if it's even, evaluate a new `c0` as `c0 ÷ 2`;\n",
    "3. otherwise, if it's odd, evaluate a new `c0` as `3 × c0 + 1`;\n",
    "4. if `c0 ≠ 1`, skip to point 2.\n",
    "\n",
    "The hypothesis says that regardless of the initial value of `c0`, it will always go to 1.\n",
    "\n",
    "Of course, it's an extremely complex task to use a computer in order to prove the hypothesis for any natural number (it may even require artificial intelligence), but you can use Python to check some individual numbers. Maybe you'll even find the one which would disprove the hypothesis.\n",
    "\n",
    "\n",
    "Write a program which reads one natural number and executes the above steps as long as `c0` remains different from 1. We also want you to count the steps needed to achieve the goal. Your code should output all the intermediate values of `c0`, too.\n",
    "\n",
    "Hint: the most important part of the problem is how to transform Collatz's idea into a `while` loop - this is the key to success.\n",
    "\n",
    "Test your code using the data we've provided.\n",
    "\n",
    "**Test Data**\n",
    "\n",
    "Sample input: `16`\n",
    "\n",
    "Expected output:\n",
    "\n",
    "```\n",
    "8\n",
    "4\n",
    "2\n",
    "1\n",
    "steps = 4\n",
    "```"
   ]
  },
  {
   "cell_type": "code",
   "execution_count": null,
   "metadata": {},
   "outputs": [],
   "source": [
    "c0 = int(input(\"Enter a natural number: \"))\n",
    "count = 0\n",
    "while c0 > 0:\n",
    "    if c0 == 1:\n",
    "        if count ==0:\n",
    "            count += 1\n",
    "        break\n",
    "    if c0%2 == 0:\n",
    "        c0 = c0/2\n",
    "        print(int(c0))\n",
    "    else: \n",
    "        c0 = 3*c0 + 1\n",
    "        print(int(c0))\n",
    "    count += 1\n",
    "    \n",
    "print(\"steps =\", str(count))"
   ]
  },
  {
   "cell_type": "markdown",
   "metadata": {},
   "source": [
    "---"
   ]
  },
  {
   "cell_type": "markdown",
   "metadata": {},
   "source": [
    "### 3.1.2.16 SECTION SUMMARY"
   ]
  },
  {
   "cell_type": "markdown",
   "metadata": {},
   "source": [
    "1. There are two types of loops in Python: `while` and `for`:"
   ]
  },
  {
   "cell_type": "markdown",
   "metadata": {},
   "source": [
    "- the `while` loop executes a statement or a set of statements as long as a specified boolean condition is true, e.g.:"
   ]
  },
  {
   "cell_type": "code",
   "execution_count": null,
   "metadata": {},
   "outputs": [],
   "source": [
    "# Example 1\n",
    "while True:\n",
    "    print(\"Stuck in an infinite loop.\")\n",
    "\n",
    "# Example 2\n",
    "counter = 5\n",
    "while counter > 2:\n",
    "    print(counter)\n",
    "    counter -= 1"
   ]
  },
  {
   "cell_type": "markdown",
   "metadata": {},
   "source": [
    "- the `for` loop executes a set of statements many times; it's used to iterate over a sequence (e.g., a list, a dictionary, a tuple, or a set - you will learn about them soon) or other objects that are iterable (e.g., strings). You can use the `for` loop to iterate over a sequence of numbers using the built-in `range` function. Look at the examples below:"
   ]
  },
  {
   "cell_type": "code",
   "execution_count": 24,
   "metadata": {},
   "outputs": [
    {
     "name": "stdout",
     "output_type": "stream",
     "text": [
      "P*y*t*h*o*n*2\n",
      "4\n",
      "6\n",
      "8\n"
     ]
    }
   ],
   "source": [
    "# Example 1\n",
    "word = \"Python\"\n",
    "for letter in word:\n",
    "    print(letter, end=\"*\")\n",
    "\n",
    "# Example 2\n",
    "for i in range(1, 10):\n",
    "    if i % 2 == 0:\n",
    "        print(i)"
   ]
  },
  {
   "cell_type": "markdown",
   "metadata": {},
   "source": [
    "2. You can use the `break` and `continue` statements to change the flow of a loop:"
   ]
  },
  {
   "cell_type": "markdown",
   "metadata": {},
   "source": [
    "- You use `break` to exit a loop, e.g.:"
   ]
  },
  {
   "cell_type": "code",
   "execution_count": 25,
   "metadata": {},
   "outputs": [
    {
     "name": "stdout",
     "output_type": "stream",
     "text": [
      "OpenEDG "
     ]
    }
   ],
   "source": [
    "text = \"OpenEDG Python Institute\"\n",
    "for letter in text:\n",
    "    if letter == \"P\":\n",
    "        break\n",
    "    print(letter, end=\"\")"
   ]
  },
  {
   "cell_type": "markdown",
   "metadata": {},
   "source": [
    "- You use `continue` to skip the current iteration, and continue with the next iteration, e.g.:"
   ]
  },
  {
   "cell_type": "code",
   "execution_count": 26,
   "metadata": {},
   "outputs": [
    {
     "name": "stdout",
     "output_type": "stream",
     "text": [
      "pypypy"
     ]
    }
   ],
   "source": [
    "text = \"pyxpyxpyx\"\n",
    "for letter in text:\n",
    "    if letter == \"x\":\n",
    "        continue\n",
    "    print(letter, end=\"\")"
   ]
  },
  {
   "cell_type": "markdown",
   "metadata": {},
   "source": [
    "3. The `while` and `for` loops can also have an `else` clause in Python. The `else` clause executes after the loop finishes its execution as long as it has not been terminated by `break`, e.g.:"
   ]
  },
  {
   "cell_type": "code",
   "execution_count": 27,
   "metadata": {},
   "outputs": [
    {
     "name": "stdout",
     "output_type": "stream",
     "text": [
      "0\n",
      "1\n",
      "2\n",
      "3 else\n",
      "\n",
      "0\n",
      "1\n",
      "2\n",
      "2 else\n"
     ]
    }
   ],
   "source": [
    "n = 0\n",
    "\n",
    "while n != 3:\n",
    "    print(n)\n",
    "    n += 1\n",
    "else:\n",
    "    print(n, \"else\")\n",
    "\n",
    "print()\n",
    "\n",
    "for i in range(0, 3):\n",
    "    print(i)\n",
    "else:\n",
    "    print(i, \"else\")"
   ]
  },
  {
   "cell_type": "markdown",
   "metadata": {},
   "source": [
    "4. The `range()` function generates a sequence of numbers. It accepts integers and returns range objects. The syntax of `range()` looks as follows: `range(start, stop, step)`, where:"
   ]
  },
  {
   "cell_type": "markdown",
   "metadata": {},
   "source": [
    "- `start` is an optional parameter specifying the starting number of the sequence (0 by default)\n",
    "- `stop` is an optional parameter specifying the end of the sequence generated (it is not included),\n",
    "- and `step` is an optional parameter specifying the difference between the numbers in the sequence (1 by default.)"
   ]
  },
  {
   "cell_type": "markdown",
   "metadata": {},
   "source": [
    "Example code:"
   ]
  },
  {
   "cell_type": "code",
   "execution_count": 29,
   "metadata": {},
   "outputs": [
    {
     "name": "stdout",
     "output_type": "stream",
     "text": [
      "0 1 2 6 4 2 "
     ]
    }
   ],
   "source": [
    "for i in range(3):\n",
    "    print(i, end=\" \") # outputs: 0 1 2\n",
    "\n",
    "for i in range(6, 1, -2):\n",
    "    print(i, end=\" \") # outputs: 6, 4, 2"
   ]
  },
  {
   "cell_type": "markdown",
   "metadata": {},
   "source": [
    "Exercise 3:\n",
    "\n",
    "Create a program with a `for` loop and a `break` statement. The program should iterate over characters in an email address, exit the loop when it reaches the `@` symbol, and print the part before `@` on one line."
   ]
  },
  {
   "cell_type": "code",
   "execution_count": 30,
   "metadata": {},
   "outputs": [
    {
     "name": "stdout",
     "output_type": "stream",
     "text": [
      "john.smith"
     ]
    }
   ],
   "source": [
    "for ch in \"john.smith@pythoninstitute.org\":\n",
    "    if ch == \"@\":\n",
    "        break\n",
    "    print(ch, end=\"\")"
   ]
  },
  {
   "cell_type": "markdown",
   "metadata": {},
   "source": [
    "Exercise 4: \n",
    "\n",
    "Create a program with a `for` loop and a `continue` statement. The program should iterate over a string of digits, replace each `0` with `x`, and print the modified string to the screen."
   ]
  },
  {
   "cell_type": "code",
   "execution_count": 31,
   "metadata": {},
   "outputs": [
    {
     "name": "stdout",
     "output_type": "stream",
     "text": [
      "x165x318x651x"
     ]
    }
   ],
   "source": [
    "for digit in \"0165031806510\":\n",
    "    if digit == \"0\":\n",
    "        print(\"x\", end=\"\")\n",
    "        continue\n",
    "    print(digit, end=\"\")"
   ]
  },
  {
   "cell_type": "markdown",
   "metadata": {},
   "source": [
    "Exercise 5:"
   ]
  },
  {
   "cell_type": "code",
   "execution_count": 32,
   "metadata": {},
   "outputs": [
    {
     "name": "stdout",
     "output_type": "stream",
     "text": [
      "4\n",
      "3\n",
      "2\n",
      "0\n"
     ]
    }
   ],
   "source": [
    "n = 3\n",
    "\n",
    "while n > 0:\n",
    "    print(n + 1)\n",
    "    n -= 1\n",
    "else:\n",
    "    print(n)"
   ]
  },
  {
   "cell_type": "markdown",
   "metadata": {},
   "source": [
    "Exercise 6:"
   ]
  },
  {
   "cell_type": "code",
   "execution_count": 33,
   "metadata": {},
   "outputs": [
    {
     "name": "stdout",
     "output_type": "stream",
     "text": [
      "-1\n",
      "0\n",
      "1\n",
      "2\n",
      "3\n"
     ]
    }
   ],
   "source": [
    "n = range(4)\n",
    "\n",
    "for num in n:\n",
    "    print(num - 1)\n",
    "else:\n",
    "    print(num)"
   ]
  },
  {
   "cell_type": "markdown",
   "metadata": {},
   "source": [
    "---"
   ]
  },
  {
   "cell_type": "markdown",
   "metadata": {},
   "source": [
    "### 3.1.3.1 Logic and bit operations in Python | and, or, not"
   ]
  },
  {
   "cell_type": "markdown",
   "metadata": {},
   "source": [
    "### and"
   ]
  },
  {
   "cell_type": "markdown",
   "metadata": {},
   "source": [
    "One logical conjunction operator in Python is the word and. It's a **binary operator with a priority that is lower than the one expressed by the comparison operators.** It allows us to code complex conditions without the use of parentheses like this one:"
   ]
  },
  {
   "cell_type": "markdown",
   "metadata": {},
   "source": [
    "**truth table.**\n",
    "\n",
    "| `Argument A`  | `Argument B`  |  `A and B` |\n",
    "|:-:|:-:|:-:|\n",
    "| `False`  | `False`  | `False`  |\n",
    "| `False` | `True`  | `False`  |\n",
    "| `True` | `False`  |  `False` |\n",
    "| `True` |  `True` | `True`  |"
   ]
  },
  {
   "cell_type": "markdown",
   "metadata": {},
   "source": [
    "### or"
   ]
  },
  {
   "cell_type": "markdown",
   "metadata": {},
   "source": [
    "A disjunction operator is the word `aor`a. It's a **binary operator with a lower priority than** `and`a (just like `+` compared to `*`). Its truth table is as follows:"
   ]
  },
  {
   "cell_type": "markdown",
   "metadata": {},
   "source": [
    "| `Argument A`  | `Argument B`  |  `A and B` |\n",
    "|:-:|:-:|:-:|\n",
    "| `False`  | `False`  | `False`  |\n",
    "| `False` | `True`  | `True`  |\n",
    "| `True` | `False`  |  `True` |\n",
    "| `True` |  `True` | `True`  |"
   ]
  },
  {
   "cell_type": "markdown",
   "metadata": {},
   "source": [
    "### not"
   ]
  },
  {
   "cell_type": "markdown",
   "metadata": {},
   "source": [
    "In addition, there's another operator that can be applied for constructing conditions. It's a **unary operator performing a logical negation.** Its operation is simple: it turns truth into falsehood and falsehood into truth.\n",
    "\n",
    "This operator is written as the word not, and its **priority is very high: the same as the unary** `+` **and** `-`. Its truth table is simple:"
   ]
  },
  {
   "cell_type": "markdown",
   "metadata": {},
   "source": [
    "| `Argument A`  | `not Argumetn` |\n",
    "|:-:|:-:|\n",
    "| `False`  | `True`  | \n",
    "| `True` | `False`  | \n"
   ]
  },
  {
   "cell_type": "markdown",
   "metadata": {},
   "source": [
    "---"
   ]
  },
  {
   "cell_type": "markdown",
   "metadata": {},
   "source": [
    "### 3.1.3.2 Logic and bit operations in Python | and, or, not"
   ]
  },
  {
   "cell_type": "markdown",
   "metadata": {},
   "source": [
    "#### Logical expressions"
   ]
  },
  {
   "cell_type": "markdown",
   "metadata": {},
   "source": [
    "You may be familiar with De Morgan's laws. They say that:\n",
    "\n",
    "> The negation of a conjunction is the disjunction of the negations.\n",
    "\n",
    "> The negation of a disjunction is the conjunction of the negations.\n",
    "\n",
    "\n",
    "Let's write the same thing using Python:"
   ]
  },
  {
   "cell_type": "code",
   "execution_count": null,
   "metadata": {},
   "outputs": [],
   "source": [
    "not (p and q) == (not p) or (not q)\n",
    "not (p or q) == (not p) and (not q)"
   ]
  },
  {
   "cell_type": "markdown",
   "metadata": {},
   "source": [
    "#### Bitwise operators"
   ]
  },
  {
   "cell_type": "markdown",
   "metadata": {},
   "source": [
    "- `&` (ampersand) - bitwise conjunction;\n",
    "- `|` (bar) - bitwise disjunction;\n",
    "- `~` (tilde) - bitwise negation;\n",
    "- `^` (caret) - bitwise exclusive or (xor)."
   ]
  },
  {
   "cell_type": "markdown",
   "metadata": {},
   "source": [
    "#### Bitwise operations (&, |, and ^)"
   ]
  },
  {
   "cell_type": "markdown",
   "metadata": {},
   "source": [
    "- `&` requires exactly two `1`s to provide `1` as the result;\n",
    "- `|` requires at least one `1` to provide `1` as the result;\n",
    "- `^` requires exactly one `1` to provide `1` as the result. "
   ]
  },
  {
   "cell_type": "markdown",
   "metadata": {},
   "source": [
    "#### Note: "
   ]
  },
  {
   "cell_type": "markdown",
   "metadata": {},
   "source": [
    "- the arguments of these operators **must be integers**; we must not use floats here.\n",
    "- **the logical operators do not penetrate into the bit level of its argument**. They're only interested in the final integer value.\n",
    "- Bitwise operators are stricter: they deal with **every bit separately**. "
   ]
  },
  {
   "cell_type": "markdown",
   "metadata": {},
   "source": [
    "#### Logical vs. bit operations"
   ]
  },
  {
   "cell_type": "markdown",
   "metadata": {},
   "source": [
    "Let's assume that the following assignments have been performed:"
   ]
  },
  {
   "cell_type": "code",
   "execution_count": 1,
   "metadata": {},
   "outputs": [],
   "source": [
    "i = 15\n",
    "j = 22"
   ]
  },
  {
   "cell_type": "markdown",
   "metadata": {},
   "source": [
    "If we assume that the integers are stored with 32 bits, the bitwise image of the two variables will be as follows:"
   ]
  },
  {
   "cell_type": "code",
   "execution_count": null,
   "metadata": {},
   "outputs": [],
   "source": [
    "i: 00000000000000000000000000001111\n",
    "j: 00000000000000000000000000010110"
   ]
  },
  {
   "cell_type": "markdown",
   "metadata": {},
   "source": [
    "The assignment is given:"
   ]
  },
  {
   "cell_type": "code",
   "execution_count": 2,
   "metadata": {},
   "outputs": [],
   "source": [
    "log = i and j"
   ]
  },
  {
   "cell_type": "markdown",
   "metadata": {},
   "source": [
    "We are dealing with a logical conjunction here. Let's trace the course of the calculations. Both variables `i` and `j` are not zeros, so will be deemed to represent `True`. Consulting the truth table for the `and` operator, we can see that the result will be `True`. No other operations are performed."
   ]
  },
  {
   "cell_type": "markdown",
   "metadata": {},
   "source": [
    "Now the bitwise operation - here it is:"
   ]
  },
  {
   "cell_type": "code",
   "execution_count": null,
   "metadata": {},
   "outputs": [],
   "source": [
    "bit = i & j"
   ]
  },
  {
   "cell_type": "markdown",
   "metadata": {},
   "source": [
    "the result will be as follows: These bits correspond to the integer value of six."
   ]
  },
  {
   "cell_type": "markdown",
   "metadata": {},
   "source": [
    "```\n",
    "i                          00000000000000000000000000001111\n",
    "j\t                      00000000000000000000000000010110\n",
    "bit = i & j\t            00000000000000000000000000000110\n",
    "```"
   ]
  },
  {
   "cell_type": "markdown",
   "metadata": {},
   "source": [
    "Let's look at the negation operators now. First the logical one:"
   ]
  },
  {
   "cell_type": "code",
   "execution_count": null,
   "metadata": {},
   "outputs": [],
   "source": [
    "logneg = not i"
   ]
  },
  {
   "cell_type": "markdown",
   "metadata": {},
   "source": [
    "The logneg variable will be set to False - nothing more needs to be done."
   ]
  },
  {
   "cell_type": "markdown",
   "metadata": {},
   "source": [
    "The bitwise negation goes like this: the `bitneg` variable value is `-16`."
   ]
  },
  {
   "cell_type": "code",
   "execution_count": null,
   "metadata": {},
   "outputs": [],
   "source": [
    "bitneg = ~i"
   ]
  },
  {
   "cell_type": "markdown",
   "metadata": {},
   "source": [
    "```\n",
    "i\t          00000000000000000000000000001111\n",
    "bitneg = ~i\t11111111111111111111111111110000\n",
    "```"
   ]
  },
  {
   "cell_type": "markdown",
   "metadata": {},
   "source": [
    "`~` : Bitwise 1’s Complement"
   ]
  },
  {
   "cell_type": "markdown",
   "metadata": {},
   "source": [
    "This one is a bit different from what we’ve studied so far. This operator takes a number’s binary, and returns its one’s complement. For this, it flips the bits until it reaches the first 0 from right. `~x` is the same as `-x-1`."
   ]
  },
  {
   "cell_type": "code",
   "execution_count": 6,
   "metadata": {},
   "outputs": [
    {
     "name": "stdout",
     "output_type": "stream",
     "text": [
      "-3 0b10 -0b11\n"
     ]
    }
   ],
   "source": [
    "a = ~2\n",
    "b = bin(2)\n",
    "c = bin(-3)\n",
    "print(a, b, c)"
   ]
  },
  {
   "cell_type": "markdown",
   "metadata": {},
   "source": [
    "abbreviated form"
   ]
  },
  {
   "cell_type": "markdown",
   "metadata": {},
   "source": [
    "|normal| abbreviated|\n",
    "|:-:|:-:|\n",
    "| `x = x & y` |  `x &= y` |\n",
    "|  `x = x | y` | `x |= y`  |\n",
    "|  `x = x ^ y` |  `x ^= y` |"
   ]
  },
  {
   "cell_type": "markdown",
   "metadata": {},
   "source": [
    "---"
   ]
  },
  {
   "cell_type": "markdown",
   "metadata": {},
   "source": [
    "### 3.1.3.4 Logic and bit operations in Python | Bitwise operators"
   ]
  },
  {
   "cell_type": "markdown",
   "metadata": {},
   "source": [
    "#### How do we deal with single bits?"
   ]
  },
  {
   "cell_type": "markdown",
   "metadata": {},
   "source": [
    "The variable stores the information about various aspects of system operation. **Each bit of the variable stores one yes/no value.** You've also been told that only one of these bits is yours - the third (remember that bits are numbered from zero, and bit number zero is the lowest one, while the highest is number 31). The remaining bits are not allowed to change, because they're intended to store other data. Here's your bit marked with the letter `x`:"
   ]
  },
  {
   "cell_type": "code",
   "execution_count": null,
   "metadata": {},
   "outputs": [],
   "source": [
    "flagRegister = 0000000000000000000000000000x000"
   ]
  },
  {
   "cell_type": "markdown",
   "metadata": {},
   "source": [
    "1. **Check the state of your bit** - you want to find out the value of your bit; comparing the whole variable to zero will not do anything, because the remaining bits can have completely unpredictable values, but you can use the following conjunction property:"
   ]
  },
  {
   "cell_type": "code",
   "execution_count": null,
   "metadata": {},
   "outputs": [],
   "source": [
    "x & 1 = x\n",
    "x & 0 = 0"
   ]
  },
  {
   "cell_type": "markdown",
   "metadata": {},
   "source": [
    "If you apply the `&` operation to the `flagRegister` variable along with the following bit image:"
   ]
  },
  {
   "cell_type": "code",
   "execution_count": null,
   "metadata": {},
   "outputs": [],
   "source": [
    "00000000000000000000000000001000"
   ]
  },
  {
   "cell_type": "markdown",
   "metadata": {},
   "source": [
    "(note the 1 at your bit's position) as the result, you obtain one of the following bit strings:"
   ]
  },
  {
   "cell_type": "markdown",
   "metadata": {},
   "source": [
    "- `00000000000000000000000000001000` if your bit was set to `1`\n",
    "- `00000000000000000000000000000000` if your bit was reset to `0`"
   ]
  },
  {
   "cell_type": "markdown",
   "metadata": {},
   "source": [
    "Such a sequence of zeros and ones, whose task is to grab the value or to change the selected bits, is called a **bit mask**."
   ]
  },
  {
   "cell_type": "markdown",
   "metadata": {},
   "source": [
    "Let's build a bit mask to detect the state of your bit. It should point to **the third bit**. That bit has the weight of <strong>2<sup>3</sup> = 8</strong>. A suitable mask could be created by the following declaration:"
   ]
  },
  {
   "cell_type": "code",
   "execution_count": null,
   "metadata": {},
   "outputs": [],
   "source": [
    "theMask = 8"
   ]
  },
  {
   "cell_type": "markdown",
   "metadata": {},
   "source": [
    "You can also make a sequence of instructions depending on the state of your bit i here it is:"
   ]
  },
  {
   "cell_type": "code",
   "execution_count": null,
   "metadata": {},
   "outputs": [],
   "source": [
    "if flagRegister & theMask:\n",
    "    # my bit is set\n",
    "else:\n",
    "    # my bit is reset"
   ]
  },
  {
   "cell_type": "markdown",
   "metadata": {},
   "source": [
    "2. **Reset your bit** - you assign a zero to the bit while all the other bits must remain unchanged; let's use the same property of the conjunction as before, but let's use a slightly different mask - exactly as below:"
   ]
  },
  {
   "cell_type": "code",
   "execution_count": null,
   "metadata": {},
   "outputs": [],
   "source": [
    "11111111111111111111111111110111"
   ]
  },
  {
   "cell_type": "markdown",
   "metadata": {},
   "source": [
    "Note that the mask was created as a result of the negation of all the bits of `theMask` variable. Resetting the bit is simple, and looks like this **(choose the one you like more)**:"
   ]
  },
  {
   "cell_type": "code",
   "execution_count": null,
   "metadata": {},
   "outputs": [],
   "source": [
    "flagRegister = flagRegister & ~theMask\n",
    "\n",
    "flagregister &= ~theMask"
   ]
  },
  {
   "cell_type": "markdown",
   "metadata": {},
   "source": [
    "3. **Set your bit** - you assign a `1` to your bit, while all the remaining bits must remain unchanged; use the following disjunction property:"
   ]
  },
  {
   "cell_type": "code",
   "execution_count": null,
   "metadata": {},
   "outputs": [],
   "source": [
    "x | 1 = 1\n",
    "x | 0 = x"
   ]
  },
  {
   "cell_type": "markdown",
   "metadata": {},
   "source": [
    "You're now ready to set your bit with one of the following instructions:"
   ]
  },
  {
   "cell_type": "code",
   "execution_count": null,
   "metadata": {},
   "outputs": [],
   "source": [
    "flagRegister = flagRegister | theMask\n",
    "\n",
    "flagRegister |= theMask"
   ]
  },
  {
   "cell_type": "markdown",
   "metadata": {},
   "source": [
    "4. **Negate your bit** - you replace a `1` with a `0` and a `0` with a `1`. You can use an interesting property of the `xor` operator:"
   ]
  },
  {
   "cell_type": "code",
   "execution_count": null,
   "metadata": {},
   "outputs": [],
   "source": [
    "x ^ 1 = ~x\n",
    "x ^ 0 = x"
   ]
  },
  {
   "cell_type": "markdown",
   "metadata": {},
   "source": [
    "and negate your bit with the following instructions:"
   ]
  },
  {
   "cell_type": "code",
   "execution_count": null,
   "metadata": {},
   "outputs": [],
   "source": [
    "flagRegister = flagRegister ^ theMask\n",
    "\n",
    "flagRegister ^= theMask"
   ]
  },
  {
   "cell_type": "markdown",
   "metadata": {},
   "source": [
    "---"
   ]
  },
  {
   "cell_type": "markdown",
   "metadata": {},
   "source": [
    "### 3.1.3.5 Logic and bit operations in Python | Bit shifting"
   ]
  },
  {
   "cell_type": "markdown",
   "metadata": {},
   "source": [
    "#### Binary left shift and binary right shift"
   ]
  },
  {
   "cell_type": "markdown",
   "metadata": {},
   "source": [
    "Python offers yet another operation relating to single bits: **shifting**. This is applied only to **integer** values, and you mustn't use floats as arguments for it."
   ]
  },
  {
   "cell_type": "markdown",
   "metadata": {},
   "source": [
    "- shifting a value one bit to the left thus corresponds to multiplying it by two\n",
    "- shifting one bit to the right is like dividing by two (notice that the rightmost bit is lost)"
   ]
  },
  {
   "cell_type": "markdown",
   "metadata": {},
   "source": [
    "The **shift operators** in Python are a pair of **digraphs**: `<<` and `>>`, clearly suggesting in which direction the shift will act."
   ]
  },
  {
   "cell_type": "code",
   "execution_count": null,
   "metadata": {},
   "outputs": [],
   "source": [
    "value << bits\n",
    "value >> bits"
   ]
  },
  {
   "cell_type": "markdown",
   "metadata": {},
   "source": [
    "**The left argument of these operators is an integer value whose bits are shifted. The right argument determines the size of the shift.**"
   ]
  },
  {
   "cell_type": "markdown",
   "metadata": {},
   "source": [
    "It shows that this operation is certainly not commutative."
   ]
  },
  {
   "cell_type": "code",
   "execution_count": 2,
   "metadata": {},
   "outputs": [
    {
     "name": "stdout",
     "output_type": "stream",
     "text": [
      "17 68 8\n"
     ]
    }
   ],
   "source": [
    "var = 17\n",
    "varRight = var >> 1\n",
    "varLeft = var << 2\n",
    "print(var, varLeft, varRight)"
   ]
  },
  {
   "cell_type": "markdown",
   "metadata": {},
   "source": [
    "- `17 // 2 → 8` (shifting to the right by one bit is the same as integer division by two)\n",
    "- `17 * 4 → 68` (shifting to the left by two bits is the same as integer multiplication by four)"
   ]
  },
  {
   "cell_type": "markdown",
   "metadata": {},
   "source": [
    "### 3.1.3.6 SECTION SUMMARY"
   ]
  },
  {
   "cell_type": "markdown",
   "metadata": {},
   "source": [
    "1. You can use bitwise operators to manipulate single bits of data. The following sample data:"
   ]
  },
  {
   "cell_type": "markdown",
   "metadata": {},
   "source": [
    "- `x = 15`, which is `0000 1111` in binary,\n",
    "- `y = 16`, which is `0001 0000` in binary."
   ]
  },
  {
   "cell_type": "markdown",
   "metadata": {},
   "source": [
    "will be used to illustrate the meaning of bitwise operators in Python. Analyze the examples below:"
   ]
  },
  {
   "cell_type": "markdown",
   "metadata": {},
   "source": [
    "- `&` does a bitwise and, e.g., `x & y = 0`, which is `0000 0000` in binary,\n",
    "- `|` does a bitwise or, e.g., `x | y = 31`, which is `0001 1111` in binary,\n",
    "- `˜` does a bitwise not, e.g., `˜ x = 240`, which is `1111 0000` in binary,\n",
    "- `^` does a bitwise xor, e.g., `x ^ y = 31`, which is `0001 1111` in binary,\n",
    "- `>>` does a bitwise right shift, e.g., `y >> 1 = 8`, which is` 0000 1000` in binary,\n",
    "- `<<` does a bitwise left shift, e.g., `y << 3 = 128` , which is `1000 0000` in binary,"
   ]
  },
  {
   "cell_type": "code",
   "execution_count": 3,
   "metadata": {},
   "outputs": [
    {
     "name": "stdout",
     "output_type": "stream",
     "text": [
      "0 5 -5 1 1 16\n"
     ]
    }
   ],
   "source": [
    "x = 4\n",
    "y = 1\n",
    "\n",
    "a = x & y\n",
    "b = x | y\n",
    "c = ~x\n",
    "d = x ^ 5\n",
    "e = x >> 2\n",
    "f = x << 2\n",
    "\n",
    "print(a, b, c, d, e, f)"
   ]
  },
  {
   "cell_type": "markdown",
   "metadata": {},
   "source": [
    "### 3.1.4.1 Lists - collections of data"
   ]
  },
  {
   "cell_type": "markdown",
   "metadata": {},
   "source": [
    "- list is a collection of elements, but each element is a scalar"
   ]
  },
  {
   "cell_type": "markdown",
   "metadata": {},
   "source": [
    "### 3.1.4.3 Lists - collections of data | Indexing"
   ]
  },
  {
   "cell_type": "code",
   "execution_count": 1,
   "metadata": {},
   "outputs": [
    {
     "name": "stdout",
     "output_type": "stream",
     "text": [
      "Original list content: [10, 5, 7, 2, 1]\n",
      "\n",
      "Previous list content: [111, 5, 7, 2, 1]\n",
      "Previous list content: [111, 1, 7, 2, 1]\n",
      "\n",
      "List length: 5\n"
     ]
    }
   ],
   "source": [
    "numbers = [10, 5, 7, 2, 1]\n",
    "print(\"Original list content:\", numbers) # printing original list content\n",
    "\n",
    "numbers[0] = 111\n",
    "print(\"\\nPrevious list content:\", numbers) # printing previous list content\n",
    "\n",
    "numbers[1] = numbers[4] # copying value of the fifth element to the second\n",
    "print(\"Previous list content:\", numbers) # printing previous list content\n",
    "\n",
    "print(\"\\nList length:\", len(numbers)) # printing the list's length"
   ]
  },
  {
   "cell_type": "markdown",
   "metadata": {},
   "source": [
    "#### Removing elements from a list"
   ]
  },
  {
   "cell_type": "code",
   "execution_count": 2,
   "metadata": {},
   "outputs": [
    {
     "name": "stdout",
     "output_type": "stream",
     "text": [
      "Original list content: [10, 5, 7, 2, 1]\n",
      "\n",
      "List's length: 5\n",
      "New list's length: 4\n",
      "\n",
      "New list content: [10, 7, 2, 1]\n"
     ]
    }
   ],
   "source": [
    "numbers = [10, 5, 7, 2, 1]\n",
    "print(\"Original list content:\", numbers) # printing original list content\n",
    "\n",
    "print(\"\\nList's length:\", len(numbers)) # printing previous list length\n",
    "\n",
    "###\n",
    "\n",
    "del numbers[1] # removing the second element from the list\n",
    "print(\"New list's length:\", len(numbers)) # printing new list length\n",
    "print(\"\\nNew list content:\", numbers) # printing current list content\n",
    "\n",
    "###"
   ]
  },
  {
   "cell_type": "markdown",
   "metadata": {},
   "source": [
    "### 3.1.4.5 Lists - collections of data | Operations on lists"
   ]
  },
  {
   "cell_type": "markdown",
   "metadata": {},
   "source": [
    "#### Negative indices are legal"
   ]
  },
  {
   "cell_type": "markdown",
   "metadata": {},
   "source": [
    "- An element with an index equal to -1 is **the last one in the list**."
   ]
  },
  {
   "cell_type": "code",
   "execution_count": 4,
   "metadata": {},
   "outputs": [
    {
     "name": "stdout",
     "output_type": "stream",
     "text": [
      "1\n",
      "2\n"
     ]
    }
   ],
   "source": [
    "numbers = [111, 7, 2, 1]\n",
    "print(numbers[-1])\n",
    "print(numbers[-2])"
   ]
  },
  {
   "cell_type": "code",
   "execution_count": null,
   "metadata": {},
   "outputs": [],
   "source": []
  },
  {
   "cell_type": "code",
   "execution_count": null,
   "metadata": {},
   "outputs": [],
   "source": []
  },
  {
   "cell_type": "code",
   "execution_count": null,
   "metadata": {},
   "outputs": [],
   "source": []
  },
  {
   "cell_type": "code",
   "execution_count": null,
   "metadata": {},
   "outputs": [],
   "source": []
  },
  {
   "cell_type": "code",
   "execution_count": null,
   "metadata": {},
   "outputs": [],
   "source": []
  },
  {
   "cell_type": "code",
   "execution_count": null,
   "metadata": {},
   "outputs": [],
   "source": []
  },
  {
   "cell_type": "code",
   "execution_count": null,
   "metadata": {},
   "outputs": [],
   "source": []
  },
  {
   "cell_type": "code",
   "execution_count": null,
   "metadata": {},
   "outputs": [],
   "source": []
  },
  {
   "cell_type": "code",
   "execution_count": null,
   "metadata": {},
   "outputs": [],
   "source": []
  },
  {
   "cell_type": "code",
   "execution_count": null,
   "metadata": {},
   "outputs": [],
   "source": []
  },
  {
   "cell_type": "code",
   "execution_count": null,
   "metadata": {},
   "outputs": [],
   "source": []
  },
  {
   "cell_type": "code",
   "execution_count": null,
   "metadata": {},
   "outputs": [],
   "source": []
  },
  {
   "cell_type": "code",
   "execution_count": null,
   "metadata": {},
   "outputs": [],
   "source": []
  },
  {
   "cell_type": "code",
   "execution_count": null,
   "metadata": {},
   "outputs": [],
   "source": []
  },
  {
   "cell_type": "code",
   "execution_count": null,
   "metadata": {},
   "outputs": [],
   "source": []
  },
  {
   "cell_type": "code",
   "execution_count": null,
   "metadata": {},
   "outputs": [],
   "source": []
  },
  {
   "cell_type": "code",
   "execution_count": null,
   "metadata": {},
   "outputs": [],
   "source": []
  },
  {
   "cell_type": "code",
   "execution_count": null,
   "metadata": {},
   "outputs": [],
   "source": []
  }
 ],
 "metadata": {
  "kernelspec": {
   "display_name": "Python 3",
   "language": "python",
   "name": "python3"
  },
  "language_info": {
   "codemirror_mode": {
    "name": "ipython",
    "version": 3
   },
   "file_extension": ".py",
   "mimetype": "text/x-python",
   "name": "python",
   "nbconvert_exporter": "python",
   "pygments_lexer": "ipython3",
   "version": "3.7.4"
  }
 },
 "nbformat": 4,
 "nbformat_minor": 2
}
