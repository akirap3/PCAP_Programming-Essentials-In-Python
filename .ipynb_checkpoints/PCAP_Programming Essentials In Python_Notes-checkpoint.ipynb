{
 "cells": [
  {
   "cell_type": "code",
   "execution_count": null,
   "metadata": {},
   "outputs": [],
   "source": []
  },
  {
   "cell_type": "code",
   "execution_count": null,
   "metadata": {},
   "outputs": [],
   "source": []
  },
  {
   "cell_type": "code",
   "execution_count": null,
   "metadata": {},
   "outputs": [],
   "source": []
  },
  {
   "cell_type": "code",
   "execution_count": null,
   "metadata": {},
   "outputs": [],
   "source": []
  },
  {
   "cell_type": "code",
   "execution_count": null,
   "metadata": {},
   "outputs": [],
   "source": []
  },
  {
   "cell_type": "markdown",
   "metadata": {},
   "source": [
    "---"
   ]
  },
  {
   "cell_type": "markdown",
   "metadata": {},
   "source": [
    "### 2.1.6.11 LAB: Operators and expressions"
   ]
  },
  {
   "cell_type": "markdown",
   "metadata": {},
   "source": [
    "#### Scenario\n",
    "Your task is to prepare a simple code able to evaluate the end time of a period of time, given as a number of minutes (it could be arbitrarily large). The start time is given as a pair of hours (0..23) and minutes (0..59). The result has to be printed to the console.\n",
    "\n",
    "For example, if an event starts at 12:17 and lasts 59 minutes, it will end at 13:16.\n",
    "\n",
    "Don't worry about any imperfections in your code - it's okay if it accepts an invalid time - the most important thing is that the code produce valid results for valid input data.\n",
    "\n",
    "Test your code carefully. Hint: using the % operator may be the key to success.\n",
    "\n",
    "Test Data\n",
    "Sample input:\n",
    "12\n",
    "17\n",
    "59\n",
    "\n",
    "Expected output: 13:16\n",
    "\n",
    "\n",
    "Sample input:\n",
    "23\n",
    "58\n",
    "642\n",
    "\n",
    "Expected output: 10:40\n",
    "\n",
    "\n",
    "Sample input:\n",
    "0\n",
    "1\n",
    "2939\n",
    "\n",
    "Expected output: 1:0"
   ]
  },
  {
   "cell_type": "code",
   "execution_count": null,
   "metadata": {},
   "outputs": [],
   "source": [
    "hour = int(input(\"Starting time (hours): \"))\n",
    "mins = int(input(\"Starting time (minutes): \"))\n",
    "dura = int(input(\"Event duration (minutes): \"))\n",
    "time_hour = (hour + dura//60 + (mins+ dura%60)//60)%24\n",
    "time_min = (mins+ dura%60)%60\n",
    "# put your code here\n",
    "print(\"The time is: \" + str(time_hour) + \":\" + str(time_min))"
   ]
  },
  {
   "cell_type": "code",
   "execution_count": null,
   "metadata": {},
   "outputs": [],
   "source": [
    "name = input(\"Enter your name: \")\n",
    "print(\"Hello, \" + name + \". Nice to meet you!\")\n",
    "\n",
    "print(\"\\nPress Enter to end the program.\")\n",
    "input()\n",
    "print(\"THE END.\")"
   ]
  },
  {
   "cell_type": "markdown",
   "metadata": {},
   "source": [
    "---"
   ]
  },
  {
   "cell_type": "markdown",
   "metadata": {},
   "source": [
    "### 2.1.6.12 SECTION SUMMARY"
   ]
  },
  {
   "cell_type": "markdown",
   "metadata": {},
   "source": [
    "1. The `print()` function sends data to the console, while the `input()` function gets data from the console.\n",
    "\n",
    "2. The `input()` function comes with an optional parameter: the prompt string. It allows you to write a message before the user input, e.g.:\n",
    "\n",
    "    ```\n",
    "    name = input(\"Enter your name: \")\n",
    "    print(\"Hello, \" + name + \". Nice to meet you!\")\n",
    "    ```\n",
    "\n",
    "3. When the `input()` function is called, the program's flow is stopped, the prompt symbol keeps blinking (it prompts the user to take action when the console is switched to input mode) until the user has entered an input and/or pressed the Enter key."
   ]
  },
  {
   "cell_type": "markdown",
   "metadata": {},
   "source": [
    "- Exercise 1"
   ]
  },
  {
   "cell_type": "code",
   "execution_count": null,
   "metadata": {},
   "outputs": [],
   "source": [
    "x = int(input(\"Enter a number: \")) # the user enters 2\n",
    "print(x * \"5\")"
   ]
  },
  {
   "cell_type": "markdown",
   "metadata": {},
   "source": [
    "- Answer: 55"
   ]
  },
  {
   "cell_type": "markdown",
   "metadata": {},
   "source": [
    "- Exercise 2"
   ]
  },
  {
   "cell_type": "code",
   "execution_count": null,
   "metadata": {},
   "outputs": [],
   "source": [
    "x = input(\"Enter a number: \") # the user enters 2\n",
    "print(type(x))"
   ]
  },
  {
   "cell_type": "markdown",
   "metadata": {},
   "source": [
    "- Answer: <class 'str'>"
   ]
  },
  {
   "cell_type": "markdown",
   "metadata": {},
   "source": [
    "---"
   ]
  },
  {
   "cell_type": "markdown",
   "metadata": {},
   "source": [
    "## Programming Essentials in Python: Module 3"
   ]
  },
  {
   "cell_type": "markdown",
   "metadata": {},
   "source": [
    "### In this module, you will learn about:\n",
    "\n",
    "- Boolean values;\n",
    "- if-elif-else instructions;\n",
    "- the while and for loops;\n",
    "- flow control;\n",
    "- logical and bitwise operations;\n",
    "- lists and arrays."
   ]
  },
  {
   "cell_type": "markdown",
   "metadata": {},
   "source": [
    "---"
   ]
  },
  {
   "cell_type": "markdown",
   "metadata": {},
   "source": [
    "### 3.1.1.2 Making decisions in Python"
   ]
  },
  {
   "cell_type": "markdown",
   "metadata": {},
   "source": [
    "#### Comparison: equality operator\n",
    "Don't forget this important distinction:\n",
    "\n",
    "- `=` is an **assignment operator**, e.g., `a = b` assigns `a` with the value of `b`;\n",
    "- `==` is the question are these values equal?; `a == b` **compares** `a` and `b`.\n",
    "It is a **binary operator with left-sided binding.** It needs two arguments and checks if they are equal."
   ]
  },
  {
   "cell_type": "markdown",
   "metadata": {},
   "source": [
    "#### Question #2: What is the result of the following comparison?\n",
    "`2 == 2.`\n",
    "\n",
    "This question is not as easy as the first one. Luckily, Python is able to convert the integer value into its real equivalent, and consequently, the answer is **True**."
   ]
  },
  {
   "cell_type": "markdown",
   "metadata": {},
   "source": [
    "---"
   ]
  },
  {
   "cell_type": "markdown",
   "metadata": {},
   "source": [
    "### 3.1.1.3 Making decisions in Python"
   ]
  },
  {
   "cell_type": "markdown",
   "metadata": {},
   "source": [
    "- Equality: the equal to operator `==`\n",
    "- Inequality: the not equal to operator `!=`"
   ]
  },
  {
   "cell_type": "markdown",
   "metadata": {},
   "source": [
    "---"
   ]
  },
  {
   "cell_type": "markdown",
   "metadata": {},
   "source": [
    "### 3.1.1.4 Making decisions in Python"
   ]
  },
  {
   "cell_type": "markdown",
   "metadata": {},
   "source": [
    "- `>=` (greater than or equal to) and `<=` (less than or equal to) are non-strict\n",
    "- Both of these operators (strict and non-strict), as well as the two others discussed in the next section, are binary operators with left-sided binding, and their priority is greater than that shown by `==` and `!=`."
   ]
  },
  {
   "cell_type": "markdown",
   "metadata": {},
   "source": [
    "- priority table"
   ]
  },
  {
   "cell_type": "markdown",
   "metadata": {},
   "source": [
    "\n",
    "|  Priority |  Operator |   |\n",
    "|:----------|:-----------|:---|\n",
    "|      1    |  `~`,`+`,`-`  |  unary |\n",
    "|      2    |  `**`     |   |\n",
    "|      3    |  `*`,`/`,`//`,`%` |   |\n",
    "|      4    |  `+`,`-`  | binary  |\n",
    "|      5    |  `<<`,`>>`|   |\n",
    "|      6    |   `<`, `<=`,`>`,`>=`|   |\n",
    "|      7    |   `==`, `!=`|   |\n",
    "|      8    |   `&`|   |\n",
    "|      9    |   `\\|`|   |\n",
    "|      10    |   `=`, `+=`, `-=`, `*=`, `/=`, `%=`, `&=`, `^=`, `\\|=`, `>>=`, `<<=`|   |"
   ]
  },
  {
   "cell_type": "markdown",
   "metadata": {},
   "source": [
    "#### Conditions and conditional execution"
   ]
  },
  {
   "cell_type": "markdown",
   "metadata": {},
   "source": [
    "The first form of a conditional statement, which you can see below is written very informally but figuratively:"
   ]
  },
  {
   "cell_type": "code",
   "execution_count": null,
   "metadata": {},
   "outputs": [],
   "source": [
    "if true_or_not:\n",
    "    do_this_if_true"
   ]
  },
  {
   "cell_type": "markdown",
   "metadata": {},
   "source": [
    "This conditional statement consists of the following, strictly necessary, elements in this and this order only:\n",
    "- the if keyword;\n",
    "- one or more white spaces;\n",
    "- an expression (a question or an answer) whose value will be interpreted solely in terms of True (when its value is non-zero) and False (when it is equal to zero);\n",
    "- a **colon** followed by a newline;\n",
    "- an **indented** instruction or set of instructions (at least one instruction is absolutely required); the **indentation** may be achieved in two ways - by inserting a particular number of spaces (the recommendation is to use **four spaces of indentation**), or by using the tab character; note: if there is more than one instruction in the indented part, the indentation should be the same in all lines; even though it may look the same if you use tabs mixed with spaces, it's important to make all indentations **exactly the same** - **Python 3 does not allow mixing spaces and tabs for indentation**."
   ]
  },
  {
   "cell_type": "code",
   "execution_count": null,
   "metadata": {},
   "outputs": [],
   "source": [
    "if the_weather_is_good\n",
    "    go_for_a_walk()\n",
    "elif tickets_are_available:\n",
    "    go_to_the_theater()\n",
    "elif table_is_available:\n",
    "    go_for_lunch()\n",
    "else:\n",
    "    play_chess_at_home()"
   ]
  },
  {
   "cell_type": "markdown",
   "metadata": {},
   "source": [
    "- The way to assemble subsequent if-elif-else statements is sometimes called a cascade.\n",
    "- you **mustn't use** `else` **without a preceding** `if`;\n",
    "- `else` is always the **last branch of the cascade**, regardless of whether you've used `elif` or not;\n",
    "- `else` is an **optional** part of the cascade, and may be omitted;\n",
    "- if there is an else branch in the cascade, only one of all the branches is executed;\n",
    "- if there is no else branch, it's possible that none of the available branches is executed."
   ]
  },
  {
   "cell_type": "markdown",
   "metadata": {},
   "source": [
    "#### Example: let's find the largest of three numbers."
   ]
  },
  {
   "cell_type": "code",
   "execution_count": null,
   "metadata": {},
   "outputs": [],
   "source": [
    "# read three numbers\n",
    "number1 = int(input(\"Enter the first number: \"))\n",
    "number2 = int(input(\"Enter the second number: \"))\n",
    "number3 = int(input(\"Enter the third number: \"))\n",
    "\n",
    "# We temporarily assume that the first number\n",
    "# is the largest one.\n",
    "# We will verify this soon.\n",
    "largest_number = number1\n",
    "\n",
    "# we check if the second number is larger than current largest_number\n",
    "# and update largest_number if needed\n",
    "if number2 > largest_number:\n",
    "    largest_number = number2\n",
    "\n",
    "# we check if the third number is larger than current largest_number\n",
    "# and update largest_number if needed\n",
    "if number3 > largest_number:\n",
    "    largest_number = number3\n",
    "\n",
    "# print the result\n",
    "print(\"The largest number is:\", largest_number)"
   ]
  },
  {
   "cell_type": "markdown",
   "metadata": {},
   "source": [
    "---"
   ]
  },
  {
   "cell_type": "markdown",
   "metadata": {},
   "source": [
    "### 3.1.1.13 LAB: Essentials of the if-elif-else statement"
   ]
  },
  {
   "cell_type": "markdown",
   "metadata": {},
   "source": [
    "#### Scenario\n",
    "\n",
    "As you surely know, due to some astronomical reasons, years may be leap or common. The former are 366 days long, while the latter are 365 days long.\n",
    "\n",
    "Since the introduction of the Gregorian calendar (in 1582), the following rule is used to determine the kind of year:\n",
    "\n",
    "if the year number isn't divisible by four, it's a common year;\n",
    "otherwise, if the year number isn't divisible by 100, it's a leap year;\n",
    "otherwise, if the year number isn't divisible by 400, it's a common year;\n",
    "otherwise, it's a leap year.\n",
    "Look at the code in the editor - it only reads a year number, and needs to be completed with the instructions implementing the test we've just described.\n",
    "\n",
    "The code should output one of two possible messages, which are Leap year or Common year, depending on the value entered.\n",
    "\n",
    "It would be good to verify if the entered year falls into the Gregorian era, and output a warning otherwise: Not within the Gregorian calendar period. Tip: use the != and % operators.\n",
    "\n",
    "Test your code using the data we've provided.\n",
    "\n",
    "Test Data\n",
    "Sample input: 2000\n",
    "\n",
    "Expected output: Leap year\n",
    "\n",
    "Sample input: 2015\n",
    "\n",
    "Expected output: Common year\n",
    "\n",
    "Sample input: 1999\n",
    "\n",
    "Expected output: Common year\n",
    "\n",
    "Sample input: 1996\n",
    "\n",
    "Expected output: Leap year\n",
    "\n",
    "Sample input: 1580\n",
    "\n",
    "Expected output: Not within the Gregorian calendar period"
   ]
  },
  {
   "cell_type": "code",
   "execution_count": null,
   "metadata": {},
   "outputs": [],
   "source": [
    "year = int(input(\"Enter a year: \"))\n",
    "\n",
    "if year < 1582: print(\"Not within the Gregorian calendar period\")\n",
    "elif year % 4 != 0: print(\"Common year\")\n",
    "elif year % 100 != 0: print(\"Leap year\")\n",
    "elif year % 400 != 0: print(\"Common year\")\n",
    "else: print(\"Leap year\")"
   ]
  },
  {
   "cell_type": "markdown",
   "metadata": {},
   "source": [
    "---"
   ]
  },
  {
   "cell_type": "markdown",
   "metadata": {},
   "source": [
    "### 3.1.2.1 Loops in Python | while"
   ]
  },
  {
   "cell_type": "markdown",
   "metadata": {},
   "source": [
    "##### Looping your code with while"
   ]
  },
  {
   "cell_type": "markdown",
   "metadata": {},
   "source": [
    "It is now important to remember that:\n",
    "\n",
    "- if you want to execute **more than one statement inside one** while, you must (as with if) **indent** all the instructions in the same way;\n",
    "- an instruction or set of instructions executed inside the while loop is called the **loop's body**;\n",
    "- if the condition is False (equal to zero) as early as when it is tested for the first time, the body is not executed even once (note the analogy of not having to do anything if there is nothing to do);\n",
    "- the body should be able to change the condition's value, because if the condition is True at the beginning, the body might run continuously to infinity - notice that doing a thing usually decreases the number of things to do)."
   ]
  },
  {
   "cell_type": "markdown",
   "metadata": {},
   "source": [
    "##### An infinite loop"
   ]
  },
  {
   "cell_type": "markdown",
   "metadata": {},
   "source": [
    "- to find the largest number from a large set of entered data"
   ]
  },
  {
   "cell_type": "code",
   "execution_count": null,
   "metadata": {},
   "outputs": [],
   "source": [
    "# we will store the current largest number here\n",
    "largest_number = -999999999\n",
    "\n",
    "# input the first value\n",
    "number = int(input(\"Enter a number or type -1 to stop: \"))\n",
    "\n",
    "# if the number is not equal to -1, we will continue\n",
    "while number != -1:\n",
    "    # is number larger than largest_number?\n",
    "    if number > largest_number:\n",
    "        # yes, update largest_number\n",
    "        largest_number = number\n",
    "    # input the next number\n",
    "    number = int(input(\"Enter a number or type -1 to stop: \"))\n",
    "\n",
    "# print the largest number\n",
    "print(\"The largest number is:\", largest_number)"
   ]
  },
  {
   "cell_type": "markdown",
   "metadata": {},
   "source": [
    "---"
   ]
  },
  {
   "cell_type": "markdown",
   "metadata": {},
   "source": [
    "### 3.1.2.3 LAB: Essentials of the while loop - Guess the secret number"
   ]
  },
  {
   "cell_type": "markdown",
   "metadata": {},
   "source": [
    "#### Scenario\n",
    "A junior magician has picked a secret number. He has hidden it in a variable named secret_number. He wants everyone who run his program to play the Guess the secret number game, and guess what number he has picked for them. Those who don't guess the number will be stuck in an endless loop forever! Unfortunately, he does not know how to complete the code.\n",
    "\n",
    "Your task is to help the magician complete the code in the editor in such a way so that the code:\n",
    "\n",
    "- will ask the user to enter an integer number;\n",
    "- will use a `while` loop;\n",
    "- will check whether the number entered by the user is the same as the number picked by the magician. If the number chosen by the user is different than the magician's secret number, the user should see the message `\"Ha ha! You're stuck in my loop!\"` and be prompted to enter a number again. If the number entered by the user matches the number picked by the magician, the number should be printed to the screen, and the magician should say the following words: `\"Well done, muggle! You are free now.\"`"
   ]
  },
  {
   "cell_type": "markdown",
   "metadata": {},
   "source": [
    "#### Example 1:"
   ]
  },
  {
   "cell_type": "code",
   "execution_count": null,
   "metadata": {},
   "outputs": [],
   "source": [
    "print(\n",
    "\"\"\"\n",
    "+================================+\n",
    "| Welcome to my game, muggle!    |\n",
    "| Enter an integer number        |\n",
    "| and guess what number I've     |\n",
    "| picked for you.                |\n",
    "| So, what is the secret number? |\n",
    "+================================+\n",
    "\"\"\")\n",
    "\n",
    "secret_number = 777\n",
    "guess_number = int(input(\"Enter a number: \"))\n",
    "\n",
    "while guess_number != secret_number:\n",
    "    print(\"Ha ha! You're stuck in my loop!\")\n",
    "    guess_number = int(input(\"Enter a number: \"))\n",
    "        \n",
    "print(\"Well done, muggle! You are free now.\")"
   ]
  },
  {
   "cell_type": "markdown",
   "metadata": {},
   "source": [
    "#### Example 2:"
   ]
  },
  {
   "cell_type": "code",
   "execution_count": null,
   "metadata": {},
   "outputs": [],
   "source": [
    "secret_number = 777\n",
    "guess_number = int(input(\"Enter a number: \"))\n",
    "\n",
    "while True:\n",
    "    if guess_number == secret_number:\n",
    "        print(\"Well done, muggle! You are free now.\")\n",
    "        break\n",
    "    else:\n",
    "        print(\"Ha ha! You're stuck in my loop!\")\n",
    "        guess_number = int(input(\"Enter a number: \"))"
   ]
  },
  {
   "cell_type": "markdown",
   "metadata": {},
   "source": [
    "---"
   ]
  },
  {
   "cell_type": "markdown",
   "metadata": {},
   "source": [
    "### 3.1.2.4 Loops in Python | for"
   ]
  },
  {
   "cell_type": "markdown",
   "metadata": {},
   "source": [
    "#### Looping your code with for"
   ]
  },
  {
   "cell_type": "code",
   "execution_count": null,
   "metadata": {},
   "outputs": [],
   "source": [
    "for i in range(10):\n",
    "    print(\"The value of i is currently\", i)"
   ]
  },
  {
   "cell_type": "markdown",
   "metadata": {},
   "source": [
    "Note:\n",
    "\n",
    "- the loop has been executed ten times (it's the `range()` function's argument)\n",
    "- the last control variable's value is `9` (not `10`, as **it starts from** `0`, not from `1`)"
   ]
  },
  {
   "cell_type": "code",
   "execution_count": null,
   "metadata": {},
   "outputs": [],
   "source": [
    "for i in range(2, 8):\n",
    "    print(\"The value of i is currently\", i)"
   ]
  },
  {
   "cell_type": "markdown",
   "metadata": {},
   "source": [
    "Note:\n",
    "- The first value shown is `2` (taken from the `range()`'s first argument.)\n",
    "- The last is `7` (although the `range()`'s second argument is `8`)."
   ]
  },
  {
   "cell_type": "markdown",
   "metadata": {},
   "source": [
    "#### More about the for loop and the range() function with three arguments"
   ]
  },
  {
   "cell_type": "code",
   "execution_count": null,
   "metadata": {},
   "outputs": [],
   "source": [
    "for i in range(2, 8, 3):\n",
    "    print(\"The value of i is currently\", i)"
   ]
  },
  {
   "cell_type": "markdown",
   "metadata": {},
   "source": [
    "Note: if the set generated by the `range()` function is empty, the loop won't execute its body at all.\n",
    "Just like here - there will be no output:"
   ]
  },
  {
   "cell_type": "code",
   "execution_count": null,
   "metadata": {},
   "outputs": [],
   "source": [
    "for i in range(1, 1):\n",
    "    print(\"The value of i is currently\", i)"
   ]
  },
  {
   "cell_type": "markdown",
   "metadata": {},
   "source": [
    "Note: the set generated by the range() has to be sorted in ascending order. There's no way to force the range() to create a set in a different form. This means that the range()'s second argument must be greater than the first."
   ]
  },
  {
   "cell_type": "markdown",
   "metadata": {},
   "source": [
    "Thus, there will be no output here, either:"
   ]
  },
  {
   "cell_type": "code",
   "execution_count": null,
   "metadata": {},
   "outputs": [],
   "source": [
    "for i in range(2, 1):\n",
    "    print(\"The value of i is currently\", i)"
   ]
  },
  {
   "cell_type": "markdown",
   "metadata": {},
   "source": [
    "Let's have a look at a short program whose task is to write some of the first powers of two:"
   ]
  },
  {
   "cell_type": "code",
   "execution_count": null,
   "metadata": {},
   "outputs": [],
   "source": [
    "pow = 1\n",
    "for exp in range(16):\n",
    "    print(\"2 to the power of\", exp, \"is\", pow)\n",
    "    pow *= 2"
   ]
  },
  {
   "cell_type": "markdown",
   "metadata": {},
   "source": [
    "---"
   ]
  },
  {
   "cell_type": "markdown",
   "metadata": {},
   "source": [
    "### 3.1.2.7 Loop control in Python | break and continue"
   ]
  },
  {
   "cell_type": "markdown",
   "metadata": {},
   "source": [
    "#### The break and continue statements"
   ]
  },
  {
   "cell_type": "markdown",
   "metadata": {},
   "source": [
    "as developer, you could be faced with the following choices:\n",
    "\n",
    "- it appears that it's unnecessary to continue the loop as a whole; you should refrain from further execution of the loop's body and go further;\n",
    "- it appears that you need to start the next turn of the loop without completing the execution of the current turn."
   ]
  },
  {
   "cell_type": "markdown",
   "metadata": {},
   "source": [
    "Python provides two special instructions for the implementation of both these tasks. Let's say for the sake of accuracy that their existence in the language is not necessary - an experienced programmer is able to code any algorithm without these instructions. Such additions, which don't improve the language's expressive power, but only simplify the developer's work, are sometimes called **syntactic candy**, or syntactic sugar."
   ]
  },
  {
   "cell_type": "markdown",
   "metadata": {},
   "source": [
    "- `break` - exits the loop immediately, and unconditionally ends the loop's operation; the program begins to execute the nearest instruction after the loop's body;\n",
    "- `continue` - behaves as if the program has suddenly reached the end of the body; the next turn is started and the condition expression is tested immediately."
   ]
  },
  {
   "cell_type": "markdown",
   "metadata": {},
   "source": [
    "---"
   ]
  },
  {
   "cell_type": "markdown",
   "metadata": {},
   "source": [
    "### 3.1.2.10 LAB: The continue statement - the Ugly Vowel Eater\n"
   ]
  },
  {
   "cell_type": "markdown",
   "metadata": {},
   "source": [
    "#### Scenario\n",
    "The `continue` statement is used to skip the current block and move ahead to the next iteration, without executing the statements inside the loop.\n",
    "\n",
    "It can be used with both the while and for loops.\n",
    "\n",
    "Your task here is very special: you must design a vowel eater! Write a program that uses:\n",
    "\n",
    "- a `for` loop;\n",
    "- the concept of conditional execution (if-elif-else)\n",
    "- the `continue` statement.\n",
    "\n",
    "Your program must:\n",
    "\n",
    "- ask the user to enter a word;\n",
    "- use `userWord = userWord.upper()` to convert the word entered by the user to upper case; we'll talk about the so-called string methods and the `upper()` method very soon - don't worry;\n",
    "- use conditional execution and the `continue` statement to \"eat\" the following vowels A, E, I, O, U from the inputted word;\n",
    "- print the uneaten letters to the screen, each one of them on a separate line.\n",
    "Test your program with the data we've provided for you.\n",
    "\n",
    "\n",
    "Test data\n",
    "Sample input: `Gregory`\n",
    "\n",
    "Expected output:\n",
    "```\n",
    "G\n",
    "R\n",
    "G\n",
    "R\n",
    "Y\n",
    "```"
   ]
  },
  {
   "cell_type": "code",
   "execution_count": null,
   "metadata": {},
   "outputs": [],
   "source": [
    "userWord = input(\"Enter a word: \").upper()\n",
    "for letter in userWord:\n",
    "    if letter == 'A' :\n",
    "        continue\n",
    "    elif letter == 'E':\n",
    "        continue\n",
    "    elif letter == 'I':\n",
    "        continue\n",
    "    elif letter == 'O':\n",
    "        continue\n",
    "    elif letter == 'U':\n",
    "        continue\n",
    "    else:\n",
    "        print(letter)"
   ]
  },
  {
   "cell_type": "markdown",
   "metadata": {},
   "source": [
    "#### redesign the (ugly) vowel eater from the previous lab"
   ]
  },
  {
   "cell_type": "code",
   "execution_count": null,
   "metadata": {},
   "outputs": [],
   "source": [
    "wordWithoutVovels = \"\"\n",
    "\n",
    "userWord = input(\"Enter a word: \").upper()\n",
    "\n",
    "for letter in userWord:\n",
    "    if letter == 'A' :\n",
    "        continue\n",
    "    elif letter == 'E':\n",
    "        continue\n",
    "    elif letter == 'I':\n",
    "        continue\n",
    "    elif letter == 'O':\n",
    "        continue\n",
    "    elif letter == 'U':\n",
    "        continue\n",
    "    else:\n",
    "        wordWithoutVovels += letter\n",
    "\n",
    "print(wordWithoutVovels)"
   ]
  },
  {
   "cell_type": "markdown",
   "metadata": {},
   "source": [
    "---"
   ]
  },
  {
   "cell_type": "markdown",
   "metadata": {},
   "source": [
    "### 3.1.2.12 Python loops | else"
   ]
  },
  {
   "cell_type": "markdown",
   "metadata": {},
   "source": [
    "#### The while loop and the else branch"
   ]
  },
  {
   "cell_type": "markdown",
   "metadata": {},
   "source": [
    "- As you may have suspected, `loops may have the` **else** `branch too`, `like` **if**s.\n",
    "\n",
    "- The loop's `else` branch is **always executed once, regardless of whether the loop has entered its body or not.**"
   ]
  },
  {
   "cell_type": "code",
   "execution_count": null,
   "metadata": {},
   "outputs": [],
   "source": [
    "i = 5\n",
    "while i < 5:\n",
    "    print(i)\n",
    "    i += 1\n",
    "else:\n",
    "    print(\"else:\", i)"
   ]
  },
  {
   "cell_type": "markdown",
   "metadata": {},
   "source": [
    "---"
   ]
  },
  {
   "cell_type": "markdown",
   "metadata": {},
   "source": [
    "### 3.1.2.13 Python loops | else"
   ]
  },
  {
   "cell_type": "markdown",
   "metadata": {},
   "source": [
    "#### The for loop and the else branch"
   ]
  },
  {
   "cell_type": "code",
   "execution_count": null,
   "metadata": {},
   "outputs": [],
   "source": [
    "i = 111\n",
    "for i in range(2, 1):\n",
    "    print(i)\n",
    "else:\n",
    "    print(\"else:\", i)"
   ]
  },
  {
   "cell_type": "markdown",
   "metadata": {},
   "source": [
    "---"
   ]
  },
  {
   "cell_type": "markdown",
   "metadata": {},
   "source": [
    "### 3.1.2.14 LAB: Essentials of the while loop"
   ]
  },
  {
   "cell_type": "markdown",
   "metadata": {},
   "source": [
    "**Scenario**\n",
    "\n",
    "Listen to this story: a boy and his father, a computer programmer, are playing with wooden blocks. They are building a pyramid.\n",
    "\n",
    "Their pyramid is a bit weird, as it is actually a pyramid-shaped wall - it's flat. The pyramid is stacked according to one simple principle: each lower layer contains one block more than the layer above.\n",
    "\n",
    "The figure illustrates the rule used by the builders:\n",
    "\n",
    "![](./images/1_pyramid_height.png)\n",
    "\n",
    "Your task is to write a program which reads the number of blocks the builders have, and outputs the height of the pyramid that can be built using these blocks.\n",
    "\n",
    "Note: the height is measured by the number of **fully completed layers** - if the builders don't have a sufficient number of blocks and cannot complete the next layer, they finish their work immediately.\n",
    "\n",
    "Test your code using the data we've provided.\n",
    "\n",
    "**Test Data**\n",
    "\n",
    "Sample input: `20`\n",
    "\n",
    "Expected output: The height of the pyramid: `5`\n",
    "\n",
    "Sample input: `1000`\n",
    "\n",
    "Expected output: The height of the pyramid: `44`"
   ]
  },
  {
   "cell_type": "markdown",
   "metadata": {},
   "source": [
    "[Stackoverflow reference -- height of pyramid](https://stackoverflow.com/questions/58292099/outputting-height-of-a-pyramid-in-python)"
   ]
  },
  {
   "cell_type": "code",
   "execution_count": null,
   "metadata": {},
   "outputs": [],
   "source": [
    "blocks = int(input(\"Enter the number of blocks: \"))\n",
    "count = 1\n",
    "\n",
    "while blocks >= 1:\n",
    "    if blocks == 1:\n",
    "        height = count\n",
    "        break\n",
    "    else:\n",
    "        count += 1\n",
    "        total =0\n",
    "        for i in range(1, count+1):\n",
    "            total += i\n",
    "        if total == blocks:\n",
    "            height = count\n",
    "            break\n",
    "        elif total > blocks:\n",
    "            height = count -1\n",
    "            break\n",
    "\n",
    "print(\"The height of the pyramid:\", height)"
   ]
  },
  {
   "cell_type": "code",
   "execution_count": null,
   "metadata": {},
   "outputs": [],
   "source": []
  },
  {
   "cell_type": "markdown",
   "metadata": {},
   "source": [
    "**Scenario**\n",
    "\n",
    "In 1937, a German mathematician named Lothar Collatz formulated an intriguing hypothesis (it still remains unproven) which can be described in the following way:\n",
    "\n",
    "1. take any non-negative and non-zero integer number and name it `c0`;\n",
    "2. if it's even, evaluate a new `c0` as `c0 ÷ 2`;\n",
    "3. otherwise, if it's odd, evaluate a new `c0` as `3 × c0 + 1`;\n",
    "4. if `c0 ≠ 1`, skip to point 2.\n",
    "\n",
    "The hypothesis says that regardless of the initial value of `c0`, it will always go to 1.\n",
    "\n",
    "Of course, it's an extremely complex task to use a computer in order to prove the hypothesis for any natural number (it may even require artificial intelligence), but you can use Python to check some individual numbers. Maybe you'll even find the one which would disprove the hypothesis.\n",
    "\n",
    "\n",
    "Write a program which reads one natural number and executes the above steps as long as `c0` remains different from 1. We also want you to count the steps needed to achieve the goal. Your code should output all the intermediate values of `c0`, too.\n",
    "\n",
    "Hint: the most important part of the problem is how to transform Collatz's idea into a `while` loop - this is the key to success.\n",
    "\n",
    "Test your code using the data we've provided.\n",
    "\n",
    "**Test Data**\n",
    "\n",
    "Sample input: `16`\n",
    "\n",
    "Expected output:\n",
    "\n",
    "```\n",
    "8\n",
    "4\n",
    "2\n",
    "1\n",
    "steps = 4\n",
    "```"
   ]
  },
  {
   "cell_type": "code",
   "execution_count": null,
   "metadata": {},
   "outputs": [],
   "source": [
    "c0 = int(input(\"Enter a natural number: \"))\n",
    "count = 0\n",
    "while c0 > 0:\n",
    "    if c0 == 1:\n",
    "        if count ==0:\n",
    "            count += 1\n",
    "        break\n",
    "    if c0%2 == 0:\n",
    "        c0 = c0/2\n",
    "        print(int(c0))\n",
    "    else: \n",
    "        c0 = 3*c0 + 1\n",
    "        print(int(c0))\n",
    "    count += 1\n",
    "    \n",
    "print(\"steps =\", str(count))"
   ]
  },
  {
   "cell_type": "markdown",
   "metadata": {},
   "source": [
    "---"
   ]
  },
  {
   "cell_type": "markdown",
   "metadata": {},
   "source": [
    "### 3.1.2.16 SECTION SUMMARY"
   ]
  },
  {
   "cell_type": "markdown",
   "metadata": {},
   "source": [
    "1. There are two types of loops in Python: `while` and `for`:"
   ]
  },
  {
   "cell_type": "markdown",
   "metadata": {},
   "source": [
    "- the `while` loop executes a statement or a set of statements as long as a specified boolean condition is true, e.g.:"
   ]
  },
  {
   "cell_type": "code",
   "execution_count": null,
   "metadata": {},
   "outputs": [],
   "source": [
    "# Example 1\n",
    "while True:\n",
    "    print(\"Stuck in an infinite loop.\")\n",
    "\n",
    "# Example 2\n",
    "counter = 5\n",
    "while counter > 2:\n",
    "    print(counter)\n",
    "    counter -= 1"
   ]
  },
  {
   "cell_type": "markdown",
   "metadata": {},
   "source": [
    "- the `for` loop executes a set of statements many times; it's used to iterate over a sequence (e.g., a list, a dictionary, a tuple, or a set - you will learn about them soon) or other objects that are iterable (e.g., strings). You can use the `for` loop to iterate over a sequence of numbers using the built-in `range` function. Look at the examples below:"
   ]
  },
  {
   "cell_type": "code",
   "execution_count": 24,
   "metadata": {},
   "outputs": [
    {
     "name": "stdout",
     "output_type": "stream",
     "text": [
      "P*y*t*h*o*n*2\n",
      "4\n",
      "6\n",
      "8\n"
     ]
    }
   ],
   "source": [
    "# Example 1\n",
    "word = \"Python\"\n",
    "for letter in word:\n",
    "    print(letter, end=\"*\")\n",
    "\n",
    "# Example 2\n",
    "for i in range(1, 10):\n",
    "    if i % 2 == 0:\n",
    "        print(i)"
   ]
  },
  {
   "cell_type": "markdown",
   "metadata": {},
   "source": [
    "2. You can use the `break` and `continue` statements to change the flow of a loop:"
   ]
  },
  {
   "cell_type": "markdown",
   "metadata": {},
   "source": [
    "- You use `break` to exit a loop, e.g.:"
   ]
  },
  {
   "cell_type": "code",
   "execution_count": 25,
   "metadata": {},
   "outputs": [
    {
     "name": "stdout",
     "output_type": "stream",
     "text": [
      "OpenEDG "
     ]
    }
   ],
   "source": [
    "text = \"OpenEDG Python Institute\"\n",
    "for letter in text:\n",
    "    if letter == \"P\":\n",
    "        break\n",
    "    print(letter, end=\"\")"
   ]
  },
  {
   "cell_type": "markdown",
   "metadata": {},
   "source": [
    "- You use `continue` to skip the current iteration, and continue with the next iteration, e.g.:"
   ]
  },
  {
   "cell_type": "code",
   "execution_count": 26,
   "metadata": {},
   "outputs": [
    {
     "name": "stdout",
     "output_type": "stream",
     "text": [
      "pypypy"
     ]
    }
   ],
   "source": [
    "text = \"pyxpyxpyx\"\n",
    "for letter in text:\n",
    "    if letter == \"x\":\n",
    "        continue\n",
    "    print(letter, end=\"\")"
   ]
  },
  {
   "cell_type": "markdown",
   "metadata": {},
   "source": [
    "3. The `while` and `for` loops can also have an `else` clause in Python. The `else` clause executes after the loop finishes its execution as long as it has not been terminated by `break`, e.g.:"
   ]
  },
  {
   "cell_type": "code",
   "execution_count": 27,
   "metadata": {},
   "outputs": [
    {
     "name": "stdout",
     "output_type": "stream",
     "text": [
      "0\n",
      "1\n",
      "2\n",
      "3 else\n",
      "\n",
      "0\n",
      "1\n",
      "2\n",
      "2 else\n"
     ]
    }
   ],
   "source": [
    "n = 0\n",
    "\n",
    "while n != 3:\n",
    "    print(n)\n",
    "    n += 1\n",
    "else:\n",
    "    print(n, \"else\")\n",
    "\n",
    "print()\n",
    "\n",
    "for i in range(0, 3):\n",
    "    print(i)\n",
    "else:\n",
    "    print(i, \"else\")"
   ]
  },
  {
   "cell_type": "markdown",
   "metadata": {},
   "source": [
    "4. The `range()` function generates a sequence of numbers. It accepts integers and returns range objects. The syntax of `range()` looks as follows: `range(start, stop, step)`, where:"
   ]
  },
  {
   "cell_type": "markdown",
   "metadata": {},
   "source": [
    "- `start` is an optional parameter specifying the starting number of the sequence (0 by default)\n",
    "- `stop` is an optional parameter specifying the end of the sequence generated (it is not included),\n",
    "- and `step` is an optional parameter specifying the difference between the numbers in the sequence (1 by default.)"
   ]
  },
  {
   "cell_type": "markdown",
   "metadata": {},
   "source": [
    "Example code:"
   ]
  },
  {
   "cell_type": "code",
   "execution_count": 29,
   "metadata": {},
   "outputs": [
    {
     "name": "stdout",
     "output_type": "stream",
     "text": [
      "0 1 2 6 4 2 "
     ]
    }
   ],
   "source": [
    "for i in range(3):\n",
    "    print(i, end=\" \") # outputs: 0 1 2\n",
    "\n",
    "for i in range(6, 1, -2):\n",
    "    print(i, end=\" \") # outputs: 6, 4, 2"
   ]
  },
  {
   "cell_type": "markdown",
   "metadata": {},
   "source": [
    "Exercise 3:\n",
    "\n",
    "Create a program with a `for` loop and a `break` statement. The program should iterate over characters in an email address, exit the loop when it reaches the `@` symbol, and print the part before `@` on one line."
   ]
  },
  {
   "cell_type": "code",
   "execution_count": 30,
   "metadata": {},
   "outputs": [
    {
     "name": "stdout",
     "output_type": "stream",
     "text": [
      "john.smith"
     ]
    }
   ],
   "source": [
    "for ch in \"john.smith@pythoninstitute.org\":\n",
    "    if ch == \"@\":\n",
    "        break\n",
    "    print(ch, end=\"\")"
   ]
  },
  {
   "cell_type": "markdown",
   "metadata": {},
   "source": [
    "Exercise 4: \n",
    "\n",
    "Create a program with a `for` loop and a `continue` statement. The program should iterate over a string of digits, replace each `0` with `x`, and print the modified string to the screen."
   ]
  },
  {
   "cell_type": "code",
   "execution_count": 31,
   "metadata": {},
   "outputs": [
    {
     "name": "stdout",
     "output_type": "stream",
     "text": [
      "x165x318x651x"
     ]
    }
   ],
   "source": [
    "for digit in \"0165031806510\":\n",
    "    if digit == \"0\":\n",
    "        print(\"x\", end=\"\")\n",
    "        continue\n",
    "    print(digit, end=\"\")"
   ]
  },
  {
   "cell_type": "markdown",
   "metadata": {},
   "source": [
    "Exercise 5:"
   ]
  },
  {
   "cell_type": "code",
   "execution_count": 32,
   "metadata": {},
   "outputs": [
    {
     "name": "stdout",
     "output_type": "stream",
     "text": [
      "4\n",
      "3\n",
      "2\n",
      "0\n"
     ]
    }
   ],
   "source": [
    "n = 3\n",
    "\n",
    "while n > 0:\n",
    "    print(n + 1)\n",
    "    n -= 1\n",
    "else:\n",
    "    print(n)"
   ]
  },
  {
   "cell_type": "markdown",
   "metadata": {},
   "source": [
    "Exercise 6:"
   ]
  },
  {
   "cell_type": "code",
   "execution_count": 33,
   "metadata": {},
   "outputs": [
    {
     "name": "stdout",
     "output_type": "stream",
     "text": [
      "-1\n",
      "0\n",
      "1\n",
      "2\n",
      "3\n"
     ]
    }
   ],
   "source": [
    "n = range(4)\n",
    "\n",
    "for num in n:\n",
    "    print(num - 1)\n",
    "else:\n",
    "    print(num)"
   ]
  },
  {
   "cell_type": "markdown",
   "metadata": {},
   "source": [
    "---"
   ]
  },
  {
   "cell_type": "markdown",
   "metadata": {},
   "source": [
    "### 3.1.3.1 Logic and bit operations in Python | and, or, not"
   ]
  },
  {
   "cell_type": "markdown",
   "metadata": {},
   "source": [
    "### and"
   ]
  },
  {
   "cell_type": "markdown",
   "metadata": {},
   "source": [
    "One logical conjunction operator in Python is the word and. It's a **binary operator with a priority that is lower than the one expressed by the comparison operators.** It allows us to code complex conditions without the use of parentheses like this one:"
   ]
  },
  {
   "cell_type": "markdown",
   "metadata": {},
   "source": [
    "**truth table.**\n",
    "\n",
    "| `Argument A`  | `Argument B`  |  `A and B` |\n",
    "|:-:|:-:|:-:|\n",
    "| `False`  | `False`  | `False`  |\n",
    "| `False` | `True`  | `False`  |\n",
    "| `True` | `False`  |  `False` |\n",
    "| `True` |  `True` | `True`  |"
   ]
  },
  {
   "cell_type": "markdown",
   "metadata": {},
   "source": [
    "### or"
   ]
  },
  {
   "cell_type": "markdown",
   "metadata": {},
   "source": [
    "A disjunction operator is the word `aor`a. It's a **binary operator with a lower priority than** `and`a (just like `+` compared to `*`). Its truth table is as follows:"
   ]
  },
  {
   "cell_type": "markdown",
   "metadata": {},
   "source": [
    "| `Argument A`  | `Argument B`  |  `A and B` |\n",
    "|:-:|:-:|:-:|\n",
    "| `False`  | `False`  | `False`  |\n",
    "| `False` | `True`  | `True`  |\n",
    "| `True` | `False`  |  `True` |\n",
    "| `True` |  `True` | `True`  |"
   ]
  },
  {
   "cell_type": "markdown",
   "metadata": {},
   "source": [
    "### not"
   ]
  },
  {
   "cell_type": "markdown",
   "metadata": {},
   "source": [
    "In addition, there's another operator that can be applied for constructing conditions. It's a **unary operator performing a logical negation.** Its operation is simple: it turns truth into falsehood and falsehood into truth.\n",
    "\n",
    "This operator is written as the word not, and its **priority is very high: the same as the unary** `+` **and** `-`. Its truth table is simple:"
   ]
  },
  {
   "cell_type": "markdown",
   "metadata": {},
   "source": [
    "| `Argument A`  | `not Argumetn` |\n",
    "|:-:|:-:|\n",
    "| `False`  | `True`  | \n",
    "| `True` | `False`  | \n"
   ]
  },
  {
   "cell_type": "markdown",
   "metadata": {},
   "source": [
    "---"
   ]
  },
  {
   "cell_type": "markdown",
   "metadata": {},
   "source": [
    "### 3.1.3.2 Logic and bit operations in Python | and, or, not"
   ]
  },
  {
   "cell_type": "markdown",
   "metadata": {},
   "source": [
    "#### Logical expressions"
   ]
  },
  {
   "cell_type": "markdown",
   "metadata": {},
   "source": [
    "You may be familiar with De Morgan's laws. They say that:\n",
    "\n",
    "> The negation of a conjunction is the disjunction of the negations.\n",
    "\n",
    "> The negation of a disjunction is the conjunction of the negations.\n",
    "\n",
    "\n",
    "Let's write the same thing using Python:"
   ]
  },
  {
   "cell_type": "code",
   "execution_count": null,
   "metadata": {},
   "outputs": [],
   "source": [
    "not (p and q) == (not p) or (not q)\n",
    "not (p or q) == (not p) and (not q)"
   ]
  },
  {
   "cell_type": "markdown",
   "metadata": {},
   "source": [
    "#### Bitwise operators"
   ]
  },
  {
   "cell_type": "markdown",
   "metadata": {},
   "source": [
    "- `&` (ampersand) - bitwise conjunction;\n",
    "- `|` (bar) - bitwise disjunction;\n",
    "- `~` (tilde) - bitwise negation;\n",
    "- `^` (caret) - bitwise exclusive or (xor)."
   ]
  },
  {
   "cell_type": "markdown",
   "metadata": {},
   "source": [
    "#### Bitwise operations (&, |, and ^)"
   ]
  },
  {
   "cell_type": "markdown",
   "metadata": {},
   "source": [
    "- `&` requires exactly two `1`s to provide `1` as the result;\n",
    "- `|` requires at least one `1` to provide `1` as the result;\n",
    "- `^` requires exactly one `1` to provide `1` as the result. "
   ]
  },
  {
   "cell_type": "markdown",
   "metadata": {},
   "source": [
    "#### Note: "
   ]
  },
  {
   "cell_type": "markdown",
   "metadata": {},
   "source": [
    "- the arguments of these operators **must be integers**; we must not use floats here.\n",
    "- **the logical operators do not penetrate into the bit level of its argument**. They're only interested in the final integer value.\n",
    "- Bitwise operators are stricter: they deal with **every bit separately**. "
   ]
  },
  {
   "cell_type": "markdown",
   "metadata": {},
   "source": [
    "#### Logical vs. bit operations"
   ]
  },
  {
   "cell_type": "markdown",
   "metadata": {},
   "source": [
    "Let's assume that the following assignments have been performed:"
   ]
  },
  {
   "cell_type": "code",
   "execution_count": 1,
   "metadata": {},
   "outputs": [],
   "source": [
    "i = 15\n",
    "j = 22"
   ]
  },
  {
   "cell_type": "markdown",
   "metadata": {},
   "source": [
    "If we assume that the integers are stored with 32 bits, the bitwise image of the two variables will be as follows:"
   ]
  },
  {
   "cell_type": "code",
   "execution_count": null,
   "metadata": {},
   "outputs": [],
   "source": [
    "i: 00000000000000000000000000001111\n",
    "j: 00000000000000000000000000010110"
   ]
  },
  {
   "cell_type": "markdown",
   "metadata": {},
   "source": [
    "The assignment is given:"
   ]
  },
  {
   "cell_type": "code",
   "execution_count": 2,
   "metadata": {},
   "outputs": [],
   "source": [
    "log = i and j"
   ]
  },
  {
   "cell_type": "markdown",
   "metadata": {},
   "source": [
    "We are dealing with a logical conjunction here. Let's trace the course of the calculations. Both variables `i` and `j` are not zeros, so will be deemed to represent `True`. Consulting the truth table for the `and` operator, we can see that the result will be `True`. No other operations are performed."
   ]
  },
  {
   "cell_type": "markdown",
   "metadata": {},
   "source": [
    "Now the bitwise operation - here it is:"
   ]
  },
  {
   "cell_type": "code",
   "execution_count": null,
   "metadata": {},
   "outputs": [],
   "source": [
    "bit = i & j"
   ]
  },
  {
   "cell_type": "markdown",
   "metadata": {},
   "source": [
    "the result will be as follows: These bits correspond to the integer value of six."
   ]
  },
  {
   "cell_type": "markdown",
   "metadata": {},
   "source": [
    "```\n",
    "i                          00000000000000000000000000001111\n",
    "j\t                      00000000000000000000000000010110\n",
    "bit = i & j\t            00000000000000000000000000000110\n",
    "```"
   ]
  },
  {
   "cell_type": "markdown",
   "metadata": {},
   "source": [
    "Let's look at the negation operators now. First the logical one:"
   ]
  },
  {
   "cell_type": "code",
   "execution_count": null,
   "metadata": {},
   "outputs": [],
   "source": [
    "logneg = not i"
   ]
  },
  {
   "cell_type": "markdown",
   "metadata": {},
   "source": [
    "The logneg variable will be set to False - nothing more needs to be done."
   ]
  },
  {
   "cell_type": "markdown",
   "metadata": {},
   "source": [
    "The bitwise negation goes like this: the `bitneg` variable value is `-16`."
   ]
  },
  {
   "cell_type": "code",
   "execution_count": null,
   "metadata": {},
   "outputs": [],
   "source": [
    "bitneg = ~i"
   ]
  },
  {
   "cell_type": "markdown",
   "metadata": {},
   "source": [
    "```\n",
    "i\t          00000000000000000000000000001111\n",
    "bitneg = ~i\t11111111111111111111111111110000\n",
    "```"
   ]
  },
  {
   "cell_type": "markdown",
   "metadata": {},
   "source": [
    "`~` : Bitwise 1’s Complement"
   ]
  },
  {
   "cell_type": "markdown",
   "metadata": {},
   "source": [
    "This one is a bit different from what we’ve studied so far. This operator takes a number’s binary, and returns its one’s complement. For this, it flips the bits until it reaches the first 0 from right. `~x` is the same as `-x-1`."
   ]
  },
  {
   "cell_type": "code",
   "execution_count": 6,
   "metadata": {},
   "outputs": [
    {
     "name": "stdout",
     "output_type": "stream",
     "text": [
      "-3 0b10 -0b11\n"
     ]
    }
   ],
   "source": [
    "a = ~2\n",
    "b = bin(2)\n",
    "c = bin(-3)\n",
    "print(a, b, c)"
   ]
  },
  {
   "cell_type": "markdown",
   "metadata": {},
   "source": [
    "abbreviated form"
   ]
  },
  {
   "cell_type": "markdown",
   "metadata": {},
   "source": [
    "|normal| abbreviated|\n",
    "|:-:|:-:|\n",
    "| `x = x & y` |  `x &= y` |\n",
    "|  `x = x | y` | `x |= y`  |\n",
    "|  `x = x ^ y` |  `x ^= y` |"
   ]
  },
  {
   "cell_type": "markdown",
   "metadata": {},
   "source": [
    "---"
   ]
  },
  {
   "cell_type": "markdown",
   "metadata": {},
   "source": [
    "### 3.1.3.4 Logic and bit operations in Python | Bitwise operators"
   ]
  },
  {
   "cell_type": "markdown",
   "metadata": {},
   "source": [
    "#### How do we deal with single bits?"
   ]
  },
  {
   "cell_type": "markdown",
   "metadata": {},
   "source": [
    "The variable stores the information about various aspects of system operation. **Each bit of the variable stores one yes/no value.** You've also been told that only one of these bits is yours - the third (remember that bits are numbered from zero, and bit number zero is the lowest one, while the highest is number 31). The remaining bits are not allowed to change, because they're intended to store other data. Here's your bit marked with the letter `x`:"
   ]
  },
  {
   "cell_type": "code",
   "execution_count": null,
   "metadata": {},
   "outputs": [],
   "source": [
    "flagRegister = 0000000000000000000000000000x000"
   ]
  },
  {
   "cell_type": "markdown",
   "metadata": {},
   "source": [
    "1. **Check the state of your bit** - you want to find out the value of your bit; comparing the whole variable to zero will not do anything, because the remaining bits can have completely unpredictable values, but you can use the following conjunction property:"
   ]
  },
  {
   "cell_type": "code",
   "execution_count": null,
   "metadata": {},
   "outputs": [],
   "source": [
    "x & 1 = x\n",
    "x & 0 = 0"
   ]
  },
  {
   "cell_type": "markdown",
   "metadata": {},
   "source": [
    "If you apply the `&` operation to the `flagRegister` variable along with the following bit image:"
   ]
  },
  {
   "cell_type": "code",
   "execution_count": null,
   "metadata": {},
   "outputs": [],
   "source": [
    "00000000000000000000000000001000"
   ]
  },
  {
   "cell_type": "markdown",
   "metadata": {},
   "source": [
    "(note the 1 at your bit's position) as the result, you obtain one of the following bit strings:"
   ]
  },
  {
   "cell_type": "markdown",
   "metadata": {},
   "source": [
    "- `00000000000000000000000000001000` if your bit was set to `1`\n",
    "- `00000000000000000000000000000000` if your bit was reset to `0`"
   ]
  },
  {
   "cell_type": "markdown",
   "metadata": {},
   "source": [
    "Such a sequence of zeros and ones, whose task is to grab the value or to change the selected bits, is called a **bit mask**."
   ]
  },
  {
   "cell_type": "markdown",
   "metadata": {},
   "source": [
    "Let's build a bit mask to detect the state of your bit. It should point to **the third bit**. That bit has the weight of <strong>2<sup>3</sup> = 8</strong>. A suitable mask could be created by the following declaration:"
   ]
  },
  {
   "cell_type": "code",
   "execution_count": null,
   "metadata": {},
   "outputs": [],
   "source": [
    "theMask = 8"
   ]
  },
  {
   "cell_type": "markdown",
   "metadata": {},
   "source": [
    "You can also make a sequence of instructions depending on the state of your bit i here it is:"
   ]
  },
  {
   "cell_type": "code",
   "execution_count": null,
   "metadata": {},
   "outputs": [],
   "source": [
    "if flagRegister & theMask:\n",
    "    # my bit is set\n",
    "else:\n",
    "    # my bit is reset"
   ]
  },
  {
   "cell_type": "markdown",
   "metadata": {},
   "source": [
    "2. **Reset your bit** - you assign a zero to the bit while all the other bits must remain unchanged; let's use the same property of the conjunction as before, but let's use a slightly different mask - exactly as below:"
   ]
  },
  {
   "cell_type": "code",
   "execution_count": null,
   "metadata": {},
   "outputs": [],
   "source": [
    "11111111111111111111111111110111"
   ]
  },
  {
   "cell_type": "markdown",
   "metadata": {},
   "source": [
    "Note that the mask was created as a result of the negation of all the bits of `theMask` variable. Resetting the bit is simple, and looks like this **(choose the one you like more)**:"
   ]
  },
  {
   "cell_type": "code",
   "execution_count": null,
   "metadata": {},
   "outputs": [],
   "source": [
    "flagRegister = flagRegister & ~theMask\n",
    "\n",
    "flagregister &= ~theMask"
   ]
  },
  {
   "cell_type": "markdown",
   "metadata": {},
   "source": [
    "3. **Set your bit** - you assign a `1` to your bit, while all the remaining bits must remain unchanged; use the following disjunction property:"
   ]
  },
  {
   "cell_type": "code",
   "execution_count": null,
   "metadata": {},
   "outputs": [],
   "source": [
    "x | 1 = 1\n",
    "x | 0 = x"
   ]
  },
  {
   "cell_type": "markdown",
   "metadata": {},
   "source": [
    "You're now ready to set your bit with one of the following instructions:"
   ]
  },
  {
   "cell_type": "code",
   "execution_count": null,
   "metadata": {},
   "outputs": [],
   "source": [
    "flagRegister = flagRegister | theMask\n",
    "\n",
    "flagRegister |= theMask"
   ]
  },
  {
   "cell_type": "markdown",
   "metadata": {},
   "source": [
    "4. **Negate your bit** - you replace a `1` with a `0` and a `0` with a `1`. You can use an interesting property of the `xor` operator:"
   ]
  },
  {
   "cell_type": "code",
   "execution_count": null,
   "metadata": {},
   "outputs": [],
   "source": [
    "x ^ 1 = ~x\n",
    "x ^ 0 = x"
   ]
  },
  {
   "cell_type": "markdown",
   "metadata": {},
   "source": [
    "and negate your bit with the following instructions:"
   ]
  },
  {
   "cell_type": "code",
   "execution_count": null,
   "metadata": {},
   "outputs": [],
   "source": [
    "flagRegister = flagRegister ^ theMask\n",
    "\n",
    "flagRegister ^= theMask"
   ]
  },
  {
   "cell_type": "markdown",
   "metadata": {},
   "source": [
    "---"
   ]
  },
  {
   "cell_type": "markdown",
   "metadata": {},
   "source": [
    "### 3.1.3.5 Logic and bit operations in Python | Bit shifting"
   ]
  },
  {
   "cell_type": "markdown",
   "metadata": {},
   "source": [
    "#### Binary left shift and binary right shift"
   ]
  },
  {
   "cell_type": "markdown",
   "metadata": {},
   "source": [
    "Python offers yet another operation relating to single bits: **shifting**. This is applied only to **integer** values, and you mustn't use floats as arguments for it."
   ]
  },
  {
   "cell_type": "markdown",
   "metadata": {},
   "source": [
    "- shifting a value one bit to the left thus corresponds to multiplying it by two\n",
    "- shifting one bit to the right is like dividing by two (notice that the rightmost bit is lost)"
   ]
  },
  {
   "cell_type": "markdown",
   "metadata": {},
   "source": [
    "The **shift operators** in Python are a pair of **digraphs**: `<<` and `>>`, clearly suggesting in which direction the shift will act."
   ]
  },
  {
   "cell_type": "code",
   "execution_count": null,
   "metadata": {},
   "outputs": [],
   "source": [
    "value << bits\n",
    "value >> bits"
   ]
  },
  {
   "cell_type": "markdown",
   "metadata": {},
   "source": [
    "**The left argument of these operators is an integer value whose bits are shifted. The right argument determines the size of the shift.**"
   ]
  },
  {
   "cell_type": "markdown",
   "metadata": {},
   "source": [
    "It shows that this operation is certainly not commutative."
   ]
  },
  {
   "cell_type": "code",
   "execution_count": 2,
   "metadata": {},
   "outputs": [
    {
     "name": "stdout",
     "output_type": "stream",
     "text": [
      "17 68 8\n"
     ]
    }
   ],
   "source": [
    "var = 17\n",
    "varRight = var >> 1\n",
    "varLeft = var << 2\n",
    "print(var, varLeft, varRight)"
   ]
  },
  {
   "cell_type": "markdown",
   "metadata": {},
   "source": [
    "- `17 // 2 → 8` (shifting to the right by one bit is the same as integer division by two)\n",
    "- `17 * 4 → 68` (shifting to the left by two bits is the same as integer multiplication by four)"
   ]
  },
  {
   "cell_type": "markdown",
   "metadata": {},
   "source": [
    "---"
   ]
  },
  {
   "cell_type": "markdown",
   "metadata": {},
   "source": [
    "### 3.1.3.6 SECTION SUMMARY"
   ]
  },
  {
   "cell_type": "markdown",
   "metadata": {},
   "source": [
    "1. You can use bitwise operators to manipulate single bits of data. The following sample data:"
   ]
  },
  {
   "cell_type": "markdown",
   "metadata": {},
   "source": [
    "- `x = 15`, which is `0000 1111` in binary,\n",
    "- `y = 16`, which is `0001 0000` in binary."
   ]
  },
  {
   "cell_type": "markdown",
   "metadata": {},
   "source": [
    "will be used to illustrate the meaning of bitwise operators in Python. Analyze the examples below:"
   ]
  },
  {
   "cell_type": "markdown",
   "metadata": {},
   "source": [
    "- `&` does a bitwise and, e.g., `x & y = 0`, which is `0000 0000` in binary,\n",
    "- `|` does a bitwise or, e.g., `x | y = 31`, which is `0001 1111` in binary,\n",
    "- `˜` does a bitwise not, e.g., `˜ x = 240`, which is `1111 0000` in binary,\n",
    "- `^` does a bitwise xor, e.g., `x ^ y = 31`, which is `0001 1111` in binary,\n",
    "- `>>` does a bitwise right shift, e.g., `y >> 1 = 8`, which is` 0000 1000` in binary,\n",
    "- `<<` does a bitwise left shift, e.g., `y << 3 = 128` , which is `1000 0000` in binary,"
   ]
  },
  {
   "cell_type": "code",
   "execution_count": 3,
   "metadata": {},
   "outputs": [
    {
     "name": "stdout",
     "output_type": "stream",
     "text": [
      "0 5 -5 1 1 16\n"
     ]
    }
   ],
   "source": [
    "x = 4\n",
    "y = 1\n",
    "\n",
    "a = x & y\n",
    "b = x | y\n",
    "c = ~x\n",
    "d = x ^ 5\n",
    "e = x >> 2\n",
    "f = x << 2\n",
    "\n",
    "print(a, b, c, d, e, f)"
   ]
  },
  {
   "cell_type": "markdown",
   "metadata": {},
   "source": [
    "---"
   ]
  },
  {
   "cell_type": "markdown",
   "metadata": {},
   "source": [
    "### 3.1.4.1 Lists - collections of data"
   ]
  },
  {
   "cell_type": "markdown",
   "metadata": {},
   "source": [
    "- list is a collection of elements, but each element is a scalar"
   ]
  },
  {
   "cell_type": "markdown",
   "metadata": {},
   "source": [
    "---"
   ]
  },
  {
   "cell_type": "markdown",
   "metadata": {},
   "source": [
    "### 3.1.4.3 Lists - collections of data | Indexing"
   ]
  },
  {
   "cell_type": "code",
   "execution_count": 1,
   "metadata": {},
   "outputs": [
    {
     "name": "stdout",
     "output_type": "stream",
     "text": [
      "Original list content: [10, 5, 7, 2, 1]\n",
      "\n",
      "Previous list content: [111, 5, 7, 2, 1]\n",
      "Previous list content: [111, 1, 7, 2, 1]\n",
      "\n",
      "List length: 5\n"
     ]
    }
   ],
   "source": [
    "numbers = [10, 5, 7, 2, 1]\n",
    "print(\"Original list content:\", numbers) # printing original list content\n",
    "\n",
    "numbers[0] = 111\n",
    "print(\"\\nPrevious list content:\", numbers) # printing previous list content\n",
    "\n",
    "numbers[1] = numbers[4] # copying value of the fifth element to the second\n",
    "print(\"Previous list content:\", numbers) # printing previous list content\n",
    "\n",
    "print(\"\\nList length:\", len(numbers)) # printing the list's length"
   ]
  },
  {
   "cell_type": "markdown",
   "metadata": {},
   "source": [
    "#### Removing elements from a list"
   ]
  },
  {
   "cell_type": "code",
   "execution_count": 2,
   "metadata": {},
   "outputs": [
    {
     "name": "stdout",
     "output_type": "stream",
     "text": [
      "Original list content: [10, 5, 7, 2, 1]\n",
      "\n",
      "List's length: 5\n",
      "New list's length: 4\n",
      "\n",
      "New list content: [10, 7, 2, 1]\n"
     ]
    }
   ],
   "source": [
    "numbers = [10, 5, 7, 2, 1]\n",
    "print(\"Original list content:\", numbers) # printing original list content\n",
    "\n",
    "print(\"\\nList's length:\", len(numbers)) # printing previous list length\n",
    "\n",
    "###\n",
    "\n",
    "del numbers[1] # removing the second element from the list\n",
    "print(\"New list's length:\", len(numbers)) # printing new list length\n",
    "print(\"\\nNew list content:\", numbers) # printing current list content\n",
    "\n",
    "###"
   ]
  },
  {
   "cell_type": "markdown",
   "metadata": {},
   "source": [
    "---"
   ]
  },
  {
   "cell_type": "markdown",
   "metadata": {},
   "source": [
    "### 3.1.4.5 Lists - collections of data | Operations on lists"
   ]
  },
  {
   "cell_type": "markdown",
   "metadata": {},
   "source": [
    "#### Negative indices are legal"
   ]
  },
  {
   "cell_type": "markdown",
   "metadata": {},
   "source": [
    "- An element with an index equal to -1 is **the last one in the list**."
   ]
  },
  {
   "cell_type": "code",
   "execution_count": 4,
   "metadata": {},
   "outputs": [
    {
     "name": "stdout",
     "output_type": "stream",
     "text": [
      "1\n",
      "2\n"
     ]
    }
   ],
   "source": [
    "numbers = [111, 7, 2, 1]\n",
    "print(numbers[-1])\n",
    "print(numbers[-2])"
   ]
  },
  {
   "cell_type": "markdown",
   "metadata": {},
   "source": [
    "---"
   ]
  },
  {
   "cell_type": "markdown",
   "metadata": {},
   "source": [
    "### 3.1.4.7 Lists - collections of data | Functions and methods"
   ]
  },
  {
   "cell_type": "markdown",
   "metadata": {},
   "source": [
    "#### Functions vs. methods"
   ]
  },
  {
   "cell_type": "markdown",
   "metadata": {},
   "source": [
    "- A **method is a specific kind of function** - it behaves like a function and looks like a function, but differs in the way in which it acts, and in its invocation style.\n",
    "\n",
    "- A **function doesn't belong to any data** - it gets data, it may create new data and it (generally) produces a result.\n",
    "\n",
    "- A method does all these things, but is also able to **change the state of a selected entity**.\n",
    "\n",
    "- **A method is owned by the data it works for, while a function is owned by the whole code**.\n",
    "\n",
    "- This also means that invoking a method requires some specification of the data from which the method is invoked."
   ]
  },
  {
   "cell_type": "markdown",
   "metadata": {},
   "source": [
    "In general, a typical function invocation may look like this:"
   ]
  },
  {
   "cell_type": "code",
   "execution_count": null,
   "metadata": {},
   "outputs": [],
   "source": [
    "result = function(arg)"
   ]
  },
  {
   "cell_type": "markdown",
   "metadata": {},
   "source": [
    "A typical method invocation usually looks like this:"
   ]
  },
  {
   "cell_type": "code",
   "execution_count": null,
   "metadata": {},
   "outputs": [],
   "source": [
    "result = data.method(arg)"
   ]
  },
  {
   "cell_type": "markdown",
   "metadata": {},
   "source": [
    "Note: the name of the method is preceded by the name of the data which owns the method. Next, you add a **dot**, followed by the **method name**, and a pair of **parenthesis enclosing the arguments**."
   ]
  },
  {
   "cell_type": "markdown",
   "metadata": {},
   "source": [
    "---"
   ]
  },
  {
   "cell_type": "markdown",
   "metadata": {},
   "source": [
    "### 3.1.4.8 Lists - collections of data | list methods"
   ]
  },
  {
   "cell_type": "markdown",
   "metadata": {},
   "source": [
    "#### Adding elements to a list: append() and insert()"
   ]
  },
  {
   "cell_type": "code",
   "execution_count": null,
   "metadata": {},
   "outputs": [],
   "source": [
    "list.append(value)"
   ]
  },
  {
   "cell_type": "markdown",
   "metadata": {},
   "source": [
    "- Such an operation is performed by a method named `append()`. It takes its argument's value and puts it **at the end of the list** which owns the method.\n",
    "\n",
    "- The list's length then increases by one."
   ]
  },
  {
   "cell_type": "code",
   "execution_count": null,
   "metadata": {},
   "outputs": [],
   "source": [
    "list.insert(location, value)"
   ]
  },
  {
   "cell_type": "markdown",
   "metadata": {},
   "source": [
    "- the first shows the required location of the element to be inserted; note: all the existing elements that occupy locations to the right of the new element (including the one at the indicated position) are shifted to the right, in order to make space for the new element;\n",
    "- the second is the element to be inserted."
   ]
  },
  {
   "cell_type": "code",
   "execution_count": 1,
   "metadata": {},
   "outputs": [
    {
     "name": "stdout",
     "output_type": "stream",
     "text": [
      "4\n",
      "[111, 7, 2, 1]\n",
      "5\n",
      "[111, 7, 2, 1, 4]\n",
      "6\n",
      "[222, 111, 7, 2, 1, 4]\n"
     ]
    }
   ],
   "source": [
    "numbers = [111, 7, 2, 1]\n",
    "print(len(numbers))\n",
    "print(numbers)\n",
    "\n",
    "###\n",
    "\n",
    "numbers.append(4)\n",
    "\n",
    "print(len(numbers))\n",
    "print(numbers)\n",
    "\n",
    "###\n",
    "\n",
    "numbers.insert(0, 222)\n",
    "print(len(numbers))\n",
    "print(numbers)\n",
    "\n",
    "#"
   ]
  },
  {
   "cell_type": "code",
   "execution_count": 5,
   "metadata": {},
   "outputs": [
    {
     "name": "stdout",
     "output_type": "stream",
     "text": [
      "[1, 2, 3, 4, 5] [5, 4, 3, 2, 1]\n"
     ]
    }
   ],
   "source": [
    "myList = [] # creating an empty list\n",
    "myList2 = []\n",
    "\n",
    "for i in range(5):\n",
    "    myList.append(i + 1)\n",
    "    myList2.insert(0, i+1)\n",
    "\n",
    "print(myList, myList2)"
   ]
  },
  {
   "cell_type": "markdown",
   "metadata": {},
   "source": [
    "#### Making use of lists"
   ]
  },
  {
   "cell_type": "markdown",
   "metadata": {},
   "source": [
    "Note: we're not going to name it `sum` as Python uses the same name for one of its built-in functions - `sum()`"
   ]
  },
  {
   "cell_type": "code",
   "execution_count": 6,
   "metadata": {},
   "outputs": [
    {
     "name": "stdout",
     "output_type": "stream",
     "text": [
      "27\n"
     ]
    }
   ],
   "source": [
    "myList = [10, 1, 8, 3, 5]\n",
    "total = 0\n",
    "\n",
    "for i in range(len(myList)):\n",
    "    total += myList[i]\n",
    "\n",
    "print(total)"
   ]
  },
  {
   "cell_type": "markdown",
   "metadata": {},
   "source": [
    "#### The second face of the for loop"
   ]
  },
  {
   "cell_type": "code",
   "execution_count": 7,
   "metadata": {},
   "outputs": [
    {
     "name": "stdout",
     "output_type": "stream",
     "text": [
      "27\n"
     ]
    }
   ],
   "source": [
    "myList = [10, 1, 8, 3, 5]\n",
    "total = 0\n",
    "\n",
    "for i in myList:\n",
    "    total += i\n",
    "\n",
    "print(total)"
   ]
  },
  {
   "cell_type": "markdown",
   "metadata": {},
   "source": [
    "---"
   ]
  },
  {
   "cell_type": "markdown",
   "metadata": {},
   "source": [
    "### 3.1.4.11 Lists - collections of data | lists and loops"
   ]
  },
  {
   "cell_type": "markdown",
   "metadata": {},
   "source": [
    "#### Lists in action"
   ]
  },
  {
   "cell_type": "markdown",
   "metadata": {},
   "source": [
    "- Question: how can you swap the values of two variables?"
   ]
  },
  {
   "cell_type": "code",
   "execution_count": null,
   "metadata": {},
   "outputs": [],
   "source": [
    "variable1 = 1\n",
    "variable2 = 2\n",
    "\n",
    "auxiliary = variable1\n",
    "variable1 = variable2\n",
    "variable2 = auxiliary"
   ]
  },
  {
   "cell_type": "markdown",
   "metadata": {},
   "source": [
    "- Python offers a more convenient way of doing the swap - take a look:"
   ]
  },
  {
   "cell_type": "code",
   "execution_count": 9,
   "metadata": {},
   "outputs": [],
   "source": [
    "variable1 = 1\n",
    "variable2 = 2\n",
    "\n",
    "variable1, variable2 = variable2, variable1"
   ]
  },
  {
   "cell_type": "markdown",
   "metadata": {},
   "source": [
    "- Now you can easily swap the list's elements to **reverse their order**:"
   ]
  },
  {
   "cell_type": "code",
   "execution_count": null,
   "metadata": {},
   "outputs": [],
   "source": [
    "myList = [10, 1, 8, 3, 5]\n",
    "\n",
    "myList[0], myList[4] = myList[4], myList[0]\n",
    "myList[1], myList[3] = myList[3], myList[1]\n",
    "\n",
    "print(myList)"
   ]
  },
  {
   "cell_type": "markdown",
   "metadata": {},
   "source": [
    "- you can use the for loop to do the same thing automatically, irrespective of the list's length"
   ]
  },
  {
   "cell_type": "code",
   "execution_count": 10,
   "metadata": {},
   "outputs": [
    {
     "name": "stdout",
     "output_type": "stream",
     "text": [
      "[5, 3, 8, 1, 10]\n"
     ]
    }
   ],
   "source": [
    "myList = [10, 1, 8, 3, 5]\n",
    "length = len(myList)\n",
    "\n",
    "for i in range(length // 2):\n",
    "    myList[i], myList[length - i - 1] = myList[length - i - 1], myList[i]\n",
    "\n",
    "print(myList)"
   ]
  },
  {
   "cell_type": "markdown",
   "metadata": {},
   "source": [
    "Note: we've launched the `for` loop to run through its body `length // 2` times (this works well for lists with both even and odd lengths, because when the list contains an odd number of elements, the middle one remains untouched)\n",
    "    "
   ]
  },
  {
   "cell_type": "markdown",
   "metadata": {},
   "source": [
    "---"
   ]
  },
  {
   "cell_type": "markdown",
   "metadata": {},
   "source": [
    "### 3.1.4.13 LAB: The basics of lists - the Beatles"
   ]
  },
  {
   "cell_type": "code",
   "execution_count": 12,
   "metadata": {},
   "outputs": [
    {
     "name": "stdout",
     "output_type": "stream",
     "text": [
      "Step 1: []\n",
      "Step 2: ['John Lennon', 'Paul McCartney', 'Geoge Harrison']\n",
      "Enter members: Stu Sutcliffe\n",
      "Enter members: Pete Best\n",
      "Step 3: ['John Lennon', 'Paul McCartney', 'Geoge Harrison', 'Stu Sutcliffe', 'Pete Best']\n",
      "Step 4: ['John Lennon', 'Paul McCartney', 'Geoge Harrison']\n",
      "Step 5: ['Ringo Starr', 'John Lennon', 'Paul McCartney', 'Geoge Harrison']\n",
      "The Fab 4\n"
     ]
    }
   ],
   "source": [
    "# step 1\n",
    "beatles = []\n",
    "print(\"Step 1:\", beatles)\n",
    "\n",
    "# step 2\n",
    "beatles.append(\"John Lennon\")\n",
    "beatles.append(\"Paul McCartney\")\n",
    "beatles.append(\"Geoge Harrison\")\n",
    "print(\"Step 2:\", beatles)\n",
    "\n",
    "# step 3\n",
    "members = [input(\"Enter members: \"), input(\"Enter members: \")]\n",
    "for member in members:\n",
    "    beatles.append(member)\n",
    "print(\"Step 3:\", beatles)\n",
    "\n",
    "# step 4\n",
    "del beatles[len(beatles)-1]\n",
    "del beatles[len(beatles)-1]\n",
    "print(\"Step 4:\", beatles)\n",
    "\n",
    "# step 5\n",
    "beatles.insert(0, \"Ringo Starr\")\n",
    "print(\"Step 5:\", beatles)\n",
    "\n",
    "# testing list legth\n",
    "print(\"The Fab\", len(beatles))"
   ]
  },
  {
   "cell_type": "markdown",
   "metadata": {},
   "source": [
    "---"
   ]
  },
  {
   "cell_type": "markdown",
   "metadata": {},
   "source": [
    "### 3.1.4.14 SECTION SUMMARY"
   ]
  },
  {
   "cell_type": "markdown",
   "metadata": {},
   "source": [
    "#### Key takeaways"
   ]
  },
  {
   "cell_type": "markdown",
   "metadata": {},
   "source": [
    "1. The **list is a type of data** in Python used to **store multiple objects**. It is an **ordered and mutable collection** of comma-separated items between square brackets\n",
    "2. Lists can be **indexed and updated, nested, deleted**\n",
    "3. Lists can be **iterated** through using the `for` loop\n",
    "4. The `len()` function may be used to **check the list's length**"
   ]
  },
  {
   "cell_type": "markdown",
   "metadata": {},
   "source": [
    "Exercise 1:"
   ]
  },
  {
   "cell_type": "code",
   "execution_count": 13,
   "metadata": {},
   "outputs": [
    {
     "name": "stdout",
     "output_type": "stream",
     "text": [
      "[1, 3, 6, 10, 15]\n"
     ]
    }
   ],
   "source": [
    "lst = [1, 2, 3, 4, 5]\n",
    "lst2 = []\n",
    "add = 0\n",
    "\n",
    "for number in lst:\n",
    "    add += number\n",
    "    lst2.append(add)\n",
    "\n",
    "print(lst2)"
   ]
  },
  {
   "cell_type": "markdown",
   "metadata": {},
   "source": [
    "EXcercise 2:"
   ]
  },
  {
   "cell_type": "code",
   "execution_count": 14,
   "metadata": {},
   "outputs": [
    {
     "ename": "NameError",
     "evalue": "name 'lst' is not defined",
     "output_type": "error",
     "traceback": [
      "\u001b[1;31m---------------------------------------------------------------------------\u001b[0m",
      "\u001b[1;31mNameError\u001b[0m                                 Traceback (most recent call last)",
      "\u001b[1;32m<ipython-input-14-23e27814c7e8>\u001b[0m in \u001b[0;36m<module>\u001b[1;34m\u001b[0m\n\u001b[0;32m      1\u001b[0m \u001b[0mlst\u001b[0m \u001b[1;33m=\u001b[0m \u001b[1;33m[\u001b[0m\u001b[1;33m]\u001b[0m\u001b[1;33m\u001b[0m\u001b[1;33m\u001b[0m\u001b[0m\n\u001b[0;32m      2\u001b[0m \u001b[1;32mdel\u001b[0m \u001b[0mlst\u001b[0m\u001b[1;33m\u001b[0m\u001b[1;33m\u001b[0m\u001b[0m\n\u001b[1;32m----> 3\u001b[1;33m \u001b[0mprint\u001b[0m\u001b[1;33m(\u001b[0m\u001b[0mlst\u001b[0m\u001b[1;33m)\u001b[0m\u001b[1;33m\u001b[0m\u001b[1;33m\u001b[0m\u001b[0m\n\u001b[0m",
      "\u001b[1;31mNameError\u001b[0m: name 'lst' is not defined"
     ]
    }
   ],
   "source": [
    "lst = []\n",
    "del lst\n",
    "print(lst)"
   ]
  },
  {
   "cell_type": "markdown",
   "metadata": {},
   "source": [
    "---"
   ]
  },
  {
   "cell_type": "markdown",
   "metadata": {},
   "source": [
    "### 3.1.5.1 Sorting simple lists - the bubble sort algorithm"
   ]
  },
  {
   "cell_type": "markdown",
   "metadata": {},
   "source": [
    "#### The bubble sort"
   ]
  },
  {
   "cell_type": "markdown",
   "metadata": {},
   "source": [
    "-  easy to understand, but unfortunately not too efficient, either. It's used very rarely, and certainly not for large and extensive lists."
   ]
  },
  {
   "cell_type": "markdown",
   "metadata": {},
   "source": [
    "#### Let's say that a list can be sorted in two ways:"
   ]
  },
  {
   "cell_type": "markdown",
   "metadata": {},
   "source": [
    "- increasing (or more precisely - non-decreasing) - if in every pair of adjacent elements, the former element is not greater than the latter;\n",
    "- decreasing (or more precisely - non-increasing) - if in every pair of adjacent elements, the former element is not less than the latter."
   ]
  },
  {
   "cell_type": "markdown",
   "metadata": {},
   "source": [
    "#### Sorting a list (Bubble Sort)"
   ]
  },
  {
   "cell_type": "code",
   "execution_count": 1,
   "metadata": {},
   "outputs": [
    {
     "name": "stdout",
     "output_type": "stream",
     "text": [
      "[2, 4, 6, 8, 10]\n"
     ]
    }
   ],
   "source": [
    "myList = [8, 10, 6, 2, 4] # list to sort\n",
    "swapped = True # it's a little fake - we need it to enter the while loop\n",
    "\n",
    "while swapped:\n",
    "    swapped = False # no swaps so far\n",
    "    for i in range(len(myList) - 1):\n",
    "        if myList[i] > myList[i + 1]:\n",
    "            swapped = True # swap occured!\n",
    "            myList[i], myList[i + 1] = myList[i + 1], myList[i]\n",
    "\n",
    "print(myList)"
   ]
  },
  {
   "cell_type": "markdown",
   "metadata": {},
   "source": [
    "---"
   ]
  },
  {
   "cell_type": "markdown",
   "metadata": {},
   "source": [
    "### 3 3.1.5.3 Sorting simple lists - the bubble sort algorithm"
   ]
  },
  {
   "cell_type": "markdown",
   "metadata": {},
   "source": [
    "#### The bubble sort - interactive version"
   ]
  },
  {
   "cell_type": "markdown",
   "metadata": {},
   "source": [
    "- Python, however, has its own sorting mechanisms. No one needs to write their own sorts, as there is a sufficient number of `ready-to-use tools`."
   ]
  },
  {
   "cell_type": "code",
   "execution_count": 2,
   "metadata": {},
   "outputs": [
    {
     "name": "stdout",
     "output_type": "stream",
     "text": [
      "[2, 4, 6, 8, 10]\n"
     ]
    }
   ],
   "source": [
    "myList = [8, 10, 6, 2, 4]\n",
    "myList.sort()\n",
    "print(myList)"
   ]
  },
  {
   "cell_type": "markdown",
   "metadata": {},
   "source": [
    "#### The bubble sort - final interactive version."
   ]
  },
  {
   "cell_type": "code",
   "execution_count": 3,
   "metadata": {},
   "outputs": [
    {
     "name": "stdout",
     "output_type": "stream",
     "text": [
      "How many elements do you want to sort: 5\n",
      "Enter a list element: 8\n",
      "Enter a list element: 9\n",
      "Enter a list element: 4\n",
      "Enter a list element: 21\n",
      "Enter a list element: 1\n",
      "\n",
      "Sorted:\n",
      "[1.0, 4.0, 8.0, 9.0, 21.0]\n"
     ]
    }
   ],
   "source": [
    "myList = []\n",
    "swapped = True\n",
    "num = int(input(\"How many elements do you want to sort: \"))\n",
    "\n",
    "for i in range(num):\n",
    "    val = float(input(\"Enter a list element: \"))\n",
    "    myList.append(val)\n",
    "\n",
    "while swapped:\n",
    "    swapped = False\n",
    "    for i in range(len(myList) - 1):\n",
    "        if myList[i] > myList[i + 1]:\n",
    "            swapped = True\n",
    "            myList[i], myList[i + 1] = myList[i + 1], myList[i]\n",
    "\n",
    "print(\"\\nSorted:\")\n",
    "print(myList)"
   ]
  },
  {
   "cell_type": "markdown",
   "metadata": {},
   "source": [
    "---"
   ]
  },
  {
   "cell_type": "markdown",
   "metadata": {},
   "source": [
    "### 3.1.5.4 SECTION SUMMARY"
   ]
  },
  {
   "cell_type": "markdown",
   "metadata": {},
   "source": [
    "#### Key takeaways"
   ]
  },
  {
   "cell_type": "markdown",
   "metadata": {},
   "source": [
    "- You can use the `sort()` method to sort elements of a list\n",
    "- here is also a list method called `reverse()`, which you can use to reverse the list"
   ]
  },
  {
   "cell_type": "code",
   "execution_count": 13,
   "metadata": {},
   "outputs": [
    {
     "name": "stdout",
     "output_type": "stream",
     "text": [
      "[5, 3, 1, 2, 4]\n",
      "[1, 2, 3, 4, 5]\n"
     ]
    }
   ],
   "source": [
    "lst = [5, 3, 1, 2, 4]\n",
    "print(lst)\n",
    "\n",
    "lst.sort()\n",
    "print(lst)"
   ]
  },
  {
   "cell_type": "code",
   "execution_count": 14,
   "metadata": {},
   "outputs": [
    {
     "name": "stdout",
     "output_type": "stream",
     "text": [
      "[5, 3, 1, 2, 4]\n",
      "[4, 2, 1, 3, 5]\n"
     ]
    }
   ],
   "source": [
    "lst = [5, 3, 1, 2, 4]\n",
    "print(lst)\n",
    "\n",
    "lst.reverse()\n",
    "print(lst) "
   ]
  },
  {
   "cell_type": "markdown",
   "metadata": {},
   "source": [
    "---"
   ]
  },
  {
   "cell_type": "markdown",
   "metadata": {},
   "source": [
    "### 3.1.6.1 Operations on lists"
   ]
  },
  {
   "cell_type": "markdown",
   "metadata": {},
   "source": [
    "#### The inner life of lists"
   ]
  },
  {
   "cell_type": "code",
   "execution_count": 1,
   "metadata": {},
   "outputs": [
    {
     "name": "stdout",
     "output_type": "stream",
     "text": [
      "[2]\n"
     ]
    }
   ],
   "source": [
    "list1 = [1]\n",
    "list2 = list1\n",
    "list1[0] = 2\n",
    "print(list2)"
   ]
  },
  {
   "cell_type": "markdown",
   "metadata": {},
   "source": [
    "The program:\n",
    "- creates a one-element list named `list1`;\n",
    "- assigns it to a new list named `list2`;\n",
    "- changes the only element of `list1`;\n",
    "- prints out `list2`."
   ]
  },
  {
   "cell_type": "markdown",
   "metadata": {},
   "source": [
    "You could say that:\n",
    "- the name of an ordinary variable is the `name of its content`;\n",
    "- the name of a list is the name of a `memory location where the list is stored`."
   ]
  },
  {
   "cell_type": "markdown",
   "metadata": {},
   "source": [
    "The assignment: `list2 = list1` copies the name of the array, not its contents. In effect, the two names (`list1` and `list2`) identify the same location in the computer memory. Modifying one of them affects the other, and vice versa."
   ]
  },
  {
   "cell_type": "markdown",
   "metadata": {},
   "source": [
    "---"
   ]
  },
  {
   "cell_type": "markdown",
   "metadata": {},
   "source": [
    "### 3.1.6.2 Operations on lists | slices"
   ]
  },
  {
   "cell_type": "markdown",
   "metadata": {},
   "source": [
    "#### Powerful slices"
   ]
  },
  {
   "cell_type": "markdown",
   "metadata": {},
   "source": [
    "- A slice is an element of Python syntax that allows you to make a brand new copy of a list, or parts of a list.\n",
    "- It actually copies the list's contents, not the list's name.\n",
    "- One of the most general forms of the slice looks as follows:\n",
    "`myList[start:end]`\n",
    "- A slice of this form **makes a new (target) list, taking elements from the source list - the elements of the indices from start to** `end - 1`"
   ]
  },
  {
   "cell_type": "markdown",
   "metadata": {},
   "source": [
    "omitting both start and end makes a **copy of the whole list**:"
   ]
  },
  {
   "cell_type": "code",
   "execution_count": 3,
   "metadata": {},
   "outputs": [
    {
     "name": "stdout",
     "output_type": "stream",
     "text": [
      "[10, 8, 6, 4, 2]\n",
      "[8, 6]\n"
     ]
    }
   ],
   "source": [
    "myList = [10, 8, 6, 4, 2]\n",
    "newList = myList[:]\n",
    "newList2 = myList[1:3]\n",
    "print(newList)\n",
    "print(newList2)"
   ]
  },
  {
   "cell_type": "markdown",
   "metadata": {},
   "source": [
    "---"
   ]
  },
  {
   "cell_type": "markdown",
   "metadata": {},
   "source": [
    "### 3.1.6.3 Operations on lists | slices"
   ]
  },
  {
   "cell_type": "markdown",
   "metadata": {},
   "source": [
    "#### Slices - negative indices"
   ]
  },
  {
   "cell_type": "markdown",
   "metadata": {},
   "source": [
    "This is how negative indices work with the slice:"
   ]
  },
  {
   "cell_type": "code",
   "execution_count": 5,
   "metadata": {},
   "outputs": [
    {
     "name": "stdout",
     "output_type": "stream",
     "text": [
      "[8, 6, 4]\n"
     ]
    }
   ],
   "source": [
    "myList = [10, 8, 6, 4, 2]\n",
    "newList = myList[1:-1]\n",
    "print(newList)"
   ]
  },
  {
   "cell_type": "markdown",
   "metadata": {},
   "source": [
    "If the start specifies an element lying further than the one described by the end (from the list's beginning point of view), the slice will be empty:"
   ]
  },
  {
   "cell_type": "code",
   "execution_count": 6,
   "metadata": {},
   "outputs": [
    {
     "name": "stdout",
     "output_type": "stream",
     "text": [
      "[]\n"
     ]
    }
   ],
   "source": [
    "myList = [10, 8, 6, 4, 2]\n",
    "newList = myList[-1:1]\n",
    "print(newList)"
   ]
  },
  {
   "cell_type": "markdown",
   "metadata": {},
   "source": [
    "If you omit the `start` in your slice, it is assumed that you want to get a slice beginning at the element with index `0`"
   ]
  },
  {
   "cell_type": "markdown",
   "metadata": {},
   "source": [
    "In other words, the slice of this form: `myList[:end]` or `myList[0:end]`"
   ]
  },
  {
   "cell_type": "code",
   "execution_count": 8,
   "metadata": {},
   "outputs": [
    {
     "name": "stdout",
     "output_type": "stream",
     "text": [
      "[10, 8, 6]\n"
     ]
    }
   ],
   "source": [
    "myList = [10, 8, 6, 4, 2]\n",
    "newList = myList[:3]\n",
    "print(newList)"
   ]
  },
  {
   "cell_type": "markdown",
   "metadata": {},
   "source": [
    "if you omit the `end` in your slice, it is assumed that you want the slice to end at the element with the index `len(myList)`."
   ]
  },
  {
   "cell_type": "markdown",
   "metadata": {},
   "source": [
    "In other words, the slice of this form: `myList[start:]` or `myList[start:len(myList)]`"
   ]
  },
  {
   "cell_type": "code",
   "execution_count": 9,
   "metadata": {},
   "outputs": [
    {
     "name": "stdout",
     "output_type": "stream",
     "text": [
      "[4, 2]\n"
     ]
    }
   ],
   "source": [
    "myList = [10, 8, 6, 4, 2]\n",
    "newList = myList[3:]\n",
    "print(newList)"
   ]
  },
  {
   "cell_type": "markdown",
   "metadata": {},
   "source": [
    "The previously described del instruction is able to **delete more than just a list's element at once - it can delete slices too**:\n",
    "- Note: in this case, the slice doesn't produce any new list!"
   ]
  },
  {
   "cell_type": "code",
   "execution_count": 10,
   "metadata": {},
   "outputs": [
    {
     "name": "stdout",
     "output_type": "stream",
     "text": [
      "[10, 4, 2]\n"
     ]
    }
   ],
   "source": [
    "myList = [10, 8, 6, 4, 2]\n",
    "del myList[1:3]\n",
    "print(myList)"
   ]
  },
  {
   "cell_type": "markdown",
   "metadata": {},
   "source": [
    "Deleting all the elements at once is possible too:"
   ]
  },
  {
   "cell_type": "code",
   "execution_count": 12,
   "metadata": {},
   "outputs": [
    {
     "name": "stdout",
     "output_type": "stream",
     "text": [
      "[]\n"
     ]
    }
   ],
   "source": [
    "myList = [10, 8, 6, 4, 2]\n",
    "del myList[:]\n",
    "print(myList)"
   ]
  },
  {
   "cell_type": "code",
   "execution_count": null,
   "metadata": {},
   "outputs": [],
   "source": [
    "Removing the slice from the code changes its meaning dramatically.\n"
   ]
  },
  {
   "cell_type": "markdown",
   "metadata": {},
   "source": [
    "- The `del` instruction will **delete the list itself, not its content**.\n",
    "- The `print()` function invocation from the last line of the code will then cause a runtime error."
   ]
  },
  {
   "cell_type": "code",
   "execution_count": 13,
   "metadata": {},
   "outputs": [
    {
     "ename": "NameError",
     "evalue": "name 'myList' is not defined",
     "output_type": "error",
     "traceback": [
      "\u001b[1;31m---------------------------------------------------------------------------\u001b[0m",
      "\u001b[1;31mNameError\u001b[0m                                 Traceback (most recent call last)",
      "\u001b[1;32m<ipython-input-13-880e7bc77727>\u001b[0m in \u001b[0;36m<module>\u001b[1;34m\u001b[0m\n\u001b[0;32m      1\u001b[0m \u001b[0mmyList\u001b[0m \u001b[1;33m=\u001b[0m \u001b[1;33m[\u001b[0m\u001b[1;36m10\u001b[0m\u001b[1;33m,\u001b[0m \u001b[1;36m8\u001b[0m\u001b[1;33m,\u001b[0m \u001b[1;36m6\u001b[0m\u001b[1;33m,\u001b[0m \u001b[1;36m4\u001b[0m\u001b[1;33m,\u001b[0m \u001b[1;36m2\u001b[0m\u001b[1;33m]\u001b[0m\u001b[1;33m\u001b[0m\u001b[1;33m\u001b[0m\u001b[0m\n\u001b[0;32m      2\u001b[0m \u001b[1;32mdel\u001b[0m \u001b[0mmyList\u001b[0m\u001b[1;33m\u001b[0m\u001b[1;33m\u001b[0m\u001b[0m\n\u001b[1;32m----> 3\u001b[1;33m \u001b[0mprint\u001b[0m\u001b[1;33m(\u001b[0m\u001b[0mmyList\u001b[0m\u001b[1;33m)\u001b[0m\u001b[1;33m\u001b[0m\u001b[1;33m\u001b[0m\u001b[0m\n\u001b[0m",
      "\u001b[1;31mNameError\u001b[0m: name 'myList' is not defined"
     ]
    }
   ],
   "source": [
    "myList = [10, 8, 6, 4, 2]\n",
    "del myList\n",
    "print(myList)"
   ]
  },
  {
   "cell_type": "markdown",
   "metadata": {},
   "source": [
    "---"
   ]
  },
  {
   "cell_type": "markdown",
   "metadata": {},
   "source": [
    "### 3.1.6.6 Operations on lists | in, not in"
   ]
  },
  {
   "cell_type": "markdown",
   "metadata": {},
   "source": [
    "**to look through the list in order to check whether a specific value is stored inside the list or not**"
   ]
  },
  {
   "cell_type": "code",
   "execution_count": null,
   "metadata": {},
   "outputs": [],
   "source": [
    "elem in myList\n",
    "elem not in myList"
   ]
  },
  {
   "cell_type": "markdown",
   "metadata": {},
   "source": [
    "- The first of them (`in`) checks if a given element (its left argument) is currently stored somewhere inside the list (the right argument) - the operator returns `True` in this case.\n",
    "\n",
    "- The second (`not in`) checks if a given element (its left argument) is absent in a list - the operator returns `True` in this case."
   ]
  },
  {
   "cell_type": "code",
   "execution_count": 15,
   "metadata": {},
   "outputs": [
    {
     "name": "stdout",
     "output_type": "stream",
     "text": [
      "False\n",
      "True\n",
      "True\n"
     ]
    }
   ],
   "source": [
    "myList = [0, 3, 12, 8, 2]\n",
    "\n",
    "print(5 in myList)\n",
    "print(5 not in myList)\n",
    "print(12 in myList)"
   ]
  },
  {
   "cell_type": "markdown",
   "metadata": {},
   "source": [
    "---"
   ]
  },
  {
   "cell_type": "markdown",
   "metadata": {},
   "source": [
    "### 3.1.6.7 Lists - more details"
   ]
  },
  {
   "cell_type": "markdown",
   "metadata": {},
   "source": [
    "#### Lists - some simple programs"
   ]
  },
  {
   "cell_type": "markdown",
   "metadata": {},
   "source": [
    "- The concept is rather simple - we temporarily assume that the first element is the largest one, and check the hypothesis against all the remaining elements in the list.\n",
    "\n",
    "- The code outputs `17` (as expected)."
   ]
  },
  {
   "cell_type": "code",
   "execution_count": 1,
   "metadata": {},
   "outputs": [
    {
     "name": "stdout",
     "output_type": "stream",
     "text": [
      "17\n"
     ]
    }
   ],
   "source": [
    "myList = [17, 3, 11, 5, 1, 9, 7, 15, 13]\n",
    "largest = myList[0]\n",
    "\n",
    "for i in range(1, len(myList)):\n",
    "    if myList[i] > largest:\n",
    "        largest = myList[i]\n",
    "\n",
    "print(largest)"
   ]
  },
  {
   "cell_type": "markdown",
   "metadata": {},
   "source": [
    "- The code may be rewritten to make use of the newly introduced form of the for loop:"
   ]
  },
  {
   "cell_type": "code",
   "execution_count": 2,
   "metadata": {},
   "outputs": [
    {
     "name": "stdout",
     "output_type": "stream",
     "text": [
      "17\n"
     ]
    }
   ],
   "source": [
    "myList = [17, 3, 11, 5, 1, 9, 7, 15, 13]\n",
    "largest = myList[0]\n",
    "\n",
    "for i in myList:\n",
    "    if i > largest:\n",
    "        largest = i\n",
    "\n",
    "print(largest)"
   ]
  },
  {
   "cell_type": "markdown",
   "metadata": {},
   "source": [
    "- If you need to save computer power, you can use a slice:"
   ]
  },
  {
   "cell_type": "code",
   "execution_count": 3,
   "metadata": {},
   "outputs": [
    {
     "name": "stdout",
     "output_type": "stream",
     "text": [
      "17\n"
     ]
    }
   ],
   "source": [
    "myList = [17, 3, 11, 5, 1, 9, 7, 15, 13]\n",
    "largest = myList[0]\n",
    "\n",
    "for i in myList[1:]:\n",
    "    if i > largest:\n",
    "        largest = i\n",
    "\n",
    "print(largest)"
   ]
  },
  {
   "cell_type": "markdown",
   "metadata": {},
   "source": [
    "Now let's find the location of a given element inside a list:"
   ]
  },
  {
   "cell_type": "code",
   "execution_count": 4,
   "metadata": {},
   "outputs": [
    {
     "name": "stdout",
     "output_type": "stream",
     "text": [
      "Element found at index 4\n"
     ]
    }
   ],
   "source": [
    "myList = [1, 2, 3, 4, 5, 6, 7, 8, 9, 10]\n",
    "toFind = 5\n",
    "found = False\n",
    "\n",
    "for i in range(len(myList)):\n",
    "    found = myList[i] == toFind\n",
    "    if found:\n",
    "        break\n",
    "\n",
    "if found:\n",
    "    print(\"Element found at index\", i)\n",
    "else:\n",
    "    print(\"absent\")"
   ]
  },
  {
   "cell_type": "markdown",
   "metadata": {},
   "source": [
    "Note:\n",
    "\n",
    "- the target value is stored in the `toFind` variable;\n",
    "- the current status of the search is stored in the `found` variable (`True`/`False`)\n",
    "- when `found` becomes `True`, the `for` loop is exited."
   ]
  },
  {
   "cell_type": "markdown",
   "metadata": {},
   "source": [
    "Lottery program example:"
   ]
  },
  {
   "cell_type": "code",
   "execution_count": 5,
   "metadata": {},
   "outputs": [
    {
     "name": "stdout",
     "output_type": "stream",
     "text": [
      "4\n"
     ]
    }
   ],
   "source": [
    "drawn = [5, 11, 9, 42, 3, 49]\n",
    "bets = [3, 7, 11, 42, 34, 49]\n",
    "hits = 0\n",
    "\n",
    "for number in bets:\n",
    "    if number in drawn:\n",
    "        hits += 1\n",
    "\n",
    "print(hits)"
   ]
  },
  {
   "cell_type": "markdown",
   "metadata": {},
   "source": [
    "Note:\n",
    "\n",
    "- the `drawn` list stores all the drawn numbers;\n",
    "- the `bets` list stores your bets;\n",
    "- the `hits` variable counts your hits."
   ]
  },
  {
   "cell_type": "markdown",
   "metadata": {},
   "source": [
    "### 3.1.6.9 LAB: Operating with lists - basics"
   ]
  },
  {
   "cell_type": "markdown",
   "metadata": {},
   "source": [
    "**Scenario**\n",
    "- Imagine a list - not very long, not very complicated, just a simple list containing some integer numbers. Some of these numbers may be repeated, and this is the clue. We don't want any repetitions. We want them to be removed.\n",
    "\n",
    "- Your task is to write a program which removes all the number repetitions from the list. The goal is to have a list in which all the numbers appear not more than once.\n",
    "\n",
    "- Note: assume that the source list is hard-coded inside the code - you don't have to enter it from the keyboard. Of course, you can improve the code and add a part that can carry out a conversation with the user and obtain all the data from her/him.\n",
    "\n",
    "- Hint: we encourage you to create a new list as a temporary work area - you don't need to update the list in situ."
   ]
  },
  {
   "cell_type": "code",
   "execution_count": 1,
   "metadata": {},
   "outputs": [
    {
     "name": "stdout",
     "output_type": "stream",
     "text": [
      "The list with unique elements only:\n",
      "[1, 2, 4, 6, 9]\n"
     ]
    }
   ],
   "source": [
    "myList = [1, 2, 4, 4, 1, 4, 2, 6, 2, 9]\n",
    "temp = []\n",
    "for number in myList:\n",
    "    if number not in temp:\n",
    "        temp.append(number)\n",
    "\n",
    "myList = temp\n",
    "\n",
    "print(\"The list with unique elements only:\")\n",
    "print(myList)"
   ]
  },
  {
   "cell_type": "markdown",
   "metadata": {},
   "source": [
    "refer to : [Stack Overflow: Removing duplicates in the lists](https://stackoverflow.com/questions/7961363/removing-duplicates-in-the-lists/7961390#7961390)"
   ]
  },
  {
   "cell_type": "code",
   "execution_count": 2,
   "metadata": {},
   "outputs": [
    {
     "name": "stdout",
     "output_type": "stream",
     "text": [
      "The list with unique elements only:\n",
      "[1, 2, 4, 6, 9]\n"
     ]
    }
   ],
   "source": [
    "myList = [1, 2, 4, 4, 1, 4, 2, 6, 2, 9]\n",
    "\n",
    "print(\"The list with unique elements only:\")\n",
    "\n",
    "#set is unordered, be careful\n",
    "myList = list(set(myList))\n",
    "print(myList)"
   ]
  },
  {
   "cell_type": "code",
   "execution_count": 5,
   "metadata": {},
   "outputs": [
    {
     "name": "stdout",
     "output_type": "stream",
     "text": [
      "The list with unique elements only:\n",
      "[1, 2, 4, 6, 9]\n"
     ]
    }
   ],
   "source": [
    "from collections import OrderedDict\n",
    "myList = [1, 2, 4, 4, 1, 4, 2, 6, 2, 9]\n",
    "\n",
    "print(\"The list with unique elements only:\")\n",
    "\n",
    "# in order to maintain the order, we can use OrderedDict, \n",
    "# but there are some disadvantages, eg. consuming much operations\n",
    "myList = list(OrderedDict.fromkeys(myList))\n",
    "print(myList)\n"
   ]
  },
  {
   "cell_type": "markdown",
   "metadata": {},
   "source": [
    "Exercise 1:"
   ]
  },
  {
   "cell_type": "code",
   "execution_count": 6,
   "metadata": {},
   "outputs": [
    {
     "name": "stdout",
     "output_type": "stream",
     "text": [
      "['B', 'C']\n"
     ]
    }
   ],
   "source": [
    "l1 = [\"A\", \"B\", \"C\"]\n",
    "l2 = l1\n",
    "l3 = l2\n",
    "\n",
    "del l1[0]\n",
    "del l2\n",
    "\n",
    "print(l3)"
   ]
  },
  {
   "cell_type": "markdown",
   "metadata": {},
   "source": [
    "Exercise 2:"
   ]
  },
  {
   "cell_type": "code",
   "execution_count": 7,
   "metadata": {},
   "outputs": [
    {
     "name": "stdout",
     "output_type": "stream",
     "text": [
      "[]\n"
     ]
    }
   ],
   "source": [
    "l1 = [\"A\", \"B\", \"C\"]\n",
    "l2 = l1\n",
    "l3 = l2\n",
    "\n",
    "del l1[0]\n",
    "del l2[:]\n",
    "\n",
    "print(l3)"
   ]
  },
  {
   "cell_type": "markdown",
   "metadata": {},
   "source": [
    "Exeercise 3:"
   ]
  },
  {
   "cell_type": "code",
   "execution_count": 8,
   "metadata": {},
   "outputs": [
    {
     "name": "stdout",
     "output_type": "stream",
     "text": [
      "['A', 'B', 'C']\n"
     ]
    }
   ],
   "source": [
    "l1 = [\"A\", \"B\", \"C\"]\n",
    "l2 = l1[:]\n",
    "l3 = l2[:]\n",
    "\n",
    "del l1[0]\n",
    "del l2[0]\n",
    "\n",
    "print(l3)"
   ]
  },
  {
   "cell_type": "markdown",
   "metadata": {},
   "source": [
    "---"
   ]
  },
  {
   "cell_type": "markdown",
   "metadata": {},
   "source": [
    "### 3.1.7.1 Lists in advanced applications"
   ]
  },
  {
   "cell_type": "markdown",
   "metadata": {},
   "source": [
    "#### Lists in lists"
   ]
  },
  {
   "cell_type": "markdown",
   "metadata": {},
   "source": [
    "- A list comprehension is actually a list, but **created on-the-fly during program execution, and is not described statically**."
   ]
  },
  {
   "cell_type": "code",
   "execution_count": null,
   "metadata": {},
   "outputs": [],
   "source": [
    "row = [WHITE_PAWN for i in range(8)]"
   ]
  },
  {
   "cell_type": "markdown",
   "metadata": {},
   "source": [
    "Note:\n",
    "- assume that `WHITE_PAWN` is a predefined symbol representing a white pawn\n",
    "- the data to be used to fill the list (`WHITE_PAWN`)\n",
    "- the clause specifying how many times the data occurs inside the list (`for i in range(8)`)"
   ]
  },
  {
   "cell_type": "markdown",
   "metadata": {},
   "source": [
    "Let us show you some other list comprehension examples:"
   ]
  },
  {
   "cell_type": "markdown",
   "metadata": {},
   "source": [
    "Example 1:"
   ]
  },
  {
   "cell_type": "code",
   "execution_count": 10,
   "metadata": {},
   "outputs": [
    {
     "name": "stdout",
     "output_type": "stream",
     "text": [
      "[0, 1, 4, 9, 16, 25, 36, 49, 64, 81]\n"
     ]
    }
   ],
   "source": [
    "squares = [x ** 2 for x in range(10)]\n",
    "print(squares)"
   ]
  },
  {
   "cell_type": "markdown",
   "metadata": {},
   "source": [
    "Example 2:"
   ]
  },
  {
   "cell_type": "code",
   "execution_count": 11,
   "metadata": {},
   "outputs": [
    {
     "name": "stdout",
     "output_type": "stream",
     "text": [
      "[1, 2, 4, 8, 16, 32, 64, 128]\n"
     ]
    }
   ],
   "source": [
    "twos = [2**i for i in range(8)]\n",
    "print(twos)"
   ]
  },
  {
   "cell_type": "markdown",
   "metadata": {},
   "source": [
    "Example 3:"
   ]
  },
  {
   "cell_type": "code",
   "execution_count": 12,
   "metadata": {},
   "outputs": [
    {
     "name": "stdout",
     "output_type": "stream",
     "text": [
      "[1, 9, 25, 49, 81]\n"
     ]
    }
   ],
   "source": [
    "odds = [x for x in squares if x % 2 != 0]\n",
    "print(odds)"
   ]
  },
  {
   "cell_type": "markdown",
   "metadata": {},
   "source": [
    "---"
   ]
  },
  {
   "cell_type": "markdown",
   "metadata": {},
   "source": [
    "### 3.1.7.2 Lists in advanced applications | Arrays"
   ]
  },
  {
   "cell_type": "markdown",
   "metadata": {},
   "source": [
    "- **Two-dimensional array**. It's also called, by analogy to algebraic terms, a **matrix**."
   ]
  },
  {
   "cell_type": "code",
   "execution_count": null,
   "metadata": {},
   "outputs": [],
   "source": [
    "board = []\n",
    "\n",
    "for i in range(8):\n",
    "    row = [EMPTY for i in range(8)]\n",
    "    board.append(row)"
   ]
  },
  {
   "cell_type": "markdown",
   "metadata": {},
   "source": [
    "Note:\n",
    "- Let's also assume that a predefined symbol named `EMPTY` designates an empty field on the chessboard\n",
    "- the board list consists of 64 elements (all equal to `EMPTY`)"
   ]
  },
  {
   "cell_type": "markdown",
   "metadata": {},
   "source": [
    "As list comprehensions can be `nested`, we can shorten the board creation in the following way:"
   ]
  },
  {
   "cell_type": "code",
   "execution_count": null,
   "metadata": {},
   "outputs": [],
   "source": [
    "board = [[EMPTY for i in range(8)] for j in range(8)]"
   ]
  },
  {
   "cell_type": "markdown",
   "metadata": {},
   "source": [
    "#### Three-dimensional arrays"
   ]
  },
  {
   "cell_type": "markdown",
   "metadata": {},
   "source": [
    "- Imagine a hotel. It's a huge hotel consisting of three buildings, 15 floors each. There are 20 rooms on each floor. For this, you need an array which can collect and process information on the occupied/free rooms.\n",
    "\n",
    "- First step - the type of the array's elements. In this case, a Boolean value (`True/False`) would fit.\n",
    "\n",
    "- Step two - calm analysis of the situation. Summarize the available information: three buildings, 15 floors, 20 rooms.\n",
    "\n",
    "- Now you can create the array:"
   ]
  },
  {
   "cell_type": "code",
   "execution_count": 1,
   "metadata": {},
   "outputs": [],
   "source": [
    "rooms = [[[False for r in range(20)] for f in range(15)] for t in range(3)]"
   ]
  },
  {
   "cell_type": "markdown",
   "metadata": {},
   "source": [
    "- Now you can book a room for two newlyweds: in the second building, on the tenth floor, room 14:"
   ]
  },
  {
   "cell_type": "code",
   "execution_count": null,
   "metadata": {},
   "outputs": [],
   "source": [
    "rooms[1][9][13] = True"
   ]
  },
  {
   "cell_type": "markdown",
   "metadata": {},
   "source": [
    "- and release the second room on the fifth floor located in the first building:"
   ]
  },
  {
   "cell_type": "code",
   "execution_count": null,
   "metadata": {},
   "outputs": [],
   "source": [
    "rooms[0][4][1] = False"
   ]
  },
  {
   "cell_type": "markdown",
   "metadata": {},
   "source": [
    "- Check if there are any vacancies on the 15th floor of the third building:"
   ]
  },
  {
   "cell_type": "code",
   "execution_count": null,
   "metadata": {},
   "outputs": [],
   "source": [
    "vacancy = 0\n",
    "\n",
    "for roomNumber in range(20):\n",
    "    if not rooms[2][14][roomNumber]:\n",
    "        vacancy += 1"
   ]
  },
  {
   "cell_type": "markdown",
   "metadata": {},
   "source": [
    "---"
   ]
  },
  {
   "cell_type": "markdown",
   "metadata": {},
   "source": [
    "### 3.1.7.6 SECTION SUMMARY"
   ]
  },
  {
   "cell_type": "markdown",
   "metadata": {},
   "source": [
    "- **List comprehension** allows you to create new lists from existing ones in a concise and elegant way. The syntax of a list comprehension looks as follows:"
   ]
  },
  {
   "cell_type": "code",
   "execution_count": null,
   "metadata": {},
   "outputs": [],
   "source": [
    "[expression for element in list if conditional]"
   ]
  },
  {
   "cell_type": "markdown",
   "metadata": {},
   "source": [
    "## Programming Essentials in Python: Module 4"
   ]
  },
  {
   "cell_type": "markdown",
   "metadata": {},
   "source": [
    "### 4.1.1.2 Functions"
   ]
  },
  {
   "cell_type": "markdown",
   "metadata": {},
   "source": [
    "- ome say that a **well-written function should be viewed entirely in one glance.**\n",
    "- A good and attentive developer **divides the code** (or more accurately: the problem) into well-isolated pieces, and **encodes each of them in the form of a function.**\n",
    "- This considerably simplifies the work of the program, because each piece of code can be encoded separately, and tested separately. The process described here is often called **decomposition**.\n",
    "- **if a piece of code becomes so large that reading and understating it may cause a problem, consider dividing it into separate, smaller problems, and implement each of them in the form of a separate function.**"
   ]
  },
  {
   "cell_type": "markdown",
   "metadata": {},
   "source": [
    "### 4.1.1.3 Functions"
   ]
  },
  {
   "cell_type": "markdown",
   "metadata": {},
   "source": [
    "- It seems inconceivable that more than one programmer should write the same piece of code at the same time, so the job has to be dispersed among all the team members.\n",
    "\n",
    "- This kind of decomposition has a different purpose to the one described previously - it's not only about **sharing the work**, but also about **sharing the responsibility** among many developers.\n",
    "\n",
    "- Each of them writes a clearly defined and described set of functions, which when **combined into the module** will give the final product."
   ]
  },
  {
   "cell_type": "markdown",
   "metadata": {},
   "source": [
    "- This leads us directly to the third condition: if you're going to divide the work among multiple programmers, **decompose the problem to allow the product to be implemented as a set of separately written functions packed together in different modules**."
   ]
  },
  {
   "cell_type": "markdown",
   "metadata": {},
   "source": [
    "#### Where do the functions come from?"
   ]
  },
  {
   "cell_type": "markdown",
   "metadata": {},
   "source": [
    "In general, functions come from at least three places:"
   ]
  },
  {
   "cell_type": "markdown",
   "metadata": {},
   "source": [
    "- from Python itself - numerous functions (like `print()`) are an integral part of Python, and are always available without any additional effort on behalf of the programmer; we call these functions **built-in functions**;\n",
    "- from Python's **preinstalled modules** - a lot of functions, very useful ones, but used significantly less often than built-in ones, are available in a number of modules installed together with Python; the use of these functions requires some additional steps from the programmer in order to make them fully accessible (we'll tell you about this in a while);\n",
    "- **directly from your code** - you can write your own functions, place them inside your code, and use them freely;\n",
    "- there is one other possibility, but it's connected with classes"
   ]
  },
  {
   "cell_type": "markdown",
   "metadata": {},
   "source": [
    "#### 4.1.1.4 Writing functions"
   ]
  },
  {
   "cell_type": "markdown",
   "metadata": {},
   "source": [
    "- transforming a repeating part of a code into a function.\n",
    "- change made once in one place would be propagated to all the places where it's used."
   ]
  },
  {
   "cell_type": "markdown",
   "metadata": {},
   "source": [
    "Example: "
   ]
  },
  {
   "cell_type": "code",
   "execution_count": null,
   "metadata": {},
   "outputs": [],
   "source": [
    "def message():\n",
    "    print(\"Enter a value: \")\n",
    "\n",
    "print(\"We start here.\")\n",
    "message()\n",
    "print(\"We end here.\")"
   ]
  },
  {
   "cell_type": "markdown",
   "metadata": {},
   "source": [
    "#### How functions work"
   ]
  },
  {
   "cell_type": "markdown",
   "metadata": {},
   "source": [
    "![](./images/2_howfunwork.png)"
   ]
  },
  {
   "cell_type": "markdown",
   "metadata": {},
   "source": [
    "- You mustn't invoke a function which is not known at the moment of invocation.\n",
    "\n",
    "- Remember - Python reads your code from top to bottom. It's not going to look ahead in order to find a function you forgot to put in the right place (\"right\" means \"before invocation\".)"
   ]
  },
  {
   "cell_type": "markdown",
   "metadata": {},
   "source": [
    "- You mustn't have a function and a variable of the same name.\n",
    "- The following snippet is **erroneous**:"
   ]
  },
  {
   "cell_type": "code",
   "execution_count": null,
   "metadata": {},
   "outputs": [],
   "source": [
    "def message():\n",
    "    print(\"Enter a value: \")\n",
    "\n",
    "message = 1"
   ]
  },
  {
   "cell_type": "markdown",
   "metadata": {},
   "source": [
    "---"
   ]
  },
  {
   "cell_type": "markdown",
   "metadata": {},
   "source": [
    "### 4.1.1.7 SECTION SUMMARY"
   ]
  },
  {
   "cell_type": "markdown",
   "metadata": {},
   "source": [
    "There are at least four basic types of functions in Python:\n",
    "- **built-in functions** which are an integral part of Python (such as the `print()` function). You can see a complete list of Python built-in functions at [python.org](https://docs.python.org/3/library/functions.html).\n",
    "- the ones that come from **pre-installed modules** \n",
    "- **user-defined functions** which are written by users for users - you can write your own functions and use them freely in your code,\n",
    "- the `lambda` functions"
   ]
  },
  {
   "cell_type": "markdown",
   "metadata": {},
   "source": [
    "---"
   ]
  },
  {
   "cell_type": "markdown",
   "metadata": {},
   "source": [
    "### 4.1.2.1 How functions communicate with their environment"
   ]
  },
  {
   "cell_type": "markdown",
   "metadata": {},
   "source": [
    "#### Parametrized functions"
   ]
  },
  {
   "cell_type": "markdown",
   "metadata": {},
   "source": [
    "A parameter is actually a variable, but there are two important factors that make parameters different and special:\n",
    "\n",
    "- **parameters exist only inside functions in which they have been defined**, and the only place where the parameter can be defined is a space between a pair of parentheses in the def statement;\n",
    "- **assigning a value to the parameter is done at the time of the function's invocation**, by specifying the corresponding argument."
   ]
  },
  {
   "cell_type": "markdown",
   "metadata": {},
   "source": [
    "Don't forget:\n",
    "- **parameters live inside functions** (this is their natural environment)\n",
    "- **arguments exist outside functions**, and are carriers of values passed to corresponding parameters.\n",
    "- **specifying one or more parameters in a function's definition** is also a requirement, and you have to fulfil it during invocation. You must **provide as many arguments as there are defined parameters**."
   ]
  },
  {
   "cell_type": "code",
   "execution_count": null,
   "metadata": {},
   "outputs": [],
   "source": [
    "def function(parameter):\n",
    "    ###"
   ]
  },
  {
   "cell_type": "markdown",
   "metadata": {},
   "source": [
    "It's legal, and possible, to have a **variable named the same as a function's parameter**."
   ]
  },
  {
   "cell_type": "code",
   "execution_count": 2,
   "metadata": {},
   "outputs": [
    {
     "name": "stdout",
     "output_type": "stream",
     "text": [
      "Enter a number: 1\n",
      "1234\n"
     ]
    }
   ],
   "source": [
    "def message(number):\n",
    "    print(\"Enter a number:\", number)\n",
    "\n",
    "number = 1234\n",
    "message(1)\n",
    "print(number)"
   ]
  },
  {
   "cell_type": "markdown",
   "metadata": {},
   "source": [
    "- A situation like this activates a mechanism called shadowing\n",
    "- **The parameter named** `number` **is a completely different entity from the variable named** `number`."
   ]
  },
  {
   "cell_type": "markdown",
   "metadata": {},
   "source": [
    "#### Positional parameter passing"
   ]
  },
  {
   "cell_type": "markdown",
   "metadata": {},
   "source": [
    "A technique which assigns the i<sup>th</sup> (first, second, and so on) argument to the i<sup>th</sup> (first, second, and so on) function parameter is called **positional parameter passing**, while arguments passed in this way are named **positional arguments**."
   ]
  },
  {
   "cell_type": "code",
   "execution_count": null,
   "metadata": {},
   "outputs": [],
   "source": [
    "def myFunction(a, b, c):\n",
    "    print(a, b, c)\n",
    "\n",
    "myFunction(1, 2, 3)"
   ]
  },
  {
   "cell_type": "markdown",
   "metadata": {},
   "source": [
    "#### Keyword argument passing"
   ]
  },
  {
   "cell_type": "markdown",
   "metadata": {},
   "source": [
    "- Python offers another convention for passing arguments, where **the meaning of the argument is dictated by its name**, not by its position - it's called **keyword argument passing**.\n",
    "- The position doesn't matter here - each argument's value knows its destination on the basis of the name used."
   ]
  },
  {
   "cell_type": "code",
   "execution_count": null,
   "metadata": {},
   "outputs": [],
   "source": [
    "def introduction(firstName, lastName):\n",
    "    print(\"Hello, my name is\", firstName, lastName)\n",
    "\n",
    "introduction(firstName = \"James\", lastName = \"Bond\")\n",
    "introduction(lastName = \"Skywalker\", firstName = \"Luke\")"
   ]
  },
  {
   "cell_type": "markdown",
   "metadata": {},
   "source": [
    "#### Mixing positional and keyword arguments"
   ]
  },
  {
   "cell_type": "code",
   "execution_count": 1,
   "metadata": {},
   "outputs": [
    {
     "name": "stdout",
     "output_type": "stream",
     "text": [
      "3 + 2 + 1 = 6\n"
     ]
    }
   ],
   "source": [
    "def adding(a, b, c):\n",
    "    print(a, \"+\", b, \"+\", c, \"=\", a + b + c)\n",
    "    \n",
    "adding(3, c = 1, b = 2)"
   ]
  },
  {
   "cell_type": "markdown",
   "metadata": {},
   "source": [
    "- Be careful, and beware of mistakes. If you try to pass more than one value to one argument, all you'll get is a runtime error."
   ]
  },
  {
   "cell_type": "code",
   "execution_count": 2,
   "metadata": {},
   "outputs": [
    {
     "ename": "TypeError",
     "evalue": "adding() got multiple values for argument 'a'",
     "output_type": "error",
     "traceback": [
      "\u001b[1;31m---------------------------------------------------------------------------\u001b[0m",
      "\u001b[1;31mTypeError\u001b[0m                                 Traceback (most recent call last)",
      "\u001b[1;32m<ipython-input-2-21a8e7d19d07>\u001b[0m in \u001b[0;36m<module>\u001b[1;34m\u001b[0m\n\u001b[1;32m----> 1\u001b[1;33m \u001b[0madding\u001b[0m\u001b[1;33m(\u001b[0m\u001b[1;36m3\u001b[0m\u001b[1;33m,\u001b[0m \u001b[0ma\u001b[0m \u001b[1;33m=\u001b[0m \u001b[1;36m1\u001b[0m\u001b[1;33m,\u001b[0m \u001b[0mb\u001b[0m \u001b[1;33m=\u001b[0m \u001b[1;36m2\u001b[0m\u001b[1;33m)\u001b[0m\u001b[1;33m\u001b[0m\u001b[1;33m\u001b[0m\u001b[0m\n\u001b[0m",
      "\u001b[1;31mTypeError\u001b[0m: adding() got multiple values for argument 'a'"
     ]
    }
   ],
   "source": [
    "adding(3, a = 1, b = 2)"
   ]
  },
  {
   "cell_type": "markdown",
   "metadata": {},
   "source": [
    "#### Parametrized functions - more details"
   ]
  },
  {
   "cell_type": "markdown",
   "metadata": {},
   "source": [
    "It happens at times that a particular parameter's values are in use more often than others. Such arguments may have their **default (predefined) values** taken into consideration when their corresponding arguments have been omitted."
   ]
  },
  {
   "cell_type": "code",
   "execution_count": null,
   "metadata": {},
   "outputs": [],
   "source": [
    "def introduction(firstName, lastName=\"Smith\"):\n",
    "    print(\"Hello, my name is\", fistName, lastName)"
   ]
  },
  {
   "cell_type": "markdown",
   "metadata": {},
   "source": [
    "t's important to remember that **positional arguments mustn't follow keyword arguments**. That's why if you try to run the following snippet:"
   ]
  },
  {
   "cell_type": "code",
   "execution_count": null,
   "metadata": {},
   "outputs": [],
   "source": [
    "def subtra(a, b):\n",
    "    print(a - b)\n",
    "\n",
    "subtra(5, b=2)    # outputs: 3\n",
    "subtra(a=5, 2)    # Syntax Error"
   ]
  },
  {
   "cell_type": "markdown",
   "metadata": {},
   "source": [
    "Exercise 1:"
   ]
  },
  {
   "cell_type": "code",
   "execution_count": 3,
   "metadata": {},
   "outputs": [
    {
     "ename": "SyntaxError",
     "evalue": "non-default argument follows default argument (<ipython-input-3-7ef5b520567e>, line 1)",
     "output_type": "error",
     "traceback": [
      "\u001b[1;36m  File \u001b[1;32m\"<ipython-input-3-7ef5b520567e>\"\u001b[1;36m, line \u001b[1;32m1\u001b[0m\n\u001b[1;33m    def sum(a, b=2, c):\u001b[0m\n\u001b[1;37m           ^\u001b[0m\n\u001b[1;31mSyntaxError\u001b[0m\u001b[1;31m:\u001b[0m non-default argument follows default argument\n"
     ]
    }
   ],
   "source": [
    "def sum(a, b=2, c):\n",
    "    print(a + b + c)\n",
    "\n",
    "sum(a=1, c=3)"
   ]
  },
  {
   "cell_type": "markdown",
   "metadata": {},
   "source": [
    "#### 4.1.3.1 Returning a result from a function"
   ]
  },
  {
   "cell_type": "markdown",
   "metadata": {},
   "source": [
    "The return instruction has `two different variants` - let's consider them separately."
   ]
  },
  {
   "cell_type": "markdown",
   "metadata": {},
   "source": [
    "- return without an expression\n",
    "    - The first consists of the keyword itself, without anything following it.\n",
    "    - When used inside a function, it causes the **immediate termination of the function's execution, and an instant return (hence the name) to the point of invocation**.\n",
    "    - if a function is not intended to produce a result, **using the return instruction is not obligatory** - it will be executed implicitly at the end of the function.\n",
    "    - Anyway, you can use it to **terminate a function's activities on demand**, before the control reaches the function's last line."
   ]
  },
  {
   "cell_type": "code",
   "execution_count": 4,
   "metadata": {},
   "outputs": [
    {
     "name": "stdout",
     "output_type": "stream",
     "text": [
      "Three...\n",
      "Two...\n",
      "One...\n",
      "Happy New Year!\n",
      "Three...\n",
      "Two...\n",
      "One...\n"
     ]
    }
   ],
   "source": [
    "def happy_new_year(wishes = True):\n",
    "    print(\"Three...\")\n",
    "    print(\"Two...\")\n",
    "    print(\"One...\")\n",
    "    if not wishes:\n",
    "        return\n",
    "    \n",
    "    print(\"Happy New Year!\")\n",
    "    \n",
    "happy_new_year()\n",
    "happy_new_year(False)"
   ]
  },
  {
   "cell_type": "markdown",
   "metadata": {},
   "source": [
    "- return with an expression\n",
    "    - ```def function():\n",
    "         return expression```\n",
    "    - There are two consequences of using it:\n",
    "        - it causes the **immediate termination of the function's execution** (nothing new compared to the first variant)\n",
    "        - the function will **evaluate the expression's value and will return (hence the name once again) it as the function's result.**"
   ]
  },
  {
   "cell_type": "markdown",
   "metadata": {},
   "source": [
    "Don't forget:\n",
    "- you are always **allowed to ignore the function's result**, and be satisfied with the function's effect (if the function has any)\n",
    "- if a function is intended to return a useful result, it must contain the second variant of the return instruction."
   ]
  },
  {
   "cell_type": "markdown",
   "metadata": {},
   "source": [
    "### 4.1.3.2 Returning a result from a function"
   ]
  },
  {
   "cell_type": "markdown",
   "metadata": {},
   "source": [
    "#### A few words about `None`"
   ]
  },
  {
   "cell_type": "markdown",
   "metadata": {},
   "source": [
    "- Its data doesn't represent any reasonable value - actually, it's not a value at all; hence, it **mustn't take part in any expressions.**"
   ]
  },
  {
   "cell_type": "code",
   "execution_count": 5,
   "metadata": {},
   "outputs": [
    {
     "ename": "TypeError",
     "evalue": "unsupported operand type(s) for +: 'NoneType' and 'int'",
     "output_type": "error",
     "traceback": [
      "\u001b[1;31m---------------------------------------------------------------------------\u001b[0m",
      "\u001b[1;31mTypeError\u001b[0m                                 Traceback (most recent call last)",
      "\u001b[1;32m<ipython-input-5-14da67643a5a>\u001b[0m in \u001b[0;36m<module>\u001b[1;34m\u001b[0m\n\u001b[1;32m----> 1\u001b[1;33m \u001b[0mprint\u001b[0m\u001b[1;33m(\u001b[0m\u001b[1;32mNone\u001b[0m \u001b[1;33m+\u001b[0m \u001b[1;36m2\u001b[0m\u001b[1;33m)\u001b[0m\u001b[1;33m\u001b[0m\u001b[1;33m\u001b[0m\u001b[0m\n\u001b[0m",
      "\u001b[1;31mTypeError\u001b[0m: unsupported operand type(s) for +: 'NoneType' and 'int'"
     ]
    }
   ],
   "source": [
    "print(None + 2)"
   ]
  },
  {
   "cell_type": "markdown",
   "metadata": {},
   "source": [
    "- There are only two kinds of circumstances when None can be safely used:\n",
    "    - when you `assign it to a variable` (or return it as a `function's result`)\n",
    "    - when you `compare it with a variable` to diagnose its internal state."
   ]
  },
  {
   "cell_type": "code",
   "execution_count": 6,
   "metadata": {},
   "outputs": [
    {
     "name": "stdout",
     "output_type": "stream",
     "text": [
      "Sorry, you don't carry any value\n"
     ]
    }
   ],
   "source": [
    "value = None\n",
    "if value is None:\n",
    "   print(\"Sorry, you don't carry any value\")"
   ]
  },
  {
   "cell_type": "markdown",
   "metadata": {},
   "source": [
    "Don't forget this: if a function doesn't return a certain value using a return expression clause, it is assumed that it `implicitly returns` None."
   ]
  },
  {
   "cell_type": "code",
   "execution_count": 7,
   "metadata": {},
   "outputs": [
    {
     "name": "stdout",
     "output_type": "stream",
     "text": [
      "True\n",
      "None\n"
     ]
    }
   ],
   "source": [
    "def strangeFunction(n):\n",
    "    if(n % 2 == 0):\n",
    "        return True\n",
    "        \n",
    "print(strangeFunction(2))\n",
    "print(strangeFunction(1))"
   ]
  },
  {
   "cell_type": "markdown",
   "metadata": {},
   "source": [
    "#### Effects and results: lists and functions"
   ]
  },
  {
   "cell_type": "markdown",
   "metadata": {},
   "source": [
    "##### may a list be sent to a function as an argument?"
   ]
  },
  {
   "cell_type": "code",
   "execution_count": 8,
   "metadata": {},
   "outputs": [
    {
     "name": "stdout",
     "output_type": "stream",
     "text": [
      "12\n"
     ]
    }
   ],
   "source": [
    "def list_sum(lst):\n",
    "    s = 0\n",
    "    \n",
    "    for elem in lst:\n",
    "        s += elem\n",
    "    \n",
    "    return s\n",
    "\n",
    "print(list_sum([5, 4, 3]))"
   ]
  },
  {
   "cell_type": "markdown",
   "metadata": {},
   "source": [
    "but you should expect problems if you invoke it in this risky way:"
   ]
  },
  {
   "cell_type": "code",
   "execution_count": 9,
   "metadata": {},
   "outputs": [
    {
     "ename": "TypeError",
     "evalue": "'int' object is not iterable",
     "output_type": "error",
     "traceback": [
      "\u001b[1;31m---------------------------------------------------------------------------\u001b[0m",
      "\u001b[1;31mTypeError\u001b[0m                                 Traceback (most recent call last)",
      "\u001b[1;32m<ipython-input-9-b4a9ba0235a9>\u001b[0m in \u001b[0;36m<module>\u001b[1;34m\u001b[0m\n\u001b[1;32m----> 1\u001b[1;33m \u001b[0mprint\u001b[0m\u001b[1;33m(\u001b[0m\u001b[0mlist_sum\u001b[0m\u001b[1;33m(\u001b[0m\u001b[1;36m5\u001b[0m\u001b[1;33m)\u001b[0m\u001b[1;33m)\u001b[0m\u001b[1;33m\u001b[0m\u001b[1;33m\u001b[0m\u001b[0m\n\u001b[0m",
      "\u001b[1;32m<ipython-input-8-8a36f7d00deb>\u001b[0m in \u001b[0;36mlist_sum\u001b[1;34m(lst)\u001b[0m\n\u001b[0;32m      2\u001b[0m     \u001b[0ms\u001b[0m \u001b[1;33m=\u001b[0m \u001b[1;36m0\u001b[0m\u001b[1;33m\u001b[0m\u001b[1;33m\u001b[0m\u001b[0m\n\u001b[0;32m      3\u001b[0m \u001b[1;33m\u001b[0m\u001b[0m\n\u001b[1;32m----> 4\u001b[1;33m     \u001b[1;32mfor\u001b[0m \u001b[0melem\u001b[0m \u001b[1;32min\u001b[0m \u001b[0mlst\u001b[0m\u001b[1;33m:\u001b[0m\u001b[1;33m\u001b[0m\u001b[1;33m\u001b[0m\u001b[0m\n\u001b[0m\u001b[0;32m      5\u001b[0m         \u001b[0ms\u001b[0m \u001b[1;33m+=\u001b[0m \u001b[0melem\u001b[0m\u001b[1;33m\u001b[0m\u001b[1;33m\u001b[0m\u001b[0m\n\u001b[0;32m      6\u001b[0m \u001b[1;33m\u001b[0m\u001b[0m\n",
      "\u001b[1;31mTypeError\u001b[0m: 'int' object is not iterable"
     ]
    }
   ],
   "source": [
    "print(list_sum(5))"
   ]
  },
  {
   "cell_type": "markdown",
   "metadata": {},
   "source": [
    "This is caused by the fact that a **single integer value mustn't be iterated through by the for loop**."
   ]
  },
  {
   "cell_type": "markdown",
   "metadata": {},
   "source": [
    "##### may a list be a function result?"
   ]
  },
  {
   "cell_type": "markdown",
   "metadata": {},
   "source": [
    "Yes, of course! Any entity recognizable by Python can be a function result."
   ]
  },
  {
   "cell_type": "code",
   "execution_count": 10,
   "metadata": {},
   "outputs": [
    {
     "name": "stdout",
     "output_type": "stream",
     "text": [
      "[4, 3, 2, 1, 0]\n"
     ]
    }
   ],
   "source": [
    "def strangeListFunction(n):\n",
    "    strangeList = []\n",
    "    \n",
    "    for i in range(0, n):\n",
    "        strangeList.insert(0, i)\n",
    "    \n",
    "    return strangeList\n",
    "\n",
    "print(strangeListFunction(5))"
   ]
  },
  {
   "cell_type": "markdown",
   "metadata": {},
   "source": [
    "### 4.1.3.6 LAB: A leap year: writing your own functions"
   ]
  },
  {
   "cell_type": "markdown",
   "metadata": {},
   "source": [
    "Scenario\n",
    "- Your task is to write and test a function which takes one argument (a year) and returns True if the year is a leap year, or False otherwise."
   ]
  },
  {
   "cell_type": "markdown",
   "metadata": {},
   "source": [
    "閏年規則如下：\n",
    "\n",
    "１.不可被4整除者為平年。\n",
    "\n",
    "２.可被4整除且不為100整除者為閏年。\n",
    "\n",
    "３.可被400整除為閏年。\n",
    "\n",
    "４.可被1000整除為閏年。"
   ]
  },
  {
   "cell_type": "code",
   "execution_count": 11,
   "metadata": {},
   "outputs": [
    {
     "name": "stdout",
     "output_type": "stream",
     "text": [
      "1900 ->OK\n",
      "2000 ->OK\n",
      "2016 ->OK\n",
      "1987 ->OK\n"
     ]
    }
   ],
   "source": [
    "def isYearLeap(year):\n",
    "    if (year % 4) != 0:\n",
    "        return False\n",
    "    elif (year % 1000 == 0) or (year % 400 == 0):\n",
    "        return True\n",
    "    elif (year % 4 ==0) and (year % 100 != 0):\n",
    "        return True\n",
    "    else:\n",
    "        return False\n",
    " \n",
    "testData = [1900, 2000, 2016, 1987]\n",
    "testResults = [False, True, True, False]\n",
    "for i in range(len(testData)):\n",
    "\tyr = testData[i]\n",
    "\tprint(yr,\"->\",end=\"\")\n",
    "\tresult = isYearLeap(yr)\n",
    "\tif result == testResults[i]:\n",
    "\t\tprint(\"OK\")\n",
    "\telse:\n",
    "\t\tprint(\"Failed\")"
   ]
  },
  {
   "cell_type": "markdown",
   "metadata": {},
   "source": [
    "### 4.1.3.7 LAB: How many days: writing and using your own functions\n"
   ]
  },
  {
   "cell_type": "markdown",
   "metadata": {},
   "source": [
    "Scenario\n",
    "- Your task is to write and test a function which takes two arguments (a year and a month) and returns the number of days for the given month/year pair (while only February is sensitive to the `year` value, your function should be universal).\n",
    "\n",
    "- The initial part of the function is ready. Now, convince the function to return `None` if its arguments don't make sense."
   ]
  },
  {
   "cell_type": "code",
   "execution_count": 9,
   "metadata": {},
   "outputs": [
    {
     "name": "stdout",
     "output_type": "stream",
     "text": [
      "1900 a ->OK\n",
      "2000 2 ->OK\n",
      "2016 14 ->OK\n",
      "1987 11 ->OK\n"
     ]
    }
   ],
   "source": [
    "def isYearLeap(year):\n",
    "    if (year % 4) != 0:\n",
    "        return False\n",
    "    elif (year % 1000 == 0) or (year % 400 == 0):\n",
    "        return True\n",
    "    elif (year % 4 ==0) and (year % 100 != 0):\n",
    "        return True\n",
    "    else:\n",
    "        return False\n",
    "\n",
    "def daysInMonth(year, month):\n",
    "    if month in range(1, 13):\n",
    "        if isYearLeap(year):\n",
    "            if month == 2:\n",
    "                return 29\n",
    "            elif month in [4, 6, 9, 11]:\n",
    "                return 30\n",
    "            elif month in [1, 3, 5, 7, 8, 10, 12]:\n",
    "                return 31\n",
    "\n",
    "        else:\n",
    "            if month ==2:\n",
    "                return 28\n",
    "            elif month in [4, 6, 9, 11]:\n",
    "                return 30\n",
    "            elif month in [1, 3, 5, 7, 8, 10, 12]:\n",
    "                return 31\n",
    "        \n",
    "testYears = [1900, 2000, 2016, 1987]\n",
    "testMonths = ['a', 2, 14, 11]\n",
    "testResults = [None, 29, None, 30]\n",
    "for i in range(len(testYears)):\n",
    "    yr = testYears[i]\n",
    "    mo = testMonths[i]\n",
    "    print(yr, mo, \"->\", end=\"\")\n",
    "    result = daysInMonth(yr, mo)\n",
    "    if result == testResults[i]:\n",
    "        print(\"OK\")\n",
    "    else:\n",
    "        print(\"Failed\")"
   ]
  },
  {
   "cell_type": "markdown",
   "metadata": {},
   "source": [
    "### 4.1.3.8 LAB: Day of the year: writing and using your own functions"
   ]
  },
  {
   "cell_type": "markdown",
   "metadata": {},
   "source": [
    "Scenario\n",
    "- Your task is to write and test a function which takes three arguments (a year, a month, and a day of the month) and returns the corresponding day of the year, or returns `None` if any of the arguments is invalid."
   ]
  },
  {
   "cell_type": "code",
   "execution_count": 15,
   "metadata": {},
   "outputs": [
    {
     "name": "stdout",
     "output_type": "stream",
     "text": [
      "None\n",
      "366\n"
     ]
    }
   ],
   "source": [
    "def isYearLeap(year):\n",
    "    if (year % 4) != 0:\n",
    "        return False\n",
    "    elif (year % 1000 == 0) or (year % 400 == 0):\n",
    "        return True\n",
    "    elif (year % 4 ==0) and (year % 100 != 0):\n",
    "        return True\n",
    "    else:\n",
    "        return False\n",
    "\n",
    "def daysInMonth(year, month):\n",
    "    if month in range(1, 13):\n",
    "        if isYearLeap(year):\n",
    "            if month == 2:\n",
    "                return 29\n",
    "            elif month in [4, 6, 9, 11]:\n",
    "                return 30\n",
    "            elif month in [1, 3, 5, 7, 8, 10, 12]:\n",
    "                return 31\n",
    "\n",
    "        else:\n",
    "            if month ==2:\n",
    "                return 28\n",
    "            elif month in [4, 6, 9, 11]:\n",
    "                return 30\n",
    "            elif month in [1, 3, 5, 7, 8, 10, 12]:\n",
    "                return 31\n",
    "        \n",
    "#當年的第幾天\n",
    "def dayOfYear(year, month, day):\n",
    "    if day in range(1, 32):\n",
    "        total = 0\n",
    "        for i in range(1, month):\n",
    "            days = daysInMonth(year, i)\n",
    "            total += days\n",
    "        allDayOfTheYear = total + day   \n",
    "        return allDayOfTheYear \n",
    "        \n",
    "print(dayOfYear(1998, 1, 37))\n",
    "print(dayOfYear(2000, 12, 31))"
   ]
  },
  {
   "cell_type": "markdown",
   "metadata": {},
   "source": [
    "### 4.1.3.9 LAB: Prime numbers - how to find them"
   ]
  },
  {
   "cell_type": "markdown",
   "metadata": {},
   "source": [
    "Scenario\n",
    "\n",
    "- A natural number is prime if it is greater than 1 and has no divisors other than 1 and itself.\n",
    "- Complicated? Not at all. For example, 8 isn't a prime number, as you can divide it by 2 and 4 (we can't use divisors equal to 1 and 8, as the definition prohibits this).\n",
    "- On the other hand, 7 is a prime number, as we can't find any legal divisors for it.\n",
    "- Your task is to write a function checking whether a number is prime or not.\n",
    "- The function:\n",
    "    - is called `isPrime`;\n",
    "    - takes one argument (the value to check)\n",
    "    - returns `True` if the argument is a prime number, and `False` otherwise.\n",
    "- Hint: try to divide the argument by all subsequent values (starting from 2) and check the remainder - if it's zero, your number cannot be a prime; think carefully about when you should stop the process.\n",
    "- If you need to know the square root of any value, you can utilize the `**` operator. Remember: the square root of x is the same as x<sup>0.5</sup>"
   ]
  },
  {
   "cell_type": "code",
   "execution_count": 16,
   "metadata": {},
   "outputs": [
    {
     "name": "stdout",
     "output_type": "stream",
     "text": [
      "2 3 5 7 11 13 17 19 "
     ]
    }
   ],
   "source": [
    "def isPrime(num):\n",
    "    if num == 1 or num == 2:\n",
    "        return True\n",
    "    else:\n",
    "        for i in range(2,num):\n",
    "            if num % i ==0:\n",
    "                return False\n",
    "                break\n",
    "        return True\n",
    "\n",
    "for i in range(1, 20):\n",
    "    if isPrime(i + 1):\n",
    "        print(i + 1, end=\" \")"
   ]
  },
  {
   "cell_type": "code",
   "execution_count": null,
   "metadata": {},
   "outputs": [],
   "source": []
  },
  {
   "cell_type": "code",
   "execution_count": null,
   "metadata": {},
   "outputs": [],
   "source": []
  },
  {
   "cell_type": "code",
   "execution_count": null,
   "metadata": {},
   "outputs": [],
   "source": []
  },
  {
   "cell_type": "code",
   "execution_count": null,
   "metadata": {},
   "outputs": [],
   "source": []
  },
  {
   "cell_type": "code",
   "execution_count": null,
   "metadata": {},
   "outputs": [],
   "source": []
  },
  {
   "cell_type": "code",
   "execution_count": null,
   "metadata": {},
   "outputs": [],
   "source": []
  },
  {
   "cell_type": "code",
   "execution_count": null,
   "metadata": {},
   "outputs": [],
   "source": []
  },
  {
   "cell_type": "code",
   "execution_count": null,
   "metadata": {},
   "outputs": [],
   "source": []
  },
  {
   "cell_type": "code",
   "execution_count": null,
   "metadata": {},
   "outputs": [],
   "source": []
  },
  {
   "cell_type": "code",
   "execution_count": null,
   "metadata": {},
   "outputs": [],
   "source": []
  },
  {
   "cell_type": "code",
   "execution_count": null,
   "metadata": {},
   "outputs": [],
   "source": []
  },
  {
   "cell_type": "code",
   "execution_count": null,
   "metadata": {},
   "outputs": [],
   "source": []
  },
  {
   "cell_type": "code",
   "execution_count": null,
   "metadata": {},
   "outputs": [],
   "source": []
  },
  {
   "cell_type": "code",
   "execution_count": null,
   "metadata": {},
   "outputs": [],
   "source": []
  },
  {
   "cell_type": "code",
   "execution_count": null,
   "metadata": {},
   "outputs": [],
   "source": []
  },
  {
   "cell_type": "code",
   "execution_count": null,
   "metadata": {},
   "outputs": [],
   "source": []
  },
  {
   "cell_type": "code",
   "execution_count": null,
   "metadata": {},
   "outputs": [],
   "source": []
  },
  {
   "cell_type": "code",
   "execution_count": null,
   "metadata": {},
   "outputs": [],
   "source": []
  },
  {
   "cell_type": "code",
   "execution_count": null,
   "metadata": {},
   "outputs": [],
   "source": []
  },
  {
   "cell_type": "code",
   "execution_count": null,
   "metadata": {},
   "outputs": [],
   "source": []
  }
 ],
 "metadata": {
  "kernelspec": {
   "display_name": "Python 3",
   "language": "python",
   "name": "python3"
  },
  "language_info": {
   "codemirror_mode": {
    "name": "ipython",
    "version": 3
   },
   "file_extension": ".py",
   "mimetype": "text/x-python",
   "name": "python",
   "nbconvert_exporter": "python",
   "pygments_lexer": "ipython3",
   "version": "3.7.4"
  }
 },
 "nbformat": 4,
 "nbformat_minor": 2
}
