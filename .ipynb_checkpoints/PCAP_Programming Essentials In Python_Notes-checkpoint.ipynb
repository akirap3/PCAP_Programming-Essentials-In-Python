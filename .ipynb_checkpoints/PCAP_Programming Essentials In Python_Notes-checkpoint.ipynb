{
 "cells": [
  {
   "cell_type": "markdown",
   "metadata": {},
   "source": [
    "# PCAP: Programming Essentials In Python"
   ]
  },
  {
   "cell_type": "markdown",
   "metadata": {},
   "source": [
    "## Python Essentials - PART 1 STUDY RESOURCES"
   ]
  },
  {
   "cell_type": "markdown",
   "metadata": {},
   "source": [
    "### Module 1 - Introduction to Python and computer programming"
   ]
  },
  {
   "cell_type": "code",
   "execution_count": null,
   "metadata": {},
   "outputs": [],
   "source": []
  },
  {
   "cell_type": "code",
   "execution_count": null,
   "metadata": {},
   "outputs": [],
   "source": []
  },
  {
   "cell_type": "code",
   "execution_count": null,
   "metadata": {},
   "outputs": [],
   "source": []
  },
  {
   "cell_type": "markdown",
   "metadata": {},
   "source": [
    "---"
   ]
  },
  {
   "cell_type": "markdown",
   "metadata": {},
   "source": [
    "### 2.1.6.11 LAB: Operators and expressions"
   ]
  },
  {
   "cell_type": "markdown",
   "metadata": {},
   "source": [
    "#### Scenario\n",
    "Your task is to prepare a simple code able to evaluate the end time of a period of time, given as a number of minutes (it could be arbitrarily large). The start time is given as a pair of hours (0..23) and minutes (0..59). The result has to be printed to the console.\n",
    "\n",
    "For example, if an event starts at 12:17 and lasts 59 minutes, it will end at 13:16.\n",
    "\n",
    "Don't worry about any imperfections in your code - it's okay if it accepts an invalid time - the most important thing is that the code produce valid results for valid input data.\n",
    "\n",
    "Test your code carefully. Hint: using the % operator may be the key to success.\n",
    "\n",
    "Test Data\n",
    "Sample input:\n",
    "12\n",
    "17\n",
    "59\n",
    "\n",
    "Expected output: 13:16\n",
    "\n",
    "\n",
    "Sample input:\n",
    "23\n",
    "58\n",
    "642\n",
    "\n",
    "Expected output: 10:40\n",
    "\n",
    "\n",
    "Sample input:\n",
    "0\n",
    "1\n",
    "2939\n",
    "\n",
    "Expected output: 1:0"
   ]
  },
  {
   "cell_type": "code",
   "execution_count": null,
   "metadata": {},
   "outputs": [],
   "source": [
    "hour = int(input(\"Starting time (hours): \"))\n",
    "mins = int(input(\"Starting time (minutes): \"))\n",
    "dura = int(input(\"Event duration (minutes): \"))\n",
    "time_hour = (hour + dura//60 + (mins+ dura%60)//60)%24\n",
    "time_min = (mins+ dura%60)%60\n",
    "# put your code here\n",
    "print(\"The time is: \" + str(time_hour) + \":\" + str(time_min))"
   ]
  },
  {
   "cell_type": "code",
   "execution_count": null,
   "metadata": {},
   "outputs": [],
   "source": [
    "name = input(\"Enter your name: \")\n",
    "print(\"Hello, \" + name + \". Nice to meet you!\")\n",
    "\n",
    "print(\"\\nPress Enter to end the program.\")\n",
    "input()\n",
    "print(\"THE END.\")"
   ]
  },
  {
   "cell_type": "markdown",
   "metadata": {},
   "source": [
    "---"
   ]
  },
  {
   "cell_type": "markdown",
   "metadata": {},
   "source": [
    "### 2.1.6.12 SECTION SUMMARY"
   ]
  },
  {
   "cell_type": "markdown",
   "metadata": {},
   "source": [
    "1. The `print()` function sends data to the console, while the `input()` function gets data from the console.\n",
    "\n",
    "2. The `input()` function comes with an optional parameter: the prompt string. It allows you to write a message before the user input, e.g.:\n",
    "\n",
    "    ```\n",
    "    name = input(\"Enter your name: \")\n",
    "    print(\"Hello, \" + name + \". Nice to meet you!\")\n",
    "    ```\n",
    "\n",
    "3. When the `input()` function is called, the program's flow is stopped, the prompt symbol keeps blinking (it prompts the user to take action when the console is switched to input mode) until the user has entered an input and/or pressed the Enter key."
   ]
  },
  {
   "cell_type": "markdown",
   "metadata": {},
   "source": [
    "- Exercise 1"
   ]
  },
  {
   "cell_type": "code",
   "execution_count": null,
   "metadata": {},
   "outputs": [],
   "source": [
    "x = int(input(\"Enter a number: \")) # the user enters 2\n",
    "print(x * \"5\")"
   ]
  },
  {
   "cell_type": "markdown",
   "metadata": {},
   "source": [
    "- Answer: 55"
   ]
  },
  {
   "cell_type": "markdown",
   "metadata": {},
   "source": [
    "- Exercise 2"
   ]
  },
  {
   "cell_type": "code",
   "execution_count": null,
   "metadata": {},
   "outputs": [],
   "source": [
    "x = input(\"Enter a number: \") # the user enters 2\n",
    "print(type(x))"
   ]
  },
  {
   "cell_type": "markdown",
   "metadata": {},
   "source": [
    "- Answer: <class 'str'>"
   ]
  },
  {
   "cell_type": "markdown",
   "metadata": {},
   "source": [
    "---"
   ]
  },
  {
   "cell_type": "markdown",
   "metadata": {},
   "source": [
    "## Programming Essentials in Python: Module 3"
   ]
  },
  {
   "cell_type": "markdown",
   "metadata": {},
   "source": [
    "### In this module, you will learn about:\n",
    "\n",
    "- Boolean values;\n",
    "- if-elif-else instructions;\n",
    "- the while and for loops;\n",
    "- flow control;\n",
    "- logical and bitwise operations;\n",
    "- lists and arrays."
   ]
  },
  {
   "cell_type": "markdown",
   "metadata": {},
   "source": [
    "---"
   ]
  },
  {
   "cell_type": "markdown",
   "metadata": {},
   "source": [
    "### 3.1.1.2 Making decisions in Python"
   ]
  },
  {
   "cell_type": "markdown",
   "metadata": {},
   "source": [
    "#### Comparison: equality operator\n",
    "Don't forget this important distinction:\n",
    "\n",
    "- `=` is an **assignment operator**, e.g., `a = b` assigns `a` with the value of `b`;\n",
    "- `==` is the question are these values equal?; `a == b` **compares** `a` and `b`.\n",
    "It is a **binary operator with left-sided binding.** It needs two arguments and checks if they are equal."
   ]
  },
  {
   "cell_type": "markdown",
   "metadata": {},
   "source": [
    "#### Question #2: What is the result of the following comparison?\n",
    "`2 == 2.`\n",
    "\n",
    "This question is not as easy as the first one. Luckily, Python is able to convert the integer value into its real equivalent, and consequently, the answer is **True**."
   ]
  },
  {
   "cell_type": "markdown",
   "metadata": {},
   "source": [
    "---"
   ]
  },
  {
   "cell_type": "markdown",
   "metadata": {},
   "source": [
    "### 3.1.1.3 Making decisions in Python"
   ]
  },
  {
   "cell_type": "markdown",
   "metadata": {},
   "source": [
    "- Equality: the equal to operator `==`\n",
    "- Inequality: the not equal to operator `!=`"
   ]
  },
  {
   "cell_type": "markdown",
   "metadata": {},
   "source": [
    "---"
   ]
  },
  {
   "cell_type": "markdown",
   "metadata": {},
   "source": [
    "### 3.1.1.4 Making decisions in Python"
   ]
  },
  {
   "cell_type": "markdown",
   "metadata": {},
   "source": [
    "- `>=` (greater than or equal to) and `<=` (less than or equal to) are non-strict\n",
    "- Both of these operators (strict and non-strict), as well as the two others discussed in the next section, are binary operators with left-sided binding, and their priority is greater than that shown by `==` and `!=`."
   ]
  },
  {
   "cell_type": "markdown",
   "metadata": {},
   "source": [
    "- priority table"
   ]
  },
  {
   "cell_type": "markdown",
   "metadata": {},
   "source": [
    "\n",
    "|  Priority |  Operator |   |\n",
    "|:----------|:-----------|:---|\n",
    "|      1    |  `~`,`+`,`-`  |  unary |\n",
    "|      2    |  `**`     |   |\n",
    "|      3    |  `*`,`/`,`//`,`%` |   |\n",
    "|      4    |  `+`,`-`  | binary  |\n",
    "|      5    |  `<<`,`>>`|   |\n",
    "|      6    |   `<`, `<=`,`>`,`>=`|   |\n",
    "|      7    |   `==`, `!=`|   |\n",
    "|      8    |   `&`|   |\n",
    "|      9    |   `\\|`|   |\n",
    "|      10    |   `=`, `+=`, `-=`, `*=`, `/=`, `%=`, `&=`, `^=`, `\\|=`, `>>=`, `<<=`|   |"
   ]
  },
  {
   "cell_type": "markdown",
   "metadata": {},
   "source": [
    "#### Conditions and conditional execution"
   ]
  },
  {
   "cell_type": "markdown",
   "metadata": {},
   "source": [
    "The first form of a conditional statement, which you can see below is written very informally but figuratively:"
   ]
  },
  {
   "cell_type": "code",
   "execution_count": null,
   "metadata": {},
   "outputs": [],
   "source": [
    "if true_or_not:\n",
    "    do_this_if_true"
   ]
  },
  {
   "cell_type": "markdown",
   "metadata": {},
   "source": [
    "This conditional statement consists of the following, strictly necessary, elements in this and this order only:\n",
    "- the if keyword;\n",
    "- one or more white spaces;\n",
    "- an expression (a question or an answer) whose value will be interpreted solely in terms of True (when its value is non-zero) and False (when it is equal to zero);\n",
    "- a **colon** followed by a newline;\n",
    "- an **indented** instruction or set of instructions (at least one instruction is absolutely required); the **indentation** may be achieved in two ways - by inserting a particular number of spaces (the recommendation is to use **four spaces of indentation**), or by using the tab character; note: if there is more than one instruction in the indented part, the indentation should be the same in all lines; even though it may look the same if you use tabs mixed with spaces, it's important to make all indentations **exactly the same** - **Python 3 does not allow mixing spaces and tabs for indentation**."
   ]
  },
  {
   "cell_type": "code",
   "execution_count": null,
   "metadata": {},
   "outputs": [],
   "source": [
    "if the_weather_is_good\n",
    "    go_for_a_walk()\n",
    "elif tickets_are_available:\n",
    "    go_to_the_theater()\n",
    "elif table_is_available:\n",
    "    go_for_lunch()\n",
    "else:\n",
    "    play_chess_at_home()"
   ]
  },
  {
   "cell_type": "markdown",
   "metadata": {},
   "source": [
    "- The way to assemble subsequent if-elif-else statements is sometimes called a cascade.\n",
    "- you **mustn't use** `else` **without a preceding** `if`;\n",
    "- `else` is always the **last branch of the cascade**, regardless of whether you've used `elif` or not;\n",
    "- `else` is an **optional** part of the cascade, and may be omitted;\n",
    "- if there is an else branch in the cascade, only one of all the branches is executed;\n",
    "- if there is no else branch, it's possible that none of the available branches is executed."
   ]
  },
  {
   "cell_type": "markdown",
   "metadata": {},
   "source": [
    "#### Example: let's find the largest of three numbers."
   ]
  },
  {
   "cell_type": "code",
   "execution_count": null,
   "metadata": {},
   "outputs": [],
   "source": [
    "# read three numbers\n",
    "number1 = int(input(\"Enter the first number: \"))\n",
    "number2 = int(input(\"Enter the second number: \"))\n",
    "number3 = int(input(\"Enter the third number: \"))\n",
    "\n",
    "# We temporarily assume that the first number\n",
    "# is the largest one.\n",
    "# We will verify this soon.\n",
    "largest_number = number1\n",
    "\n",
    "# we check if the second number is larger than current largest_number\n",
    "# and update largest_number if needed\n",
    "if number2 > largest_number:\n",
    "    largest_number = number2\n",
    "\n",
    "# we check if the third number is larger than current largest_number\n",
    "# and update largest_number if needed\n",
    "if number3 > largest_number:\n",
    "    largest_number = number3\n",
    "\n",
    "# print the result\n",
    "print(\"The largest number is:\", largest_number)"
   ]
  },
  {
   "cell_type": "markdown",
   "metadata": {},
   "source": [
    "---"
   ]
  },
  {
   "cell_type": "markdown",
   "metadata": {},
   "source": [
    "### 3.1.1.13 LAB: Essentials of the if-elif-else statement"
   ]
  },
  {
   "cell_type": "markdown",
   "metadata": {},
   "source": [
    "#### Scenario\n",
    "\n",
    "As you surely know, due to some astronomical reasons, years may be leap or common. The former are 366 days long, while the latter are 365 days long.\n",
    "\n",
    "Since the introduction of the Gregorian calendar (in 1582), the following rule is used to determine the kind of year:\n",
    "\n",
    "if the year number isn't divisible by four, it's a common year;\n",
    "otherwise, if the year number isn't divisible by 100, it's a leap year;\n",
    "otherwise, if the year number isn't divisible by 400, it's a common year;\n",
    "otherwise, it's a leap year.\n",
    "Look at the code in the editor - it only reads a year number, and needs to be completed with the instructions implementing the test we've just described.\n",
    "\n",
    "The code should output one of two possible messages, which are Leap year or Common year, depending on the value entered.\n",
    "\n",
    "It would be good to verify if the entered year falls into the Gregorian era, and output a warning otherwise: Not within the Gregorian calendar period. Tip: use the != and % operators.\n",
    "\n",
    "Test your code using the data we've provided.\n",
    "\n",
    "Test Data\n",
    "Sample input: 2000\n",
    "\n",
    "Expected output: Leap year\n",
    "\n",
    "Sample input: 2015\n",
    "\n",
    "Expected output: Common year\n",
    "\n",
    "Sample input: 1999\n",
    "\n",
    "Expected output: Common year\n",
    "\n",
    "Sample input: 1996\n",
    "\n",
    "Expected output: Leap year\n",
    "\n",
    "Sample input: 1580\n",
    "\n",
    "Expected output: Not within the Gregorian calendar period"
   ]
  },
  {
   "cell_type": "code",
   "execution_count": null,
   "metadata": {},
   "outputs": [],
   "source": [
    "year = int(input(\"Enter a year: \"))\n",
    "\n",
    "if year < 1582: print(\"Not within the Gregorian calendar period\")\n",
    "elif year % 4 != 0: print(\"Common year\")\n",
    "elif year % 100 != 0: print(\"Leap year\")\n",
    "elif year % 400 != 0: print(\"Common year\")\n",
    "else: print(\"Leap year\")"
   ]
  },
  {
   "cell_type": "markdown",
   "metadata": {},
   "source": [
    "---"
   ]
  },
  {
   "cell_type": "markdown",
   "metadata": {},
   "source": [
    "### 3.1.2.1 Loops in Python | while"
   ]
  },
  {
   "cell_type": "markdown",
   "metadata": {},
   "source": [
    "##### Looping your code with while"
   ]
  },
  {
   "cell_type": "markdown",
   "metadata": {},
   "source": [
    "It is now important to remember that:\n",
    "\n",
    "- if you want to execute **more than one statement inside one** while, you must (as with if) **indent** all the instructions in the same way;\n",
    "- an instruction or set of instructions executed inside the while loop is called the **loop's body**;\n",
    "- if the condition is False (equal to zero) as early as when it is tested for the first time, the body is not executed even once (note the analogy of not having to do anything if there is nothing to do);\n",
    "- the body should be able to change the condition's value, because if the condition is True at the beginning, the body might run continuously to infinity - notice that doing a thing usually decreases the number of things to do)."
   ]
  },
  {
   "cell_type": "markdown",
   "metadata": {},
   "source": [
    "##### An infinite loop"
   ]
  },
  {
   "cell_type": "markdown",
   "metadata": {},
   "source": [
    "- to find the largest number from a large set of entered data"
   ]
  },
  {
   "cell_type": "code",
   "execution_count": null,
   "metadata": {},
   "outputs": [],
   "source": [
    "# we will store the current largest number here\n",
    "largest_number = -999999999\n",
    "\n",
    "# input the first value\n",
    "number = int(input(\"Enter a number or type -1 to stop: \"))\n",
    "\n",
    "# if the number is not equal to -1, we will continue\n",
    "while number != -1:\n",
    "    # is number larger than largest_number?\n",
    "    if number > largest_number:\n",
    "        # yes, update largest_number\n",
    "        largest_number = number\n",
    "    # input the next number\n",
    "    number = int(input(\"Enter a number or type -1 to stop: \"))\n",
    "\n",
    "# print the largest number\n",
    "print(\"The largest number is:\", largest_number)"
   ]
  },
  {
   "cell_type": "markdown",
   "metadata": {},
   "source": [
    "---"
   ]
  },
  {
   "cell_type": "markdown",
   "metadata": {},
   "source": [
    "### 3.1.2.3 LAB: Essentials of the while loop - Guess the secret number"
   ]
  },
  {
   "cell_type": "markdown",
   "metadata": {},
   "source": [
    "#### Scenario\n",
    "A junior magician has picked a secret number. He has hidden it in a variable named secret_number. He wants everyone who run his program to play the Guess the secret number game, and guess what number he has picked for them. Those who don't guess the number will be stuck in an endless loop forever! Unfortunately, he does not know how to complete the code.\n",
    "\n",
    "Your task is to help the magician complete the code in the editor in such a way so that the code:\n",
    "\n",
    "- will ask the user to enter an integer number;\n",
    "- will use a `while` loop;\n",
    "- will check whether the number entered by the user is the same as the number picked by the magician. If the number chosen by the user is different than the magician's secret number, the user should see the message `\"Ha ha! You're stuck in my loop!\"` and be prompted to enter a number again. If the number entered by the user matches the number picked by the magician, the number should be printed to the screen, and the magician should say the following words: `\"Well done, muggle! You are free now.\"`"
   ]
  },
  {
   "cell_type": "markdown",
   "metadata": {},
   "source": [
    "#### Example 1:"
   ]
  },
  {
   "cell_type": "code",
   "execution_count": null,
   "metadata": {},
   "outputs": [],
   "source": [
    "print(\n",
    "\"\"\"\n",
    "+================================+\n",
    "| Welcome to my game, muggle!    |\n",
    "| Enter an integer number        |\n",
    "| and guess what number I've     |\n",
    "| picked for you.                |\n",
    "| So, what is the secret number? |\n",
    "+================================+\n",
    "\"\"\")\n",
    "\n",
    "secret_number = 777\n",
    "guess_number = int(input(\"Enter a number: \"))\n",
    "\n",
    "while guess_number != secret_number:\n",
    "    print(\"Ha ha! You're stuck in my loop!\")\n",
    "    guess_number = int(input(\"Enter a number: \"))\n",
    "        \n",
    "print(\"Well done, muggle! You are free now.\")"
   ]
  },
  {
   "cell_type": "markdown",
   "metadata": {},
   "source": [
    "#### Example 2:"
   ]
  },
  {
   "cell_type": "code",
   "execution_count": null,
   "metadata": {},
   "outputs": [],
   "source": [
    "secret_number = 777\n",
    "guess_number = int(input(\"Enter a number: \"))\n",
    "\n",
    "while True:\n",
    "    if guess_number == secret_number:\n",
    "        print(\"Well done, muggle! You are free now.\")\n",
    "        break\n",
    "    else:\n",
    "        print(\"Ha ha! You're stuck in my loop!\")\n",
    "        guess_number = int(input(\"Enter a number: \"))"
   ]
  },
  {
   "cell_type": "markdown",
   "metadata": {},
   "source": [
    "---"
   ]
  },
  {
   "cell_type": "markdown",
   "metadata": {},
   "source": [
    "### 3.1.2.4 Loops in Python | for"
   ]
  },
  {
   "cell_type": "markdown",
   "metadata": {},
   "source": [
    "#### Looping your code with for"
   ]
  },
  {
   "cell_type": "code",
   "execution_count": null,
   "metadata": {},
   "outputs": [],
   "source": [
    "for i in range(10):\n",
    "    print(\"The value of i is currently\", i)"
   ]
  },
  {
   "cell_type": "markdown",
   "metadata": {},
   "source": [
    "Note:\n",
    "\n",
    "- the loop has been executed ten times (it's the `range()` function's argument)\n",
    "- the last control variable's value is `9` (not `10`, as **it starts from** `0`, not from `1`)"
   ]
  },
  {
   "cell_type": "code",
   "execution_count": null,
   "metadata": {},
   "outputs": [],
   "source": [
    "for i in range(2, 8):\n",
    "    print(\"The value of i is currently\", i)"
   ]
  },
  {
   "cell_type": "markdown",
   "metadata": {},
   "source": [
    "Note:\n",
    "- The first value shown is `2` (taken from the `range()`'s first argument.)\n",
    "- The last is `7` (although the `range()`'s second argument is `8`)."
   ]
  },
  {
   "cell_type": "markdown",
   "metadata": {},
   "source": [
    "#### More about the for loop and the range() function with three arguments"
   ]
  },
  {
   "cell_type": "code",
   "execution_count": null,
   "metadata": {},
   "outputs": [],
   "source": [
    "for i in range(2, 8, 3):\n",
    "    print(\"The value of i is currently\", i)"
   ]
  },
  {
   "cell_type": "markdown",
   "metadata": {},
   "source": [
    "Note: if the set generated by the `range()` function is empty, the loop won't execute its body at all.\n",
    "Just like here - there will be no output:"
   ]
  },
  {
   "cell_type": "code",
   "execution_count": null,
   "metadata": {},
   "outputs": [],
   "source": [
    "for i in range(1, 1):\n",
    "    print(\"The value of i is currently\", i)"
   ]
  },
  {
   "cell_type": "markdown",
   "metadata": {},
   "source": [
    "Note: the set generated by the range() has to be sorted in ascending order. There's no way to force the range() to create a set in a different form. This means that the range()'s second argument must be greater than the first."
   ]
  },
  {
   "cell_type": "markdown",
   "metadata": {},
   "source": [
    "Thus, there will be no output here, either:"
   ]
  },
  {
   "cell_type": "code",
   "execution_count": null,
   "metadata": {},
   "outputs": [],
   "source": [
    "for i in range(2, 1):\n",
    "    print(\"The value of i is currently\", i)"
   ]
  },
  {
   "cell_type": "markdown",
   "metadata": {},
   "source": [
    "Let's have a look at a short program whose task is to write some of the first powers of two:"
   ]
  },
  {
   "cell_type": "code",
   "execution_count": null,
   "metadata": {},
   "outputs": [],
   "source": [
    "pow = 1\n",
    "for exp in range(16):\n",
    "    print(\"2 to the power of\", exp, \"is\", pow)\n",
    "    pow *= 2"
   ]
  },
  {
   "cell_type": "markdown",
   "metadata": {},
   "source": [
    "---"
   ]
  },
  {
   "cell_type": "markdown",
   "metadata": {},
   "source": [
    "### 3.1.2.7 Loop control in Python | break and continue"
   ]
  },
  {
   "cell_type": "markdown",
   "metadata": {},
   "source": [
    "#### The break and continue statements"
   ]
  },
  {
   "cell_type": "markdown",
   "metadata": {},
   "source": [
    "as developer, you could be faced with the following choices:\n",
    "\n",
    "- it appears that it's unnecessary to continue the loop as a whole; you should refrain from further execution of the loop's body and go further;\n",
    "- it appears that you need to start the next turn of the loop without completing the execution of the current turn."
   ]
  },
  {
   "cell_type": "markdown",
   "metadata": {},
   "source": [
    "Python provides two special instructions for the implementation of both these tasks. Let's say for the sake of accuracy that their existence in the language is not necessary - an experienced programmer is able to code any algorithm without these instructions. Such additions, which don't improve the language's expressive power, but only simplify the developer's work, are sometimes called **syntactic candy**, or syntactic sugar."
   ]
  },
  {
   "cell_type": "markdown",
   "metadata": {},
   "source": [
    "- `break` - exits the loop immediately, and unconditionally ends the loop's operation; the program begins to execute the nearest instruction after the loop's body;\n",
    "- `continue` - behaves as if the program has suddenly reached the end of the body; the next turn is started and the condition expression is tested immediately."
   ]
  },
  {
   "cell_type": "markdown",
   "metadata": {},
   "source": [
    "---"
   ]
  },
  {
   "cell_type": "markdown",
   "metadata": {},
   "source": [
    "### 3.1.2.10 LAB: The continue statement - the Ugly Vowel Eater\n"
   ]
  },
  {
   "cell_type": "markdown",
   "metadata": {},
   "source": [
    "#### Scenario\n",
    "The `continue` statement is used to skip the current block and move ahead to the next iteration, without executing the statements inside the loop.\n",
    "\n",
    "It can be used with both the while and for loops.\n",
    "\n",
    "Your task here is very special: you must design a vowel eater! Write a program that uses:\n",
    "\n",
    "- a `for` loop;\n",
    "- the concept of conditional execution (if-elif-else)\n",
    "- the `continue` statement.\n",
    "\n",
    "Your program must:\n",
    "\n",
    "- ask the user to enter a word;\n",
    "- use `userWord = userWord.upper()` to convert the word entered by the user to upper case; we'll talk about the so-called string methods and the `upper()` method very soon - don't worry;\n",
    "- use conditional execution and the `continue` statement to \"eat\" the following vowels A, E, I, O, U from the inputted word;\n",
    "- print the uneaten letters to the screen, each one of them on a separate line.\n",
    "Test your program with the data we've provided for you.\n",
    "\n",
    "\n",
    "Test data\n",
    "Sample input: `Gregory`\n",
    "\n",
    "Expected output:\n",
    "```\n",
    "G\n",
    "R\n",
    "G\n",
    "R\n",
    "Y\n",
    "```"
   ]
  },
  {
   "cell_type": "code",
   "execution_count": null,
   "metadata": {},
   "outputs": [],
   "source": [
    "userWord = input(\"Enter a word: \").upper()\n",
    "for letter in userWord:\n",
    "    if letter == 'A' :\n",
    "        continue\n",
    "    elif letter == 'E':\n",
    "        continue\n",
    "    elif letter == 'I':\n",
    "        continue\n",
    "    elif letter == 'O':\n",
    "        continue\n",
    "    elif letter == 'U':\n",
    "        continue\n",
    "    else:\n",
    "        print(letter)"
   ]
  },
  {
   "cell_type": "markdown",
   "metadata": {},
   "source": [
    "#### redesign the (ugly) vowel eater from the previous lab"
   ]
  },
  {
   "cell_type": "code",
   "execution_count": null,
   "metadata": {},
   "outputs": [],
   "source": [
    "wordWithoutVovels = \"\"\n",
    "\n",
    "userWord = input(\"Enter a word: \").upper()\n",
    "\n",
    "for letter in userWord:\n",
    "    if letter == 'A' :\n",
    "        continue\n",
    "    elif letter == 'E':\n",
    "        continue\n",
    "    elif letter == 'I':\n",
    "        continue\n",
    "    elif letter == 'O':\n",
    "        continue\n",
    "    elif letter == 'U':\n",
    "        continue\n",
    "    else:\n",
    "        wordWithoutVovels += letter\n",
    "\n",
    "print(wordWithoutVovels)"
   ]
  },
  {
   "cell_type": "markdown",
   "metadata": {},
   "source": [
    "---"
   ]
  },
  {
   "cell_type": "markdown",
   "metadata": {},
   "source": [
    "### 3.1.2.12 Python loops | else"
   ]
  },
  {
   "cell_type": "markdown",
   "metadata": {},
   "source": [
    "#### The while loop and the else branch"
   ]
  },
  {
   "cell_type": "markdown",
   "metadata": {},
   "source": [
    "- As you may have suspected, `loops may have the` **else** `branch too`, `like` **if**s.\n",
    "\n",
    "- The loop's `else` branch is **always executed once, regardless of whether the loop has entered its body or not.**"
   ]
  },
  {
   "cell_type": "code",
   "execution_count": null,
   "metadata": {},
   "outputs": [],
   "source": [
    "i = 5\n",
    "while i < 5:\n",
    "    print(i)\n",
    "    i += 1\n",
    "else:\n",
    "    print(\"else:\", i)"
   ]
  },
  {
   "cell_type": "markdown",
   "metadata": {},
   "source": [
    "---"
   ]
  },
  {
   "cell_type": "markdown",
   "metadata": {},
   "source": [
    "### 3.1.2.13 Python loops | else"
   ]
  },
  {
   "cell_type": "markdown",
   "metadata": {},
   "source": [
    "#### The for loop and the else branch"
   ]
  },
  {
   "cell_type": "code",
   "execution_count": null,
   "metadata": {},
   "outputs": [],
   "source": [
    "i = 111\n",
    "for i in range(2, 1):\n",
    "    print(i)\n",
    "else:\n",
    "    print(\"else:\", i)"
   ]
  },
  {
   "cell_type": "markdown",
   "metadata": {},
   "source": [
    "---"
   ]
  },
  {
   "cell_type": "markdown",
   "metadata": {},
   "source": [
    "### 3.1.2.14 LAB: Essentials of the while loop"
   ]
  },
  {
   "cell_type": "markdown",
   "metadata": {},
   "source": [
    "**Scenario**\n",
    "\n",
    "Listen to this story: a boy and his father, a computer programmer, are playing with wooden blocks. They are building a pyramid.\n",
    "\n",
    "Their pyramid is a bit weird, as it is actually a pyramid-shaped wall - it's flat. The pyramid is stacked according to one simple principle: each lower layer contains one block more than the layer above.\n",
    "\n",
    "The figure illustrates the rule used by the builders:\n",
    "\n",
    "![](./images/1_pyramid_height.png)\n",
    "\n",
    "Your task is to write a program which reads the number of blocks the builders have, and outputs the height of the pyramid that can be built using these blocks.\n",
    "\n",
    "Note: the height is measured by the number of **fully completed layers** - if the builders don't have a sufficient number of blocks and cannot complete the next layer, they finish their work immediately.\n",
    "\n",
    "Test your code using the data we've provided.\n",
    "\n",
    "**Test Data**\n",
    "\n",
    "Sample input: `20`\n",
    "\n",
    "Expected output: The height of the pyramid: `5`\n",
    "\n",
    "Sample input: `1000`\n",
    "\n",
    "Expected output: The height of the pyramid: `44`"
   ]
  },
  {
   "cell_type": "markdown",
   "metadata": {},
   "source": [
    "[Stackoverflow reference -- height of pyramid](https://stackoverflow.com/questions/58292099/outputting-height-of-a-pyramid-in-python)"
   ]
  },
  {
   "cell_type": "code",
   "execution_count": null,
   "metadata": {},
   "outputs": [],
   "source": [
    "blocks = int(input(\"Enter the number of blocks: \"))\n",
    "count = 1\n",
    "\n",
    "while blocks >= 1:\n",
    "    if blocks == 1:\n",
    "        height = count\n",
    "        break\n",
    "    else:\n",
    "        count += 1\n",
    "        total =0\n",
    "        for i in range(1, count+1):\n",
    "            total += i\n",
    "        if total == blocks:\n",
    "            height = count\n",
    "            break\n",
    "        elif total > blocks:\n",
    "            height = count -1\n",
    "            break\n",
    "\n",
    "print(\"The height of the pyramid:\", height)"
   ]
  },
  {
   "cell_type": "code",
   "execution_count": null,
   "metadata": {},
   "outputs": [],
   "source": []
  },
  {
   "cell_type": "markdown",
   "metadata": {},
   "source": [
    "**Scenario**\n",
    "\n",
    "In 1937, a German mathematician named Lothar Collatz formulated an intriguing hypothesis (it still remains unproven) which can be described in the following way:\n",
    "\n",
    "1. take any non-negative and non-zero integer number and name it `c0`;\n",
    "2. if it's even, evaluate a new `c0` as `c0 ÷ 2`;\n",
    "3. otherwise, if it's odd, evaluate a new `c0` as `3 × c0 + 1`;\n",
    "4. if `c0 ≠ 1`, skip to point 2.\n",
    "\n",
    "The hypothesis says that regardless of the initial value of `c0`, it will always go to 1.\n",
    "\n",
    "Of course, it's an extremely complex task to use a computer in order to prove the hypothesis for any natural number (it may even require artificial intelligence), but you can use Python to check some individual numbers. Maybe you'll even find the one which would disprove the hypothesis.\n",
    "\n",
    "\n",
    "Write a program which reads one natural number and executes the above steps as long as `c0` remains different from 1. We also want you to count the steps needed to achieve the goal. Your code should output all the intermediate values of `c0`, too.\n",
    "\n",
    "Hint: the most important part of the problem is how to transform Collatz's idea into a `while` loop - this is the key to success.\n",
    "\n",
    "Test your code using the data we've provided.\n",
    "\n",
    "**Test Data**\n",
    "\n",
    "Sample input: `16`\n",
    "\n",
    "Expected output:\n",
    "\n",
    "```\n",
    "8\n",
    "4\n",
    "2\n",
    "1\n",
    "steps = 4\n",
    "```"
   ]
  },
  {
   "cell_type": "code",
   "execution_count": null,
   "metadata": {},
   "outputs": [],
   "source": [
    "c0 = int(input(\"Enter a natural number: \"))\n",
    "count = 0\n",
    "while c0 > 0:\n",
    "    if c0 == 1:\n",
    "        if count ==0:\n",
    "            count += 1\n",
    "        break\n",
    "    if c0%2 == 0:\n",
    "        c0 = c0/2\n",
    "        print(int(c0))\n",
    "    else: \n",
    "        c0 = 3*c0 + 1\n",
    "        print(int(c0))\n",
    "    count += 1\n",
    "    \n",
    "print(\"steps =\", str(count))"
   ]
  },
  {
   "cell_type": "markdown",
   "metadata": {},
   "source": [
    "---"
   ]
  },
  {
   "cell_type": "markdown",
   "metadata": {},
   "source": [
    "### 3.1.2.16 SECTION SUMMARY"
   ]
  },
  {
   "cell_type": "markdown",
   "metadata": {},
   "source": [
    "1. There are two types of loops in Python: `while` and `for`:"
   ]
  },
  {
   "cell_type": "markdown",
   "metadata": {},
   "source": [
    "- the `while` loop executes a statement or a set of statements as long as a specified boolean condition is true, e.g.:"
   ]
  },
  {
   "cell_type": "code",
   "execution_count": null,
   "metadata": {},
   "outputs": [],
   "source": [
    "# Example 1\n",
    "while True:\n",
    "    print(\"Stuck in an infinite loop.\")\n",
    "\n",
    "# Example 2\n",
    "counter = 5\n",
    "while counter > 2:\n",
    "    print(counter)\n",
    "    counter -= 1"
   ]
  },
  {
   "cell_type": "markdown",
   "metadata": {},
   "source": [
    "- the `for` loop executes a set of statements many times; it's used to iterate over a sequence (e.g., a list, a dictionary, a tuple, or a set - you will learn about them soon) or other objects that are iterable (e.g., strings). You can use the `for` loop to iterate over a sequence of numbers using the built-in `range` function. Look at the examples below:"
   ]
  },
  {
   "cell_type": "code",
   "execution_count": null,
   "metadata": {},
   "outputs": [],
   "source": [
    "# Example 1\n",
    "word = \"Python\"\n",
    "for letter in word:\n",
    "    print(letter, end=\"*\")\n",
    "\n",
    "# Example 2\n",
    "for i in range(1, 10):\n",
    "    if i % 2 == 0:\n",
    "        print(i)"
   ]
  },
  {
   "cell_type": "markdown",
   "metadata": {},
   "source": [
    "2. You can use the `break` and `continue` statements to change the flow of a loop:"
   ]
  },
  {
   "cell_type": "markdown",
   "metadata": {},
   "source": [
    "- You use `break` to exit a loop, e.g.:"
   ]
  },
  {
   "cell_type": "code",
   "execution_count": null,
   "metadata": {},
   "outputs": [],
   "source": [
    "text = \"OpenEDG Python Institute\"\n",
    "for letter in text:\n",
    "    if letter == \"P\":\n",
    "        break\n",
    "    print(letter, end=\"\")"
   ]
  },
  {
   "cell_type": "markdown",
   "metadata": {},
   "source": [
    "- You use `continue` to skip the current iteration, and continue with the next iteration, e.g.:"
   ]
  },
  {
   "cell_type": "code",
   "execution_count": null,
   "metadata": {},
   "outputs": [],
   "source": [
    "text = \"pyxpyxpyx\"\n",
    "for letter in text:\n",
    "    if letter == \"x\":\n",
    "        continue\n",
    "    print(letter, end=\"\")"
   ]
  },
  {
   "cell_type": "markdown",
   "metadata": {},
   "source": [
    "3. The `while` and `for` loops can also have an `else` clause in Python. The `else` clause executes after the loop finishes its execution as long as it has not been terminated by `break`, e.g.:"
   ]
  },
  {
   "cell_type": "code",
   "execution_count": null,
   "metadata": {},
   "outputs": [],
   "source": [
    "n = 0\n",
    "\n",
    "while n != 3:\n",
    "    print(n)\n",
    "    n += 1\n",
    "else:\n",
    "    print(n, \"else\")\n",
    "\n",
    "print()\n",
    "\n",
    "for i in range(0, 3):\n",
    "    print(i)\n",
    "else:\n",
    "    print(i, \"else\")"
   ]
  },
  {
   "cell_type": "markdown",
   "metadata": {},
   "source": [
    "4. The `range()` function generates a sequence of numbers. It accepts integers and returns range objects. The syntax of `range()` looks as follows: `range(start, stop, step)`, where:"
   ]
  },
  {
   "cell_type": "markdown",
   "metadata": {},
   "source": [
    "- `start` is an optional parameter specifying the starting number of the sequence (0 by default)\n",
    "- `stop` is an optional parameter specifying the end of the sequence generated (it is not included),\n",
    "- and `step` is an optional parameter specifying the difference between the numbers in the sequence (1 by default.)"
   ]
  },
  {
   "cell_type": "markdown",
   "metadata": {},
   "source": [
    "Example code:"
   ]
  },
  {
   "cell_type": "code",
   "execution_count": null,
   "metadata": {},
   "outputs": [],
   "source": [
    "for i in range(3):\n",
    "    print(i, end=\" \") # outputs: 0 1 2\n",
    "\n",
    "for i in range(6, 1, -2):\n",
    "    print(i, end=\" \") # outputs: 6, 4, 2"
   ]
  },
  {
   "cell_type": "markdown",
   "metadata": {},
   "source": [
    "Exercise 3:\n",
    "\n",
    "Create a program with a `for` loop and a `break` statement. The program should iterate over characters in an email address, exit the loop when it reaches the `@` symbol, and print the part before `@` on one line."
   ]
  },
  {
   "cell_type": "code",
   "execution_count": null,
   "metadata": {},
   "outputs": [],
   "source": [
    "for ch in \"john.smith@pythoninstitute.org\":\n",
    "    if ch == \"@\":\n",
    "        break\n",
    "    print(ch, end=\"\")"
   ]
  },
  {
   "cell_type": "markdown",
   "metadata": {},
   "source": [
    "Exercise 4: \n",
    "\n",
    "Create a program with a `for` loop and a `continue` statement. The program should iterate over a string of digits, replace each `0` with `x`, and print the modified string to the screen."
   ]
  },
  {
   "cell_type": "code",
   "execution_count": null,
   "metadata": {},
   "outputs": [],
   "source": [
    "for digit in \"0165031806510\":\n",
    "    if digit == \"0\":\n",
    "        print(\"x\", end=\"\")\n",
    "        continue\n",
    "    print(digit, end=\"\")"
   ]
  },
  {
   "cell_type": "markdown",
   "metadata": {},
   "source": [
    "Exercise 5:"
   ]
  },
  {
   "cell_type": "code",
   "execution_count": null,
   "metadata": {},
   "outputs": [],
   "source": [
    "n = 3\n",
    "\n",
    "while n > 0:\n",
    "    print(n + 1)\n",
    "    n -= 1\n",
    "else:\n",
    "    print(n)"
   ]
  },
  {
   "cell_type": "markdown",
   "metadata": {},
   "source": [
    "Exercise 6:"
   ]
  },
  {
   "cell_type": "code",
   "execution_count": null,
   "metadata": {},
   "outputs": [],
   "source": [
    "n = range(4)\n",
    "\n",
    "for num in n:\n",
    "    print(num - 1)\n",
    "else:\n",
    "    print(num)"
   ]
  },
  {
   "cell_type": "markdown",
   "metadata": {},
   "source": [
    "---"
   ]
  },
  {
   "cell_type": "markdown",
   "metadata": {},
   "source": [
    "### 3.1.3.1 Logic and bit operations in Python | and, or, not"
   ]
  },
  {
   "cell_type": "markdown",
   "metadata": {},
   "source": [
    "### and"
   ]
  },
  {
   "cell_type": "markdown",
   "metadata": {},
   "source": [
    "One logical conjunction operator in Python is the word and. It's a **binary operator with a priority that is lower than the one expressed by the comparison operators.** It allows us to code complex conditions without the use of parentheses like this one:"
   ]
  },
  {
   "cell_type": "markdown",
   "metadata": {},
   "source": [
    "**truth table.**\n",
    "\n",
    "| `Argument A`  | `Argument B`  |  `A and B` |\n",
    "|:-:|:-:|:-:|\n",
    "| `False`  | `False`  | `False`  |\n",
    "| `False` | `True`  | `False`  |\n",
    "| `True` | `False`  |  `False` |\n",
    "| `True` |  `True` | `True`  |"
   ]
  },
  {
   "cell_type": "markdown",
   "metadata": {},
   "source": [
    "### or"
   ]
  },
  {
   "cell_type": "markdown",
   "metadata": {},
   "source": [
    "A disjunction operator is the word `aor`a. It's a **binary operator with a lower priority than** `and`a (just like `+` compared to `*`). Its truth table is as follows:"
   ]
  },
  {
   "cell_type": "markdown",
   "metadata": {},
   "source": [
    "| `Argument A`  | `Argument B`  |  `A and B` |\n",
    "|:-:|:-:|:-:|\n",
    "| `False`  | `False`  | `False`  |\n",
    "| `False` | `True`  | `True`  |\n",
    "| `True` | `False`  |  `True` |\n",
    "| `True` |  `True` | `True`  |"
   ]
  },
  {
   "cell_type": "markdown",
   "metadata": {},
   "source": [
    "### not"
   ]
  },
  {
   "cell_type": "markdown",
   "metadata": {},
   "source": [
    "In addition, there's another operator that can be applied for constructing conditions. It's a **unary operator performing a logical negation.** Its operation is simple: it turns truth into falsehood and falsehood into truth.\n",
    "\n",
    "This operator is written as the word not, and its **priority is very high: the same as the unary** `+` **and** `-`. Its truth table is simple:"
   ]
  },
  {
   "cell_type": "markdown",
   "metadata": {},
   "source": [
    "| `Argument A`  | `not Argumetn` |\n",
    "|:-:|:-:|\n",
    "| `False`  | `True`  | \n",
    "| `True` | `False`  | \n"
   ]
  },
  {
   "cell_type": "markdown",
   "metadata": {},
   "source": [
    "---"
   ]
  },
  {
   "cell_type": "markdown",
   "metadata": {},
   "source": [
    "### 3.1.3.2 Logic and bit operations in Python | and, or, not"
   ]
  },
  {
   "cell_type": "markdown",
   "metadata": {},
   "source": [
    "#### Logical expressions"
   ]
  },
  {
   "cell_type": "markdown",
   "metadata": {},
   "source": [
    "You may be familiar with De Morgan's laws. They say that:\n",
    "\n",
    "> The negation of a conjunction is the disjunction of the negations.\n",
    "\n",
    "> The negation of a disjunction is the conjunction of the negations.\n",
    "\n",
    "\n",
    "Let's write the same thing using Python:"
   ]
  },
  {
   "cell_type": "code",
   "execution_count": null,
   "metadata": {},
   "outputs": [],
   "source": [
    "not (p and q) == (not p) or (not q)\n",
    "not (p or q) == (not p) and (not q)"
   ]
  },
  {
   "cell_type": "markdown",
   "metadata": {},
   "source": [
    "#### Bitwise operators"
   ]
  },
  {
   "cell_type": "markdown",
   "metadata": {},
   "source": [
    "- `&` (ampersand) - bitwise conjunction;\n",
    "- `|` (bar) - bitwise disjunction;\n",
    "- `~` (tilde) - bitwise negation;\n",
    "- `^` (caret) - bitwise exclusive or (xor)."
   ]
  },
  {
   "cell_type": "markdown",
   "metadata": {},
   "source": [
    "#### Bitwise operations (&, |, and ^)"
   ]
  },
  {
   "cell_type": "markdown",
   "metadata": {},
   "source": [
    "- `&` requires exactly two `1`s to provide `1` as the result;\n",
    "- `|` requires at least one `1` to provide `1` as the result;\n",
    "- `^` requires exactly one `1` to provide `1` as the result. "
   ]
  },
  {
   "cell_type": "markdown",
   "metadata": {},
   "source": [
    "#### Note: "
   ]
  },
  {
   "cell_type": "markdown",
   "metadata": {},
   "source": [
    "- the arguments of these operators **must be integers**; we must not use floats here.\n",
    "- **the logical operators do not penetrate into the bit level of its argument**. They're only interested in the final integer value.\n",
    "- Bitwise operators are stricter: they deal with **every bit separately**. "
   ]
  },
  {
   "cell_type": "markdown",
   "metadata": {},
   "source": [
    "#### Logical vs. bit operations"
   ]
  },
  {
   "cell_type": "markdown",
   "metadata": {},
   "source": [
    "Let's assume that the following assignments have been performed:"
   ]
  },
  {
   "cell_type": "code",
   "execution_count": null,
   "metadata": {},
   "outputs": [],
   "source": [
    "i = 15\n",
    "j = 22"
   ]
  },
  {
   "cell_type": "markdown",
   "metadata": {},
   "source": [
    "If we assume that the integers are stored with 32 bits, the bitwise image of the two variables will be as follows:"
   ]
  },
  {
   "cell_type": "code",
   "execution_count": null,
   "metadata": {},
   "outputs": [],
   "source": [
    "i: 00000000000000000000000000001111\n",
    "j: 00000000000000000000000000010110"
   ]
  },
  {
   "cell_type": "markdown",
   "metadata": {},
   "source": [
    "The assignment is given:"
   ]
  },
  {
   "cell_type": "code",
   "execution_count": null,
   "metadata": {},
   "outputs": [],
   "source": [
    "log = i and j"
   ]
  },
  {
   "cell_type": "markdown",
   "metadata": {},
   "source": [
    "We are dealing with a logical conjunction here. Let's trace the course of the calculations. Both variables `i` and `j` are not zeros, so will be deemed to represent `True`. Consulting the truth table for the `and` operator, we can see that the result will be `True`. No other operations are performed."
   ]
  },
  {
   "cell_type": "markdown",
   "metadata": {},
   "source": [
    "Now the bitwise operation - here it is:"
   ]
  },
  {
   "cell_type": "code",
   "execution_count": null,
   "metadata": {},
   "outputs": [],
   "source": [
    "bit = i & j"
   ]
  },
  {
   "cell_type": "markdown",
   "metadata": {},
   "source": [
    "the result will be as follows: These bits correspond to the integer value of six."
   ]
  },
  {
   "cell_type": "markdown",
   "metadata": {},
   "source": [
    "```\n",
    "i                          00000000000000000000000000001111\n",
    "j\t                      00000000000000000000000000010110\n",
    "bit = i & j\t            00000000000000000000000000000110\n",
    "```"
   ]
  },
  {
   "cell_type": "markdown",
   "metadata": {},
   "source": [
    "Let's look at the negation operators now. First the logical one:"
   ]
  },
  {
   "cell_type": "code",
   "execution_count": null,
   "metadata": {},
   "outputs": [],
   "source": [
    "logneg = not i"
   ]
  },
  {
   "cell_type": "markdown",
   "metadata": {},
   "source": [
    "The logneg variable will be set to False - nothing more needs to be done."
   ]
  },
  {
   "cell_type": "markdown",
   "metadata": {},
   "source": [
    "The bitwise negation goes like this: the `bitneg` variable value is `-16`."
   ]
  },
  {
   "cell_type": "code",
   "execution_count": null,
   "metadata": {},
   "outputs": [],
   "source": [
    "bitneg = ~i"
   ]
  },
  {
   "cell_type": "markdown",
   "metadata": {},
   "source": [
    "```\n",
    "i\t          00000000000000000000000000001111\n",
    "bitneg = ~i\t11111111111111111111111111110000\n",
    "```"
   ]
  },
  {
   "cell_type": "markdown",
   "metadata": {},
   "source": [
    "`~` : Bitwise 1’s Complement"
   ]
  },
  {
   "cell_type": "markdown",
   "metadata": {},
   "source": [
    "This one is a bit different from what we’ve studied so far. This operator takes a number’s binary, and returns its one’s complement. For this, it flips the bits until it reaches the first 0 from right. `~x` is the same as `-x-1`."
   ]
  },
  {
   "cell_type": "code",
   "execution_count": null,
   "metadata": {},
   "outputs": [],
   "source": [
    "a = ~2\n",
    "b = bin(2)\n",
    "c = bin(-3)\n",
    "print(a, b, c)"
   ]
  },
  {
   "cell_type": "markdown",
   "metadata": {},
   "source": [
    "abbreviated form"
   ]
  },
  {
   "cell_type": "markdown",
   "metadata": {},
   "source": [
    "|normal| abbreviated|\n",
    "|:-:|:-:|\n",
    "| `x = x & y` |  `x &= y` |\n",
    "|  `x = x | y` | `x |= y`  |\n",
    "|  `x = x ^ y` |  `x ^= y` |"
   ]
  },
  {
   "cell_type": "markdown",
   "metadata": {},
   "source": [
    "---"
   ]
  },
  {
   "cell_type": "markdown",
   "metadata": {},
   "source": [
    "### 3.1.3.4 Logic and bit operations in Python | Bitwise operators"
   ]
  },
  {
   "cell_type": "markdown",
   "metadata": {},
   "source": [
    "#### How do we deal with single bits?"
   ]
  },
  {
   "cell_type": "markdown",
   "metadata": {},
   "source": [
    "The variable stores the information about various aspects of system operation. **Each bit of the variable stores one yes/no value.** You've also been told that only one of these bits is yours - the third (remember that bits are numbered from zero, and bit number zero is the lowest one, while the highest is number 31). The remaining bits are not allowed to change, because they're intended to store other data. Here's your bit marked with the letter `x`:"
   ]
  },
  {
   "cell_type": "code",
   "execution_count": null,
   "metadata": {},
   "outputs": [],
   "source": [
    "flagRegister = 0000000000000000000000000000x000"
   ]
  },
  {
   "cell_type": "markdown",
   "metadata": {},
   "source": [
    "1. **Check the state of your bit** - you want to find out the value of your bit; comparing the whole variable to zero will not do anything, because the remaining bits can have completely unpredictable values, but you can use the following conjunction property:"
   ]
  },
  {
   "cell_type": "code",
   "execution_count": null,
   "metadata": {},
   "outputs": [],
   "source": [
    "x & 1 = x\n",
    "x & 0 = 0"
   ]
  },
  {
   "cell_type": "markdown",
   "metadata": {},
   "source": [
    "If you apply the `&` operation to the `flagRegister` variable along with the following bit image:"
   ]
  },
  {
   "cell_type": "code",
   "execution_count": null,
   "metadata": {},
   "outputs": [],
   "source": [
    "00000000000000000000000000001000"
   ]
  },
  {
   "cell_type": "markdown",
   "metadata": {},
   "source": [
    "(note the 1 at your bit's position) as the result, you obtain one of the following bit strings:"
   ]
  },
  {
   "cell_type": "markdown",
   "metadata": {},
   "source": [
    "- `00000000000000000000000000001000` if your bit was set to `1`\n",
    "- `00000000000000000000000000000000` if your bit was reset to `0`"
   ]
  },
  {
   "cell_type": "markdown",
   "metadata": {},
   "source": [
    "Such a sequence of zeros and ones, whose task is to grab the value or to change the selected bits, is called a **bit mask**."
   ]
  },
  {
   "cell_type": "markdown",
   "metadata": {},
   "source": [
    "Let's build a bit mask to detect the state of your bit. It should point to **the third bit**. That bit has the weight of <strong>2<sup>3</sup> = 8</strong>. A suitable mask could be created by the following declaration:"
   ]
  },
  {
   "cell_type": "code",
   "execution_count": null,
   "metadata": {},
   "outputs": [],
   "source": [
    "theMask = 8"
   ]
  },
  {
   "cell_type": "markdown",
   "metadata": {},
   "source": [
    "You can also make a sequence of instructions depending on the state of your bit i here it is:"
   ]
  },
  {
   "cell_type": "code",
   "execution_count": null,
   "metadata": {},
   "outputs": [],
   "source": [
    "if flagRegister & theMask:\n",
    "    # my bit is set\n",
    "else:\n",
    "    # my bit is reset"
   ]
  },
  {
   "cell_type": "markdown",
   "metadata": {},
   "source": [
    "2. **Reset your bit** - you assign a zero to the bit while all the other bits must remain unchanged; let's use the same property of the conjunction as before, but let's use a slightly different mask - exactly as below:"
   ]
  },
  {
   "cell_type": "code",
   "execution_count": null,
   "metadata": {},
   "outputs": [],
   "source": [
    "11111111111111111111111111110111"
   ]
  },
  {
   "cell_type": "markdown",
   "metadata": {},
   "source": [
    "Note that the mask was created as a result of the negation of all the bits of `theMask` variable. Resetting the bit is simple, and looks like this **(choose the one you like more)**:"
   ]
  },
  {
   "cell_type": "code",
   "execution_count": null,
   "metadata": {},
   "outputs": [],
   "source": [
    "flagRegister = flagRegister & ~theMask\n",
    "\n",
    "flagregister &= ~theMask"
   ]
  },
  {
   "cell_type": "markdown",
   "metadata": {},
   "source": [
    "3. **Set your bit** - you assign a `1` to your bit, while all the remaining bits must remain unchanged; use the following disjunction property:"
   ]
  },
  {
   "cell_type": "code",
   "execution_count": null,
   "metadata": {},
   "outputs": [],
   "source": [
    "x | 1 = 1\n",
    "x | 0 = x"
   ]
  },
  {
   "cell_type": "markdown",
   "metadata": {},
   "source": [
    "You're now ready to set your bit with one of the following instructions:"
   ]
  },
  {
   "cell_type": "code",
   "execution_count": null,
   "metadata": {},
   "outputs": [],
   "source": [
    "flagRegister = flagRegister | theMask\n",
    "\n",
    "flagRegister |= theMask"
   ]
  },
  {
   "cell_type": "markdown",
   "metadata": {},
   "source": [
    "4. **Negate your bit** - you replace a `1` with a `0` and a `0` with a `1`. You can use an interesting property of the `xor` operator:"
   ]
  },
  {
   "cell_type": "code",
   "execution_count": null,
   "metadata": {},
   "outputs": [],
   "source": [
    "x ^ 1 = ~x\n",
    "x ^ 0 = x"
   ]
  },
  {
   "cell_type": "markdown",
   "metadata": {},
   "source": [
    "and negate your bit with the following instructions:"
   ]
  },
  {
   "cell_type": "code",
   "execution_count": null,
   "metadata": {},
   "outputs": [],
   "source": [
    "flagRegister = flagRegister ^ theMask\n",
    "\n",
    "flagRegister ^= theMask"
   ]
  },
  {
   "cell_type": "markdown",
   "metadata": {},
   "source": [
    "---"
   ]
  },
  {
   "cell_type": "markdown",
   "metadata": {},
   "source": [
    "### 3.1.3.5 Logic and bit operations in Python | Bit shifting"
   ]
  },
  {
   "cell_type": "markdown",
   "metadata": {},
   "source": [
    "#### Binary left shift and binary right shift"
   ]
  },
  {
   "cell_type": "markdown",
   "metadata": {},
   "source": [
    "Python offers yet another operation relating to single bits: **shifting**. This is applied only to **integer** values, and you mustn't use floats as arguments for it."
   ]
  },
  {
   "cell_type": "markdown",
   "metadata": {},
   "source": [
    "- shifting a value one bit to the left thus corresponds to multiplying it by two\n",
    "- shifting one bit to the right is like dividing by two (notice that the rightmost bit is lost)"
   ]
  },
  {
   "cell_type": "markdown",
   "metadata": {},
   "source": [
    "The **shift operators** in Python are a pair of **digraphs**: `<<` and `>>`, clearly suggesting in which direction the shift will act."
   ]
  },
  {
   "cell_type": "code",
   "execution_count": null,
   "metadata": {},
   "outputs": [],
   "source": [
    "value << bits\n",
    "value >> bits"
   ]
  },
  {
   "cell_type": "markdown",
   "metadata": {},
   "source": [
    "**The left argument of these operators is an integer value whose bits are shifted. The right argument determines the size of the shift.**"
   ]
  },
  {
   "cell_type": "markdown",
   "metadata": {},
   "source": [
    "It shows that this operation is certainly not commutative."
   ]
  },
  {
   "cell_type": "code",
   "execution_count": null,
   "metadata": {},
   "outputs": [],
   "source": [
    "var = 17\n",
    "varRight = var >> 1\n",
    "varLeft = var << 2\n",
    "print(var, varLeft, varRight)"
   ]
  },
  {
   "cell_type": "markdown",
   "metadata": {},
   "source": [
    "- `17 // 2 → 8` (shifting to the right by one bit is the same as integer division by two)\n",
    "- `17 * 4 → 68` (shifting to the left by two bits is the same as integer multiplication by four)"
   ]
  },
  {
   "cell_type": "markdown",
   "metadata": {},
   "source": [
    "---"
   ]
  },
  {
   "cell_type": "markdown",
   "metadata": {},
   "source": [
    "### 3.1.3.6 SECTION SUMMARY"
   ]
  },
  {
   "cell_type": "markdown",
   "metadata": {},
   "source": [
    "1. You can use bitwise operators to manipulate single bits of data. The following sample data:"
   ]
  },
  {
   "cell_type": "markdown",
   "metadata": {},
   "source": [
    "- `x = 15`, which is `0000 1111` in binary,\n",
    "- `y = 16`, which is `0001 0000` in binary."
   ]
  },
  {
   "cell_type": "markdown",
   "metadata": {},
   "source": [
    "will be used to illustrate the meaning of bitwise operators in Python. Analyze the examples below:"
   ]
  },
  {
   "cell_type": "markdown",
   "metadata": {},
   "source": [
    "- `&` does a bitwise and, e.g., `x & y = 0`, which is `0000 0000` in binary,\n",
    "- `|` does a bitwise or, e.g., `x | y = 31`, which is `0001 1111` in binary,\n",
    "- `˜` does a bitwise not, e.g., `˜ x = 240`, which is `1111 0000` in binary,\n",
    "- `^` does a bitwise xor, e.g., `x ^ y = 31`, which is `0001 1111` in binary,\n",
    "- `>>` does a bitwise right shift, e.g., `y >> 1 = 8`, which is` 0000 1000` in binary,\n",
    "- `<<` does a bitwise left shift, e.g., `y << 3 = 128` , which is `1000 0000` in binary,"
   ]
  },
  {
   "cell_type": "code",
   "execution_count": null,
   "metadata": {},
   "outputs": [],
   "source": [
    "x = 4\n",
    "y = 1\n",
    "\n",
    "a = x & y\n",
    "b = x | y\n",
    "c = ~x\n",
    "d = x ^ 5\n",
    "e = x >> 2\n",
    "f = x << 2\n",
    "\n",
    "print(a, b, c, d, e, f)"
   ]
  },
  {
   "cell_type": "markdown",
   "metadata": {},
   "source": [
    "---"
   ]
  },
  {
   "cell_type": "markdown",
   "metadata": {},
   "source": [
    "### 3.1.4.1 Lists - collections of data"
   ]
  },
  {
   "cell_type": "markdown",
   "metadata": {},
   "source": [
    "- list is a collection of elements, but each element is a scalar"
   ]
  },
  {
   "cell_type": "markdown",
   "metadata": {},
   "source": [
    "---"
   ]
  },
  {
   "cell_type": "markdown",
   "metadata": {},
   "source": [
    "### 3.1.4.3 Lists - collections of data | Indexing"
   ]
  },
  {
   "cell_type": "code",
   "execution_count": null,
   "metadata": {},
   "outputs": [],
   "source": [
    "numbers = [10, 5, 7, 2, 1]\n",
    "print(\"Original list content:\", numbers) # printing original list content\n",
    "\n",
    "numbers[0] = 111\n",
    "print(\"\\nPrevious list content:\", numbers) # printing previous list content\n",
    "\n",
    "numbers[1] = numbers[4] # copying value of the fifth element to the second\n",
    "print(\"Previous list content:\", numbers) # printing previous list content\n",
    "\n",
    "print(\"\\nList length:\", len(numbers)) # printing the list's length"
   ]
  },
  {
   "cell_type": "markdown",
   "metadata": {},
   "source": [
    "#### Removing elements from a list"
   ]
  },
  {
   "cell_type": "code",
   "execution_count": null,
   "metadata": {},
   "outputs": [],
   "source": [
    "numbers = [10, 5, 7, 2, 1]\n",
    "print(\"Original list content:\", numbers) # printing original list content\n",
    "\n",
    "print(\"\\nList's length:\", len(numbers)) # printing previous list length\n",
    "\n",
    "###\n",
    "\n",
    "del numbers[1] # removing the second element from the list\n",
    "print(\"New list's length:\", len(numbers)) # printing new list length\n",
    "print(\"\\nNew list content:\", numbers) # printing current list content\n",
    "\n",
    "###"
   ]
  },
  {
   "cell_type": "markdown",
   "metadata": {},
   "source": [
    "---"
   ]
  },
  {
   "cell_type": "markdown",
   "metadata": {},
   "source": [
    "### 3.1.4.5 Lists - collections of data | Operations on lists"
   ]
  },
  {
   "cell_type": "markdown",
   "metadata": {},
   "source": [
    "#### Negative indices are legal"
   ]
  },
  {
   "cell_type": "markdown",
   "metadata": {},
   "source": [
    "- An element with an index equal to -1 is **the last one in the list**."
   ]
  },
  {
   "cell_type": "code",
   "execution_count": null,
   "metadata": {},
   "outputs": [],
   "source": [
    "numbers = [111, 7, 2, 1]\n",
    "print(numbers[-1])\n",
    "print(numbers[-2])"
   ]
  },
  {
   "cell_type": "markdown",
   "metadata": {},
   "source": [
    "---"
   ]
  },
  {
   "cell_type": "markdown",
   "metadata": {},
   "source": [
    "### 3.1.4.7 Lists - collections of data | Functions and methods"
   ]
  },
  {
   "cell_type": "markdown",
   "metadata": {},
   "source": [
    "#### Functions vs. methods"
   ]
  },
  {
   "cell_type": "markdown",
   "metadata": {},
   "source": [
    "- A **method is a specific kind of function** - it behaves like a function and looks like a function, but differs in the way in which it acts, and in its invocation style.\n",
    "\n",
    "- A **function doesn't belong to any data** - it gets data, it may create new data and it (generally) produces a result.\n",
    "\n",
    "- A method does all these things, but is also able to **change the state of a selected entity**.\n",
    "\n",
    "- **A method is owned by the data it works for, while a function is owned by the whole code**.\n",
    "\n",
    "- This also means that invoking a method requires some specification of the data from which the method is invoked."
   ]
  },
  {
   "cell_type": "markdown",
   "metadata": {},
   "source": [
    "In general, a typical function invocation may look like this:"
   ]
  },
  {
   "cell_type": "code",
   "execution_count": null,
   "metadata": {},
   "outputs": [],
   "source": [
    "result = function(arg)"
   ]
  },
  {
   "cell_type": "markdown",
   "metadata": {},
   "source": [
    "A typical method invocation usually looks like this:"
   ]
  },
  {
   "cell_type": "code",
   "execution_count": null,
   "metadata": {},
   "outputs": [],
   "source": [
    "result = data.method(arg)"
   ]
  },
  {
   "cell_type": "markdown",
   "metadata": {},
   "source": [
    "Note: the name of the method is preceded by the name of the data which owns the method. Next, you add a **dot**, followed by the **method name**, and a pair of **parenthesis enclosing the arguments**."
   ]
  },
  {
   "cell_type": "markdown",
   "metadata": {},
   "source": [
    "---"
   ]
  },
  {
   "cell_type": "markdown",
   "metadata": {},
   "source": [
    "### 3.1.4.8 Lists - collections of data | list methods"
   ]
  },
  {
   "cell_type": "markdown",
   "metadata": {},
   "source": [
    "#### Adding elements to a list: append() and insert()"
   ]
  },
  {
   "cell_type": "code",
   "execution_count": null,
   "metadata": {},
   "outputs": [],
   "source": [
    "list.append(value)"
   ]
  },
  {
   "cell_type": "markdown",
   "metadata": {},
   "source": [
    "- Such an operation is performed by a method named `append()`. It takes its argument's value and puts it **at the end of the list** which owns the method.\n",
    "\n",
    "- The list's length then increases by one."
   ]
  },
  {
   "cell_type": "code",
   "execution_count": null,
   "metadata": {},
   "outputs": [],
   "source": [
    "list.insert(location, value)"
   ]
  },
  {
   "cell_type": "markdown",
   "metadata": {},
   "source": [
    "- the first shows the required location of the element to be inserted; note: all the existing elements that occupy locations to the right of the new element (including the one at the indicated position) are shifted to the right, in order to make space for the new element;\n",
    "- the second is the element to be inserted."
   ]
  },
  {
   "cell_type": "code",
   "execution_count": null,
   "metadata": {},
   "outputs": [],
   "source": [
    "numbers = [111, 7, 2, 1]\n",
    "print(len(numbers))\n",
    "print(numbers)\n",
    "\n",
    "###\n",
    "\n",
    "numbers.append(4)\n",
    "\n",
    "print(len(numbers))\n",
    "print(numbers)\n",
    "\n",
    "###\n",
    "\n",
    "numbers.insert(0, 222)\n",
    "print(len(numbers))\n",
    "print(numbers)\n",
    "\n",
    "#"
   ]
  },
  {
   "cell_type": "code",
   "execution_count": null,
   "metadata": {},
   "outputs": [],
   "source": [
    "myList = [] # creating an empty list\n",
    "myList2 = []\n",
    "\n",
    "for i in range(5):\n",
    "    myList.append(i + 1)\n",
    "    myList2.insert(0, i+1)\n",
    "\n",
    "print(myList, myList2)"
   ]
  },
  {
   "cell_type": "markdown",
   "metadata": {},
   "source": [
    "#### Making use of lists"
   ]
  },
  {
   "cell_type": "markdown",
   "metadata": {},
   "source": [
    "Note: we're not going to name it `sum` as Python uses the same name for one of its built-in functions - `sum()`"
   ]
  },
  {
   "cell_type": "code",
   "execution_count": null,
   "metadata": {},
   "outputs": [],
   "source": [
    "myList = [10, 1, 8, 3, 5]\n",
    "total = 0\n",
    "\n",
    "for i in range(len(myList)):\n",
    "    total += myList[i]\n",
    "\n",
    "print(total)"
   ]
  },
  {
   "cell_type": "markdown",
   "metadata": {},
   "source": [
    "#### The second face of the for loop"
   ]
  },
  {
   "cell_type": "code",
   "execution_count": null,
   "metadata": {},
   "outputs": [],
   "source": [
    "myList = [10, 1, 8, 3, 5]\n",
    "total = 0\n",
    "\n",
    "for i in myList:\n",
    "    total += i\n",
    "\n",
    "print(total)"
   ]
  },
  {
   "cell_type": "markdown",
   "metadata": {},
   "source": [
    "---"
   ]
  },
  {
   "cell_type": "markdown",
   "metadata": {},
   "source": [
    "### 3.1.4.11 Lists - collections of data | lists and loops"
   ]
  },
  {
   "cell_type": "markdown",
   "metadata": {},
   "source": [
    "#### Lists in action"
   ]
  },
  {
   "cell_type": "markdown",
   "metadata": {},
   "source": [
    "- Question: how can you swap the values of two variables?"
   ]
  },
  {
   "cell_type": "code",
   "execution_count": null,
   "metadata": {},
   "outputs": [],
   "source": [
    "variable1 = 1\n",
    "variable2 = 2\n",
    "\n",
    "auxiliary = variable1\n",
    "variable1 = variable2\n",
    "variable2 = auxiliary"
   ]
  },
  {
   "cell_type": "markdown",
   "metadata": {},
   "source": [
    "- Python offers a more convenient way of doing the swap - take a look:"
   ]
  },
  {
   "cell_type": "code",
   "execution_count": null,
   "metadata": {},
   "outputs": [],
   "source": [
    "variable1 = 1\n",
    "variable2 = 2\n",
    "\n",
    "variable1, variable2 = variable2, variable1"
   ]
  },
  {
   "cell_type": "markdown",
   "metadata": {},
   "source": [
    "- Now you can easily swap the list's elements to **reverse their order**:"
   ]
  },
  {
   "cell_type": "code",
   "execution_count": null,
   "metadata": {},
   "outputs": [],
   "source": [
    "myList = [10, 1, 8, 3, 5]\n",
    "\n",
    "myList[0], myList[4] = myList[4], myList[0]\n",
    "myList[1], myList[3] = myList[3], myList[1]\n",
    "\n",
    "print(myList)"
   ]
  },
  {
   "cell_type": "markdown",
   "metadata": {},
   "source": [
    "- you can use the for loop to do the same thing automatically, irrespective of the list's length"
   ]
  },
  {
   "cell_type": "code",
   "execution_count": null,
   "metadata": {},
   "outputs": [],
   "source": [
    "myList = [10, 1, 8, 3, 5]\n",
    "length = len(myList)\n",
    "\n",
    "for i in range(length // 2):\n",
    "    myList[i], myList[length - i - 1] = myList[length - i - 1], myList[i]\n",
    "\n",
    "print(myList)"
   ]
  },
  {
   "cell_type": "markdown",
   "metadata": {},
   "source": [
    "Note: we've launched the `for` loop to run through its body `length // 2` times (this works well for lists with both even and odd lengths, because when the list contains an odd number of elements, the middle one remains untouched)\n",
    "    "
   ]
  },
  {
   "cell_type": "markdown",
   "metadata": {},
   "source": [
    "---"
   ]
  },
  {
   "cell_type": "markdown",
   "metadata": {},
   "source": [
    "### 3.1.4.13 LAB: The basics of lists - the Beatles"
   ]
  },
  {
   "cell_type": "code",
   "execution_count": null,
   "metadata": {},
   "outputs": [],
   "source": [
    "# step 1\n",
    "beatles = []\n",
    "print(\"Step 1:\", beatles)\n",
    "\n",
    "# step 2\n",
    "beatles.append(\"John Lennon\")\n",
    "beatles.append(\"Paul McCartney\")\n",
    "beatles.append(\"Geoge Harrison\")\n",
    "print(\"Step 2:\", beatles)\n",
    "\n",
    "# step 3\n",
    "members = [input(\"Enter members: \"), input(\"Enter members: \")]\n",
    "for member in members:\n",
    "    beatles.append(member)\n",
    "print(\"Step 3:\", beatles)\n",
    "\n",
    "# step 4\n",
    "del beatles[len(beatles)-1]\n",
    "del beatles[len(beatles)-1]\n",
    "print(\"Step 4:\", beatles)\n",
    "\n",
    "# step 5\n",
    "beatles.insert(0, \"Ringo Starr\")\n",
    "print(\"Step 5:\", beatles)\n",
    "\n",
    "# testing list legth\n",
    "print(\"The Fab\", len(beatles))"
   ]
  },
  {
   "cell_type": "markdown",
   "metadata": {},
   "source": [
    "---"
   ]
  },
  {
   "cell_type": "markdown",
   "metadata": {},
   "source": [
    "### 3.1.4.14 SECTION SUMMARY"
   ]
  },
  {
   "cell_type": "markdown",
   "metadata": {},
   "source": [
    "#### Key takeaways"
   ]
  },
  {
   "cell_type": "markdown",
   "metadata": {},
   "source": [
    "1. The **list is a type of data** in Python used to **store multiple objects**. It is an **ordered and mutable collection** of comma-separated items between square brackets\n",
    "2. Lists can be **indexed and updated, nested, deleted**\n",
    "3. Lists can be **iterated** through using the `for` loop\n",
    "4. The `len()` function may be used to **check the list's length**"
   ]
  },
  {
   "cell_type": "markdown",
   "metadata": {},
   "source": [
    "Exercise 1:"
   ]
  },
  {
   "cell_type": "code",
   "execution_count": null,
   "metadata": {},
   "outputs": [],
   "source": [
    "lst = [1, 2, 3, 4, 5]\n",
    "lst2 = []\n",
    "add = 0\n",
    "\n",
    "for number in lst:\n",
    "    add += number\n",
    "    lst2.append(add)\n",
    "\n",
    "print(lst2)"
   ]
  },
  {
   "cell_type": "markdown",
   "metadata": {},
   "source": [
    "EXcercise 2:"
   ]
  },
  {
   "cell_type": "code",
   "execution_count": null,
   "metadata": {},
   "outputs": [],
   "source": [
    "lst = []\n",
    "del lst\n",
    "print(lst)"
   ]
  },
  {
   "cell_type": "markdown",
   "metadata": {},
   "source": [
    "---"
   ]
  },
  {
   "cell_type": "markdown",
   "metadata": {},
   "source": [
    "### 3.1.5.1 Sorting simple lists - the bubble sort algorithm"
   ]
  },
  {
   "cell_type": "markdown",
   "metadata": {},
   "source": [
    "#### The bubble sort"
   ]
  },
  {
   "cell_type": "markdown",
   "metadata": {},
   "source": [
    "-  easy to understand, but unfortunately not too efficient, either. It's used very rarely, and certainly not for large and extensive lists."
   ]
  },
  {
   "cell_type": "markdown",
   "metadata": {},
   "source": [
    "#### Let's say that a list can be sorted in two ways:"
   ]
  },
  {
   "cell_type": "markdown",
   "metadata": {},
   "source": [
    "- increasing (or more precisely - non-decreasing) - if in every pair of adjacent elements, the former element is not greater than the latter;\n",
    "- decreasing (or more precisely - non-increasing) - if in every pair of adjacent elements, the former element is not less than the latter."
   ]
  },
  {
   "cell_type": "markdown",
   "metadata": {},
   "source": [
    "#### Sorting a list (Bubble Sort)"
   ]
  },
  {
   "cell_type": "code",
   "execution_count": null,
   "metadata": {},
   "outputs": [],
   "source": [
    "myList = [8, 10, 6, 2, 4] # list to sort\n",
    "swapped = True # it's a little fake - we need it to enter the while loop\n",
    "\n",
    "while swapped:\n",
    "    swapped = False # no swaps so far\n",
    "    for i in range(len(myList) - 1):\n",
    "        if myList[i] > myList[i + 1]:\n",
    "            swapped = True # swap occured!\n",
    "            myList[i], myList[i + 1] = myList[i + 1], myList[i]\n",
    "\n",
    "print(myList)"
   ]
  },
  {
   "cell_type": "markdown",
   "metadata": {},
   "source": [
    "---"
   ]
  },
  {
   "cell_type": "markdown",
   "metadata": {},
   "source": [
    "### 3 3.1.5.3 Sorting simple lists - the bubble sort algorithm"
   ]
  },
  {
   "cell_type": "markdown",
   "metadata": {},
   "source": [
    "#### The bubble sort - interactive version"
   ]
  },
  {
   "cell_type": "markdown",
   "metadata": {},
   "source": [
    "- Python, however, has its own sorting mechanisms. No one needs to write their own sorts, as there is a sufficient number of `ready-to-use tools`."
   ]
  },
  {
   "cell_type": "code",
   "execution_count": null,
   "metadata": {},
   "outputs": [],
   "source": [
    "myList = [8, 10, 6, 2, 4]\n",
    "myList.sort()\n",
    "print(myList)"
   ]
  },
  {
   "cell_type": "markdown",
   "metadata": {},
   "source": [
    "#### The bubble sort - final interactive version."
   ]
  },
  {
   "cell_type": "code",
   "execution_count": null,
   "metadata": {},
   "outputs": [],
   "source": [
    "myList = []\n",
    "swapped = True\n",
    "num = int(input(\"How many elements do you want to sort: \"))\n",
    "\n",
    "for i in range(num):\n",
    "    val = float(input(\"Enter a list element: \"))\n",
    "    myList.append(val)\n",
    "\n",
    "while swapped:\n",
    "    swapped = False\n",
    "    for i in range(len(myList) - 1):\n",
    "        if myList[i] > myList[i + 1]:\n",
    "            swapped = True\n",
    "            myList[i], myList[i + 1] = myList[i + 1], myList[i]\n",
    "\n",
    "print(\"\\nSorted:\")\n",
    "print(myList)"
   ]
  },
  {
   "cell_type": "markdown",
   "metadata": {},
   "source": [
    "---"
   ]
  },
  {
   "cell_type": "markdown",
   "metadata": {},
   "source": [
    "### 3.1.5.4 SECTION SUMMARY"
   ]
  },
  {
   "cell_type": "markdown",
   "metadata": {},
   "source": [
    "#### Key takeaways"
   ]
  },
  {
   "cell_type": "markdown",
   "metadata": {},
   "source": [
    "- You can use the `sort()` method to sort elements of a list\n",
    "- here is also a list method called `reverse()`, which you can use to reverse the list"
   ]
  },
  {
   "cell_type": "code",
   "execution_count": null,
   "metadata": {},
   "outputs": [],
   "source": [
    "lst = [5, 3, 1, 2, 4]\n",
    "print(lst)\n",
    "\n",
    "lst.sort()\n",
    "print(lst)"
   ]
  },
  {
   "cell_type": "code",
   "execution_count": null,
   "metadata": {},
   "outputs": [],
   "source": [
    "lst = [5, 3, 1, 2, 4]\n",
    "print(lst)\n",
    "\n",
    "lst.reverse()\n",
    "print(lst) "
   ]
  },
  {
   "cell_type": "markdown",
   "metadata": {},
   "source": [
    "---"
   ]
  },
  {
   "cell_type": "markdown",
   "metadata": {},
   "source": [
    "### 3.1.6.1 Operations on lists"
   ]
  },
  {
   "cell_type": "markdown",
   "metadata": {},
   "source": [
    "#### The inner life of lists"
   ]
  },
  {
   "cell_type": "code",
   "execution_count": null,
   "metadata": {},
   "outputs": [],
   "source": [
    "list1 = [1]\n",
    "list2 = list1\n",
    "list1[0] = 2\n",
    "print(list2)"
   ]
  },
  {
   "cell_type": "markdown",
   "metadata": {},
   "source": [
    "The program:\n",
    "- creates a one-element list named `list1`;\n",
    "- assigns it to a new list named `list2`;\n",
    "- changes the only element of `list1`;\n",
    "- prints out `list2`."
   ]
  },
  {
   "cell_type": "markdown",
   "metadata": {},
   "source": [
    "You could say that:\n",
    "- the name of an ordinary variable is the `name of its content`;\n",
    "- the name of a list is the name of a `memory location where the list is stored`."
   ]
  },
  {
   "cell_type": "markdown",
   "metadata": {},
   "source": [
    "The assignment: `list2 = list1` copies the name of the array, not its contents. In effect, the two names (`list1` and `list2`) identify the same location in the computer memory. Modifying one of them affects the other, and vice versa."
   ]
  },
  {
   "cell_type": "markdown",
   "metadata": {},
   "source": [
    "---"
   ]
  },
  {
   "cell_type": "markdown",
   "metadata": {},
   "source": [
    "### 3.1.6.2 Operations on lists | slices"
   ]
  },
  {
   "cell_type": "markdown",
   "metadata": {},
   "source": [
    "#### Powerful slices"
   ]
  },
  {
   "cell_type": "markdown",
   "metadata": {},
   "source": [
    "- A slice is an element of Python syntax that allows you to make a brand new copy of a list, or parts of a list.\n",
    "- It actually copies the list's contents, not the list's name.\n",
    "- One of the most general forms of the slice looks as follows:\n",
    "`myList[start:end]`\n",
    "- A slice of this form **makes a new (target) list, taking elements from the source list - the elements of the indices from start to** `end - 1`"
   ]
  },
  {
   "cell_type": "markdown",
   "metadata": {},
   "source": [
    "omitting both start and end makes a **copy of the whole list**:"
   ]
  },
  {
   "cell_type": "code",
   "execution_count": null,
   "metadata": {},
   "outputs": [],
   "source": [
    "myList = [10, 8, 6, 4, 2]\n",
    "newList = myList[:]\n",
    "newList2 = myList[1:3]\n",
    "print(newList)\n",
    "print(newList2)"
   ]
  },
  {
   "cell_type": "markdown",
   "metadata": {},
   "source": [
    "---"
   ]
  },
  {
   "cell_type": "markdown",
   "metadata": {},
   "source": [
    "### 3.1.6.3 Operations on lists | slices"
   ]
  },
  {
   "cell_type": "markdown",
   "metadata": {},
   "source": [
    "#### Slices - negative indices"
   ]
  },
  {
   "cell_type": "markdown",
   "metadata": {},
   "source": [
    "This is how negative indices work with the slice:"
   ]
  },
  {
   "cell_type": "code",
   "execution_count": null,
   "metadata": {},
   "outputs": [],
   "source": [
    "myList = [10, 8, 6, 4, 2]\n",
    "newList = myList[1:-1]\n",
    "print(newList)"
   ]
  },
  {
   "cell_type": "markdown",
   "metadata": {},
   "source": [
    "If the start specifies an element lying further than the one described by the end (from the list's beginning point of view), the slice will be empty:"
   ]
  },
  {
   "cell_type": "code",
   "execution_count": null,
   "metadata": {},
   "outputs": [],
   "source": [
    "myList = [10, 8, 6, 4, 2]\n",
    "newList = myList[-1:1]\n",
    "print(newList)"
   ]
  },
  {
   "cell_type": "markdown",
   "metadata": {},
   "source": [
    "If you omit the `start` in your slice, it is assumed that you want to get a slice beginning at the element with index `0`"
   ]
  },
  {
   "cell_type": "markdown",
   "metadata": {},
   "source": [
    "In other words, the slice of this form: `myList[:end]` or `myList[0:end]`"
   ]
  },
  {
   "cell_type": "code",
   "execution_count": null,
   "metadata": {},
   "outputs": [],
   "source": [
    "myList = [10, 8, 6, 4, 2]\n",
    "newList = myList[:3]\n",
    "print(newList)"
   ]
  },
  {
   "cell_type": "markdown",
   "metadata": {},
   "source": [
    "if you omit the `end` in your slice, it is assumed that you want the slice to end at the element with the index `len(myList)`."
   ]
  },
  {
   "cell_type": "markdown",
   "metadata": {},
   "source": [
    "In other words, the slice of this form: `myList[start:]` or `myList[start:len(myList)]`"
   ]
  },
  {
   "cell_type": "code",
   "execution_count": null,
   "metadata": {},
   "outputs": [],
   "source": [
    "myList = [10, 8, 6, 4, 2]\n",
    "newList = myList[3:]\n",
    "print(newList)"
   ]
  },
  {
   "cell_type": "markdown",
   "metadata": {},
   "source": [
    "The previously described del instruction is able to **delete more than just a list's element at once - it can delete slices too**:\n",
    "- Note: in this case, the slice doesn't produce any new list!"
   ]
  },
  {
   "cell_type": "code",
   "execution_count": null,
   "metadata": {},
   "outputs": [],
   "source": [
    "myList = [10, 8, 6, 4, 2]\n",
    "del myList[1:3]\n",
    "print(myList)"
   ]
  },
  {
   "cell_type": "markdown",
   "metadata": {},
   "source": [
    "Deleting all the elements at once is possible too:"
   ]
  },
  {
   "cell_type": "code",
   "execution_count": null,
   "metadata": {},
   "outputs": [],
   "source": [
    "myList = [10, 8, 6, 4, 2]\n",
    "del myList[:]\n",
    "print(myList)"
   ]
  },
  {
   "cell_type": "code",
   "execution_count": null,
   "metadata": {},
   "outputs": [],
   "source": [
    "Removing the slice from the code changes its meaning dramatically.\n"
   ]
  },
  {
   "cell_type": "markdown",
   "metadata": {},
   "source": [
    "- The `del` instruction will **delete the list itself, not its content**.\n",
    "- The `print()` function invocation from the last line of the code will then cause a runtime error."
   ]
  },
  {
   "cell_type": "code",
   "execution_count": null,
   "metadata": {},
   "outputs": [],
   "source": [
    "myList = [10, 8, 6, 4, 2]\n",
    "del myList\n",
    "print(myList)"
   ]
  },
  {
   "cell_type": "markdown",
   "metadata": {},
   "source": [
    "---"
   ]
  },
  {
   "cell_type": "markdown",
   "metadata": {},
   "source": [
    "### 3.1.6.6 Operations on lists | in, not in"
   ]
  },
  {
   "cell_type": "markdown",
   "metadata": {},
   "source": [
    "**to look through the list in order to check whether a specific value is stored inside the list or not**"
   ]
  },
  {
   "cell_type": "code",
   "execution_count": null,
   "metadata": {},
   "outputs": [],
   "source": [
    "elem in myList\n",
    "elem not in myList"
   ]
  },
  {
   "cell_type": "markdown",
   "metadata": {},
   "source": [
    "- The first of them (`in`) checks if a given element (its left argument) is currently stored somewhere inside the list (the right argument) - the operator returns `True` in this case.\n",
    "\n",
    "- The second (`not in`) checks if a given element (its left argument) is absent in a list - the operator returns `True` in this case."
   ]
  },
  {
   "cell_type": "code",
   "execution_count": null,
   "metadata": {},
   "outputs": [],
   "source": [
    "myList = [0, 3, 12, 8, 2]\n",
    "\n",
    "print(5 in myList)\n",
    "print(5 not in myList)\n",
    "print(12 in myList)"
   ]
  },
  {
   "cell_type": "markdown",
   "metadata": {},
   "source": [
    "---"
   ]
  },
  {
   "cell_type": "markdown",
   "metadata": {},
   "source": [
    "### 3.1.6.7 Lists - more details"
   ]
  },
  {
   "cell_type": "markdown",
   "metadata": {},
   "source": [
    "#### Lists - some simple programs"
   ]
  },
  {
   "cell_type": "markdown",
   "metadata": {},
   "source": [
    "- The concept is rather simple - we temporarily assume that the first element is the largest one, and check the hypothesis against all the remaining elements in the list.\n",
    "\n",
    "- The code outputs `17` (as expected)."
   ]
  },
  {
   "cell_type": "code",
   "execution_count": null,
   "metadata": {},
   "outputs": [],
   "source": [
    "myList = [17, 3, 11, 5, 1, 9, 7, 15, 13]\n",
    "largest = myList[0]\n",
    "\n",
    "for i in range(1, len(myList)):\n",
    "    if myList[i] > largest:\n",
    "        largest = myList[i]\n",
    "\n",
    "print(largest)"
   ]
  },
  {
   "cell_type": "markdown",
   "metadata": {},
   "source": [
    "- The code may be rewritten to make use of the newly introduced form of the for loop:"
   ]
  },
  {
   "cell_type": "code",
   "execution_count": null,
   "metadata": {},
   "outputs": [],
   "source": [
    "myList = [17, 3, 11, 5, 1, 9, 7, 15, 13]\n",
    "largest = myList[0]\n",
    "\n",
    "for i in myList:\n",
    "    if i > largest:\n",
    "        largest = i\n",
    "\n",
    "print(largest)"
   ]
  },
  {
   "cell_type": "markdown",
   "metadata": {},
   "source": [
    "- If you need to save computer power, you can use a slice:"
   ]
  },
  {
   "cell_type": "code",
   "execution_count": null,
   "metadata": {},
   "outputs": [],
   "source": [
    "myList = [17, 3, 11, 5, 1, 9, 7, 15, 13]\n",
    "largest = myList[0]\n",
    "\n",
    "for i in myList[1:]:\n",
    "    if i > largest:\n",
    "        largest = i\n",
    "\n",
    "print(largest)"
   ]
  },
  {
   "cell_type": "markdown",
   "metadata": {},
   "source": [
    "Now let's find the location of a given element inside a list:"
   ]
  },
  {
   "cell_type": "code",
   "execution_count": null,
   "metadata": {},
   "outputs": [],
   "source": [
    "myList = [1, 2, 3, 4, 5, 6, 7, 8, 9, 10]\n",
    "toFind = 5\n",
    "found = False\n",
    "\n",
    "for i in range(len(myList)):\n",
    "    found = myList[i] == toFind\n",
    "    if found:\n",
    "        break\n",
    "\n",
    "if found:\n",
    "    print(\"Element found at index\", i)\n",
    "else:\n",
    "    print(\"absent\")"
   ]
  },
  {
   "cell_type": "markdown",
   "metadata": {},
   "source": [
    "Note:\n",
    "\n",
    "- the target value is stored in the `toFind` variable;\n",
    "- the current status of the search is stored in the `found` variable (`True`/`False`)\n",
    "- when `found` becomes `True`, the `for` loop is exited."
   ]
  },
  {
   "cell_type": "markdown",
   "metadata": {},
   "source": [
    "Lottery program example:"
   ]
  },
  {
   "cell_type": "code",
   "execution_count": null,
   "metadata": {},
   "outputs": [],
   "source": [
    "drawn = [5, 11, 9, 42, 3, 49]\n",
    "bets = [3, 7, 11, 42, 34, 49]\n",
    "hits = 0\n",
    "\n",
    "for number in bets:\n",
    "    if number in drawn:\n",
    "        hits += 1\n",
    "\n",
    "print(hits)"
   ]
  },
  {
   "cell_type": "markdown",
   "metadata": {},
   "source": [
    "Note:\n",
    "\n",
    "- the `drawn` list stores all the drawn numbers;\n",
    "- the `bets` list stores your bets;\n",
    "- the `hits` variable counts your hits."
   ]
  },
  {
   "cell_type": "markdown",
   "metadata": {},
   "source": [
    "### 3.1.6.9 LAB: Operating with lists - basics"
   ]
  },
  {
   "cell_type": "markdown",
   "metadata": {},
   "source": [
    "**Scenario**\n",
    "- Imagine a list - not very long, not very complicated, just a simple list containing some integer numbers. Some of these numbers may be repeated, and this is the clue. We don't want any repetitions. We want them to be removed.\n",
    "\n",
    "- Your task is to write a program which removes all the number repetitions from the list. The goal is to have a list in which all the numbers appear not more than once.\n",
    "\n",
    "- Note: assume that the source list is hard-coded inside the code - you don't have to enter it from the keyboard. Of course, you can improve the code and add a part that can carry out a conversation with the user and obtain all the data from her/him.\n",
    "\n",
    "- Hint: we encourage you to create a new list as a temporary work area - you don't need to update the list in situ."
   ]
  },
  {
   "cell_type": "code",
   "execution_count": null,
   "metadata": {},
   "outputs": [],
   "source": [
    "myList = [1, 2, 4, 4, 1, 4, 2, 6, 2, 9]\n",
    "temp = []\n",
    "for number in myList:\n",
    "    if number not in temp:\n",
    "        temp.append(number)\n",
    "\n",
    "myList = temp\n",
    "\n",
    "print(\"The list with unique elements only:\")\n",
    "print(myList)"
   ]
  },
  {
   "cell_type": "markdown",
   "metadata": {},
   "source": [
    "refer to : [Stack Overflow: Removing duplicates in the lists](https://stackoverflow.com/questions/7961363/removing-duplicates-in-the-lists/7961390#7961390)"
   ]
  },
  {
   "cell_type": "code",
   "execution_count": null,
   "metadata": {},
   "outputs": [],
   "source": [
    "myList = [1, 2, 4, 4, 1, 4, 2, 6, 2, 9]\n",
    "\n",
    "print(\"The list with unique elements only:\")\n",
    "\n",
    "#set is unordered, be careful\n",
    "myList = list(set(myList))\n",
    "print(myList)"
   ]
  },
  {
   "cell_type": "code",
   "execution_count": null,
   "metadata": {},
   "outputs": [],
   "source": [
    "from collections import OrderedDict\n",
    "myList = [1, 2, 4, 4, 1, 4, 2, 6, 2, 9]\n",
    "\n",
    "print(\"The list with unique elements only:\")\n",
    "\n",
    "# in order to maintain the order, we can use OrderedDict, \n",
    "# but there are some disadvantages, eg. consuming much operations\n",
    "myList = list(OrderedDict.fromkeys(myList))\n",
    "print(myList)\n"
   ]
  },
  {
   "cell_type": "markdown",
   "metadata": {},
   "source": [
    "Exercise 1:"
   ]
  },
  {
   "cell_type": "code",
   "execution_count": null,
   "metadata": {},
   "outputs": [],
   "source": [
    "l1 = [\"A\", \"B\", \"C\"]\n",
    "l2 = l1\n",
    "l3 = l2\n",
    "\n",
    "del l1[0]\n",
    "del l2\n",
    "\n",
    "print(l3)"
   ]
  },
  {
   "cell_type": "markdown",
   "metadata": {},
   "source": [
    "Exercise 2:"
   ]
  },
  {
   "cell_type": "code",
   "execution_count": null,
   "metadata": {},
   "outputs": [],
   "source": [
    "l1 = [\"A\", \"B\", \"C\"]\n",
    "l2 = l1\n",
    "l3 = l2\n",
    "\n",
    "del l1[0]\n",
    "del l2[:]\n",
    "\n",
    "print(l3)"
   ]
  },
  {
   "cell_type": "markdown",
   "metadata": {},
   "source": [
    "Exeercise 3:"
   ]
  },
  {
   "cell_type": "code",
   "execution_count": null,
   "metadata": {},
   "outputs": [],
   "source": [
    "l1 = [\"A\", \"B\", \"C\"]\n",
    "l2 = l1[:]\n",
    "l3 = l2[:]\n",
    "\n",
    "del l1[0]\n",
    "del l2[0]\n",
    "\n",
    "print(l3)"
   ]
  },
  {
   "cell_type": "markdown",
   "metadata": {},
   "source": [
    "---"
   ]
  },
  {
   "cell_type": "markdown",
   "metadata": {},
   "source": [
    "### 3.1.7.1 Lists in advanced applications"
   ]
  },
  {
   "cell_type": "markdown",
   "metadata": {},
   "source": [
    "#### Lists in lists"
   ]
  },
  {
   "cell_type": "markdown",
   "metadata": {},
   "source": [
    "- A list comprehension is actually a list, but **created on-the-fly during program execution, and is not described statically**."
   ]
  },
  {
   "cell_type": "code",
   "execution_count": null,
   "metadata": {},
   "outputs": [],
   "source": [
    "row = [WHITE_PAWN for i in range(8)]"
   ]
  },
  {
   "cell_type": "markdown",
   "metadata": {},
   "source": [
    "Note:\n",
    "- assume that `WHITE_PAWN` is a predefined symbol representing a white pawn\n",
    "- the data to be used to fill the list (`WHITE_PAWN`)\n",
    "- the clause specifying how many times the data occurs inside the list (`for i in range(8)`)"
   ]
  },
  {
   "cell_type": "markdown",
   "metadata": {},
   "source": [
    "Let us show you some other list comprehension examples:"
   ]
  },
  {
   "cell_type": "markdown",
   "metadata": {},
   "source": [
    "Example 1:"
   ]
  },
  {
   "cell_type": "code",
   "execution_count": null,
   "metadata": {},
   "outputs": [],
   "source": [
    "squares = [x ** 2 for x in range(10)]\n",
    "print(squares)"
   ]
  },
  {
   "cell_type": "markdown",
   "metadata": {},
   "source": [
    "Example 2:"
   ]
  },
  {
   "cell_type": "code",
   "execution_count": null,
   "metadata": {},
   "outputs": [],
   "source": [
    "twos = [2**i for i in range(8)]\n",
    "print(twos)"
   ]
  },
  {
   "cell_type": "markdown",
   "metadata": {},
   "source": [
    "Example 3:"
   ]
  },
  {
   "cell_type": "code",
   "execution_count": null,
   "metadata": {},
   "outputs": [],
   "source": [
    "odds = [x for x in squares if x % 2 != 0]\n",
    "print(odds)"
   ]
  },
  {
   "cell_type": "markdown",
   "metadata": {},
   "source": [
    "---"
   ]
  },
  {
   "cell_type": "markdown",
   "metadata": {},
   "source": [
    "### 3.1.7.2 Lists in advanced applications | Arrays"
   ]
  },
  {
   "cell_type": "markdown",
   "metadata": {},
   "source": [
    "- **Two-dimensional array**. It's also called, by analogy to algebraic terms, a **matrix**."
   ]
  },
  {
   "cell_type": "code",
   "execution_count": null,
   "metadata": {},
   "outputs": [],
   "source": [
    "board = []\n",
    "\n",
    "for i in range(8):\n",
    "    row = [EMPTY for i in range(8)]\n",
    "    board.append(row)"
   ]
  },
  {
   "cell_type": "markdown",
   "metadata": {},
   "source": [
    "Note:\n",
    "- Let's also assume that a predefined symbol named `EMPTY` designates an empty field on the chessboard\n",
    "- the board list consists of 64 elements (all equal to `EMPTY`)"
   ]
  },
  {
   "cell_type": "markdown",
   "metadata": {},
   "source": [
    "As list comprehensions can be `nested`, we can shorten the board creation in the following way:"
   ]
  },
  {
   "cell_type": "code",
   "execution_count": null,
   "metadata": {},
   "outputs": [],
   "source": [
    "board = [[EMPTY for i in range(8)] for j in range(8)]"
   ]
  },
  {
   "cell_type": "markdown",
   "metadata": {},
   "source": [
    "#### Three-dimensional arrays"
   ]
  },
  {
   "cell_type": "markdown",
   "metadata": {},
   "source": [
    "- Imagine a hotel. It's a huge hotel consisting of three buildings, 15 floors each. There are 20 rooms on each floor. For this, you need an array which can collect and process information on the occupied/free rooms.\n",
    "\n",
    "- First step - the type of the array's elements. In this case, a Boolean value (`True/False`) would fit.\n",
    "\n",
    "- Step two - calm analysis of the situation. Summarize the available information: three buildings, 15 floors, 20 rooms.\n",
    "\n",
    "- Now you can create the array:"
   ]
  },
  {
   "cell_type": "code",
   "execution_count": null,
   "metadata": {},
   "outputs": [],
   "source": [
    "rooms = [[[False for r in range(20)] for f in range(15)] for t in range(3)]"
   ]
  },
  {
   "cell_type": "markdown",
   "metadata": {},
   "source": [
    "- Now you can book a room for two newlyweds: in the second building, on the tenth floor, room 14:"
   ]
  },
  {
   "cell_type": "code",
   "execution_count": null,
   "metadata": {},
   "outputs": [],
   "source": [
    "rooms[1][9][13] = True"
   ]
  },
  {
   "cell_type": "markdown",
   "metadata": {},
   "source": [
    "- and release the second room on the fifth floor located in the first building:"
   ]
  },
  {
   "cell_type": "code",
   "execution_count": null,
   "metadata": {},
   "outputs": [],
   "source": [
    "rooms[0][4][1] = False"
   ]
  },
  {
   "cell_type": "markdown",
   "metadata": {},
   "source": [
    "- Check if there are any vacancies on the 15th floor of the third building:"
   ]
  },
  {
   "cell_type": "code",
   "execution_count": null,
   "metadata": {},
   "outputs": [],
   "source": [
    "vacancy = 0\n",
    "\n",
    "for roomNumber in range(20):\n",
    "    if not rooms[2][14][roomNumber]:\n",
    "        vacancy += 1"
   ]
  },
  {
   "cell_type": "markdown",
   "metadata": {},
   "source": [
    "---"
   ]
  },
  {
   "cell_type": "markdown",
   "metadata": {},
   "source": [
    "### 3.1.7.6 SECTION SUMMARY"
   ]
  },
  {
   "cell_type": "markdown",
   "metadata": {},
   "source": [
    "- **List comprehension** allows you to create new lists from existing ones in a concise and elegant way. The syntax of a list comprehension looks as follows:"
   ]
  },
  {
   "cell_type": "code",
   "execution_count": null,
   "metadata": {},
   "outputs": [],
   "source": [
    "[expression for element in list if conditional]"
   ]
  },
  {
   "cell_type": "markdown",
   "metadata": {},
   "source": [
    "## Programming Essentials in Python: Module 4"
   ]
  },
  {
   "cell_type": "markdown",
   "metadata": {},
   "source": [
    "### 4.1.1.2 Functions"
   ]
  },
  {
   "cell_type": "markdown",
   "metadata": {},
   "source": [
    "- ome say that a **well-written function should be viewed entirely in one glance.**\n",
    "- A good and attentive developer **divides the code** (or more accurately: the problem) into well-isolated pieces, and **encodes each of them in the form of a function.**\n",
    "- This considerably simplifies the work of the program, because each piece of code can be encoded separately, and tested separately. The process described here is often called **decomposition**.\n",
    "- **if a piece of code becomes so large that reading and understating it may cause a problem, consider dividing it into separate, smaller problems, and implement each of them in the form of a separate function.**"
   ]
  },
  {
   "cell_type": "markdown",
   "metadata": {},
   "source": [
    "### 4.1.1.3 Functions"
   ]
  },
  {
   "cell_type": "markdown",
   "metadata": {},
   "source": [
    "- It seems inconceivable that more than one programmer should write the same piece of code at the same time, so the job has to be dispersed among all the team members.\n",
    "\n",
    "- This kind of decomposition has a different purpose to the one described previously - it's not only about **sharing the work**, but also about **sharing the responsibility** among many developers.\n",
    "\n",
    "- Each of them writes a clearly defined and described set of functions, which when **combined into the module** will give the final product."
   ]
  },
  {
   "cell_type": "markdown",
   "metadata": {},
   "source": [
    "- This leads us directly to the third condition: if you're going to divide the work among multiple programmers, **decompose the problem to allow the product to be implemented as a set of separately written functions packed together in different modules**."
   ]
  },
  {
   "cell_type": "markdown",
   "metadata": {},
   "source": [
    "#### Where do the functions come from?"
   ]
  },
  {
   "cell_type": "markdown",
   "metadata": {},
   "source": [
    "In general, functions come from at least three places:"
   ]
  },
  {
   "cell_type": "markdown",
   "metadata": {},
   "source": [
    "- from Python itself - numerous functions (like `print()`) are an integral part of Python, and are always available without any additional effort on behalf of the programmer; we call these functions **built-in functions**;\n",
    "- from Python's **preinstalled modules** - a lot of functions, very useful ones, but used significantly less often than built-in ones, are available in a number of modules installed together with Python; the use of these functions requires some additional steps from the programmer in order to make them fully accessible (we'll tell you about this in a while);\n",
    "- **directly from your code** - you can write your own functions, place them inside your code, and use them freely;\n",
    "- there is one other possibility, but it's connected with classes"
   ]
  },
  {
   "cell_type": "markdown",
   "metadata": {},
   "source": [
    "#### 4.1.1.4 Writing functions"
   ]
  },
  {
   "cell_type": "markdown",
   "metadata": {},
   "source": [
    "- transforming a repeating part of a code into a function.\n",
    "- change made once in one place would be propagated to all the places where it's used."
   ]
  },
  {
   "cell_type": "markdown",
   "metadata": {},
   "source": [
    "Example: "
   ]
  },
  {
   "cell_type": "code",
   "execution_count": null,
   "metadata": {},
   "outputs": [],
   "source": [
    "def message():\n",
    "    print(\"Enter a value: \")\n",
    "\n",
    "print(\"We start here.\")\n",
    "message()\n",
    "print(\"We end here.\")"
   ]
  },
  {
   "cell_type": "markdown",
   "metadata": {},
   "source": [
    "#### How functions work"
   ]
  },
  {
   "cell_type": "markdown",
   "metadata": {},
   "source": [
    "![](./images/2_howfunwork.png)"
   ]
  },
  {
   "cell_type": "markdown",
   "metadata": {},
   "source": [
    "- You mustn't invoke a function which is not known at the moment of invocation.\n",
    "\n",
    "- Remember - Python reads your code from top to bottom. It's not going to look ahead in order to find a function you forgot to put in the right place (\"right\" means \"before invocation\".)"
   ]
  },
  {
   "cell_type": "markdown",
   "metadata": {},
   "source": [
    "- You mustn't have a function and a variable of the same name.\n",
    "- The following snippet is **erroneous**:"
   ]
  },
  {
   "cell_type": "code",
   "execution_count": null,
   "metadata": {},
   "outputs": [],
   "source": [
    "def message():\n",
    "    print(\"Enter a value: \")\n",
    "\n",
    "message = 1"
   ]
  },
  {
   "cell_type": "markdown",
   "metadata": {},
   "source": [
    "---"
   ]
  },
  {
   "cell_type": "markdown",
   "metadata": {},
   "source": [
    "### 4.1.1.7 SECTION SUMMARY"
   ]
  },
  {
   "cell_type": "markdown",
   "metadata": {},
   "source": [
    "There are at least four basic types of functions in Python:\n",
    "- **built-in functions** which are an integral part of Python (such as the `print()` function). You can see a complete list of Python built-in functions at [python.org](https://docs.python.org/3/library/functions.html).\n",
    "- the ones that come from **pre-installed modules** \n",
    "- **user-defined functions** which are written by users for users - you can write your own functions and use them freely in your code,\n",
    "- the `lambda` functions"
   ]
  },
  {
   "cell_type": "markdown",
   "metadata": {},
   "source": [
    "---"
   ]
  },
  {
   "cell_type": "markdown",
   "metadata": {},
   "source": [
    "### 4.1.2.1 How functions communicate with their environment"
   ]
  },
  {
   "cell_type": "markdown",
   "metadata": {},
   "source": [
    "#### Parametrized functions"
   ]
  },
  {
   "cell_type": "markdown",
   "metadata": {},
   "source": [
    "A parameter is actually a variable, but there are two important factors that make parameters different and special:\n",
    "\n",
    "- **parameters exist only inside functions in which they have been defined**, and the only place where the parameter can be defined is a space between a pair of parentheses in the def statement;\n",
    "- **assigning a value to the parameter is done at the time of the function's invocation**, by specifying the corresponding argument."
   ]
  },
  {
   "cell_type": "markdown",
   "metadata": {},
   "source": [
    "Don't forget:\n",
    "- **parameters live inside functions** (this is their natural environment)\n",
    "- **arguments exist outside functions**, and are carriers of values passed to corresponding parameters.\n",
    "- **specifying one or more parameters in a function's definition** is also a requirement, and you have to fulfil it during invocation. You must **provide as many arguments as there are defined parameters**."
   ]
  },
  {
   "cell_type": "code",
   "execution_count": null,
   "metadata": {},
   "outputs": [],
   "source": [
    "def function(parameter):\n",
    "    ###"
   ]
  },
  {
   "cell_type": "markdown",
   "metadata": {},
   "source": [
    "It's legal, and possible, to have a **variable named the same as a function's parameter**."
   ]
  },
  {
   "cell_type": "code",
   "execution_count": null,
   "metadata": {},
   "outputs": [],
   "source": [
    "def message(number):\n",
    "    print(\"Enter a number:\", number)\n",
    "\n",
    "number = 1234\n",
    "message(1)\n",
    "print(number)"
   ]
  },
  {
   "cell_type": "markdown",
   "metadata": {},
   "source": [
    "- A situation like this activates a mechanism called shadowing\n",
    "- **The parameter named** `number` **is a completely different entity from the variable named** `number`."
   ]
  },
  {
   "cell_type": "markdown",
   "metadata": {},
   "source": [
    "#### Positional parameter passing"
   ]
  },
  {
   "cell_type": "markdown",
   "metadata": {},
   "source": [
    "A technique which assigns the i<sup>th</sup> (first, second, and so on) argument to the i<sup>th</sup> (first, second, and so on) function parameter is called **positional parameter passing**, while arguments passed in this way are named **positional arguments**."
   ]
  },
  {
   "cell_type": "code",
   "execution_count": null,
   "metadata": {},
   "outputs": [],
   "source": [
    "def myFunction(a, b, c):\n",
    "    print(a, b, c)\n",
    "\n",
    "myFunction(1, 2, 3)"
   ]
  },
  {
   "cell_type": "markdown",
   "metadata": {},
   "source": [
    "#### Keyword argument passing"
   ]
  },
  {
   "cell_type": "markdown",
   "metadata": {},
   "source": [
    "- Python offers another convention for passing arguments, where **the meaning of the argument is dictated by its name**, not by its position - it's called **keyword argument passing**.\n",
    "- The position doesn't matter here - each argument's value knows its destination on the basis of the name used."
   ]
  },
  {
   "cell_type": "code",
   "execution_count": null,
   "metadata": {},
   "outputs": [],
   "source": [
    "def introduction(firstName, lastName):\n",
    "    print(\"Hello, my name is\", firstName, lastName)\n",
    "\n",
    "introduction(firstName = \"James\", lastName = \"Bond\")\n",
    "introduction(lastName = \"Skywalker\", firstName = \"Luke\")"
   ]
  },
  {
   "cell_type": "markdown",
   "metadata": {},
   "source": [
    "#### Mixing positional and keyword arguments"
   ]
  },
  {
   "cell_type": "code",
   "execution_count": null,
   "metadata": {},
   "outputs": [],
   "source": [
    "def adding(a, b, c):\n",
    "    print(a, \"+\", b, \"+\", c, \"=\", a + b + c)\n",
    "    \n",
    "adding(3, c = 1, b = 2)"
   ]
  },
  {
   "cell_type": "markdown",
   "metadata": {},
   "source": [
    "- Be careful, and beware of mistakes. If you try to pass more than one value to one argument, all you'll get is a runtime error."
   ]
  },
  {
   "cell_type": "code",
   "execution_count": null,
   "metadata": {},
   "outputs": [],
   "source": [
    "adding(3, a = 1, b = 2)"
   ]
  },
  {
   "cell_type": "markdown",
   "metadata": {},
   "source": [
    "#### Parametrized functions - more details"
   ]
  },
  {
   "cell_type": "markdown",
   "metadata": {},
   "source": [
    "It happens at times that a particular parameter's values are in use more often than others. Such arguments may have their **default (predefined) values** taken into consideration when their corresponding arguments have been omitted."
   ]
  },
  {
   "cell_type": "code",
   "execution_count": null,
   "metadata": {},
   "outputs": [],
   "source": [
    "def introduction(firstName, lastName=\"Smith\"):\n",
    "    print(\"Hello, my name is\", fistName, lastName)"
   ]
  },
  {
   "cell_type": "markdown",
   "metadata": {},
   "source": [
    "It's important to remember that **positional arguments mustn't follow keyword arguments**. That's why if you try to run the following snippet:"
   ]
  },
  {
   "cell_type": "code",
   "execution_count": null,
   "metadata": {},
   "outputs": [],
   "source": [
    "def subtra(a, b):\n",
    "    print(a - b)\n",
    "\n",
    "subtra(5, b=2)    # outputs: 3\n",
    "subtra(a=5, 2)    # Syntax Error"
   ]
  },
  {
   "cell_type": "markdown",
   "metadata": {},
   "source": [
    "Exercise 1:"
   ]
  },
  {
   "cell_type": "code",
   "execution_count": null,
   "metadata": {},
   "outputs": [],
   "source": [
    "def sum(a, b=2, c):\n",
    "    print(a + b + c)\n",
    "\n",
    "sum(a=1, c=3)"
   ]
  },
  {
   "cell_type": "markdown",
   "metadata": {},
   "source": [
    "#### 4.1.3.1 Returning a result from a function"
   ]
  },
  {
   "cell_type": "markdown",
   "metadata": {},
   "source": [
    "The return instruction has `two different variants` - let's consider them separately."
   ]
  },
  {
   "cell_type": "markdown",
   "metadata": {},
   "source": [
    "- return without an expression\n",
    "    - The first consists of the keyword itself, without anything following it.\n",
    "    - When used inside a function, it causes the **immediate termination of the function's execution, and an instant return (hence the name) to the point of invocation**.\n",
    "    - if a function is not intended to produce a result, **using the return instruction is not obligatory** - it will be executed implicitly at the end of the function.\n",
    "    - Anyway, you can use it to **terminate a function's activities on demand**, before the control reaches the function's last line."
   ]
  },
  {
   "cell_type": "code",
   "execution_count": null,
   "metadata": {},
   "outputs": [],
   "source": [
    "def happy_new_year(wishes = True):\n",
    "    print(\"Three...\")\n",
    "    print(\"Two...\")\n",
    "    print(\"One...\")\n",
    "    if not wishes:\n",
    "        return\n",
    "    \n",
    "    print(\"Happy New Year!\")\n",
    "    \n",
    "happy_new_year()\n",
    "happy_new_year(False)"
   ]
  },
  {
   "cell_type": "markdown",
   "metadata": {},
   "source": [
    "- return with an expression\n",
    "    - ```def function():\n",
    "         return expression```\n",
    "    - There are two consequences of using it:\n",
    "        - it causes the **immediate termination of the function's execution** (nothing new compared to the first variant)\n",
    "        - the function will **evaluate the expression's value and will return (hence the name once again) it as the function's result.**"
   ]
  },
  {
   "cell_type": "markdown",
   "metadata": {},
   "source": [
    "Don't forget:\n",
    "- you are always **allowed to ignore the function's result**, and be satisfied with the function's effect (if the function has any)\n",
    "- if a function is intended to return a useful result, it must contain the second variant of the return instruction."
   ]
  },
  {
   "cell_type": "markdown",
   "metadata": {},
   "source": [
    "### 4.1.3.2 Returning a result from a function"
   ]
  },
  {
   "cell_type": "markdown",
   "metadata": {},
   "source": [
    "#### A few words about `None`"
   ]
  },
  {
   "cell_type": "markdown",
   "metadata": {},
   "source": [
    "- Its data doesn't represent any reasonable value - actually, it's not a value at all; hence, it **mustn't take part in any expressions.**"
   ]
  },
  {
   "cell_type": "code",
   "execution_count": null,
   "metadata": {},
   "outputs": [],
   "source": [
    "print(None + 2)"
   ]
  },
  {
   "cell_type": "markdown",
   "metadata": {},
   "source": [
    "- There are only two kinds of circumstances when None can be safely used:\n",
    "    - when you `assign it to a variable` (or return it as a `function's result`)\n",
    "    - when you `compare it with a variable` to diagnose its internal state."
   ]
  },
  {
   "cell_type": "code",
   "execution_count": null,
   "metadata": {},
   "outputs": [],
   "source": [
    "value = None\n",
    "if value is None:\n",
    "   print(\"Sorry, you don't carry any value\")"
   ]
  },
  {
   "cell_type": "markdown",
   "metadata": {},
   "source": [
    "Don't forget this: if a function doesn't return a certain value using a return expression clause, it is assumed that it `implicitly returns` None."
   ]
  },
  {
   "cell_type": "code",
   "execution_count": null,
   "metadata": {},
   "outputs": [],
   "source": [
    "def strangeFunction(n):\n",
    "    if(n % 2 == 0):\n",
    "        return True\n",
    "        \n",
    "print(strangeFunction(2))\n",
    "print(strangeFunction(1))"
   ]
  },
  {
   "cell_type": "markdown",
   "metadata": {},
   "source": [
    "#### Effects and results: lists and functions"
   ]
  },
  {
   "cell_type": "markdown",
   "metadata": {},
   "source": [
    "##### may a list be sent to a function as an argument?"
   ]
  },
  {
   "cell_type": "code",
   "execution_count": null,
   "metadata": {},
   "outputs": [],
   "source": [
    "def list_sum(lst):\n",
    "    s = 0\n",
    "    \n",
    "    for elem in lst:\n",
    "        s += elem\n",
    "    \n",
    "    return s\n",
    "\n",
    "print(list_sum([5, 4, 3]))"
   ]
  },
  {
   "cell_type": "markdown",
   "metadata": {},
   "source": [
    "but you should expect problems if you invoke it in this risky way:"
   ]
  },
  {
   "cell_type": "code",
   "execution_count": null,
   "metadata": {},
   "outputs": [],
   "source": [
    "print(list_sum(5))"
   ]
  },
  {
   "cell_type": "markdown",
   "metadata": {},
   "source": [
    "This is caused by the fact that a **single integer value mustn't be iterated through by the for loop**."
   ]
  },
  {
   "cell_type": "markdown",
   "metadata": {},
   "source": [
    "##### may a list be a function result?"
   ]
  },
  {
   "cell_type": "markdown",
   "metadata": {},
   "source": [
    "Yes, of course! Any entity recognizable by Python can be a function result."
   ]
  },
  {
   "cell_type": "code",
   "execution_count": null,
   "metadata": {},
   "outputs": [],
   "source": [
    "def strangeListFunction(n):\n",
    "    strangeList = []\n",
    "    \n",
    "    for i in range(0, n):\n",
    "        strangeList.insert(0, i)\n",
    "    \n",
    "    return strangeList\n",
    "\n",
    "print(strangeListFunction(5))"
   ]
  },
  {
   "cell_type": "markdown",
   "metadata": {},
   "source": [
    "### 4.1.3.6 LAB: A leap year: writing your own functions"
   ]
  },
  {
   "cell_type": "markdown",
   "metadata": {},
   "source": [
    "Scenario\n",
    "- Your task is to write and test a function which takes one argument (a year) and returns True if the year is a leap year, or False otherwise."
   ]
  },
  {
   "cell_type": "markdown",
   "metadata": {},
   "source": [
    "閏年規則如下：\n",
    "\n",
    "１.不可被4整除者為平年。\n",
    "\n",
    "２.可被4整除且不為100整除者為閏年。\n",
    "\n",
    "３.可被400整除為閏年。\n",
    "\n",
    "４.可被1000整除為閏年。"
   ]
  },
  {
   "cell_type": "code",
   "execution_count": null,
   "metadata": {},
   "outputs": [],
   "source": [
    "def isYearLeap(year):\n",
    "    if (year % 4) != 0:\n",
    "        return False\n",
    "    elif (year % 1000 == 0) or (year % 400 == 0):\n",
    "        return True\n",
    "    elif (year % 4 ==0) and (year % 100 != 0):\n",
    "        return True\n",
    "    else:\n",
    "        return False\n",
    " \n",
    "testData = [1900, 2000, 2016, 1987]\n",
    "testResults = [False, True, True, False]\n",
    "for i in range(len(testData)):\n",
    "\tyr = testData[i]\n",
    "\tprint(yr,\"->\",end=\"\")\n",
    "\tresult = isYearLeap(yr)\n",
    "\tif result == testResults[i]:\n",
    "\t\tprint(\"OK\")\n",
    "\telse:\n",
    "\t\tprint(\"Failed\")"
   ]
  },
  {
   "cell_type": "markdown",
   "metadata": {},
   "source": [
    "### 4.1.3.7 LAB: How many days: writing and using your own functions\n"
   ]
  },
  {
   "cell_type": "markdown",
   "metadata": {},
   "source": [
    "Scenario\n",
    "- Your task is to write and test a function which takes two arguments (a year and a month) and returns the number of days for the given month/year pair (while only February is sensitive to the `year` value, your function should be universal).\n",
    "\n",
    "- The initial part of the function is ready. Now, convince the function to return `None` if its arguments don't make sense."
   ]
  },
  {
   "cell_type": "code",
   "execution_count": null,
   "metadata": {},
   "outputs": [],
   "source": [
    "def isYearLeap(year):\n",
    "    if (year % 4) != 0:\n",
    "        return False\n",
    "    elif (year % 1000 == 0) or (year % 400 == 0):\n",
    "        return True\n",
    "    elif (year % 4 ==0) and (year % 100 != 0):\n",
    "        return True\n",
    "    else:\n",
    "        return False\n",
    "\n",
    "def daysInMonth(year, month):\n",
    "    if month in range(1, 13):\n",
    "        if isYearLeap(year):\n",
    "            if month == 2:\n",
    "                return 29\n",
    "            elif month in [4, 6, 9, 11]:\n",
    "                return 30\n",
    "            elif month in [1, 3, 5, 7, 8, 10, 12]:\n",
    "                return 31\n",
    "\n",
    "        else:\n",
    "            if month ==2:\n",
    "                return 28\n",
    "            elif month in [4, 6, 9, 11]:\n",
    "                return 30\n",
    "            elif month in [1, 3, 5, 7, 8, 10, 12]:\n",
    "                return 31\n",
    "        \n",
    "testYears = [1900, 2000, 2016, 1987]\n",
    "testMonths = ['a', 2, 14, 11]\n",
    "testResults = [None, 29, None, 30]\n",
    "for i in range(len(testYears)):\n",
    "    yr = testYears[i]\n",
    "    mo = testMonths[i]\n",
    "    print(yr, mo, \"->\", end=\"\")\n",
    "    result = daysInMonth(yr, mo)\n",
    "    if result == testResults[i]:\n",
    "        print(\"OK\")\n",
    "    else:\n",
    "        print(\"Failed\")"
   ]
  },
  {
   "cell_type": "markdown",
   "metadata": {},
   "source": [
    "### 4.1.3.8 LAB: Day of the year: writing and using your own functions"
   ]
  },
  {
   "cell_type": "markdown",
   "metadata": {},
   "source": [
    "Scenario\n",
    "- Your task is to write and test a function which takes three arguments (a year, a month, and a day of the month) and returns the corresponding day of the year, or returns `None` if any of the arguments is invalid."
   ]
  },
  {
   "cell_type": "code",
   "execution_count": null,
   "metadata": {},
   "outputs": [],
   "source": [
    "def isYearLeap(year):\n",
    "    if (year % 4) != 0:\n",
    "        return False\n",
    "    elif (year % 1000 == 0) or (year % 400 == 0):\n",
    "        return True\n",
    "    elif (year % 4 ==0) and (year % 100 != 0):\n",
    "        return True\n",
    "    else:\n",
    "        return False\n",
    "\n",
    "def daysInMonth(year, month):\n",
    "    if month in range(1, 13):\n",
    "        if isYearLeap(year):\n",
    "            if month == 2:\n",
    "                return 29\n",
    "            elif month in [4, 6, 9, 11]:\n",
    "                return 30\n",
    "            elif month in [1, 3, 5, 7, 8, 10, 12]:\n",
    "                return 31\n",
    "\n",
    "        else:\n",
    "            if month ==2:\n",
    "                return 28\n",
    "            elif month in [4, 6, 9, 11]:\n",
    "                return 30\n",
    "            elif month in [1, 3, 5, 7, 8, 10, 12]:\n",
    "                return 31\n",
    "        \n",
    "#當年的第幾天\n",
    "def dayOfYear(year, month, day):\n",
    "    if day in range(1, 32):\n",
    "        total = 0\n",
    "        for i in range(1, month):\n",
    "            days = daysInMonth(year, i)\n",
    "            total += days\n",
    "        allDayOfTheYear = total + day   \n",
    "        return allDayOfTheYear \n",
    "        \n",
    "print(dayOfYear(1998, 1, 37))\n",
    "print(dayOfYear(2000, 12, 31))"
   ]
  },
  {
   "cell_type": "markdown",
   "metadata": {},
   "source": [
    "### 4.1.3.9 LAB: Prime numbers - how to find them"
   ]
  },
  {
   "cell_type": "markdown",
   "metadata": {},
   "source": [
    "Scenario\n",
    "\n",
    "- A natural number is prime if it is greater than 1 and has no divisors other than 1 and itself.\n",
    "- Complicated? Not at all. For example, 8 isn't a prime number, as you can divide it by 2 and 4 (we can't use divisors equal to 1 and 8, as the definition prohibits this).\n",
    "- On the other hand, 7 is a prime number, as we can't find any legal divisors for it.\n",
    "- Your task is to write a function checking whether a number is prime or not.\n",
    "- The function:\n",
    "    - is called `isPrime`;\n",
    "    - takes one argument (the value to check)\n",
    "    - returns `True` if the argument is a prime number, and `False` otherwise.\n",
    "- Hint: try to divide the argument by all subsequent values (starting from 2) and check the remainder - if it's zero, your number cannot be a prime; think carefully about when you should stop the process.\n",
    "- If you need to know the square root of any value, you can utilize the `**` operator. Remember: the square root of x is the same as x<sup>0.5</sup>"
   ]
  },
  {
   "cell_type": "code",
   "execution_count": null,
   "metadata": {},
   "outputs": [],
   "source": [
    "def isPrime(num):\n",
    "    if num == 1 or num == 2:\n",
    "        return True\n",
    "    else:\n",
    "        for i in range(2,num):\n",
    "            if num % i ==0:\n",
    "                return False\n",
    "                break\n",
    "        return True\n",
    "\n",
    "for i in range(1, 20):\n",
    "    if isPrime(i + 1):\n",
    "        print(i + 1, end=\" \")"
   ]
  },
  {
   "cell_type": "markdown",
   "metadata": {},
   "source": [
    "### 4.1.3.10 LAB: Converting fuel consumption"
   ]
  },
  {
   "cell_type": "markdown",
   "metadata": {},
   "source": [
    "Scenario\n",
    "- A car's fuel consumption may be expressed in many different ways. For example, in Europe, it is shown as the amount of fuel consumed per 100 kilometers.\n",
    "- In the USA, it is shown as the number of miles traveled by a car using one gallon of fuel.\n",
    "- Your task is to write a pair of functions converting l/100km into mpg, and vice versa.\n",
    "The functions:\n",
    "- are named l100kmtompg and mpgtol100km respectively;\n",
    "- take one argument (the value corresponding to their names)\n",
    "- 1 American mile = 1609.344 metres;\n",
    "- 1 American gallon = 3.785411784 litres."
   ]
  },
  {
   "cell_type": "code",
   "execution_count": null,
   "metadata": {},
   "outputs": [],
   "source": [
    "def l100kmtompg(liters):\n",
    "    gallon = liters/3.785411784\n",
    "    mile = 100000/1609.344\n",
    "    return mile/ gallon\n",
    "\n",
    "\n",
    "def mpgtol100km(miles):\n",
    "    l100km = miles*1609.344/100000\n",
    "    liters = 3.785411784 \n",
    "    return liters / l100km\n",
    "\n",
    "print(l100kmtompg(3.9))\n",
    "print(l100kmtompg(7.5))\n",
    "print(l100kmtompg(10.))\n",
    "print(mpgtol100km(60.3))\n",
    "print(mpgtol100km(31.4))\n",
    "print(mpgtol100km(23.5))"
   ]
  },
  {
   "cell_type": "markdown",
   "metadata": {},
   "source": [
    "---"
   ]
  },
  {
   "cell_type": "markdown",
   "metadata": {},
   "source": [
    "### 4.1.3.11 SECTION SUMMARY"
   ]
  },
  {
   "cell_type": "code",
   "execution_count": null,
   "metadata": {},
   "outputs": [],
   "source": [
    "# Example 1\n",
    "def wishes():\n",
    "    print(\"My Wishes\")\n",
    "    return \"Happy Birthday\"\n",
    "\n",
    "wishes()    # outputs: My Wishes\n",
    "\n",
    "\n",
    "# Example 2\n",
    "def wishes():\n",
    "    print(\"My Wishes\")\n",
    "    return \"Happy Birthday\"\n",
    "\n",
    "print(wishes())    # outputs: My Wishes\n",
    "                   #          Happy Birthday"
   ]
  },
  {
   "cell_type": "markdown",
   "metadata": {},
   "source": [
    "---"
   ]
  },
  {
   "cell_type": "markdown",
   "metadata": {},
   "source": [
    "### 4.1.4.1 Scopes in Python"
   ]
  },
  {
   "cell_type": "markdown",
   "metadata": {},
   "source": [
    "#### Functions and scopes"
   ]
  },
  {
   "cell_type": "markdown",
   "metadata": {},
   "source": [
    "- The `scope of a name` (e.g., a variable name) is the part of a code where the name is properly recognizable.\n",
    "- For example, the scope of a function's parameter is the function itself. The parameter is inaccessible outside the function."
   ]
  },
  {
   "cell_type": "markdown",
   "metadata": {},
   "source": [
    "Experiment 1: "
   ]
  },
  {
   "cell_type": "code",
   "execution_count": null,
   "metadata": {},
   "outputs": [],
   "source": [
    "def myFunction():\n",
    "    print(\"Do I know that variable?\", var)\n",
    "\n",
    "var = 1\n",
    "myFunction()\n",
    "print(var)"
   ]
  },
  {
   "cell_type": "markdown",
   "metadata": {},
   "source": [
    "Experiment 2:"
   ]
  },
  {
   "cell_type": "code",
   "execution_count": null,
   "metadata": {},
   "outputs": [],
   "source": [
    "def myFunction():\n",
    "    var = 2\n",
    "    print(\"Do I know that variable?\", var)\n",
    "\n",
    "var = 1\n",
    "myFunction()\n",
    "print(var)"
   ]
  },
  {
   "cell_type": "markdown",
   "metadata": {},
   "source": [
    "- **A variable existing outside a function has a scope inside the functions' bodies, excluding those of them which define a variable of the same name**.\n",
    "\n",
    "- It also means that **the scope of a variable existing outside a function is supported only when getting its value** (reading). Assigning a value forces the creation of the function's own variable."
   ]
  },
  {
   "cell_type": "markdown",
   "metadata": {},
   "source": [
    "#### Functions and scopes: the global keyword"
   ]
  },
  {
   "cell_type": "markdown",
   "metadata": {},
   "source": [
    "- There's a special Python method which can `extend a variable's scope in a way which includes the functions' bodies` (even if you want not only to read the values, but also to modify them)."
   ]
  },
  {
   "cell_type": "markdown",
   "metadata": {},
   "source": [
    "```\n",
    "global name\n",
    "global name1, name2, ...\n",
    "```"
   ]
  },
  {
   "cell_type": "markdown",
   "metadata": {},
   "source": [
    "- Using this keyword inside a function with the name (or names separated with commas) of a variable(s), forces Python to refrain from creating a new variable inside the function - the one accessible from outside will be used instead."
   ]
  },
  {
   "cell_type": "markdown",
   "metadata": {},
   "source": [
    "Experiment:"
   ]
  },
  {
   "cell_type": "code",
   "execution_count": null,
   "metadata": {},
   "outputs": [],
   "source": [
    "def myFunction():\n",
    "    global var\n",
    "    var = 2\n",
    "    print(\"Do I know that variable?\", var)\n",
    "\n",
    "var = 1\n",
    "myFunction()\n",
    "print(var)"
   ]
  },
  {
   "cell_type": "markdown",
   "metadata": {},
   "source": [
    "#### How the function interacts with its arguments"
   ]
  },
  {
   "cell_type": "markdown",
   "metadata": {},
   "source": [
    "Experiment 1: "
   ]
  },
  {
   "cell_type": "code",
   "execution_count": null,
   "metadata": {},
   "outputs": [],
   "source": [
    "def myFunction(n):\n",
    "    print(\"I got\", n)\n",
    "    n += 1\n",
    "    print(\"I have\", n)\n",
    "\n",
    "var = 1\n",
    "myFunction(var)\n",
    "print(var)"
   ]
  },
  {
   "cell_type": "markdown",
   "metadata": {},
   "source": [
    "Experiment 2:"
   ]
  },
  {
   "cell_type": "code",
   "execution_count": null,
   "metadata": {},
   "outputs": [],
   "source": [
    "def myFunction(myList1):\n",
    "    print(myList1)\n",
    "    myList1 = [0, 1]\n",
    "\n",
    "myList2 = [2, 3]\n",
    "myFunction(myList2)\n",
    "print(myList2)"
   ]
  },
  {
   "cell_type": "markdown",
   "metadata": {},
   "source": [
    "Experiment 3: "
   ]
  },
  {
   "cell_type": "code",
   "execution_count": null,
   "metadata": {},
   "outputs": [],
   "source": [
    "def myFunction(myList1):\n",
    "    print(myList1)\n",
    "    del myList1[0]\n",
    "\n",
    "myList2 = [2, 3]\n",
    "myFunction(myList2)\n",
    "print(myList2)"
   ]
  },
  {
   "cell_type": "markdown",
   "metadata": {},
   "source": [
    "- if the argument is a list, then changing the value of the corresponding parameter doesn't affect the list (remember: variables containing lists are stored in a different way than scalars)\n",
    "- but if you change a list identified by the parameter (note: the list, not the parameter!), the list will reflect the change."
   ]
  },
  {
   "cell_type": "markdown",
   "metadata": {},
   "source": [
    "---"
   ]
  },
  {
   "cell_type": "markdown",
   "metadata": {},
   "source": [
    "### 4.1.5.3 Creating functions | three-parameter functions"
   ]
  },
  {
   "cell_type": "markdown",
   "metadata": {},
   "source": [
    "![](./images/3_bmi.png)"
   ]
  },
  {
   "cell_type": "markdown",
   "metadata": {},
   "source": [
    "#### Some simple functions: evaluating BMI and converting imperial units to metric units"
   ]
  },
  {
   "cell_type": "markdown",
   "metadata": {},
   "source": [
    "- take a look at the way the backslash (`\\`) symbol is used. If you use it in Python code and end a line with it, it will tell Python to continue the line of code in the next line of code."
   ]
  },
  {
   "cell_type": "code",
   "execution_count": null,
   "metadata": {},
   "outputs": [],
   "source": [
    "# 1 ft = 0.3048 m, and 1 in = 2.54 cm = 0.0254 m\n",
    "def ftintom(ft, inch = 0.0):\n",
    "    return ft * 0.3048 + inch * 0.0254\n",
    "\n",
    "# 1 lb = 0.45359237 kg\n",
    "def lbstokg(lb):\n",
    "    return lb * 0.45359237\n",
    "\n",
    "\n",
    "def bmi(weight, height):\n",
    "    if height < 1.0 or height > 2.5 or \\\n",
    "    weight < 20 or weight > 200:\n",
    "        return None\n",
    "    \n",
    "    return weight / height ** 2\n",
    "\n",
    "\n",
    "print(bmi(weight = lbstokg(176), height = ftintom(5, 7)))"
   ]
  },
  {
   "cell_type": "markdown",
   "metadata": {},
   "source": [
    "---"
   ]
  },
  {
   "cell_type": "markdown",
   "metadata": {},
   "source": [
    "### 4.1.5.3 Creating functions | three-parameter functions"
   ]
  },
  {
   "cell_type": "markdown",
   "metadata": {},
   "source": [
    "![](./images/4_triangle.png)"
   ]
  },
  {
   "cell_type": "markdown",
   "metadata": {},
   "source": [
    "- We know from school that the sum of two arbitrary sides has to be longer than the third side."
   ]
  },
  {
   "cell_type": "code",
   "execution_count": null,
   "metadata": {},
   "outputs": [],
   "source": [
    "def isItATriangle(a, b, c):\n",
    "    if a + b <= c:\n",
    "        return False\n",
    "    if b + c <= a:\n",
    "        return False\n",
    "    if c + a <= b:\n",
    "        return False\n",
    "    return True\n",
    "\n",
    "print(isItATriangle(1, 1, 1))\n",
    "print(isItATriangle(1, 1, 3))"
   ]
  },
  {
   "cell_type": "markdown",
   "metadata": {},
   "source": [
    "more compact version:"
   ]
  },
  {
   "cell_type": "code",
   "execution_count": null,
   "metadata": {},
   "outputs": [],
   "source": [
    "def isItATriangle(a, b, c):\n",
    "    if a + b <= c or b + c <= a or \\\n",
    "    c + a <= b:\n",
    "        return False\n",
    "    return True\n",
    "\n",
    "print(isItATriangle(1, 1, 1))\n",
    "print(isItATriangle(1, 1, 3))"
   ]
  },
  {
   "cell_type": "markdown",
   "metadata": {},
   "source": [
    "even more compact"
   ]
  },
  {
   "cell_type": "code",
   "execution_count": null,
   "metadata": {},
   "outputs": [],
   "source": [
    "def isItATriangle(a, b, c):\n",
    "    return a + b > c and b + c > a and c + a > b\n",
    "\n",
    "print(isItATriangle(1, 1, 1))\n",
    "print(isItATriangle(1, 1, 3))"
   ]
  },
  {
   "cell_type": "markdown",
   "metadata": {},
   "source": [
    "---"
   ]
  },
  {
   "cell_type": "markdown",
   "metadata": {},
   "source": [
    "### 4.1.5.4 Creating functions | testing triangles"
   ]
  },
  {
   "cell_type": "markdown",
   "metadata": {},
   "source": [
    "- In the second step, we'll try to ensure that a certain triangle is a right-angle triangle.\n",
    "\n",
    "- We will need to make use of the Pythagorean theorem:\n",
    "\n",
    "    `c2 = a2 + b2`\n",
    "\n",
    "\n",
    "- How do we recognize which of the three sides is the hypotenuse?\n",
    "\n",
    "- `The hypotenuse is the longest side`."
   ]
  },
  {
   "cell_type": "code",
   "execution_count": null,
   "metadata": {},
   "outputs": [],
   "source": [
    "def isItATriangle(a, b, c):\n",
    "    return a + b > c and b + c > a and c + a > b\n",
    "    \n",
    "def isItRightTriangle(a, b, c):\n",
    "    if not isItATriangle(a, b, c):\n",
    "        return False\n",
    "    if c > a and c > b:\n",
    "        return c ** 2 == a ** 2 + b ** 2\n",
    "    if a > b and a > c:\n",
    "        return a ** 2 == b ** 2 + c ** 2\n",
    "\n",
    "a = float(input(\"Enter the first side's length: \"))\n",
    "b = float(input(\"Enter the second side's length: \"))\n",
    "c = float(input(\"Enter the third side's length: \"))\n",
    "\n",
    "if isItATriangle(a, b, c):\n",
    "    print(\"Congratulations - it can be a triangle.\")\n",
    "else:\n",
    "    print(\"Sorry, it won't be a triangle.\")\n",
    "    \n",
    "print(isItRightTriangle(5, 3, 4))\n",
    "print(isItRightTriangle(1, 3, 4))"
   ]
  },
  {
   "cell_type": "markdown",
   "metadata": {},
   "source": [
    "### 4.1.5.5 Creating functions | right-angle triangles"
   ]
  },
  {
   "cell_type": "markdown",
   "metadata": {},
   "source": [
    "![](./images/5_Herons_formula.png)"
   ]
  },
  {
   "cell_type": "code",
   "execution_count": null,
   "metadata": {},
   "outputs": [],
   "source": [
    "def isItATriangle(a, b, c):\n",
    "    return a + b > c and b + c > a and c + a > b\n",
    "\n",
    "def heron(a, b, c):\n",
    "    p = (a + b + c) / 2\n",
    "    return (p * (p - a) * (p - b) * (p - c)) ** 0.5\n",
    "\n",
    "def fieldOfTriangle(a, b, c):\n",
    "    if not isItATriangle(a, b, c):\n",
    "        return None\n",
    "    return heron(a, b, c)\n",
    "\n",
    "print(fieldOfTriangle(1., 1., 2. ** .5))"
   ]
  },
  {
   "cell_type": "markdown",
   "metadata": {},
   "source": [
    "- We try it with a right-angle triangle as a half of a square with one side equal to 1. This means that its field should be equal to 0.5.\n",
    "- It's very close to 0.5, but it isn't exactly 0.5. What does it mean? Is it an error?\n",
    "- No, it isn't. This is the specifics of floating-point calculations."
   ]
  },
  {
   "cell_type": "markdown",
   "metadata": {},
   "source": [
    "--- "
   ]
  },
  {
   "cell_type": "markdown",
   "metadata": {},
   "source": [
    "### 4.1.5.6 Creating functions | factorials"
   ]
  },
  {
   "cell_type": "code",
   "execution_count": null,
   "metadata": {},
   "outputs": [],
   "source": [
    "0! = 1 (yes! it's true)\n",
    "1! = 1\n",
    "2! = 1 * 2\n",
    "3! = 1 * 2 * 3\n",
    "4! = 1 * 2 * 3 * 4\n",
    ":\n",
    ":\n",
    "n! = 1 * 2 ** 3 * 4 * ... * n-1 * n"
   ]
  },
  {
   "cell_type": "markdown",
   "metadata": {},
   "source": [
    "Here is the code:"
   ]
  },
  {
   "cell_type": "code",
   "execution_count": null,
   "metadata": {},
   "outputs": [],
   "source": [
    "def factorialFun(n):\n",
    "    if n < 0:\n",
    "        return None\n",
    "    if n < 2:\n",
    "        return 1\n",
    "    \n",
    "    product = 1\n",
    "    for i in range(2, n + 1):\n",
    "        product *= i\n",
    "    return product\n",
    "\n",
    "for n in range(1, 6): # testing\n",
    "    print(n, factorialFun(n))"
   ]
  },
  {
   "cell_type": "markdown",
   "metadata": {},
   "source": [
    "### 4.1.5.7 Creating functions | Fibonacci numbers"
   ]
  },
  {
   "cell_type": "markdown",
   "metadata": {},
   "source": [
    "![](./images/6_fabonacci.png)"
   ]
  },
  {
   "cell_type": "markdown",
   "metadata": {},
   "source": [
    "- Analyze the `for` loop body carefully, and find out how we move the `elem1` and `elem2` **variables through the subsequent Fibonacci numbers**."
   ]
  },
  {
   "cell_type": "code",
   "execution_count": null,
   "metadata": {},
   "outputs": [],
   "source": [
    "def fib(n):\n",
    "    if n < 1:\n",
    "         return None\n",
    "    if n < 3:\n",
    "        return 1\n",
    "\n",
    "    elem1 = elem2 = 1\n",
    "    sum = 0\n",
    "    for i in range(3, n + 1):\n",
    "        sum = elem1 + elem2\n",
    "        elem1, elem2 = elem2, sum\n",
    "    return sum\n",
    "\n",
    "for n in range(1, 10): # testing\n",
    "    print(n, \"->\", fib(n))"
   ]
  },
  {
   "cell_type": "markdown",
   "metadata": {},
   "source": [
    "---"
   ]
  },
  {
   "cell_type": "markdown",
   "metadata": {},
   "source": [
    "### 4.1.5.8 Creating functions | recursion"
   ]
  },
  {
   "cell_type": "markdown",
   "metadata": {},
   "source": [
    "- recursion is a `technique where a function invokes itself`.\n",
    "- The Fibonacci numbers definition is a clear example of recursion. We already told you that:\n",
    "\n",
    "    `Fibi = Fibi-1 + Fibi-2`\n",
    "    \n",
    "\n",
    "- **If you forget to consider the conditions which can stop the chain of recursive invocations, the program may enter an infinite loop**. You have to be careful."
   ]
  },
  {
   "cell_type": "code",
   "execution_count": null,
   "metadata": {},
   "outputs": [],
   "source": [
    "def fib(n):\n",
    "    if n < 1:\n",
    "        return None\n",
    "    if n < 3:\n",
    "        return 1\n",
    "    return fib(n - 1) + fib(n - 2)"
   ]
  },
  {
   "cell_type": "markdown",
   "metadata": {},
   "source": [
    "- The factorial has a second, recursive side too.\n",
    "\n",
    "    `n! = (n-1)! × n`"
   ]
  },
  {
   "cell_type": "code",
   "execution_count": null,
   "metadata": {},
   "outputs": [],
   "source": [
    "def factorialFun(n):\n",
    "    if n < 0:\n",
    "        return None\n",
    "    if n < 2:\n",
    "        return 1\n",
    "    return n * factorialFun(n - 1)"
   ]
  },
  {
   "cell_type": "markdown",
   "metadata": {},
   "source": [
    "---"
   ]
  },
  {
   "cell_type": "markdown",
   "metadata": {},
   "source": [
    "### 4.1.5.9 SECTION SUMMARY"
   ]
  },
  {
   "cell_type": "markdown",
   "metadata": {},
   "source": [
    "- You can use recursive functions in Python to write **clean, elegant code, and divide it into smaller, organized chunks**. \n",
    "\n",
    "- On the other hand, you need to be very careful as it might be **easy to make a mistake and create a function which never terminates**. \n",
    "\n",
    "- You also need to remember that **recursive calls consume a lot of memory**, and therefore may sometimes be inefficient.\n",
    "\n",
    "- When using recursion, you need to take all its advantages and disadvantages into consideration."
   ]
  },
  {
   "cell_type": "markdown",
   "metadata": {},
   "source": [
    "Exercise 1:"
   ]
  },
  {
   "cell_type": "markdown",
   "metadata": {},
   "source": [
    "What will happen when you attempt to run the following snippet and why?"
   ]
  },
  {
   "cell_type": "code",
   "execution_count": null,
   "metadata": {},
   "outputs": [],
   "source": [
    "def factorial(n):\n",
    "    return n * factorial(n - 1)\n",
    "\n",
    "print(factorial(4))"
   ]
  },
  {
   "cell_type": "markdown",
   "metadata": {},
   "source": [
    "Answer -> The factorial function has no termination condition (no base case) so Python will throw an exception `(RecursionError: maximum recursion depth exceeded)`"
   ]
  },
  {
   "cell_type": "markdown",
   "metadata": {},
   "source": [
    "Exercise 2:"
   ]
  },
  {
   "cell_type": "markdown",
   "metadata": {},
   "source": [
    "What is the output of the following snippet?"
   ]
  },
  {
   "cell_type": "code",
   "execution_count": null,
   "metadata": {},
   "outputs": [],
   "source": [
    "def fun(a):\n",
    "    if a > 30:\n",
    "        return 3\n",
    "    else:\n",
    "        return a + fun(a + 3)\n",
    "\n",
    "print(fun(25))"
   ]
  },
  {
   "cell_type": "markdown",
   "metadata": {},
   "source": [
    "Answer:\n",
    "\n",
    "```\n",
    "fun(25) = 25 + fun(28)\n",
    "fun(28) = 28 +fun(31)\n",
    "fun(31) = 3\n",
    "```\n",
    "\n",
    "output: 56"
   ]
  },
  {
   "cell_type": "markdown",
   "metadata": {},
   "source": [
    "---"
   ]
  },
  {
   "cell_type": "markdown",
   "metadata": {},
   "source": [
    "### 4.1.6.1 Tuples and dictionaries"
   ]
  },
  {
   "cell_type": "markdown",
   "metadata": {},
   "source": [
    "#### Sequence types and mutability"
   ]
  },
  {
   "cell_type": "markdown",
   "metadata": {},
   "source": [
    "- Sequence Type:\n",
    "    - A `sequence type is a type of data in Python which is able to store more than one value (or less than one, as a sequence may be empty), and these values can be sequentially (hence the name) browsed`, element by element.\n",
    "\n",
    "    - **a sequence is data which can be scanned by the `for` loop**."
   ]
  },
  {
   "cell_type": "markdown",
   "metadata": {},
   "source": [
    "- Mutability:\n",
    "    - mutable: mutable data can be freely updated at any time - we call such an operation in situ.\n",
    "        - *In situ* is a Latin phrase that translates as literally in position\n",
    "    - immutability: \n",
    "        - Imagine that a list can only be assigned and read over. \n",
    "        - You would be able neither to append an element to it, nor remove any element from it. \n",
    "        - This means that appending an element to the end of the list would require the recreation of the list from scratch."
   ]
  },
  {
   "cell_type": "markdown",
   "metadata": {},
   "source": [
    "### Tuple"
   ]
  },
  {
   "cell_type": "markdown",
   "metadata": {},
   "source": [
    "- tuples prefer to use parenthesis\n",
    "- it's also possible to create a tuple just from a set of values separated by commas.\n",
    "- Note: each tuple element may be of a different type (floating-point, integer, or any other not-as-yet-introduced kind of data)."
   ]
  },
  {
   "cell_type": "code",
   "execution_count": null,
   "metadata": {},
   "outputs": [],
   "source": [
    "tuple1 = (1, 2, 4, 4, 8)\n",
    "tuple2 = 1., .5, .25, .125\n",
    "\n",
    "print(tuple1)\n",
    "print(tuple2)"
   ]
  },
  {
   "cell_type": "markdown",
   "metadata": {},
   "source": [
    "- If you want to create a `one-element tuple`, you have to take into consideration the fact that, due to syntax reasons (a tuple has to be distinguishable from an ordinary, single value), you must end the value with a comma:"
   ]
  },
  {
   "cell_type": "code",
   "execution_count": null,
   "metadata": {},
   "outputs": [],
   "source": [
    "oneElementTuple1 = (1, )\n",
    "oneElementTuple2 = 1.,"
   ]
  },
  {
   "cell_type": "markdown",
   "metadata": {},
   "source": [
    "- don't try to modify a tuple's contents"
   ]
  },
  {
   "cell_type": "code",
   "execution_count": null,
   "metadata": {},
   "outputs": [],
   "source": [
    "myTuple = (1, 10, 100, 1000)\n",
    "\n",
    "myTuple.append(10000)\n",
    "del myTuple[0]\n",
    "myTuple[1] = -10"
   ]
  },
  {
   "cell_type": "code",
   "execution_count": null,
   "metadata": {},
   "outputs": [],
   "source": [
    "myTuple = (1, 10, 100, 1000)\n",
    "\n",
    "print(myTuple[0])\n",
    "print(myTuple[-1])\n",
    "print(myTuple[1:])\n",
    "print(myTuple[:-2])\n",
    "\n",
    "for elem in myTuple:\n",
    "    print(elem)"
   ]
  },
  {
   "cell_type": "markdown",
   "metadata": {},
   "source": [
    "- the `len()` function accepts tuples, and returns the number of elements contained inside;\n",
    "- the `+` operator can join tuples together\n",
    "- the `*` operator can multiply tuples, just like lists;\n",
    "- the `in` and `not in` operators work in the same way as in lists."
   ]
  },
  {
   "cell_type": "code",
   "execution_count": null,
   "metadata": {},
   "outputs": [],
   "source": [
    "myTuple = (1, 10, 100)\n",
    "\n",
    "t1 = myTuple + (1000, 10000)\n",
    "t2 = myTuple * 3\n",
    "\n",
    "print(len(t2))\n",
    "print(t1)\n",
    "print(t2)\n",
    "print(10 in myTuple)\n",
    "print(-10 not in myTuple)"
   ]
  },
  {
   "cell_type": "markdown",
   "metadata": {},
   "source": [
    "- One of the most useful tuple properties is their ability to **appear on the left side of the assignment operator**\n",
    "- a tuple's elements can be variables, not only literals."
   ]
  },
  {
   "cell_type": "code",
   "execution_count": null,
   "metadata": {},
   "outputs": [],
   "source": [
    "var = 123\n",
    "\n",
    "t1 = (1, )\n",
    "t2 = (2, )\n",
    "t3 = (3, var)\n",
    "\n",
    "t1, t2, t3 = t2, t3, t1\n",
    "\n",
    "print(t1, t2, t3)"
   ]
  },
  {
   "cell_type": "markdown",
   "metadata": {},
   "source": [
    "### Dictionarey"
   ]
  },
  {
   "cell_type": "markdown",
   "metadata": {},
   "source": [
    "- It's **not a sequence type** (but can be easily adapted to sequence processing) and it is **mutable**"
   ]
  },
  {
   "cell_type": "markdown",
   "metadata": {},
   "source": [
    "This means that a dictionary is a set of `key-value` pairs. Note:\n",
    "\n",
    "- each key must be **unique** - it's not possible to have more than one key of the same value;\n",
    "- a key may be **data of any type** (except list): it may be a number (integer or float), or even a string;\n",
    "- a dictionary is not a list - a list contains a set of numbered values, while a **dictionary holds pairs of values**;\n",
    "- the len() function works for dictionaries, too - it returns the numbers of key-value elements in the dictionary;\n",
    "- a dictionary is a **one-way tool** - if you have an English-French dictionary, you can look for French equivalents of English terms, but not vice versa."
   ]
  },
  {
   "cell_type": "code",
   "execution_count": null,
   "metadata": {},
   "outputs": [],
   "source": [
    "dictionary = {\"cat\" : \"chat\", \"dog\" : \"chien\", \"horse\" : \"cheval\"}\n",
    "phone_numbers = {'boss' : 5551234567, 'Suzy' : 22657854310}\n",
    "empty_dictionary = {}\n",
    "\n",
    "print(dictionary)\n",
    "print(phone_numbers)\n",
    "print(empty_dictionary)"
   ]
  },
  {
   "cell_type": "markdown",
   "metadata": {},
   "source": [
    "- The order in which a dictionary **stores its data is completely out of your control**\n",
    "- In Python 3.6x dictionaries have become ordered collections by default. Your results may vary depending on what Python version you're using."
   ]
  },
  {
   "cell_type": "markdown",
   "metadata": {},
   "source": [
    "- keys are case-sensitive: `'Suzy'` is something different from `'suzy'`."
   ]
  },
  {
   "cell_type": "code",
   "execution_count": null,
   "metadata": {},
   "outputs": [],
   "source": [
    "dictionary = {\"cat\" : \"chat\", \"dog\" : \"chien\", \"horse\" : \"cheval\"}\n",
    "words = ['cat', 'lion', 'horse']\n",
    "\n",
    "for word in words:\n",
    "    if word in dictionary:\n",
    "        print(word, \"->\", dictionary[word])\n",
    "    else:\n",
    "        print(word, \"is not in dictionary\")"
   ]
  },
  {
   "cell_type": "markdown",
   "metadata": {},
   "source": [
    "#### The keys()"
   ]
  },
  {
   "cell_type": "markdown",
   "metadata": {},
   "source": [
    "- Can dictionaries be browsed using the for loop, like lists or tuples?\n",
    "    - No, because a dictionary is **not a sequence type** - the `for` loop is useless with it.\n",
    "    - Yes, because there are simple and very effective tools that can **adapt any dictionary to the `for` loop requirements** (in other words, building an intermediate link between the dictionary and a temporary sequence entity).\n"
   ]
  },
  {
   "cell_type": "markdown",
   "metadata": {},
   "source": [
    "\n",
    "- The first of them is a method named `keys()`, possessed by each dictionary. The method **returns an iterable object consisting of all the keys gathered within the dictionary**. Having a group of keys enables you to access the whole dictionary in an easy and handy way."
   ]
  },
  {
   "cell_type": "code",
   "execution_count": null,
   "metadata": {},
   "outputs": [],
   "source": [
    "dictionary = {\"dog\" : \"chien\", \"cat\" : \"chat\", \"horse\" : \"cheval\"}\n",
    "\n",
    "for key in dictionary.keys():\n",
    "    print(key, \"->\", dictionary[key])"
   ]
  },
  {
   "cell_type": "markdown",
   "metadata": {},
   "source": [
    "#### The sorted() function"
   ]
  },
  {
   "cell_type": "code",
   "execution_count": null,
   "metadata": {},
   "outputs": [],
   "source": [
    "dictionary = {\"dog\" : \"chien\", \"cat\" : \"chat\", \"horse\" : \"cheval\"}\n",
    "\n",
    "for key in sorted(dictionary.keys()):\n",
    "    print(key, \"->\", dictionary[key])"
   ]
  },
  {
   "cell_type": "markdown",
   "metadata": {},
   "source": [
    "#### The items() and values() methods"
   ]
  },
  {
   "cell_type": "markdown",
   "metadata": {},
   "source": [
    "item()\n",
    "- The method returns tuples where each tuple is a key-value pair.\n",
    "- Note the way in which the tuple has been used as a `for` loop variable."
   ]
  },
  {
   "cell_type": "code",
   "execution_count": null,
   "metadata": {},
   "outputs": [],
   "source": [
    "dictionary = {\"cat\" : \"chat\", \"dog\" : \"chien\", \"horse\" : \"cheval\"}\n",
    "\n",
    "for english, french in dictionary.items():\n",
    "    print(english, \"->\", french)"
   ]
  },
  {
   "cell_type": "markdown",
   "metadata": {},
   "source": [
    "values()\n",
    "- which works similarly to `keys()`, but **returns values**."
   ]
  },
  {
   "cell_type": "code",
   "execution_count": null,
   "metadata": {},
   "outputs": [],
   "source": [
    "dictionary = {\"cat\" : \"chat\", \"dog\" : \"chien\", \"horse\" : \"cheval\"}\n",
    "\n",
    "for french in dictionary.values():\n",
    "    print(french)"
   ]
  },
  {
   "cell_type": "markdown",
   "metadata": {},
   "source": [
    "- as dictionaries are fully mutable, there are no obstacles to modifying them."
   ]
  },
  {
   "cell_type": "code",
   "execution_count": null,
   "metadata": {},
   "outputs": [],
   "source": [
    "dictionary = {\"cat\" : \"chat\", \"dog\" : \"chien\", \"horse\" : \"cheval\"}\n",
    "\n",
    "dictionary['cat'] = 'minou'\n",
    "print(dictionary)"
   ]
  },
  {
   "cell_type": "markdown",
   "metadata": {},
   "source": [
    "- Adding a new key-value pair to a dictionary is as simple as changing a value - you only have to assign a value to a new, `previously non-existent key`."
   ]
  },
  {
   "cell_type": "code",
   "execution_count": null,
   "metadata": {},
   "outputs": [],
   "source": [
    "dictionary = {\"cat\" : \"chat\", \"dog\" : \"chien\", \"horse\" : \"cheval\"}\n",
    "\n",
    "dictionary['swan'] = 'cygne'\n",
    "print(dictionary)"
   ]
  },
  {
   "cell_type": "markdown",
   "metadata": {},
   "source": [
    "- You can also insert an item to a dictionary by using the `update()` method, e.g.:"
   ]
  },
  {
   "cell_type": "code",
   "execution_count": null,
   "metadata": {},
   "outputs": [],
   "source": [
    "dictionary = {\"cat\" : \"chat\", \"dog\" : \"chien\", \"horse\" : \"cheval\"}\n",
    "\n",
    "dictionary.update({\"duck\" : \"canard\"})\n",
    "print(dictionary)"
   ]
  },
  {
   "cell_type": "code",
   "execution_count": null,
   "metadata": {},
   "outputs": [],
   "source": []
  },
  {
   "cell_type": "code",
   "execution_count": null,
   "metadata": {},
   "outputs": [],
   "source": [
    "school_class = {}\n",
    "\n",
    "while True:\n",
    "    name = input(\"Enter the student's name (or type exit to stop): \")\n",
    "    if name == 'exit':\n",
    "        break\n",
    "    \n",
    "    score = int(input(\"Enter the student's score (0-10): \"))\n",
    "    \n",
    "    if name in school_class:\n",
    "        school_class[name] += (score,)\n",
    "        print(school_class)\n",
    "    else:\n",
    "        school_class[name] = (score,)\n",
    "        \n",
    "for name in sorted(school_class.keys()):\n",
    "    adding = 0\n",
    "    counter = 0\n",
    "    for score in school_class[name]:\n",
    "        adding += score\n",
    "        counter += 1\n",
    "    print(name, \":\", adding / counter)\n"
   ]
  },
  {
   "cell_type": "markdown",
   "metadata": {},
   "source": [
    "### 4.1.6.10 SECTION SUMMARY"
   ]
  },
  {
   "cell_type": "markdown",
   "metadata": {},
   "source": [
    "#### Key takeaways: tuples"
   ]
  },
  {
   "cell_type": "markdown",
   "metadata": {},
   "source": [
    "1. Tuples are ordered and unchangeable (immutable) collections of data. They can be thought of as immutable lists. They are written in round brackets:"
   ]
  },
  {
   "cell_type": "code",
   "execution_count": null,
   "metadata": {},
   "outputs": [],
   "source": [
    "myTuple = (1, 2, True, \"a string\", (3, 4), [5, 6], None)\n",
    "print(myTuple)\n",
    "\n",
    "myList = [1, 2, True, \"a string\", (3, 4), [5, 6], None]\n",
    "print(myList)"
   ]
  },
  {
   "cell_type": "markdown",
   "metadata": {},
   "source": [
    "2. You can create an empty tuple like this:"
   ]
  },
  {
   "cell_type": "code",
   "execution_count": null,
   "metadata": {},
   "outputs": [],
   "source": [
    "emptyTuple = ()\n",
    "print(type(emptyTuple))    # outputs: <class 'tuple'>"
   ]
  },
  {
   "cell_type": "markdown",
   "metadata": {},
   "source": [
    "3. A one-element tuple may be created as follows:"
   ]
  },
  {
   "cell_type": "code",
   "execution_count": null,
   "metadata": {},
   "outputs": [],
   "source": [
    "oneElemTup1 = (\"one\", )    # brackets and a comma\n",
    "oneElemTup2 = \"one\",     # no brackets, just a comma"
   ]
  },
  {
   "cell_type": "markdown",
   "metadata": {},
   "source": [
    "- If you remove the comma, you will tell Python to create a variable, not a tuple:"
   ]
  },
  {
   "cell_type": "code",
   "execution_count": null,
   "metadata": {},
   "outputs": [],
   "source": [
    "myTup1 = 1, \n",
    "print(type(myTup1))    # outputs: <class 'tuple'>\n",
    "\n",
    "myTup2 = 1\n",
    "print(type(myTup2))    # outputs: <class 'int'>"
   ]
  },
  {
   "cell_type": "markdown",
   "metadata": {},
   "source": [
    "4. You can access tuple elements by indexing them:"
   ]
  },
  {
   "cell_type": "code",
   "execution_count": null,
   "metadata": {},
   "outputs": [],
   "source": [
    "myTuple = (1, 2.0, \"string\", [3, 4], (5, ), True)\n",
    "print(myTuple[3])    # outputs: [3, 4]"
   ]
  },
  {
   "cell_type": "markdown",
   "metadata": {},
   "source": [
    "5. Tuples are immutable, which means you cannot change their elements (you cannot append tuples, or modify, or remove tuple elements). The following snippet will cause an exception:"
   ]
  },
  {
   "cell_type": "code",
   "execution_count": null,
   "metadata": {},
   "outputs": [],
   "source": [
    "myTuple = (1, 2.0, \"string\", [3, 4], (5, ), True)\n",
    "myTuple[2] = \"guitar\"    # a TypeError exception will be raised"
   ]
  },
  {
   "cell_type": "markdown",
   "metadata": {},
   "source": [
    "- However, you can delete a tuple as a whole:"
   ]
  },
  {
   "cell_type": "code",
   "execution_count": null,
   "metadata": {},
   "outputs": [],
   "source": [
    "myTuple = 1, 2, 3, \n",
    "del myTuple\n",
    "print(myTuple)    # NameError: name 'myTuple' is not defined"
   ]
  },
  {
   "cell_type": "markdown",
   "metadata": {},
   "source": [
    "6. You can loop through a tuple elements (Example 1), check if a specific element is (not)present in a tuple (Example 2), use the `len()` function to check how many elements there are in a tuple (Example 3), or even join/multiply tuples (Example 4):"
   ]
  },
  {
   "cell_type": "code",
   "execution_count": null,
   "metadata": {},
   "outputs": [],
   "source": [
    "# Example 1\n",
    "t1 = (1, 2, 3)\n",
    "for elem in t1:\n",
    "    print(elem)\n",
    "\n",
    "# Example 2\n",
    "t2 = (1, 2, 3, 4)\n",
    "print(5 in t2)\n",
    "print(5 not in t2)\n",
    "\n",
    "# Example 3\n",
    "t3 = (1, 2, 3, 5)\n",
    "print(len(t3))\n",
    "\n",
    "# Example 4\n",
    "t4 = t1 + t2\n",
    "t5 = t3 * 2\n",
    "\n",
    "print(t4)\n",
    "print(t5)"
   ]
  },
  {
   "cell_type": "markdown",
   "metadata": {},
   "source": [
    "7. You can also create a tuple using a Python built-in function called `tuple()`. This is particularly useful when you want to convert a certain iterable (e.g., a list, range, string, etc.) to a tuple:"
   ]
  },
  {
   "cell_type": "code",
   "execution_count": null,
   "metadata": {},
   "outputs": [],
   "source": [
    "myTup = tuple((1, 2, \"string\"))\n",
    "print(myTup)\n",
    "\n",
    "lst = [2, 4, 6]\n",
    "print(lst)    # outputs: [2, 4, 6]\n",
    "print(type(lst))    # outputs: <class 'list'>\n",
    "tup = tuple(lst)\n",
    "print(tup)    # outputs: (2, 4, 6)\n",
    "print(type(tup))    # outputs: <class 'tuple'>"
   ]
  },
  {
   "cell_type": "markdown",
   "metadata": {},
   "source": [
    "- By the same fashion, when you want to convert an iterable to a list, you can use a Python built-in function called `list()`:"
   ]
  },
  {
   "cell_type": "code",
   "execution_count": null,
   "metadata": {},
   "outputs": [],
   "source": [
    "tup = 1, 2, 3, \n",
    "lst = list(tup)\n",
    "print(type(lst))    # outputs: <class 'list'>"
   ]
  },
  {
   "cell_type": "markdown",
   "metadata": {},
   "source": [
    "#### Key takeaways: dictionaries"
   ]
  },
  {
   "cell_type": "markdown",
   "metadata": {},
   "source": [
    "1. Dictionaries are unordered*, changeable (mutable), and indexed collections of data. (*In Python 3.6x dictionaries have become ordered by default."
   ]
  },
  {
   "cell_type": "markdown",
   "metadata": {},
   "source": [
    "2. If you want to access a dictionary item, you can do so by making a reference to its key inside a pair of square brackets (ex. 1) or by using the `get()` method (ex. 2):"
   ]
  },
  {
   "cell_type": "code",
   "execution_count": null,
   "metadata": {},
   "outputs": [],
   "source": [
    "polEngDict = {\n",
    "    \"kwiat\" : \"flower\",\n",
    "    \"woda\"  : \"water\",\n",
    "    \"gleba\" : \"soil\"\n",
    "    }\n",
    "\n",
    "item1 = polEngDict[\"gleba\"]    # ex. 1\n",
    "print(item1)    # outputs: soil\n",
    "\n",
    "item2 = polEngDict.get(\"woda\")\n",
    "print(item2)    # outputs: water"
   ]
  },
  {
   "cell_type": "markdown",
   "metadata": {},
   "source": [
    "3. If you want to change the value associated with a specific key, you can do so by referring to the item's key name in the following way:"
   ]
  },
  {
   "cell_type": "code",
   "execution_count": null,
   "metadata": {},
   "outputs": [],
   "source": [
    "polEngDict = {\n",
    "    \"zamek\" : \"castle\",\n",
    "    \"woda\"  : \"water\",\n",
    "    \"gleba\" : \"soil\"\n",
    "    }\n",
    "\n",
    "polEngDict[\"zamek\"] = \"lock\"\n",
    "item = polEngDict[\"zamek\"]    # outputs: lock"
   ]
  },
  {
   "cell_type": "markdown",
   "metadata": {},
   "source": [
    "4. To add or remove a key (and the associated value), use the following syntax:"
   ]
  },
  {
   "cell_type": "code",
   "execution_count": null,
   "metadata": {},
   "outputs": [],
   "source": [
    "myPhonebook = {}    # an empty dictionary\n",
    "\n",
    "myPhonebook[\"Adam\"] = 3456783958    # create/add a key-value pair\n",
    "print(myPhonebook)    # outputs: {'Adam': 3456783958}\n",
    "\n",
    "del myPhonebook[\"Adam\"]\n",
    "print(myPhonebook)    # outputs: {}"
   ]
  },
  {
   "cell_type": "markdown",
   "metadata": {},
   "source": [
    "- You can also insert an item to a dictionary by using the `update()` method, and remove the last element by using the `popitem()` method, e.g.:"
   ]
  },
  {
   "cell_type": "code",
   "execution_count": null,
   "metadata": {},
   "outputs": [],
   "source": [
    "polEngDict = {\"kwiat\" : \"flower\"}\n",
    "\n",
    "polEngDict.update({\"gleba\" : \"soil\"})\n",
    "print(polEngDict)    # outputs: {'kwiat' : 'flower', 'gleba' : 'soil'}\n",
    "\n",
    "polEngDict.popitem()\n",
    "print(polEngDict)    # outputs: {'kwiat' : 'flower'}"
   ]
  },
  {
   "cell_type": "markdown",
   "metadata": {},
   "source": [
    "5. You can use the for loop to loop through a dictionary, e.g.:"
   ]
  },
  {
   "cell_type": "code",
   "execution_count": null,
   "metadata": {},
   "outputs": [],
   "source": [
    "polEngDict = {\n",
    "    \"zamek\" : \"castle\",\n",
    "    \"woda\"  : \"water\",\n",
    "    \"gleba\" : \"soil\"\n",
    "    }\n",
    "\n",
    "for item in polEngDict:\n",
    "    print(item)    # outputs: zamek\n",
    "                   #          woda\n",
    "                   #          gleba"
   ]
  },
  {
   "cell_type": "markdown",
   "metadata": {},
   "source": [
    "6. If you want to loop through a dictionary's keys and values, you can use the items() method, e.g.:"
   ]
  },
  {
   "cell_type": "code",
   "execution_count": null,
   "metadata": {},
   "outputs": [],
   "source": [
    "polEngDict = {\n",
    "    \"zamek\" : \"castle\",\n",
    "    \"woda\"  : \"water\",\n",
    "    \"gleba\" : \"soil\"\n",
    "    }\n",
    "\n",
    "for key, value in polEngDict.items():\n",
    "    print(\"Pol/Eng ->\", key, \":\", value)"
   ]
  },
  {
   "cell_type": "markdown",
   "metadata": {},
   "source": [
    "7. To check if a given key exists in a dictionary, you can use the in keyword:"
   ]
  },
  {
   "cell_type": "code",
   "execution_count": null,
   "metadata": {},
   "outputs": [],
   "source": [
    "polEngDict = {\n",
    "    \"zamek\" : \"castle\",\n",
    "    \"woda\"  : \"water\",\n",
    "    \"gleba\" : \"soil\"\n",
    "    }\n",
    "\n",
    "if \"zamek\" in polEngDict:\n",
    "    print(\"Yes\")\n",
    "else:\n",
    "    print(\"No\")"
   ]
  },
  {
   "cell_type": "markdown",
   "metadata": {},
   "source": [
    "8. You can use the `del` keyword to remove a specific item, or delete a dictionary. To remove all the dictionary's items, you need to use the `clear()` method:"
   ]
  },
  {
   "cell_type": "code",
   "execution_count": null,
   "metadata": {},
   "outputs": [],
   "source": [
    "polEngDict = {\n",
    "    \"zamek\" : \"castle\",\n",
    "    \"woda\"  : \"water\",\n",
    "    \"gleba\" : \"soil\"\n",
    "    }\n",
    "\n",
    "print(len(polEngDict))    # outputs: 3\n",
    "del polEngDict[\"zamek\"]    # remove an item\n",
    "print(len(polEngDict))    # outputs: 2\n",
    "\n",
    "polEngDict.clear()   # removes all the items\n",
    "print(len(polEngDict))    # outputs: 0\n",
    "\n",
    "del polEngDict    # removes the dictionary"
   ]
  },
  {
   "cell_type": "markdown",
   "metadata": {},
   "source": [
    "9. To copy a dictionary, use the copy() method:"
   ]
  },
  {
   "cell_type": "code",
   "execution_count": null,
   "metadata": {},
   "outputs": [],
   "source": [
    "polEngDict = {\n",
    "    \"zamek\" : \"castle\",\n",
    "    \"woda\"  : \"water\",\n",
    "    \"gleba\" : \"soil\"\n",
    "    }\n",
    "\n",
    "copyDict = polEngDict.copy()\n",
    "print(copyDict)"
   ]
  },
  {
   "cell_type": "markdown",
   "metadata": {},
   "source": [
    "#### Key takeaways: tuples and dictionaries"
   ]
  },
  {
   "cell_type": "markdown",
   "metadata": {},
   "source": [
    "Exercise 1:\n",
    "- The program will print `6` to the screen. The `tup` tuple elements have been \"unpacked\" in the `a`, `b`, and `c` variables."
   ]
  },
  {
   "cell_type": "code",
   "execution_count": null,
   "metadata": {},
   "outputs": [],
   "source": [
    "tup = 1, 2, 3\n",
    "a, b, c = tup\n",
    "\n",
    "print(a * b * c)"
   ]
  },
  {
   "cell_type": "markdown",
   "metadata": {},
   "source": [
    "Exercise 2:    "
   ]
  },
  {
   "cell_type": "markdown",
   "metadata": {},
   "source": [
    "- Complete the code to correctly use the count() method to find the number of duplicates of 2 in the following tuple."
   ]
  },
  {
   "cell_type": "code",
   "execution_count": null,
   "metadata": {},
   "outputs": [],
   "source": [
    "tup = 1, 2, 3, 2, 4, 5, 6, 2, 7, 2, 8, 9\n",
    "duplicates = # your code\n",
    "\n",
    "print(duplicates)    # outputs: 4"
   ]
  },
  {
   "cell_type": "markdown",
   "metadata": {},
   "source": [
    "Answer:"
   ]
  },
  {
   "cell_type": "code",
   "execution_count": null,
   "metadata": {},
   "outputs": [],
   "source": [
    "tup = 1, 2, 3, 2, 4, 5, 6, 2, 7, 2, 8, 9\n",
    "duplicates = tup.count(2)\n",
    "\n",
    "print(duplicates)    # outputs: 4"
   ]
  },
  {
   "cell_type": "markdown",
   "metadata": {},
   "source": [
    "Exercise 3:"
   ]
  },
  {
   "cell_type": "markdown",
   "metadata": {},
   "source": [
    "- Write a program that will \"glue\" the two dictionaries (d1 and d2) together and create a new one (d3)."
   ]
  },
  {
   "cell_type": "code",
   "execution_count": null,
   "metadata": {},
   "outputs": [],
   "source": [
    "d1 = {'Adam Smith':'A', 'Judy Paxton':'B+'}\n",
    "d2 = {'Mary Louis':'A', 'Patrick White':'C'}\n",
    "d3 = {}\n",
    "\n",
    "for item in (d1, d2):\n",
    "    d3.update(item)\n",
    "\n",
    "print(d3)"
   ]
  },
  {
   "cell_type": "markdown",
   "metadata": {},
   "source": [
    "EXercise 4:"
   ]
  },
  {
   "cell_type": "markdown",
   "metadata": {},
   "source": [
    "- Write a program that will convert the l list to a tuple."
   ]
  },
  {
   "cell_type": "code",
   "execution_count": null,
   "metadata": {},
   "outputs": [],
   "source": [
    "l = [\"car\", \"Ford\", \"flower\", \"Tulip\"]\n",
    "\n",
    "t = tuple(l)\n",
    "print(t)"
   ]
  },
  {
   "cell_type": "markdown",
   "metadata": {},
   "source": [
    "Exercise 5:"
   ]
  },
  {
   "cell_type": "markdown",
   "metadata": {},
   "source": [
    "- Write a program that will convert the `colors` tuple to a dictionary."
   ]
  },
  {
   "cell_type": "code",
   "execution_count": null,
   "metadata": {},
   "outputs": [],
   "source": [
    "colors = ((\"green\", \"#008000\"), (\"blue\", \"#0000FF\"))\n",
    "\n",
    "colDict = dict(colors)\n",
    "print(colDict)"
   ]
  },
  {
   "cell_type": "markdown",
   "metadata": {},
   "source": [
    "EXercise 6:"
   ]
  },
  {
   "cell_type": "markdown",
   "metadata": {},
   "source": [
    "- What will happen when you run the following code?"
   ]
  },
  {
   "cell_type": "code",
   "execution_count": null,
   "metadata": {},
   "outputs": [],
   "source": [
    "myDict = {\"A\":1, \"B\":2}\n",
    "copyMyDict = myDict.copy()\n",
    "myDict.clear()\n",
    "\n",
    "print(copyMyDict)"
   ]
  },
  {
   "cell_type": "markdown",
   "metadata": {},
   "source": [
    "Exercise 7: "
   ]
  },
  {
   "cell_type": "markdown",
   "metadata": {},
   "source": [
    "- What is the output of the following program?"
   ]
  },
  {
   "cell_type": "code",
   "execution_count": null,
   "metadata": {},
   "outputs": [],
   "source": [
    "colors = {\n",
    "    \"white\" : (255, 255, 255),\n",
    "    \"grey\"  : (128, 128, 128),\n",
    "    \"red\"   : (255, 0, 0),\n",
    "    \"green\" : (0, 128, 0)\n",
    "    }\n",
    "\n",
    "for col, rgb in colors.items():\n",
    "    print(col, \":\", rgb)"
   ]
  },
  {
   "cell_type": "markdown",
   "metadata": {},
   "source": [
    "### 5.1.1.3 Modules"
   ]
  },
  {
   "cell_type": "markdown",
   "metadata": {},
   "source": [
    "- When the code being created is expected to be really big (you can use a total number of source lines as a useful, but not very accurate, measure of a code's size) you may want (or rather, you will be forced) to divide it into many parts, implemented in parallel by a few, a dozen, several dozen, or even several hundred individual developers.\n",
    "\n",
    "- Of course, this cannot be done using one large source file, which is edited by all programmers at the same time. This will surely lead to a spectacular disaster."
   ]
  },
  {
   "cell_type": "markdown",
   "metadata": {},
   "source": [
    "- If you want such a software project to be completed successfully, you have to have the means allowing you to:\n",
    "    - divide all the tasks among the developers;\n",
    "    - join all the created parts into one working whole."
   ]
  },
  {
   "cell_type": "markdown",
   "metadata": {},
   "source": [
    "- Each of these parts can be (most likely) divided into smaller ones, and so on. Such a process is often called decomposition.\n",
    "- How do you divide a piece of software into separate but cooperating parts? This is the question. **Module** are the answer."
   ]
  },
  {
   "cell_type": "markdown",
   "metadata": {},
   "source": [
    "### 5.1.1.4 Using Modules"
   ]
  },
  {
   "cell_type": "markdown",
   "metadata": {},
   "source": [
    "#### How to make use of a module?"
   ]
  },
  {
   "cell_type": "markdown",
   "metadata": {},
   "source": [
    "The handling of modules consists of two different issues:"
   ]
  },
  {
   "cell_type": "markdown",
   "metadata": {},
   "source": [
    "- the first (probably the most common) happens when you want to use an already existing module, written by someone else, or created by yourself during your work on some complex project - in this case you are the module's **user**;\n",
    "- the second occurs when you want to create a brand new module, either for your own use, or to make other programmers' lives easier - you are the module's **supplier**."
   ]
  },
  {
   "cell_type": "markdown",
   "metadata": {},
   "source": [
    "- All these modules, along with the built-in functions, form the Python standard library - a special sort of library where modules play the roles of books (we can even say that folders play the roles of shelves). If you want to take a look at the full list of all \"volumes\" collected in that library, you can find it [here](https://docs.python.org/3/library/index.html)"
   ]
  },
  {
   "cell_type": "markdown",
   "metadata": {},
   "source": [
    "- Each module consists of entities (like a book consists of chapters). These entities can be functions, variables, constants, classes, and objects. If you know how to access a particular module, you can make use of any of the entities it stores."
   ]
  },
  {
   "cell_type": "markdown",
   "metadata": {},
   "source": [
    "#### Importing a module"
   ]
  },
  {
   "cell_type": "markdown",
   "metadata": {},
   "source": [
    "To make a module usable, you must **import** it (think of it like of taking a book off the shelf). Importing a module is done by an instruction named import. Note: import is also a keyword (with all the consequences of this fact)."
   ]
  },
  {
   "cell_type": "markdown",
   "metadata": {},
   "source": [
    "![](./images/7_import.png)"
   ]
  },
  {
   "cell_type": "markdown",
   "metadata": {},
   "source": [
    "If you want to (or have to) import more than one module, you can do it by repeating the `import` clause, or by listing the modules after the `import` keyword, like here: (The modules' list may be arbitrarily long.)"
   ]
  },
  {
   "cell_type": "code",
   "execution_count": null,
   "metadata": {},
   "outputs": [],
   "source": [
    "import math, sys"
   ]
  },
  {
   "cell_type": "markdown",
   "metadata": {},
   "source": [
    "#### namespaces"
   ]
  },
  {
   "cell_type": "markdown",
   "metadata": {},
   "source": [
    "- A **namespace** is a space (understood in a non-physical context) in which some names exist and the names don't conflict with each other (i.e., there are not two different objects of the same name). We can say that each social group is a namespace - the group tends to name each of its members in a unique way (e.g., parents won't give their children the same first names)."
   ]
  },
  {
   "cell_type": "markdown",
   "metadata": {},
   "source": [
    "![](./images/8_namespaces.png)"
   ]
  },
  {
   "cell_type": "markdown",
   "metadata": {},
   "source": [
    "- **Inside a certain namespace, each name must remain unique**. This may mean that some names may disappear when any other entity of an already known name enters the namespace."
   ]
  },
  {
   "cell_type": "markdown",
   "metadata": {},
   "source": [
    "- If the module of a specified name **exists and is accessible** (a module is in fact a **Python source** file), Python imports its contents, i.e., **all the names defined in the module become known**, but they don't enter your code's namespace."
   ]
  },
  {
   "cell_type": "markdown",
   "metadata": {},
   "source": [
    "- This means that you can have your own entities named `sin` or `pi` and they won't be affected by the import in any way."
   ]
  },
  {
   "cell_type": "markdown",
   "metadata": {},
   "source": [
    "- At this point, you may be wondering how to access the `pi` coming from the `math` module. To do this, you have to qualify the `pi` with the name of its original module."
   ]
  },
  {
   "cell_type": "markdown",
   "metadata": {},
   "source": [
    "- Note: using this qualification is compulsory if a module has been imported by the `import` module instruction. It doesn't matter if any of the names from your code and from the module's namespace are in conflict or not."
   ]
  },
  {
   "cell_type": "code",
   "execution_count": null,
   "metadata": {},
   "outputs": [],
   "source": [
    "import math\n",
    "print(math.sin(math.pi/2))"
   ]
  },
  {
   "cell_type": "markdown",
   "metadata": {},
   "source": [
    "- two namespaces (yours and the module's one) can coexist."
   ]
  },
  {
   "cell_type": "code",
   "execution_count": null,
   "metadata": {},
   "outputs": [],
   "source": [
    "import math\n",
    "\n",
    "def sin(x):\n",
    "    if 2 * x == pi:\n",
    "        return 0.99999999\n",
    "    else:\n",
    "        return None\n",
    "\n",
    "pi = 3.14\n",
    "\n",
    "print(sin(pi/2))\n",
    "print(math.sin(math.pi/2))"
   ]
  },
  {
   "cell_type": "markdown",
   "metadata": {},
   "source": [
    "The instruction has this effect:\n",
    "\n",
    "- the listed entities (and only those ones) are **imported from the indicated module**;\n",
    "- the names of the imported entities are **accessible without qualification**."
   ]
  },
  {
   "cell_type": "code",
   "execution_count": null,
   "metadata": {},
   "outputs": [],
   "source": [
    "from math import pi"
   ]
  },
  {
   "cell_type": "markdown",
   "metadata": {},
   "source": [
    "#### Importing a module: *"
   ]
  },
  {
   "cell_type": "code",
   "execution_count": null,
   "metadata": {},
   "outputs": [],
   "source": [
    "from module import *"
   ]
  },
  {
   "cell_type": "markdown",
   "metadata": {},
   "source": [
    "- Is it convenient? Yes, it is, as it relieves you of the duty of enumerating all the names you need.\n",
    "\n",
    "- Is it unsafe? Yes, it is - unless you know all the names provided by the module, **you may not be able to avoid name conflicts**. Treat this as a temporary solution, and try not to use it in regular code."
   ]
  },
  {
   "cell_type": "markdown",
   "metadata": {},
   "source": [
    "#### Importing a module: the `as` keyword"
   ]
  },
  {
   "cell_type": "markdown",
   "metadata": {},
   "source": [
    "- this is called **aliasing**"
   ]
  },
  {
   "cell_type": "code",
   "execution_count": null,
   "metadata": {},
   "outputs": [],
   "source": [
    "import math as m\n",
    "print(m.sin(m.pi/2))"
   ]
  },
  {
   "cell_type": "markdown",
   "metadata": {},
   "source": [
    "- Note: after successful execution of an aliased import, the **original module name becomes inaccessible** and must not be used."
   ]
  },
  {
   "cell_type": "code",
   "execution_count": null,
   "metadata": {},
   "outputs": [],
   "source": [
    "from math import pi as PI, sin as sine\n",
    "\n",
    "print(sine(PI/2))"
   ]
  },
  {
   "cell_type": "markdown",
   "metadata": {},
   "source": [
    "#### Working with standard modules"
   ]
  },
  {
   "cell_type": "markdown",
   "metadata": {},
   "source": [
    "- `dir()` is able to reveal all the names provided through a particular module.\n",
    "- There is one condition: the module has to have been previously imported as a whole (i.e., using the `import module` instruction - `from module` is not enough).\n",
    "- The function returns an **alphabetically sorted list** containing all entities' names available in the module identified by a name passed to the function as an argument:"
   ]
  },
  {
   "cell_type": "code",
   "execution_count": null,
   "metadata": {},
   "outputs": [],
   "source": [
    "dir(module)"
   ]
  },
  {
   "cell_type": "markdown",
   "metadata": {},
   "source": [
    "- Note: if the module's name has been aliased, you must use the alias, not the original name."
   ]
  },
  {
   "cell_type": "code",
   "execution_count": null,
   "metadata": {},
   "outputs": [],
   "source": [
    "import math\n",
    "\n",
    "for name in dir(math):\n",
    "    print(name, end=\"\\t\")"
   ]
  },
  {
   "cell_type": "markdown",
   "metadata": {},
   "source": [
    "- Fortunately, you can execute the function **directly in the Python console** (IDLE), without needing to write and run a separate script."
   ]
  },
  {
   "cell_type": "markdown",
   "metadata": {},
   "source": [
    "#### Selected functions from the math module"
   ]
  },
  {
   "cell_type": "markdown",
   "metadata": {},
   "source": [
    "The first group of the math's functions are connected with trigonometry:"
   ]
  },
  {
   "cell_type": "markdown",
   "metadata": {},
   "source": [
    "- `sin(x)` → the sine of x;\n",
    "- `cos(x)` → the cosine of x;\n",
    "- `tan(x)` → the tangent of x."
   ]
  },
  {
   "cell_type": "markdown",
   "metadata": {},
   "source": [
    "their inversed versions:"
   ]
  },
  {
   "cell_type": "markdown",
   "metadata": {},
   "source": [
    "- `asin(x)` → the arcsine of x;\n",
    "- `acos(x)` → the arccosine of x;\n",
    "- `atan(x)` → the arctangent of x."
   ]
  },
  {
   "cell_type": "markdown",
   "metadata": {},
   "source": [
    "To effectively operate on angle measurements, the `math` module provides you with the following entities:"
   ]
  },
  {
   "cell_type": "markdown",
   "metadata": {},
   "source": [
    "- `pi` → a constant with a value that is an approximation of π;\n",
    "- `radians(x)` → a function that converts x from degrees to radians;\n",
    "- `degrees(x)` → acting in the other direction (from radians to degrees)"
   ]
  },
  {
   "cell_type": "markdown",
   "metadata": {},
   "source": [
    "Apart from the circular functions (listed above) the `math` module also contains a set of their hyperbolic analogues:"
   ]
  },
  {
   "cell_type": "markdown",
   "metadata": {},
   "source": [
    "- `sinh(x)` → the hyperbolic sine;\n",
    "- `cosh(x)` → the hyperbolic cosine;\n",
    "- `tanh(x)` → the hyperbolic tangent;\n",
    "- `asinh(x)` → the hyperbolic arcsine;\n",
    "- `acosh(x)` → the hyperbolic arccosine;\n",
    "- `atanh(x)` → the hyperbolic arctangent."
   ]
  },
  {
   "cell_type": "code",
   "execution_count": null,
   "metadata": {},
   "outputs": [],
   "source": [
    "from math import pi, radians, degrees, sin, cos, tan, asin\n",
    "\n",
    "ad = 90\n",
    "ar = radians(ad)\n",
    "ad = degrees(ar)\n",
    "\n",
    "print(ad == 90.)\n",
    "print(ar == pi / 2.)\n",
    "print(sin(ar) / cos(ar) == tan(ar))\n",
    "print(asin(sin(ar)) == ar)"
   ]
  },
  {
   "cell_type": "markdown",
   "metadata": {},
   "source": [
    "Another group of the math's functions is formed by functions which are connected with `exponentiation`:"
   ]
  },
  {
   "cell_type": "markdown",
   "metadata": {},
   "source": [
    "- `e` → a constant with a value that is an approximation of Euler's number (e)\n",
    "- `exp(x`) → finding the value of e<sup>x</sup>;\n",
    "- `log(x)` → the natural logarithm of x\n",
    "- `log(x, b)` → the logarithm of x to base b\n",
    "- `log10(x)` → the decimal logarithm of x (more precise than `log(x, 10)`)\n",
    "- `log2(x)` → the binary logarithm of x (more precise than `log(x, 2)`)"
   ]
  },
  {
   "cell_type": "markdown",
   "metadata": {},
   "source": [
    "Note: the pow() function:"
   ]
  },
  {
   "cell_type": "markdown",
   "metadata": {},
   "source": [
    "- `pow(x, y)` → finding the value of x<sup>y</sup> (mind the domains)"
   ]
  },
  {
   "cell_type": "code",
   "execution_count": null,
   "metadata": {},
   "outputs": [],
   "source": [
    "from math import e, exp, log\n",
    "\n",
    "print(pow(e, 1) == exp(log(e)))\n",
    "print(pow(2, 2) == exp(2 * log(2)))\n",
    "print(log(e, e) == exp(0))"
   ]
  },
  {
   "cell_type": "markdown",
   "metadata": {},
   "source": [
    "The last group consists of some general-purpose functions like:"
   ]
  },
  {
   "cell_type": "markdown",
   "metadata": {},
   "source": [
    "- `ceil(x)` → the ceiling of x (the smallest integer greater than or equal to x)\n",
    "- `floor(x)` → the floor of x (the largest integer less than or equal to x)\n",
    "- `trunc(x)` → the value of x truncated to an integer (be careful - it's not an equivalent either of ceil or floor)\n",
    "- `factorial(x)` → returns x! (x has to be an integral and not a negative)\n",
    "- `hypot(x, y)` → returns the length of the hypotenuse of a right-angle triangle with the leg lengths equal to x and y (the same as `sqrt(pow(x, 2) + pow(y, 2)`) but more precise) "
   ]
  },
  {
   "cell_type": "code",
   "execution_count": null,
   "metadata": {},
   "outputs": [],
   "source": [
    "from math import ceil, floor, trunc\n",
    "\n",
    "x = 1.4\n",
    "y = 2.6\n",
    "\n",
    "print(floor(x), floor(y))\n",
    "print(floor(-x), floor(-y))\n",
    "print(ceil(x), ceil(y))\n",
    "print(ceil(-x), ceil(-y))\n",
    "print(trunc(x), trunc(y))\n",
    "print(trunc(-x), trunc(-y))"
   ]
  },
  {
   "cell_type": "markdown",
   "metadata": {},
   "source": [
    "### 5.1.2.5 Useful Modules | random\n"
   ]
  },
  {
   "cell_type": "markdown",
   "metadata": {},
   "source": [
    "#### Is there real randomness in computers?"
   ]
  },
  {
   "cell_type": "markdown",
   "metadata": {},
   "source": [
    "Another module worth mentioning is the one named random.\n",
    "\n",
    "It delivers some mechanisms allowing you to operate with **pseudorandom numbers**.\n",
    "\n",
    "Note the prefix **pseudo** - the numbers generated by the modules may look random in the sense that you cannot predict their subsequent values, but don't forget that they all are calculated using very refined algorithms.\n",
    "\n",
    "The algorithms aren't random - they are deterministic and predictable. Only those physical processes which run completely out of our control (like the intensity of cosmic radiation) may be used as a source of actual random data. Data produced by deterministic computers cannot be random in any way.\n",
    "\n",
    "\n",
    "A random number generator takes a value called a seed, treats it as an input value, calculates a \"random\" number based on it (the method depends on a chosen algorithm) and produces a **new seed value**.\n",
    "\n",
    "The length of a cycle in which all seed values are unique may be very long, but it isn't infinite - sooner or later the seed values will start repeating, and the generating values will repeat, too. This is normal. It's a feature, not a mistake, or a bug.\n",
    "\n",
    "The initial seed value, set during the program start, determines the order in which the generated values will appear.\n",
    "\n",
    "The random factor of the process may be **augmented by setting the seed with a number taken from the current time** - this may ensure that each program launch will start from a different seed value (ergo, it will use different random numbers).\n",
    "\n",
    "Fortunately, such an initialization is done by Python during module import."
   ]
  },
  {
   "cell_type": "markdown",
   "metadata": {},
   "source": [
    "#### Selected functions from the random module"
   ]
  },
  {
   "cell_type": "markdown",
   "metadata": {},
   "source": [
    "- The most general function named `random()` (not to be confused with the module's name) **produces a float number `x` coming from the range`(0.0, 1.0)`** - in other words: (0.0 <= x < 1.0).\n",
    "\n",
    "- The example program in the editor will produce five pseudorandom values - as their values are determined by the current (rather unpredictable) seed value, you can't guess them. Run the program."
   ]
  },
  {
   "cell_type": "code",
   "execution_count": null,
   "metadata": {},
   "outputs": [],
   "source": [
    "from random import random\n",
    "\n",
    "for i in range(5):\n",
    "    print(random())"
   ]
  },
  {
   "cell_type": "markdown",
   "metadata": {},
   "source": [
    "- The `seed()` function is able to directly **set the generator's seed**. We'll show you two of its variants:\n",
    "    - `seed()` - sets the seed with the current time;\n",
    "    - `seed(int_value)` - sets the seed with the integer value `int_value`."
   ]
  },
  {
   "cell_type": "markdown",
   "metadata": {},
   "source": [
    "- Due to the fact that the seed is always set with the same value, the sequence of generated values always looks the same."
   ]
  },
  {
   "cell_type": "code",
   "execution_count": null,
   "metadata": {},
   "outputs": [],
   "source": [
    "from random import random, seed\n",
    "\n",
    "seed(0)\n",
    "\n",
    "for i in range(5):\n",
    "    print(random())"
   ]
  },
  {
   "cell_type": "markdown",
   "metadata": {},
   "source": []
  },
  {
   "cell_type": "markdown",
   "metadata": {},
   "source": [
    "- If you want integer random values, one of the following functions would fit better:\n",
    "    - `randrange(end)`\n",
    "    - `randrange(beg, end)`\n",
    "    - `randrange(beg, end, step)`\n",
    "    - `randint(left, right)`"
   ]
  },
  {
   "cell_type": "markdown",
   "metadata": {},
   "source": [
    "- The first three invocations will generate an integer taken (pseudorandomly) from the range (respectively):\n",
    "    - `range(end)`\n",
    "    - `range(beg, end)`\n",
    "    - `range(beg, end, step)`\n",
    "    - Note the implicit **right-sided exclusion**"
   ]
  },
  {
   "cell_type": "markdown",
   "metadata": {},
   "source": [
    "- The last function is an equivalent of `randrange(left, right+1)`"
   ]
  },
  {
   "cell_type": "code",
   "execution_count": null,
   "metadata": {},
   "outputs": [],
   "source": [
    "from random import randrange, randint\n",
    "\n",
    "print(randrange(1), end=' ')\n",
    "print(randrange(0, 1), end=' ')\n",
    "print(randrange(0, 1, 1), end=' ')\n",
    "print(randint(0, 1))"
   ]
  },
  {
   "cell_type": "markdown",
   "metadata": {},
   "source": [
    "- The previous functions have one important disadvantage - they may produce repeating values even if the number of subsequent invocations is not greater than the width of the specified range."
   ]
  },
  {
   "cell_type": "code",
   "execution_count": null,
   "metadata": {},
   "outputs": [],
   "source": [
    "from random import randint\n",
    "\n",
    "for i in range(10):\n",
    "    print(randint(1, 10), end=',')"
   ]
  },
  {
   "cell_type": "markdown",
   "metadata": {},
   "source": [
    "- Fortunately, there is a better solution than writing your own code to check the uniqueness of the \"drawn\" numbers.\n",
    "- It's a function named in a very suggestive way - `choice`:\n",
    "    - `choice(sequence)`\n",
    "    - `sample(sequence, elements_to_choose=1)`"
   ]
  },
  {
   "cell_type": "code",
   "execution_count": null,
   "metadata": {},
   "outputs": [],
   "source": [
    "from random import choice, sample\n",
    "\n",
    "lst = [1, 2, 3, 4, 5, 6, 7, 8, 9, 10]\n",
    "\n",
    "print(choice(lst))\n",
    "print(sample(lst, 5))\n",
    "print(sample(lst, 10))"
   ]
  },
  {
   "cell_type": "markdown",
   "metadata": {},
   "source": [
    "#### How to know where you are?"
   ]
  },
  {
   "cell_type": "markdown",
   "metadata": {},
   "source": [
    "![](./images/9_whereYouAre.png)"
   ]
  },
  {
   "cell_type": "markdown",
   "metadata": {},
   "source": [
    "- The layers are:\n",
    "\n",
    "    - your (running) code is located at the top of it;\n",
    "    - Python (more precisely - its runtime environment) lies directly below it;\n",
    "    - the next layer of the pyramid is filled with the OS (operating system) - Python's environment provides some of its functionalities using the operating system's services; Python, although very powerful, isn't omnipotent - it's forced to use many helpers if it's going to process files or communicate with physical devices;\n",
    "    - the bottom-most layer is hardware - the processor (or processors), network interfaces, human interface devices (mice, keyboards, etc.) and all other machinery needed to make the computer run; the OS knows how to drive it, and uses lots of tricks to conduct all parts in a consistent rhythm."
   ]
  },
  {
   "cell_type": "markdown",
   "metadata": {},
   "source": [
    "- This means than some of your (or rather your program's) actions have to travel a long way to be successfully performed - imagine that:\n",
    "    - your code wants to create a file, so it invokes one of Python's functions;\n",
    "    - Python accepts the order, rearranges it to meet local OS requirements (it's like putting the stamp \"approved\" on your request) and sends it down (this may remind you of a chain of command)\n",
    "    - the OS checks if the request is reasonable and valid (e.g., whether the file name conforms to some syntax rules) and tries to create the file; such an operation, seemingly very simple, isn't atomic - it consists of many minor steps taken by...\n",
    "    - the hardware, which is responsible for activating storage devices (hard disk, solid state devices, etc.) to satisfy the OS's needs."
   ]
  },
  {
   "cell_type": "markdown",
   "metadata": {},
   "source": [
    "### 5.1.2.10 Useful modules | platform\n"
   ]
  },
  {
   "cell_type": "markdown",
   "metadata": {},
   "source": [
    "- The `platform` module lets you access the underlying platform's data, i.e., hardware, operating system, and interpreter version information.\n",
    "\n",
    "- There is a function that can show you all the underlying layers in one glance, named `platform`, too. It just returns a string describing the environment; thus, its output is rather addressed to humans than to automated processing (you'll see it soon)."
   ]
  },
  {
   "cell_type": "markdown",
   "metadata": {},
   "source": [
    "- This is how you can invoke it:\n",
    "\n",
    "    - `platform(aliased = False, terse = False)`\n",
    "    \n",
    "    - `aliased` → when set to `True` (or any non-zero value) it may cause the function to present the alternative underlying layer names instead of the common ones;\n",
    "    - `terse` → when set to `True` (or any non-zero value) it may convince the function to present a briefer form of the result (if possible)\n",
    "   "
   ]
  },
  {
   "cell_type": "code",
   "execution_count": null,
   "metadata": {},
   "outputs": [],
   "source": [
    "from platform import platform\n",
    "\n",
    "print(platform())\n",
    "print(platform(1))\n",
    "print(platform(0, 1))"
   ]
  },
  {
   "cell_type": "markdown",
   "metadata": {},
   "source": [
    "- Sometimes, you may just want to know the generic name of the processor which runs your OS together with Python and your code - a function named `machine()` will tell you that. As previously, the function returns a string."
   ]
  },
  {
   "cell_type": "code",
   "execution_count": null,
   "metadata": {},
   "outputs": [],
   "source": [
    "from platform import machine\n",
    "print(machine())"
   ]
  },
  {
   "cell_type": "markdown",
   "metadata": {},
   "source": [
    "- The `processor()` function returns a string filled with the real processor name (if possible)."
   ]
  },
  {
   "cell_type": "code",
   "execution_count": null,
   "metadata": {},
   "outputs": [],
   "source": [
    "from platform import processor\n",
    "print(processor())"
   ]
  },
  {
   "cell_type": "markdown",
   "metadata": {},
   "source": [
    "- A function named `system()` returns the generic OS name as a string."
   ]
  },
  {
   "cell_type": "code",
   "execution_count": null,
   "metadata": {},
   "outputs": [],
   "source": [
    "from platform import system\n",
    "print(system())"
   ]
  },
  {
   "cell_type": "markdown",
   "metadata": {},
   "source": [
    "- The OS version is provided as a string by the `version()` function."
   ]
  },
  {
   "cell_type": "code",
   "execution_count": null,
   "metadata": {},
   "outputs": [],
   "source": [
    "from platform import version\n",
    "print(version())"
   ]
  },
  {
   "cell_type": "markdown",
   "metadata": {},
   "source": [
    "- If you need to know what version of Python is running your code, you can check it using a number of dedicated functions - here are two of them:\n",
    "    - `python_implementation()` → returns a string denoting the Python implementation (expect CPython here, unless you decide to use any non-canonical Python branch)\n",
    "    - `python_version_tuple()` → returns a three-element tuple filled with:\n",
    "        - the **major** part of Python's version;\n",
    "        - the **minor** part;\n",
    "        - the **patch** level number."
   ]
  },
  {
   "cell_type": "code",
   "execution_count": null,
   "metadata": {},
   "outputs": [],
   "source": [
    "from platform import python_implementation, python_version_tuple\n",
    "\n",
    "print(python_implementation())\n",
    "\n",
    "for atr in python_version_tuple():\n",
    "    print(atr)"
   ]
  },
  {
   "cell_type": "markdown",
   "metadata": {},
   "source": [
    "#### Python Module Index"
   ]
  },
  {
   "cell_type": "markdown",
   "metadata": {},
   "source": [
    "- You can read about all standard Python modules here: [https://docs.python.org/3/py-modindex.html](https://docs.python.org/3/py-modindex.html)."
   ]
  },
  {
   "cell_type": "markdown",
   "metadata": {},
   "source": [
    "### 5.1.3.1 Modules and Packages"
   ]
  },
  {
   "cell_type": "markdown",
   "metadata": {},
   "source": [
    "![](./images/10_package.png)"
   ]
  },
  {
   "cell_type": "markdown",
   "metadata": {},
   "source": [
    "- Let's summarize some important issues:\n",
    "    - a **module is a kind of container filled with functions** - you can pack as many functions as you want into one module and distribute it across the world;\n",
    "    - of course, it's generally a good idea not to mix functions with different application areas within one module (just like in a library - nobody expects scientific works to be put among comic books), so group your functions carefully and name the module containing them in a clear and intuitive way (e.g., don't give the name `arcade_games` to a module containing functions intended to partition and format hard disks)\n",
    "    - making many modules may cause a little mess - sooner or later you'll want to **group your modules** exactly in the same way as you've previously grouped functions - is there a more general container than a module?\n",
    "    - yes, there is - it's a **package**; in the world of modules, a package plays a similar role to a folder/directory in the world of files."
   ]
  },
  {
   "cell_type": "markdown",
   "metadata": {},
   "source": [
    "#### Your first module"
   ]
  },
  {
   "cell_type": "markdown",
   "metadata": {},
   "source": [
    "![](./images/11_IDLE.png)"
   ]
  },
  {
   "cell_type": "markdown",
   "metadata": {},
   "source": [
    "- You need two files to repeat these experiments. One of them will be the module itself."
   ]
  },
  {
   "cell_type": "markdown",
   "metadata": {},
   "source": [
    "![](./images/12_newDir.png)"
   ]
  },
  {
   "cell_type": "markdown",
   "metadata": {},
   "source": [
    "![](./images/13_module.png)"
   ]
  },
  {
   "cell_type": "markdown",
   "metadata": {},
   "source": [
    "![](./images/14_main.png)"
   ]
  },
  {
   "cell_type": "markdown",
   "metadata": {},
   "source": [
    "![](./images/15_checkFile.png)"
   ]
  },
  {
   "cell_type": "markdown",
   "metadata": {},
   "source": [
    "- Note: both files have to be located in the same folder. We strongly encourage you to create an empty, new folder for both files. Some things will be easier then."
   ]
  },
  {
   "cell_type": "markdown",
   "metadata": {},
   "source": [
    "- Launch IDLE and run the main.py file. What do you see?"
   ]
  },
  {
   "cell_type": "markdown",
   "metadata": {},
   "source": [
    "![](./images/16_runMain.png)"
   ]
  },
  {
   "cell_type": "markdown",
   "metadata": {},
   "source": [
    "![](./images/17_runMain_1.png)"
   ]
  },
  {
   "cell_type": "markdown",
   "metadata": {},
   "source": [
    "- You should see nothing. This means that Python has successfully imported the contents of the module.py file. It doesn't matter that the module is empty for now. The very first step has been done, but before you take the next step, we want you to take a look into the folder in which both files exist."
   ]
  },
  {
   "cell_type": "markdown",
   "metadata": {},
   "source": [
    "- A new subfolder has appeared - can you see it? Its name is __pycache__. Take a look inside. What do you see?\n",
    "    - There is a file named (more or less) `module.cpython-xy.pyc` where x and y are digits derived from your version of Python (e.g., they will be 3 and 4 if you use Python 3.4).\n",
    "\n",
    "    - The name of the file is the same as your module's name (module here). The part after the first dot says which Python implementation has created the file (`CPython` here) and its version number. The last part (pyc) comes from the words `Python` and `compiled`.\n",
    "\n",
    "    - You can look inside the file - the content is completely unreadable to humans. It has to be like that, as the file is intended for Python's use only.\n",
    "\n",
    "    - When Python imports a module for the first time, it **translates its contents into a somewhat compiled shape**. The file doesn't contain machine code - it's internal Python **semi-compiled code**, ready to be executed by Python's interpreter. As such a file doesn't require lots of the checks needed for a pure source file, the execution starts faster, and runs faster, too.\n",
    "\n",
    "    - Thanks to that, every subsequent import will go quicker than interpreting the source text from scratch.\n",
    "\n",
    "    - Python is able to check if the module's source file has been modified (in this case, the pyc file will be rebuilt) or not (when the pyc file may be run at once). As this process is fully automatic and transparent, you don't have to keep it in mind."
   ]
  },
  {
   "cell_type": "markdown",
   "metadata": {},
   "source": [
    "![](./images/18_pycache.png)"
   ]
  },
  {
   "cell_type": "markdown",
   "metadata": {},
   "source": [
    "![](./images/19_pyc.png)"
   ]
  },
  {
   "cell_type": "markdown",
   "metadata": {},
   "source": [
    "- Now we've put a little something into the module file:"
   ]
  },
  {
   "cell_type": "markdown",
   "metadata": {},
   "source": [
    "![](./images/20_toBeModule.png)"
   ]
  },
  {
   "cell_type": "markdown",
   "metadata": {},
   "source": [
    "![](./images/21_runMain_2.png)"
   ]
  },
  {
   "cell_type": "markdown",
   "metadata": {},
   "source": [
    "- What does it actually mean?\n",
    "    - When a module is imported, its content is **implicitly executed by Python**. It gives the module the chance to initialize some of its internal aspects (e.g., it may assign some variables with useful values). Note: the **initialization takes place only once**, when the first import occurs, so the assignments done by the module aren't repeated unnecessarily."
   ]
  },
  {
   "cell_type": "markdown",
   "metadata": {},
   "source": [
    "- Imagine the following context:\n",
    "    - there is a module named `mod1`;\n",
    "    - there is a module named `mod2` which contains the import `mod1` instruction;\n",
    "    - there is a main file containing the `import mod`1 and `import mod2` instructions.\n",
    "- **only the first import occurs**. Python remembers the imported modules and silently omits all subsequent imports."
   ]
  },
  {
   "cell_type": "markdown",
   "metadata": {},
   "source": [
    "- Python can do much more. It also creates a variable called `__name__`."
   ]
  },
  {
   "cell_type": "markdown",
   "metadata": {},
   "source": [
    "![](./images/22_module.png)"
   ]
  },
  {
   "cell_type": "markdown",
   "metadata": {},
   "source": [
    "- Now run the module.py file. You should see the following lines:"
   ]
  },
  {
   "cell_type": "markdown",
   "metadata": {},
   "source": [
    "![](./images/23_module.png)"
   ]
  },
  {
   "cell_type": "markdown",
   "metadata": {},
   "source": [
    "- Now run the main.py file. And? Do you see the same as us?"
   ]
  },
  {
   "cell_type": "markdown",
   "metadata": {},
   "source": [
    "![](./images/24_main.png)"
   ]
  },
  {
   "cell_type": "markdown",
   "metadata": {},
   "source": [
    "- We can say that:\n",
    "\n",
    "    - when you run a file directly, its `__name__` variable is set to `__main__`;\n",
    "    - when a file is imported as a module, its `__name__` variable is set to the file's name (excluding .py)"
   ]
  },
  {
   "cell_type": "markdown",
   "metadata": {},
   "source": [
    "- This is how you can make use of the __main__ variable in order to detect the context in which your code has been activated:"
   ]
  },
  {
   "cell_type": "markdown",
   "metadata": {},
   "source": [
    "![](./images/25_module.png)"
   ]
  },
  {
   "cell_type": "markdown",
   "metadata": {},
   "source": [
    "- There's a cleverer way to utilize the variable, however. If you write a module filled with a number of complex functions, you can use it to place a series of tests to check if the functions work properly.\n",
    "- Each time you modify any of these functions, you can simply run the module to make sure that your amendments didn't spoil the code. These tests will be omitted when the code is imported as a module."
   ]
  },
  {
   "cell_type": "markdown",
   "metadata": {},
   "source": [
    "### 5.1.3.4 Modules and Packages"
   ]
  },
  {
   "cell_type": "markdown",
   "metadata": {},
   "source": [
    "![](./images/26_module.png)"
   ]
  },
  {
   "cell_type": "markdown",
   "metadata": {},
   "source": [
    "- Introducing such a variable is absolutely correct, but may cause important side effects that you must be aware of."
   ]
  },
  {
   "cell_type": "markdown",
   "metadata": {},
   "source": [
    "- Take a look at the modified ***main.py*** file:"
   ]
  },
  {
   "cell_type": "markdown",
   "metadata": {},
   "source": [
    "![](./images/27_module.png)"
   ]
  },
  {
   "cell_type": "markdown",
   "metadata": {},
   "source": [
    "- As you can see, the main file tries to access the module's counter variable. Is this legal? Yes, it is. Is it usable? It may be very usable. Is it safe? That depends - if you trust your module's users, there's no problem; however, you may not want the rest of the world to see your ***personal/private variable***."
   ]
  },
  {
   "cell_type": "markdown",
   "metadata": {},
   "source": [
    "- Unlike many other programming languages, ***Python has no means of allowing you to hide such variables from the eyes of the module's users***. You can only inform your users that this is your variable, that they may read it, but that they should not modify it under any circumstances."
   ]
  },
  {
   "cell_type": "markdown",
   "metadata": {},
   "source": [
    "- This is done by preceding the variable's name with `_` (one underscore) or `__` (two underscores), but remember, it's only a ***convention***. Your module's users may obey it or they may not."
   ]
  },
  {
   "cell_type": "markdown",
   "metadata": {},
   "source": [
    "- The module is ready:"
   ]
  },
  {
   "cell_type": "markdown",
   "metadata": {},
   "source": [
    "![](./images/28_module.png)"
   ]
  },
  {
   "cell_type": "code",
   "execution_count": null,
   "metadata": {},
   "outputs": [],
   "source": [
    "#!/usr/bin/env python3 \n",
    "\n",
    "\"\"\" module.py - an example of Python module \"\"\"\n",
    "\n",
    "__counter = 0\n",
    "\n",
    "def suml(list):\n",
    "    global __counter\n",
    "    __counter += 1\n",
    "    sum = 0\n",
    "    for el in list:\n",
    "        sum += el\n",
    "    return sum\n",
    "\n",
    "def prodl(list):\n",
    "    global __counter\n",
    "    __counter += 1\n",
    "    prod = 1\n",
    "    for el in list:\n",
    "        prod *= el\n",
    "    return prod\n",
    "\n",
    "if __name__ == \"__main__\":\n",
    "    print(\"I prefer to be a module, but I can do some tests for you\")\n",
    "    l = [i+1 for i in range(5)]\n",
    "    print(suml(l) == 15)\n",
    "    print(prodl(l) == 120)"
   ]
  },
  {
   "cell_type": "markdown",
   "metadata": {},
   "source": [
    "- A few elements need some explanation, we think:\n",
    "    - the line starting with `#!` has many names - it may be called ***shabang, shebang, hashbang, poundbang*** or even ***hashpling*** (don't ask us why). The name itself means nothing here - its role is more important. \n",
    "        - From Python's point of view, it's just a ***comment*** as it starts with `#`. \n",
    "        - For Unix and Unix-like OSs (including MacOS) such a line ***instructs the OS how to execute the contents of the file*** (in other words, what program needs to be launched to interpret the text). In some environments (especially those connected with web servers) the absence of that line will cause trouble;\n",
    "    - a string (maybe a multiline) placed before any module instructions (including imports) is called the ***doc-string***, and should briefly explain the purpose and contents of the module;\n",
    "    - the functions defined inside the module (`suml()` and `prodl()`) are available for import;\n",
    "    - we've used the `__name__` variable to detect when the file is run stand-alone, and seized this opportunity to perform some simple tests."
   ]
  },
  {
   "cell_type": "markdown",
   "metadata": {},
   "source": [
    "- Now it's possible to use the new module - this is one way:"
   ]
  },
  {
   "cell_type": "markdown",
   "metadata": {},
   "source": [
    "![](./images/29_main.png)"
   ]
  },
  {
   "cell_type": "code",
   "execution_count": null,
   "metadata": {},
   "outputs": [],
   "source": [
    "from module import suml, prodl\n",
    "\n",
    "zeros = [0 for i in range(5)]\n",
    "ones = [1 for i in range(5)]\n",
    "print(suml(zeros))\n",
    "print(prodl(ones))"
   ]
  },
  {
   "cell_type": "markdown",
   "metadata": {},
   "source": [
    "![](./images/30_runMain.png)"
   ]
  },
  {
   "cell_type": "markdown",
   "metadata": {},
   "source": [
    "### 5.1.3.5 Modules and Packages\n"
   ]
  },
  {
   "cell_type": "markdown",
   "metadata": {},
   "source": [
    "It's time to make this example more complicated - we've assumed here that the main Python file is located in the same folder/directory as the module to be imported."
   ]
  },
  {
   "cell_type": "markdown",
   "metadata": {},
   "source": [
    "Let's give up this assumption and conduct the following thought experiment:\n",
    "- we are using Windows ® OS (this assumption is important, as the file name's shape depends on it)\n",
    "- the main Python script lies in ***C:\\Users\\user\\py\\progs*** and is named ***main.py***\n",
    "- the module to import is located in ***C:\\Users\\user\\py\\modules***"
   ]
  },
  {
   "cell_type": "markdown",
   "metadata": {},
   "source": [
    "![](./images/31_module.png)"
   ]
  },
  {
   "cell_type": "markdown",
   "metadata": {},
   "source": [
    "#### how Python searches for modules"
   ]
  },
  {
   "cell_type": "markdown",
   "metadata": {},
   "source": [
    "- There's a special variable (actually a list) storing all locations (folders/directories) that are searched in order to find a module which has been requested by the import instruction.\n",
    "\n",
    "- Python browses these folders in the order in which they are listed in the list - if the module cannot be found in any of these directories, the import fails.\n",
    "\n",
    "- Otherwise, the first folder containing a module with the desired name will be taken into consideration (if any of the remaining folders contains a module of that name, it will be ignored).\n",
    "\n",
    "- The variable is named `path`, and it's accessible through the module named `sys`. This is how you can check its regular value:"
   ]
  },
  {
   "cell_type": "code",
   "execution_count": null,
   "metadata": {},
   "outputs": [],
   "source": [
    "from sys import path\n",
    "path"
   ]
  },
  {
   "cell_type": "markdown",
   "metadata": {},
   "source": [
    "In tutorial example:"
   ]
  },
  {
   "cell_type": "markdown",
   "metadata": {},
   "source": [
    "![](./images/32_path.png)"
   ]
  },
  {
   "cell_type": "markdown",
   "metadata": {},
   "source": [
    "- Note: the folder in which the execution starts is listed in the first path's element.\n",
    "\n",
    "- Note once again: there is a zip file listed as one of the path's elements - it's not an error. Python is able to treat zip files as ordinary folders - this can save lots of storage."
   ]
  },
  {
   "cell_type": "markdown",
   "metadata": {},
   "source": [
    "- One of several possible solutions looks like this:"
   ]
  },
  {
   "cell_type": "markdown",
   "metadata": {},
   "source": [
    "![](./images/33_addPath.png)"
   ]
  },
  {
   "cell_type": "markdown",
   "metadata": {},
   "source": [
    "- Note:\n",
    "    - Because a backslash is used to escape other characters - if you want to get just a backslash, you have to escape it.\n",
    "    - we've used the relative name of the folder - this will work if you start the main.py file directly from its home folder, and won't work if the current directory doesn't fit the relative path; you can always use an absolute path, like this:\n",
    "        - `path.append('C:\\\\Users\\\\user\\\\py\\\\modules')`\n",
    "    - we've used the `append()` method - in effect, the new path will occupy the last element in the path list; if you don't like the idea, you can use `insert()` instead."
   ]
  },
  {
   "cell_type": "markdown",
   "metadata": {},
   "source": [
    "### 5.1.3.6 Modules and Packages\n"
   ]
  },
  {
   "cell_type": "markdown",
   "metadata": {},
   "source": [
    "#### Your first package"
   ]
  },
  {
   "cell_type": "markdown",
   "metadata": {},
   "source": [
    "- Your team decides to group the functions in separate modules, and this is the final result of the ordering:"
   ]
  },
  {
   "cell_type": "markdown",
   "metadata": {},
   "source": [
    "![](./images/34_package_1.png)"
   ]
  },
  {
   "cell_type": "markdown",
   "metadata": {},
   "source": [
    "- Suddenly, somebody notices that these modules form their own hierarchy, so putting them all in a flat structure won't be a good idea."
   ]
  },
  {
   "cell_type": "markdown",
   "metadata": {},
   "source": [
    "- After some discussion, the team comes to the conclusion that the modules have to be grouped. All participants agree that the following tree structure perfectly reflects the mutual relationships between the modules:"
   ]
  },
  {
   "cell_type": "markdown",
   "metadata": {},
   "source": [
    "![](./images/35_package_2.png)"
   ]
  },
  {
   "cell_type": "markdown",
   "metadata": {},
   "source": [
    "- It looks like a directory structure."
   ]
  },
  {
   "cell_type": "markdown",
   "metadata": {},
   "source": [
    "- This is how the tree currently looks:"
   ]
  },
  {
   "cell_type": "markdown",
   "metadata": {},
   "source": [
    "![](./images/36_package_3.png)"
   ]
  },
  {
   "cell_type": "markdown",
   "metadata": {},
   "source": [
    "- If you assume that extra is the name of a ***newly created package*** (think of it as the ***package's root***), it will impose a naming rule which allows you to clearly name every entity from the tree."
   ]
  },
  {
   "cell_type": "markdown",
   "metadata": {},
   "source": [
    "- For example:\n",
    "    - the location of a function named `funT()` from the tau package may be described as:\n",
    "        - `extra.good.best.tau.funT()`\n",
    "    - comes from the psi module being stored in the ugly subpackage of the extra package:\n",
    "        - `extra.ugly.psi.funP()`"
   ]
  },
  {
   "cell_type": "markdown",
   "metadata": {},
   "source": [
    "- ***packages, like modules, may require initialization***\n",
    "    - The initialization of a module is done by an unbound code (not a part of any function) located inside the module's file. As a package is not a file, this technique is useless for initializing packages.\n",
    "    - You need to use a different trick instead - Python expects that there is a file with a very unique name inside the package's folder: `__init__.py`.\n",
    "    - The content of the file is executed when any of the package's modules is imported. If you don't want any special initializations, you can leave the file empty, but you mustn't omit it."
   ]
  },
  {
   "cell_type": "markdown",
   "metadata": {},
   "source": [
    "### 5.1.3.8 Modules and Packages"
   ]
  },
  {
   "cell_type": "markdown",
   "metadata": {},
   "source": [
    "The presence of the ***\\_\\_init\\_\\_.py*** file finally makes up the package:"
   ]
  },
  {
   "cell_type": "markdown",
   "metadata": {},
   "source": [
    "![](./images/37_package_4.png)"
   ]
  },
  {
   "cell_type": "markdown",
   "metadata": {},
   "source": [
    "- Note: it's not only the root folder that can contain ***\\_\\_init.py\\_\\_*** file - you can put it inside any of its subfolders (subpackages) too. It may be useful if some of the subpackages require individual treatment and special kinds of initialization."
   ]
  },
  {
   "cell_type": "markdown",
   "metadata": {},
   "source": [
    "- Let's assume that the working environment looks as follows:"
   ]
  },
  {
   "cell_type": "markdown",
   "metadata": {},
   "source": [
    "![](./images/38_package_5.png)"
   ]
  },
  {
   "cell_type": "markdown",
   "metadata": {},
   "source": [
    "- We are going to access the `funI()` function from the ***iota*** module from the top of the ***extra*** package. It forces us to use qualified package names (associate this with naming folders and subfolders - the conventions are very similar).\n",
    "- This is how to do it:"
   ]
  },
  {
   "cell_type": "markdown",
   "metadata": {},
   "source": [
    "![](./images/39_package_6.png)"
   ]
  },
  {
   "cell_type": "markdown",
   "metadata": {},
   "source": [
    "- Note:\n",
    "\n",
    "    - we've modified the `path` variable to make it accessible to Python\n",
    "    - the `import` doesn't point directly to the module, but specifies the fully qualified path from the top of the package"
   ]
  },
  {
   "cell_type": "markdown",
   "metadata": {},
   "source": [
    "- The following variant is valid too:"
   ]
  },
  {
   "cell_type": "markdown",
   "metadata": {},
   "source": [
    "![](./images/40_package_7.png)"
   ]
  },
  {
   "cell_type": "markdown",
   "metadata": {},
   "source": [
    "![](./images/41_package_8.png)"
   ]
  },
  {
   "cell_type": "markdown",
   "metadata": {},
   "source": [
    "![](./images/42_package_9.png)"
   ]
  },
  {
   "cell_type": "markdown",
   "metadata": {},
   "source": [
    "### 5.1.4.1 Errors - the programmer\n"
   ]
  },
  {
   "cell_type": "markdown",
   "metadata": {},
   "source": [
    "#### Errors, failures, and other plagues"
   ]
  },
  {
   "cell_type": "code",
   "execution_count": null,
   "metadata": {},
   "outputs": [],
   "source": [
    "import math\n",
    "\n",
    "x = float(input(\"Enter x: \"))\n",
    "y = math.sqrt(x)\n",
    "\n",
    "print(\"The square root of\", x, \"equals to\", y)"
   ]
  },
  {
   "cell_type": "markdown",
   "metadata": {},
   "source": [
    "- As a user is able to enter a completely arbitrary string of characters, there is no guarantee that the string can be converted into a float value*** - this is the first vulnerability of the code;\n",
    "- the second is that the `sqrt()` ***function fails if it gets a negative argument***."
   ]
  },
  {
   "cell_type": "markdown",
   "metadata": {},
   "source": [
    "- error name, e.g., ***IndexError***"
   ]
  },
  {
   "cell_type": "code",
   "execution_count": null,
   "metadata": {},
   "outputs": [],
   "source": [
    "list = []\n",
    "x = list[0]"
   ]
  },
  {
   "cell_type": "code",
   "execution_count": null,
   "metadata": {},
   "outputs": [],
   "source": [
    "try:\n",
    "    print(\"1\")\n",
    "    x = 1 / 0\n",
    "    print(\"2\")\n",
    "except:\n",
    "    print(\"Oh dear, something went wrong...\")\n",
    "\n",
    "print(\"3\")"
   ]
  },
  {
   "cell_type": "markdown",
   "metadata": {},
   "source": [
    "- There are four variants of output from the following example:"
   ]
  },
  {
   "cell_type": "code",
   "execution_count": null,
   "metadata": {},
   "outputs": [],
   "source": [
    "try:\n",
    "    x = int(input(\"Enter a number: \"))\n",
    "    y = 1 / x\n",
    "    print(y)\n",
    "except ZeroDivisionError:\n",
    "    print(\"You cannot divide by zero, sorry.\")\n",
    "except ValueError:\n",
    "    print(\"You must enter an integer value.\")\n",
    "except:\n",
    "    print(\"Oh dear, something went wrong...\")\n",
    "\n",
    "print(\"THE END.\")"
   ]
  },
  {
   "cell_type": "markdown",
   "metadata": {},
   "source": [
    "- Don't forget that:\n",
    "    - the `except` branches are searched in the same order in which they appear in the code;\n",
    "    - you must not use more than one except branch with a certain exception name;\n",
    "    - the number of different `except` branches is arbitrary - the only condition is that if you use `try`, you must put at least one `except` (named or not) after it;\n",
    "    - the `except` keyword must not be used without a preceding `try`;\n",
    "    - if any of the except branches is executed, no other branches will be visited;\n",
    "    - if none of the specified `except` branches matches the raised exception, the exception remains unhandled (we'll discuss it soon)\n",
    "    - if an unnamed `except` branch exists (one without an exception name), it has to be specified as the last."
   ]
  },
  {
   "cell_type": "markdown",
   "metadata": {},
   "source": [
    "### 5.1.5.1 The anatomy of exceptions"
   ]
  },
  {
   "cell_type": "markdown",
   "metadata": {},
   "source": [
    "#### Exceptions"
   ]
  },
  {
   "cell_type": "markdown",
   "metadata": {},
   "source": [
    "- Python 3 defines ***63 built-in exceptions***, and all of them form a ***tree-shaped hierarchy***, although the tree is a bit weird as its root is located on top.\n",
    "\n",
    "- Some of the built-in exceptions are more general (they include other exceptions) while others are completely concrete (they represent themselves only). We can say that ***the closer to the root an exception is located, the more general (abstract) it is. In turn***, the exceptions located at the branches' ends (we can call them leaves) are concrete."
   ]
  },
  {
   "cell_type": "markdown",
   "metadata": {},
   "source": [
    "![](./images/43_exceptionTree.png)"
   ]
  },
  {
   "cell_type": "markdown",
   "metadata": {},
   "source": [
    "- Let's summarize:\n",
    "    - each exception raised ***falls into the first matching branch***;\n",
    "    - the matching branch doesn't have to specify the same exception exactly - it's enough that the exception is ***more general*** (more abstract) than the raised one."
   ]
  },
  {
   "cell_type": "code",
   "execution_count": null,
   "metadata": {},
   "outputs": [],
   "source": [
    "try:\n",
    "    y = 1 / 0\n",
    "except ArithmeticError:\n",
    "    print(\"Arithmetic problem!\")\n",
    "except ZeroDivisionError:\n",
    "    print(\"Zero Division!\")\n",
    "\n",
    "print(\"THE END.\")"
   ]
  },
  {
   "cell_type": "markdown",
   "metadata": {},
   "source": [
    "- Remember:\n",
    "    - the order of the branches matters!\n",
    "    - don't put more general exceptions before more concrete ones;\n",
    "    - this will make the latter one unreachable and useless;\n",
    "    - moreover, it will make your code messy and inconsistent;\n",
    "    - Python won't generate any error messages regarding this issue."
   ]
  },
  {
   "cell_type": "markdown",
   "metadata": {},
   "source": [
    "- If you want to ***handle two or more exceptions*** in the same way, you can use the following syntax:\n",
    "\n",
    "    ```\n",
    "    try:\n",
    "        :\n",
    "    except (exc1, exc2):\n",
    "        :\n",
    "    ```"
   ]
  },
  {
   "cell_type": "markdown",
   "metadata": {},
   "source": [
    "- If an ***exception is raised inside a function***, it can be handled:\n",
    "\n",
    "    - inside the function;\n",
    "    - outside the function;"
   ]
  },
  {
   "cell_type": "code",
   "execution_count": null,
   "metadata": {},
   "outputs": [],
   "source": [
    "def badFun(n):\n",
    "    try:\n",
    "        return 1 / n\n",
    "    except ArithmeticError:\n",
    "        print(\"Arithmetic Problem!\")\n",
    "    return None\n",
    "\n",
    "badFun(0)\n",
    "\n",
    "print(\"THE END.\")"
   ]
  },
  {
   "cell_type": "code",
   "execution_count": null,
   "metadata": {},
   "outputs": [],
   "source": [
    "def badFun(n):\n",
    "    return 1 / n\n",
    "\n",
    "try:\n",
    "    badFun(0)\n",
    "except ArithmeticError:\n",
    "    print(\"What happened? An exception was raised!\")\n",
    "\n",
    "print(\"THE END.\")"
   ]
  },
  {
   "cell_type": "markdown",
   "metadata": {},
   "source": [
    "- Note:\n",
    "    - the*** exception raised can cross function and module boundaries***, and travel through the invocation chain looking for a matching except clause able to handle it.\n",
    "\n",
    "    - If there is no such clause, the exception remains unhandled, and Python solves the problem in its standard way - ***by terminating your code and emitting a diagnostic message***."
   ]
  },
  {
   "cell_type": "markdown",
   "metadata": {},
   "source": [
    "### 5.1.5.6 The anatomy of exceptions | raise"
   ]
  },
  {
   "cell_type": "markdown",
   "metadata": {},
   "source": [
    "#### keyword `raise`"
   ]
  },
  {
   "cell_type": "markdown",
   "metadata": {},
   "source": [
    "- The instruction enables you to:\n",
    "    - ***simulate raising actual exceptions*** (e.g., to test your handling strategy)\n",
    "    - partially ***handle an exception*** and make another part of the code responsible for completing the handling (separation of concerns).\n",
    "\n",
    "- In this way, you can ***test your exception handling routine*** without forcing the code to do stupid things."
   ]
  },
  {
   "cell_type": "code",
   "execution_count": null,
   "metadata": {},
   "outputs": [],
   "source": [
    "def badFun(n):\n",
    "    raise ZeroDivisionError\n",
    "\n",
    "try:\n",
    "    badFun(0)\n",
    "except ArithmeticError:\n",
    "    print(\"What happened? An error?\")\n",
    "\n",
    "print(\"THE END.\")"
   ]
  },
  {
   "cell_type": "markdown",
   "metadata": {},
   "source": [
    "#### `raise` inside the `except` branch only"
   ]
  },
  {
   "cell_type": "markdown",
   "metadata": {},
   "source": [
    "- The `raise` instruction may also be utilized in the following way (note the absence of the exception's name):"
   ]
  },
  {
   "cell_type": "code",
   "execution_count": null,
   "metadata": {},
   "outputs": [],
   "source": [
    "raise"
   ]
  },
  {
   "cell_type": "markdown",
   "metadata": {},
   "source": [
    "- There is one serious restriction: this kind of `raise` instruction may be used ***inside the*** `except` ***branch only***; using it in any other context causes an error.\n",
    "- The instruction will immediately re-raise the same exception as currently handled.\n",
    "- Thanks to this, you can distribute the exception handling among different parts of the code."
   ]
  },
  {
   "cell_type": "code",
   "execution_count": null,
   "metadata": {},
   "outputs": [],
   "source": [
    "def badFun(n):\n",
    "    try:\n",
    "        return n / 0\n",
    "    except:\n",
    "        print(\"I did it again!\")\n",
    "        raise\n",
    "\n",
    "try:\n",
    "    badFun(0)\n",
    "except ArithmeticError:\n",
    "    print(\"I see!\")\n",
    "\n",
    "print(\"THE END.\")"
   ]
  },
  {
   "cell_type": "markdown",
   "metadata": {},
   "source": [
    "### 5.1.5.7 The anatomy of exceptions | assert\n"
   ]
  },
  {
   "cell_type": "markdown",
   "metadata": {},
   "source": [
    "#### keyword `assert`"
   ]
  },
  {
   "cell_type": "markdown",
   "metadata": {},
   "source": [
    "- How does it work?\n",
    "\n",
    "    - It evaluates the expression;\n",
    "    - if the expression evaluates to `True`, or a non-zero numerical value, or a non-empty string, or any other value different than `None`, it won't do anything else;\n",
    "    - otherwise, it automatically and immediately raises an exception named ***AssertionError*** (in this case, we say that the assertion has failed)"
   ]
  },
  {
   "cell_type": "markdown",
   "metadata": {},
   "source": [
    "- How it can be used?\n",
    "\n",
    "    - you may want to put it into your code where you want to be ***absolutely safe from evidently wrong data***, and where you aren't absolutely sure that the data has been carefully examined before (e.g., inside a function used by someone else)\n",
    "    - raising an AssertionError exception secures your code from producing invalid results, and clearly shows the nature of the failure;\n",
    "    - ***assertions don't supersede exceptions or validate the data*** - they are their supplements."
   ]
  },
  {
   "cell_type": "markdown",
   "metadata": {},
   "source": [
    "- If exceptions and data validation are like careful driving, assertion can play the role of an airbag."
   ]
  },
  {
   "cell_type": "code",
   "execution_count": null,
   "metadata": {},
   "outputs": [],
   "source": [
    "import math\n",
    "\n",
    "x = float(input(\"Enter a number: \"))\n",
    "assert x >= 0.0\n",
    "\n",
    "x = math.sqrt(x)\n",
    "\n",
    "print(x)"
   ]
  },
  {
   "cell_type": "markdown",
   "metadata": {},
   "source": [
    "### 5.1.6.1 Useful exceptions\n"
   ]
  },
  {
   "cell_type": "markdown",
   "metadata": {},
   "source": [
    "#### Built-in exceptions"
   ]
  },
  {
   "cell_type": "markdown",
   "metadata": {},
   "source": [
    "- ArithmeticError\n",
    "    - Location:\n",
    "\n",
    "        - `BaseException ← Exception ← ArithmeticError`\n",
    "\n",
    "    - Description:\n",
    "\n",
    "        - an abstract exception including all exceptions caused by arithmetic operations like zero division or an argument's invalid domain"
   ]
  },
  {
   "cell_type": "markdown",
   "metadata": {},
   "source": [
    "- AssertionError\n",
    "    - Location:\n",
    "\n",
    "        - `BaseException ← Exception ← AssertionError`\n",
    "\n",
    "    - Description:\n",
    "\n",
    "        - a concrete exception raised by the assert instruction when its argument evaluates to False, None, 0, or an empty string\n",
    "\n",
    "    - Code:"
   ]
  },
  {
   "cell_type": "code",
   "execution_count": null,
   "metadata": {},
   "outputs": [],
   "source": [
    "from math import tan, radians\n",
    "angle = int(input('Enter integral angle in degrees: '))\n",
    "\n",
    "# we must be sure that angle != 90 + k * 180\n",
    "assert angle % 180 != 90\n",
    "print(tan(radians(angle)))\n"
   ]
  },
  {
   "cell_type": "markdown",
   "metadata": {},
   "source": [
    "- BaseException\n",
    "    - Location:\n",
    "\n",
    "        - `BaseException`\n",
    "\n",
    "    - Description:\n",
    "\n",
    "        - the most general (abstract) of all Python exceptions - all other exceptions are included in this one; it can be said that the following two except branches are equivalent: except: and except BaseException:."
   ]
  },
  {
   "cell_type": "markdown",
   "metadata": {},
   "source": [
    "- IndexError\n",
    "    - Location:\n",
    "\n",
    "        - `BaseException ← Exception ← LookupError ← IndexError`\n",
    "\n",
    "    - Description:\n",
    "\n",
    "        - a concrete exception raised when you try to access a non-existent sequence's element (e.g., a list's element)\n",
    "\n",
    "    - Code:"
   ]
  },
  {
   "cell_type": "code",
   "execution_count": null,
   "metadata": {},
   "outputs": [],
   "source": [
    "# the code shows an extravagant way\n",
    "# of leaving the loop\n",
    "\n",
    "list = [1, 2, 3, 4, 5]\n",
    "ix = 0\n",
    "doit = True\n",
    "\n",
    "while doit:\n",
    "    try:\n",
    "        print(list[ix])\n",
    "        ix += 1\n",
    "    except IndexError:\n",
    "        doit = False\n",
    "\n",
    "print('Done')"
   ]
  },
  {
   "cell_type": "markdown",
   "metadata": {},
   "source": [
    "- KeyboardInterrupt\n",
    "    - Location:\n",
    "\n",
    "        - BaseException ← KeyboardInterrupt\n",
    "\n",
    "    - Description:\n",
    "\n",
    "        - a concrete exception raised when the user uses a keyboard shortcut designed to terminate a program's execution (Ctrl-C in most OSs); if handling this exception doesn't lead to program termination, the program continues its execution. Note: this exception is not derived from the Exception class. Run the program in IDLE.\n",
    "\n",
    "    - Code:"
   ]
  },
  {
   "cell_type": "code",
   "execution_count": null,
   "metadata": {},
   "outputs": [],
   "source": [
    "# this code cannot be terminated\n",
    "# by pressing Ctrl-C\n",
    "\n",
    "from time import sleep\n",
    "seconds = 0\n",
    "while True:\n",
    "    try:\n",
    "        print(seconds)\n",
    "        seconds += 1\n",
    "        sleep(1)\n",
    "    except KeyboardInterrupt:\n",
    "        print(\"Don't do that!\")"
   ]
  },
  {
   "cell_type": "markdown",
   "metadata": {},
   "source": [
    "- LookupError\n",
    "    - Location:\n",
    "\n",
    "        - `BaseException ← Exception ← LookupError`\n",
    "\n",
    "    - Description:\n",
    "\n",
    "        - an abstract exception including all exceptions caused by errors resulting from invalid references to different collections (lists, dictionaries, tuples, etc.)"
   ]
  },
  {
   "cell_type": "markdown",
   "metadata": {},
   "source": [
    "- MemoryError\n",
    "    - Location:\n",
    "\n",
    "        - `BaseException ← Exception ← MemoryError`\n",
    "\n",
    "    - Description:\n",
    "\n",
    "        - a concrete exception raised when an operation cannot be completed due to a lack of free memory\n",
    "\n",
    "    - Code:"
   ]
  },
  {
   "cell_type": "code",
   "execution_count": null,
   "metadata": {},
   "outputs": [],
   "source": [
    "# this code causes the MemoryError exception\n",
    "# warning: executing this code may be crucial\n",
    "# for your OS\n",
    "# don't run it in production environments!\n",
    "\n",
    "string = 'x'\n",
    "try:\n",
    "    while True:\n",
    "        string = string + string\n",
    "        print(len(string))\n",
    "except MemoryError:\n",
    "    print('This is not funny!')"
   ]
  },
  {
   "cell_type": "markdown",
   "metadata": {},
   "source": [
    "- OverflowError\n",
    "    - Location:\n",
    "\n",
    "        - BaseException ← Exception ← ArithmeticError ← OverflowError\n",
    "\n",
    "    - Description:\n",
    "\n",
    "        - a concrete exception raised when an operation produces a number too big to be successfully stored\n",
    "\n",
    "    - Code:"
   ]
  },
  {
   "cell_type": "code",
   "execution_count": null,
   "metadata": {},
   "outputs": [],
   "source": [
    "# the code prints subsequent\n",
    "# values of exp(k), k = 1, 2, 4, 8, 16, ...\n",
    "\n",
    "from math import exp\n",
    "ex = 1\n",
    "try:\n",
    "    while True:\n",
    "        print(exp(ex))\n",
    "        ex *= 2\n",
    "except OverflowError:\n",
    "    print('The number is too big.')"
   ]
  },
  {
   "cell_type": "markdown",
   "metadata": {},
   "source": [
    "- ImportError\n",
    "    - Location:\n",
    "\n",
    "        - BaseException ← Exception ← StandardError ← ImportError\n",
    "\n",
    "    - Description:\n",
    "\n",
    "        - a concrete exception raised when an import operation fails\n",
    "\n",
    "    - Code:"
   ]
  },
  {
   "cell_type": "code",
   "execution_count": null,
   "metadata": {},
   "outputs": [],
   "source": [
    "# one of this imports will fail - which one?\n",
    "\n",
    "try:\n",
    "    import math\n",
    "    import time\n",
    "    import abracadabra\n",
    "\n",
    "except:\n",
    "    print('One of your imports has failed.')"
   ]
  },
  {
   "cell_type": "markdown",
   "metadata": {},
   "source": [
    "- KeyError\n",
    "    - Location:\n",
    "\n",
    "        - BaseException ← Exception ← LookupError ← KeyError\n",
    "\n",
    "    - Description:\n",
    "\n",
    "        - a concrete exception raised when you try to access a collection's non-existent element (e.g., a dictionary's element)\n",
    "\n",
    "    - Code:"
   ]
  },
  {
   "cell_type": "code",
   "execution_count": null,
   "metadata": {},
   "outputs": [],
   "source": [
    "# how to abuse the dictionary\n",
    "# and how to deal with it\n",
    "\n",
    "dict = { 'a' : 'b', 'b' : 'c', 'c' : 'd' }\n",
    "ch = 'a'\n",
    "try:\n",
    "    while True:\n",
    "        ch = dict[ch]\n",
    "        print(ch)\n",
    "except KeyError:\n",
    "    print('No such key:', ch)"
   ]
  },
  {
   "cell_type": "markdown",
   "metadata": {},
   "source": [
    "- if you'd like to learn more about exceptions on your own, you look into Standard Python Library at [https://docs.python.org/3.6/library/exceptions.html](https://docs.python.org/3.6/library/exceptions.html)"
   ]
  },
  {
   "cell_type": "markdown",
   "metadata": {},
   "source": [
    "### 5.1.6.4 Reading ints safely"
   ]
  },
  {
   "cell_type": "markdown",
   "metadata": {},
   "source": [
    "Scenario\n",
    "- Your task is to write a function able to input integer values and to check if they are within a specified range.\n",
    "\n",
    "- The function should:\n",
    "\n",
    "    - accept three arguments: a prompt, a low acceptable limit, and a high acceptable limit;\n",
    "    - if the user enters a string that is not an integer value, the function should emit the message `Error: wrong input`, and ask the user to input the value again;\n",
    "    - if the user enters a number which falls outside the specified range, the function should emit the message `Error: the value is not within permitted range (min..max)` and ask the user to input the value again;\n",
    "    - if the input value is valid, return it as a result."
   ]
  },
  {
   "cell_type": "code",
   "execution_count": null,
   "metadata": {},
   "outputs": [],
   "source": [
    "def readint(prompt, min, max):\n",
    "    try:\n",
    "        while(True):\n",
    "            userInput = int(input(prompt))\n",
    "            if userInput > max or userInput < min:\n",
    "                print(\"Error: the value is not within permitted range (min..max)\")\n",
    "            else:\n",
    "                return userInput\n",
    "    except ValueError:\n",
    "        print(\"Error: wrong input\")\n",
    "        return readint(prompt, min, max)\n",
    "        \n",
    "v = readint(\"Enter a number from -10 to 10: \", -10, 10)\n",
    "\n",
    "print(\"The number is:\", v)"
   ]
  },
  {
   "cell_type": "markdown",
   "metadata": {},
   "source": [
    "### 5.1.7.1 Characters and Strings vs. Computers\n"
   ]
  },
  {
   "cell_type": "markdown",
   "metadata": {},
   "source": [
    "- ***Computers store characters as numbers***. Every character used by a computer corresponds to a unique number, and vice versa. This assignment must include more characters than you might expect. Many of them are invisible to humans, but essential to computers."
   ]
  },
  {
   "cell_type": "markdown",
   "metadata": {},
   "source": [
    "- Some of these characters are called ***whitespaces***, while others are named ***control characters***, because their purpose is to control input/output devices."
   ]
  },
  {
   "cell_type": "markdown",
   "metadata": {},
   "source": [
    "- An example of a whitespace that is completely invisible to the naked eye is a special code, or a pair of codes (different operating systems may treat this issue differently), which are used to mark the ends of the lines inside text files."
   ]
  },
  {
   "cell_type": "markdown",
   "metadata": {},
   "source": [
    "- People do not see this sign (or these signs), but are able to observe the effect of their application where the lines are broken."
   ]
  },
  {
   "cell_type": "markdown",
   "metadata": {},
   "source": [
    "- We can create virtually any number of character-number assignments, but life in a world in which every type of computer uses a different character encoding would not be very convenient. This system has led to a need to introduce a universal and widely accepted standard implemented by (almost) all computers and operating systems all over the world."
   ]
  },
  {
   "cell_type": "markdown",
   "metadata": {},
   "source": [
    "#### ASCII"
   ]
  },
  {
   "cell_type": "markdown",
   "metadata": {},
   "source": [
    "- The one named ***ASCII*** (short for ***American Standard Code for Information Interchange***) is the most widely used, and you can assume that nearly all modern devices (like computers, printers, mobile phones, tablets, etc.) use that code."
   ]
  },
  {
   "cell_type": "markdown",
   "metadata": {},
   "source": [
    "- The code provides space for ***256 different characters***, but we are interested only in the first 128. If you want to see how the code is constructed, look at the table below. Click the table to enlarge it. Look at it carefully - there are some interesting facts. Look at the code of the most common character - the ***space***. This is `32`."
   ]
  },
  {
   "cell_type": "markdown",
   "metadata": {},
   "source": [
    "![](./images/44_ASCII.png)"
   ]
  },
  {
   "cell_type": "markdown",
   "metadata": {},
   "source": [
    "- Now check the code of the lower-case letter `a`. This is `97`. And now find the upper-case `A`. Its code is `65`. Now work out the difference between the code of `a` and `A`. It is equal to `32`. That's the code of a `space`. Interesting, isn't it?"
   ]
  },
  {
   "cell_type": "markdown",
   "metadata": {},
   "source": [
    "- Also note that the letters are arranged in the same order as in the Latin alphabet."
   ]
  },
  {
   "cell_type": "markdown",
   "metadata": {},
   "source": [
    "#### I18N"
   ]
  },
  {
   "cell_type": "markdown",
   "metadata": {},
   "source": [
    "- Of course, the Latin alphabet is not sufficient for the whole of mankind. Users of that alphabet are in the minority. It was necessary to come up with something more flexible and capacious than ASCII, something able to make all the software in the world amenable to ***internationalization***, because different languages use completely different alphabets, and sometimes these alphabets are not as simple as the Latin one."
   ]
  },
  {
   "cell_type": "markdown",
   "metadata": {},
   "source": [
    "- The word ***internationalization*** is commonly shortened to **I18N**."
   ]
  },
  {
   "cell_type": "markdown",
   "metadata": {},
   "source": [
    "- The ***software I18N*** is a standard in present times. Each program has to be written in a way that enables it to be used all around the world, among different cultures, languages and alphabets."
   ]
  },
  {
   "cell_type": "markdown",
   "metadata": {},
   "source": [
    "- ***A classic form of ASCII code uses eight bits for each sign***. Eight bits mean 256 different characters. The first 128 are used for the standard Latin alphabet (both upper-case and lower-case characters). Is it possible to push all the other national characters used around the world into the remaining 128 locations? No. It isn't."
   ]
  },
  {
   "cell_type": "markdown",
   "metadata": {},
   "source": [
    "#### Code points and code pages"
   ]
  },
  {
   "cell_type": "markdown",
   "metadata": {},
   "source": [
    "- We need a new term now: a ***code point***."
   ]
  },
  {
   "cell_type": "markdown",
   "metadata": {},
   "source": [
    "- A code point is ***a number which makes a character***. For example, 32 is a code point which makes a ***space*** in ASCII encoding. We can say that standard ASCII code consists of 128 code points."
   ]
  },
  {
   "cell_type": "markdown",
   "metadata": {},
   "source": [
    "- As standard ASCII occupies 128 out of 256 possible code points, you can only make use of the remaining 128."
   ]
  },
  {
   "cell_type": "markdown",
   "metadata": {},
   "source": [
    "- It's not enough for all possible languages, but it may be sufficient for one language, or for a small group of similar languages."
   ]
  },
  {
   "cell_type": "markdown",
   "metadata": {},
   "source": [
    "- Can you ***set the higher half of the code points differently for different languages***? Yes, you can. Such a concept is called a code page."
   ]
  },
  {
   "cell_type": "markdown",
   "metadata": {},
   "source": [
    "- A code page is a ***standard for using the upper 128 code points to store specific national characters***. For example, there are different code pages for Western Europe and Eastern Europe, Cyrillic and Greek alphabets, Arabic and Hebrew languages, and so on."
   ]
  },
  {
   "cell_type": "markdown",
   "metadata": {},
   "source": [
    "- This means that the one and same code point can make different characters when used in different code pages."
   ]
  },
  {
   "cell_type": "markdown",
   "metadata": {},
   "source": [
    "- For example, the code point 200 makes Č (a letter used by some Slavic languages) when utilized by the ISO/IEC 8859-2 code page, and makes Ш (a Cyrillic letter) when used by the ISO/IEC 8859-5 code page."
   ]
  },
  {
   "cell_type": "markdown",
   "metadata": {},
   "source": [
    "- In consequence, to determine the meaning of a specific code point, you have to know the target code page."
   ]
  },
  {
   "cell_type": "markdown",
   "metadata": {},
   "source": [
    "- In other words, the code points derived from code the page concept are ambiguous."
   ]
  },
  {
   "cell_type": "markdown",
   "metadata": {},
   "source": [
    "#### Unicode"
   ]
  },
  {
   "cell_type": "markdown",
   "metadata": {},
   "source": [
    "- Code pages helped the computer industry to solve I18N issues for some time, but it soon turned out that they would not be a permanent solution.\n",
    "\n",
    "\n",
    "- The concept that solved the problem in the long term was Unicode."
   ]
  },
  {
   "cell_type": "markdown",
   "metadata": {},
   "source": [
    "- ***Unicode assigns unique (unambiguous) characters (letters, hyphens, ideograms, etc.) to more than a million code points***. The first 128 Unicode code points are identical to ASCII, and the first 256 Unicode code points are identical to the ISO/IEC 8859-1 code page (a code page designed for western European languages)."
   ]
  },
  {
   "cell_type": "markdown",
   "metadata": {},
   "source": [
    "#### UCS-4"
   ]
  },
  {
   "cell_type": "markdown",
   "metadata": {},
   "source": [
    "- The Unicode standard says nothing about how to code and store the characters in the memory and files. It only names all available characters and assigns them to planes (a group of characters of similar origin, application, or nature)."
   ]
  },
  {
   "cell_type": "markdown",
   "metadata": {},
   "source": [
    "- There is more than one standard describing the techniques used to implement Unicode in actual computers and computer storage systems. The most general of them is ***UCS-4***."
   ]
  },
  {
   "cell_type": "markdown",
   "metadata": {},
   "source": [
    "- The name comes from ***Universal Character Set***."
   ]
  },
  {
   "cell_type": "markdown",
   "metadata": {},
   "source": [
    "- ***UCS-4 uses 32 bits (four bytes) to store each character***, and the code is just the Unicode code points' unique number. A file containing UCS-4 encoded text may start with a BOM (byte order mark), an unprintable combination of bits announcing the nature of the file's contents. Some utilities may require it."
   ]
  },
  {
   "cell_type": "markdown",
   "metadata": {},
   "source": [
    "- As you can see, UCS-4 is a rather wasteful standard - it increases a text's size by four times compared to standard ASCII. Fortunately, there are smarter forms of encoding Unicode texts."
   ]
  },
  {
   "cell_type": "markdown",
   "metadata": {},
   "source": [
    "#### UTF-8"
   ]
  },
  {
   "cell_type": "markdown",
   "metadata": {},
   "source": [
    "- One of the most commonly used is UTF-8."
   ]
  },
  {
   "cell_type": "markdown",
   "metadata": {},
   "source": [
    "- The name is derived from ***Unicode Transformation Format***."
   ]
  },
  {
   "cell_type": "markdown",
   "metadata": {},
   "source": [
    "- The concept is very smart. ***UTF-8 uses as many bits for each of the code points as it really needs to represent them***."
   ]
  },
  {
   "cell_type": "markdown",
   "metadata": {},
   "source": [
    "- For example:\n",
    "\n",
    "    - all Latin characters (and all standard ASCII characters) occupy eight bits;\n",
    "    - non-Latin characters occupy 16 bits;\n",
    "    - CJK (China-Japan-Korea) ideographs occupy 24 bits."
   ]
  },
  {
   "cell_type": "markdown",
   "metadata": {},
   "source": [
    "- Due to features of the method used by UTF-8 to store the code points, there is no need to use the BOM, but some of the tools look for it when reading the file, and many editors set it up during the save."
   ]
  },
  {
   "cell_type": "markdown",
   "metadata": {},
   "source": [
    "- Python 3 fully supports Unicode and UTF-8:\n",
    "    - you can use Unicode/UTF-8 encoded characters to name variables and other entities;\n",
    "    - you can use them during all input and output."
   ]
  },
  {
   "cell_type": "markdown",
   "metadata": {},
   "source": [
    "- This means that Python3 is completely I18Ned."
   ]
  },
  {
   "cell_type": "markdown",
   "metadata": {},
   "source": [
    "### 5.1.8.1 The nature of strings in Python\n"
   ]
  },
  {
   "cell_type": "markdown",
   "metadata": {},
   "source": [
    "#### Strings - a brief review"
   ]
  },
  {
   "cell_type": "markdown",
   "metadata": {},
   "source": [
    "- Python's strings are immutable sequences"
   ]
  },
  {
   "cell_type": "markdown",
   "metadata": {},
   "source": [
    "#### Multiline strings"
   ]
  },
  {
   "cell_type": "markdown",
   "metadata": {},
   "source": [
    "- The multiline strings can be delimited by ***triple quotes***, too"
   ]
  },
  {
   "cell_type": "code",
   "execution_count": null,
   "metadata": {},
   "outputs": [],
   "source": [
    "multiLine = '''Line #1\n",
    "Line #2'''\n",
    "\n",
    "print(len(multiLine))"
   ]
  },
  {
   "cell_type": "markdown",
   "metadata": {},
   "source": [
    "- ***The missing character is simply invisible - it's a whitespace***. It's located between the two text lines.\n",
    "\n",
    "- It's denoted as: `\\n`.\n",
    "- Do you remember? It's a special (control) character used to force a line feed (hence its name: LF). You can't see it, but it counts."
   ]
  },
  {
   "cell_type": "markdown",
   "metadata": {},
   "source": [
    "#### Operations on strings"
   ]
  },
  {
   "cell_type": "code",
   "execution_count": null,
   "metadata": {},
   "outputs": [],
   "source": [
    "str1 = 'a'\n",
    "str2 = 'b'\n",
    "\n",
    "print(str1 + str2)\n",
    "print(str2 + str1)\n",
    "print(5 * 'a')\n",
    "print('b' * 4)"
   ]
  },
  {
   "cell_type": "markdown",
   "metadata": {},
   "source": [
    "- The ability to use the same operator against completely different kinds of data (like numbers vs. strings) is called ***overloading*** (as such an operator is overloaded with different duties)."
   ]
  },
  {
   "cell_type": "markdown",
   "metadata": {},
   "source": [
    "- The `+` operator used against two or more strings produces a new string containing all the characters from its arguments (note: the order matters - this overloaded `+`, in contrast to its numerical version, is ***not commutative***)\n",
    "- the `*` operator needs a string and a number as arguments; in this case, the order doesn't matter - you can put the number before the string, or vice versa, the result will be the same - a new string created by the nth replication of the argument's string.\n",
    "- Note: shortcut variants of the above operators are also applicable for strings (`+=` and `*=`)."
   ]
  },
  {
   "cell_type": "markdown",
   "metadata": {},
   "source": [
    "#### Operations on strings: ord()"
   ]
  },
  {
   "cell_type": "markdown",
   "metadata": {},
   "source": [
    "- If you want to know a specific character's ASCII/UNICODE code point value, you can use a function named `ord()` (as in ***ordinal***)."
   ]
  },
  {
   "cell_type": "code",
   "execution_count": null,
   "metadata": {},
   "outputs": [],
   "source": [
    "# Demonstrating the ord() function\n",
    "\n",
    "ch1 = 'a' \n",
    "ch2 = ' ' # space\n",
    "\n",
    "print(ord(ch1))\n",
    "print(ord(ch2))"
   ]
  },
  {
   "cell_type": "markdown",
   "metadata": {},
   "source": [
    "#### Operations on strings: chr()"
   ]
  },
  {
   "cell_type": "markdown",
   "metadata": {},
   "source": [
    "- If you know the code point (number) and want to get the corresponding character, you can use a function named `chr()`.\n",
    "\n",
    "- The function ***takes a code point and returns its character***.\n",
    "\n",
    "- Invoking it with an invalid argument (e.g., a negative or invalid code point) causes ***ValueError*** or ***TypeError*** exceptions."
   ]
  },
  {
   "cell_type": "code",
   "execution_count": null,
   "metadata": {},
   "outputs": [],
   "source": [
    "# Demonstrating the chr() function\n",
    "\n",
    "print(chr(97))\n",
    "print(chr(945))"
   ]
  },
  {
   "cell_type": "code",
   "execution_count": null,
   "metadata": {},
   "outputs": [],
   "source": [
    "x = 'a'\n",
    "print(chr(ord(x)) == x)\n",
    "print(ord(chr(97)) == 97)"
   ]
  },
  {
   "cell_type": "markdown",
   "metadata": {},
   "source": [
    "#### Strings as sequences: indexing"
   ]
  },
  {
   "cell_type": "markdown",
   "metadata": {},
   "source": [
    "- Strings aren't lists, but ***you can treat them like lists in many particular cases***."
   ]
  },
  {
   "cell_type": "code",
   "execution_count": null,
   "metadata": {},
   "outputs": [],
   "source": [
    "# Indexing strings\n",
    "\n",
    "exampleString = 'silly walks'\n",
    "\n",
    "for ix in range(len(exampleString)):\n",
    "    print(exampleString[ix], end=' ')\n",
    "\n",
    "print()"
   ]
  },
  {
   "cell_type": "markdown",
   "metadata": {},
   "source": [
    "#### Strings as sequences: iterating"
   ]
  },
  {
   "cell_type": "code",
   "execution_count": null,
   "metadata": {},
   "outputs": [],
   "source": [
    "# Iterating through a string\n",
    "\n",
    "exampleString = 'silly walks'\n",
    "\n",
    "for ch in exampleString:\n",
    "    print(ch, end=' ')\n",
    "\n",
    "print()"
   ]
  },
  {
   "cell_type": "markdown",
   "metadata": {},
   "source": [
    "#### Slices"
   ]
  },
  {
   "cell_type": "code",
   "execution_count": null,
   "metadata": {},
   "outputs": [],
   "source": [
    "# Slices\n",
    "\n",
    "alpha = \"abdefg\"\n",
    "\n",
    "print(alpha[1:3])\n",
    "print(alpha[3:])\n",
    "print(alpha[:3])\n",
    "print(alpha[3:-2])\n",
    "print(alpha[-3:4])\n",
    "print(alpha[::2])\n",
    "print(alpha[1::2])"
   ]
  },
  {
   "cell_type": "markdown",
   "metadata": {},
   "source": [
    "#### The in and not in operators"
   ]
  },
  {
   "cell_type": "code",
   "execution_count": null,
   "metadata": {},
   "outputs": [],
   "source": [
    "alphabet = \"abcdefghijklmnopqrstuvwxyz\"\n",
    "\n",
    "print(\"f\" in alphabet)\n",
    "print(\"F\" in alphabet)\n",
    "print(\"1\" in alphabet)\n",
    "print(\"ghi\" in alphabet)\n",
    "print(\"Xyz\" in alphabet)"
   ]
  },
  {
   "cell_type": "markdown",
   "metadata": {},
   "source": [
    "#### Python strings are immutable"
   ]
  },
  {
   "cell_type": "markdown",
   "metadata": {},
   "source": [
    "- The first important difference ***doesn't allow you to use the `del` instruction to remove anything from a string***."
   ]
  },
  {
   "cell_type": "code",
   "execution_count": null,
   "metadata": {},
   "outputs": [],
   "source": [
    "alphabet = \"abcdefghijklmnopqrstuvwxyz\"\n",
    "\n",
    "del alphabet[0]"
   ]
  },
  {
   "cell_type": "markdown",
   "metadata": {},
   "source": [
    "- The only thing you can do with `del` and a string is to ***remove the string as a whole***. Try to do it."
   ]
  },
  {
   "cell_type": "code",
   "execution_count": null,
   "metadata": {},
   "outputs": [],
   "source": [
    "alphabet = \"abcdefghijklmnopqrstuvwxyz\"\n",
    "\n",
    "del alphabet"
   ]
  },
  {
   "cell_type": "markdown",
   "metadata": {},
   "source": [
    "- Python strings ***don't have the `append()` method*** - you cannot expand them in any way."
   ]
  },
  {
   "cell_type": "code",
   "execution_count": null,
   "metadata": {},
   "outputs": [],
   "source": [
    "alphabet = \"abcdefghijklmnopqrstuvwxyz\"\n",
    "\n",
    "alphabet.append(\"A\")"
   ]
  },
  {
   "cell_type": "markdown",
   "metadata": {},
   "source": [
    "- the `insert()` method is illegal, too"
   ]
  },
  {
   "cell_type": "code",
   "execution_count": null,
   "metadata": {},
   "outputs": [],
   "source": [
    "alphabet = \"abcdefghijklmnopqrstuvwxyz\"\n",
    "\n",
    "alphabet.insert(0, \"A\")"
   ]
  },
  {
   "cell_type": "markdown",
   "metadata": {},
   "source": [
    "#### Operations on strings: min()"
   ]
  },
  {
   "cell_type": "markdown",
   "metadata": {},
   "source": [
    "- The function ***finds the minimum element of the sequence passed as an argument***. There is one condition - the sequence (string, list, it doesn't matter) ***cannot be empty***, or else you'll get a ***ValueError*** exception."
   ]
  },
  {
   "cell_type": "code",
   "execution_count": null,
   "metadata": {},
   "outputs": [],
   "source": [
    "# Demonstrating min() - Example 1\n",
    "print(min(\"aAbByYzZ\"))\n",
    "\n",
    "\n",
    "# Demonstrating min() - Examples 2 & 3\n",
    "t = 'The Knights Who Say \"Ni!\"'\n",
    "print('[' + min(t) + ']')\n",
    "\n",
    "t = [0, 1, 2]\n",
    "print(min(t))"
   ]
  },
  {
   "cell_type": "markdown",
   "metadata": {},
   "source": [
    "#### Operations on strings: max()"
   ]
  },
  {
   "cell_type": "markdown",
   "metadata": {},
   "source": [
    "- a function named `max()` ***finds the maximum element of the sequence***."
   ]
  },
  {
   "cell_type": "code",
   "execution_count": null,
   "metadata": {},
   "outputs": [],
   "source": [
    "# Demonstrating max() - Example 1\n",
    "print(max(\"aAbByYzZ\"))\n",
    "\n",
    "\n",
    "# Demonstrating max() - Examples 2 & 3\n",
    "t = 'The Knights Who Say \"Ni!\"'\n",
    "print('[' + max(t) + ']')\n",
    "\n",
    "t = [0, 1, 2]\n",
    "print(max(t))"
   ]
  },
  {
   "cell_type": "markdown",
   "metadata": {},
   "source": [
    "#### Operations on strings: the index() method"
   ]
  },
  {
   "cell_type": "markdown",
   "metadata": {},
   "source": [
    "- The `index()` method (it's a method, not a function) ***searches the sequence from the beginning, in order to find the first element of the value specified in its argument***.\n",
    "\n",
    "- Note: the element searched for must occur in the sequence - ***its absence will cause a ValueError exception***."
   ]
  },
  {
   "cell_type": "code",
   "execution_count": null,
   "metadata": {},
   "outputs": [],
   "source": [
    "# Demonstrating the index() method\n",
    "print(\"aAbByYzZaA\".index(\"b\"))\n",
    "print(\"aAbByYzZaA\".index(\"Z\"))\n",
    "print(\"aAbByYzZaA\".index(\"A\"))"
   ]
  },
  {
   "cell_type": "markdown",
   "metadata": {},
   "source": [
    "#### Operations on strings: the list() function"
   ]
  },
  {
   "cell_type": "markdown",
   "metadata": {},
   "source": [
    "- The `list()` function ***takes its argument (a string) and creates a new list containing all the string's characters, one per list element***.\n",
    "\n",
    "- Note: it's not strictly a string function - `list()` is able to create a new list from many other entities (e.g., from tuples and dictionaries)."
   ]
  },
  {
   "cell_type": "code",
   "execution_count": null,
   "metadata": {},
   "outputs": [],
   "source": [
    "# Demonstrating the list() function\n",
    "print(list(\"abcabc\"))"
   ]
  },
  {
   "cell_type": "markdown",
   "metadata": {},
   "source": [
    "#### Operations on strings: the count() method"
   ]
  },
  {
   "cell_type": "markdown",
   "metadata": {},
   "source": [
    "- The `count()` method ***counts all occurrences of the element inside the sequence***. The absence of such elements doesn't cause any problems."
   ]
  },
  {
   "cell_type": "code",
   "execution_count": null,
   "metadata": {},
   "outputs": [],
   "source": [
    "# Demonstrating the count() method\n",
    "print(\"abcabc\".count(\"b\"))\n",
    "print('abcabc'.count(\"d\"))"
   ]
  },
  {
   "cell_type": "markdown",
   "metadata": {},
   "source": [
    "- Moreover, Python strings have a significant number of methods intended exclusively for processing characters. Don't expect them to work with any other collections. The complete list of is presented here: [https://docs.python.org/3.4/library/stdtypes.html#string-methods](https://docs.python.org/3.4/library/stdtypes.html#string-methods)"
   ]
  },
  {
   "cell_type": "markdown",
   "metadata": {},
   "source": [
    "### 5.1.9.1 String methods"
   ]
  },
  {
   "cell_type": "markdown",
   "metadata": {},
   "source": [
    "#### The capitalize() method"
   ]
  },
  {
   "cell_type": "markdown",
   "metadata": {},
   "source": [
    "- The capitalize() method does exactly what it says - it creates a new string filled with characters taken from the source string, but it tries to modify them in the following way:\n",
    "\n",
    "    - ***if the first character inside the string is a letter*** (note: the first character is an element with an index equal to 0, not just the first visible character), ***it will be converted to upper-case***;\n",
    "    - ***all remaining letters from the string will be converted to lower-case***."
   ]
  },
  {
   "cell_type": "code",
   "execution_count": null,
   "metadata": {},
   "outputs": [],
   "source": [
    "print(\"Alpha\".capitalize())\n",
    "print('ALPHA'.capitalize())\n",
    "print(' Alpha'.capitalize())\n",
    "print('123'.capitalize())\n",
    "print(\"αβγδ\".capitalize())"
   ]
  },
  {
   "cell_type": "markdown",
   "metadata": {},
   "source": [
    "#### The center() method"
   ]
  },
  {
   "cell_type": "markdown",
   "metadata": {},
   "source": [
    "- The one-parameter variant of the `center()` method makes a copy of the original string, trying to center it inside a field of a specified width.\n",
    "\n",
    "- The centering is actually done by ***adding some spaces before and after the string***.\n",
    "- If the target field's length is too small to fit the string, the original string is returned."
   ]
  },
  {
   "cell_type": "code",
   "execution_count": null,
   "metadata": {},
   "outputs": [],
   "source": [
    "print('[' + 'Beta'.center(2) + ']')\n",
    "print('[' + 'Beta'.center(4) + ']')\n",
    "print('[' + 'Beta'.center(6) + ']')"
   ]
  },
  {
   "cell_type": "markdown",
   "metadata": {},
   "source": [
    "- ***The two-parameter variant of `center()` makes use of the character from the second argument, instead of a space***. Analyze the example below:"
   ]
  },
  {
   "cell_type": "code",
   "execution_count": null,
   "metadata": {},
   "outputs": [],
   "source": [
    "print('[' + 'gamma'.center(20, '*') + ']')"
   ]
  },
  {
   "cell_type": "markdown",
   "metadata": {},
   "source": [
    "#### The endswith() method"
   ]
  },
  {
   "cell_type": "markdown",
   "metadata": {},
   "source": [
    "- The `endswith()` method ***checks if the given string ends with the specified argument and returns `True` or `False`***, depending on the check result.\n",
    "\n",
    "- Note: the substring must adhere to the string's last character - it cannot just be located somewhere near the end of the string."
   ]
  },
  {
   "cell_type": "code",
   "execution_count": null,
   "metadata": {},
   "outputs": [],
   "source": [
    "t = \"zeta\"\n",
    "print(t.endswith(\"a\"))\n",
    "print(t.endswith(\"A\"))\n",
    "print(t.endswith(\"et\"))\n",
    "print(t.endswith(\"eta\"))"
   ]
  },
  {
   "cell_type": "markdown",
   "metadata": {},
   "source": [
    "#### The find() method"
   ]
  },
  {
   "cell_type": "markdown",
   "metadata": {},
   "source": [
    "- The `find()` method is similar to `index()`, which you already know - ***it looks for a substring and returns the index of first occurrence of this substring***, but:\n",
    "\n",
    "    - it's safer - it ***doesn't generate an error for an argument containing a non-existent substring*** (it returns `-1` then)\n",
    "    - it ***works with strings only*** - don't try to apply it to any other sequence."
   ]
  },
  {
   "cell_type": "markdown",
   "metadata": {},
   "source": [
    "- Note: don't use `find()` if you only want to check if a single character occurs within a string - the `in`"
   ]
  },
  {
   "cell_type": "code",
   "execution_count": null,
   "metadata": {},
   "outputs": [],
   "source": [
    "t = 'theta'\n",
    "print(t.find('eta'))\n",
    "print(t.find('et'))\n",
    "print(t.find('the'))\n",
    "print(t.find('ha'))"
   ]
  },
  {
   "cell_type": "markdown",
   "metadata": {},
   "source": [
    "- If you want to perform the find, not from the string's beginning, but ***from any position***, you can use a ***two-parameter variant*** of the `find()` method. Look at the example:"
   ]
  },
  {
   "cell_type": "code",
   "execution_count": null,
   "metadata": {},
   "outputs": [],
   "source": [
    "print('kappa'.find('a', 1))\n",
    "print('kappa'.find('a', 2))"
   ]
  },
  {
   "cell_type": "markdown",
   "metadata": {},
   "source": [
    "- The second argument ***specifies the index at which the search will be started (it doesn't have to fit inside the string)***."
   ]
  },
  {
   "cell_type": "markdown",
   "metadata": {},
   "source": [
    "- You can use the `find()` method to search for all the substring's occurrences, like here:"
   ]
  },
  {
   "cell_type": "code",
   "execution_count": null,
   "metadata": {},
   "outputs": [],
   "source": [
    "txt = \"\"\"A variation of the ordinary lorem ipsum\n",
    "text has been used in typesetting since the 1960s \n",
    "or earlier, when it was popularized by advertisements \n",
    "for Letraset transfer sheets. It was introduced to \n",
    "the Information Age in the mid-1980s by the Aldus Corporation, \n",
    "which employed it in graphics and word-processing templates\n",
    "for its desktop publishing program PageMaker (from Wikipedia)\"\"\"\n",
    "\n",
    "fnd = txt.find('the')\n",
    "while fnd != -1:\n",
    "    print(fnd)\n",
    "    fnd = txt.find('the', fnd + 1)"
   ]
  },
  {
   "cell_type": "markdown",
   "metadata": {},
   "source": [
    "- There is also a ***three-parameter mutation of the `find()` method*** - the third argument ***points to the first index which won't be taken into consideration during the search*** (it's actually the upper limit of the search)."
   ]
  },
  {
   "cell_type": "code",
   "execution_count": null,
   "metadata": {},
   "outputs": [],
   "source": [
    "print('kappa'.find('a', 1, 4))\n",
    "print('kappa'.find('a', 2, 4))"
   ]
  },
  {
   "cell_type": "markdown",
   "metadata": {},
   "source": [
    "#### The isalnum() method"
   ]
  },
  {
   "cell_type": "markdown",
   "metadata": {},
   "source": [
    "- The parameterless method named `isalnum()` ***checks if the string contains only digits or alphabetical characters (letters), and returns `True` or `False`*** according to the result."
   ]
  },
  {
   "cell_type": "code",
   "execution_count": null,
   "metadata": {},
   "outputs": [],
   "source": [
    "# Demonstrating the isalnum() method\n",
    "print('lambda30'.isalnum())\n",
    "print('lambda'.isalnum())\n",
    "print('30'.isalnum())\n",
    "print('@'.isalnum())\n",
    "print('lambda_30'.isalnum())\n",
    "print(''.isalnum())"
   ]
  },
  {
   "cell_type": "code",
   "execution_count": null,
   "metadata": {},
   "outputs": [],
   "source": [
    "t = 'Six lambdas'\n",
    "print(t.isalnum())\n",
    "\n",
    "t = 'ΑβΓδ'\n",
    "print(t.isalnum())\n",
    "\n",
    "t = '20E1'\n",
    "print(t.isalnum())"
   ]
  },
  {
   "cell_type": "markdown",
   "metadata": {},
   "source": [
    "#### The isalpha() method"
   ]
  },
  {
   "cell_type": "code",
   "execution_count": null,
   "metadata": {},
   "outputs": [],
   "source": [
    "# Example 1: Demonstrating the isapha() method\n",
    "print(\"Moooo\".isalpha())\n",
    "print('Mu40'.isalpha())"
   ]
  },
  {
   "cell_type": "markdown",
   "metadata": {},
   "source": [
    "#### The isdigit() method"
   ]
  },
  {
   "cell_type": "code",
   "execution_count": null,
   "metadata": {},
   "outputs": [],
   "source": [
    "# Example 2: Demonstrating the isdigit() method\n",
    "print('2018'.isdigit())\n",
    "print(\"Year2019\".isdigit())"
   ]
  },
  {
   "cell_type": "markdown",
   "metadata": {},
   "source": [
    "#### The islower() method"
   ]
  },
  {
   "cell_type": "markdown",
   "metadata": {},
   "source": [
    "- The `islower()` method is a fussy variant of `isalpha()` - it accepts ***lower-case letters only***."
   ]
  },
  {
   "cell_type": "code",
   "execution_count": null,
   "metadata": {},
   "outputs": [],
   "source": [
    "# Example 1: Demonstrating the islower() method\n",
    "print(\"Moooo\".islower())\n",
    "print('moooo'.islower())"
   ]
  },
  {
   "cell_type": "markdown",
   "metadata": {},
   "source": [
    "#### The isspace() method"
   ]
  },
  {
   "cell_type": "markdown",
   "metadata": {},
   "source": [
    "- The `isspace()` method ***identifies whitespaces only*** - it disregards any other character (the result is `False` then)."
   ]
  },
  {
   "cell_type": "code",
   "execution_count": null,
   "metadata": {},
   "outputs": [],
   "source": [
    "# Example 2: Demonstrating the isspace() method\n",
    "print(' \\n '.isspace())\n",
    "print(\" \".isspace())\n",
    "print(\"mooo mooo mooo\".isspace())"
   ]
  },
  {
   "cell_type": "markdown",
   "metadata": {},
   "source": [
    "#### The isupper() method"
   ]
  },
  {
   "cell_type": "markdown",
   "metadata": {},
   "source": [
    "- The `isupper()` method is the upper-case version of `islower()` - it concentrates on ***upper-case letters only***."
   ]
  },
  {
   "cell_type": "code",
   "execution_count": null,
   "metadata": {},
   "outputs": [],
   "source": [
    "# Example 3: Demonstrating the isupper() method\n",
    "print(\"Moooo\".isupper())\n",
    "print('moooo'.isupper())\n",
    "print('MOOOO'.isupper())"
   ]
  },
  {
   "cell_type": "markdown",
   "metadata": {},
   "source": [
    "#### The join() method"
   ]
  },
  {
   "cell_type": "markdown",
   "metadata": {},
   "source": [
    "- as its name suggests, the method ***performs a join*** - it expects one argument as a list; it must be assured that all the list's elements are strings - the method will raise a TypeError exception otherwise;\n",
    "- all the list's elements will be ***joined into one string*** but...\n",
    "- ...the string from which the method has been invoked is ***used as a separator***, put among the strings;\n",
    "- the newly created string is returned as a result."
   ]
  },
  {
   "cell_type": "code",
   "execution_count": null,
   "metadata": {},
   "outputs": [],
   "source": [
    "# Demonstrating the join() method\n",
    "print(\",\".join([\"omicron\", \"pi\", \"rho\"]))"
   ]
  },
  {
   "cell_type": "markdown",
   "metadata": {},
   "source": [
    "#### The lower() method"
   ]
  },
  {
   "cell_type": "markdown",
   "metadata": {},
   "source": [
    "- The `lower()` method ***makes a copy of a source string, replaces all upper-case letters with their lower-case counterparts***, and returns the string as the result. Again, the source string remains untouched.\n",
    "- If the string doesn't contain any upper-case characters, the method returns the original string."
   ]
  },
  {
   "cell_type": "code",
   "execution_count": null,
   "metadata": {},
   "outputs": [],
   "source": [
    "# Demonstrating the lower() method\n",
    "print(\"SiGmA=60\".lower())"
   ]
  },
  {
   "cell_type": "markdown",
   "metadata": {},
   "source": [
    "#### The lstrip() method"
   ]
  },
  {
   "cell_type": "markdown",
   "metadata": {},
   "source": [
    "- The parameterless `lstrip()` method ***returns a newly created string formed from the original one by removing all leading whitespaces***."
   ]
  },
  {
   "cell_type": "code",
   "execution_count": null,
   "metadata": {},
   "outputs": [],
   "source": [
    "# Demonstrating the lstrip() method\n",
    "print(\"[\" + \" tau \".lstrip() + \"]\")"
   ]
  },
  {
   "cell_type": "markdown",
   "metadata": {},
   "source": [
    "- The one-parameter `lstrip()` method does the same as its parameterless version, but ***removes all characters enlisted in its argument*** (a string), not just whitespaces:"
   ]
  },
  {
   "cell_type": "code",
   "execution_count": null,
   "metadata": {},
   "outputs": [],
   "source": [
    "print(\"www.cisco.com\".lstrip(\"w.\"))"
   ]
  },
  {
   "cell_type": "code",
   "execution_count": null,
   "metadata": {},
   "outputs": [],
   "source": [
    "print(\"pythoninstitute.org\".lstrip(\".org\"))"
   ]
  },
  {
   "cell_type": "markdown",
   "metadata": {},
   "source": [
    "#### The replace() method"
   ]
  },
  {
   "cell_type": "markdown",
   "metadata": {},
   "source": [
    "- The ***two-parameter*** `replace()` method ***returns a copy of the original string in which all occurrences of the first argument have been replaced by the second argument***."
   ]
  },
  {
   "cell_type": "code",
   "execution_count": null,
   "metadata": {},
   "outputs": [],
   "source": [
    "# Demonstrating the replace() method\n",
    "print(\"www.netacad.com\".replace(\"netacad.com\", \"pythoninstitute.org\"))\n",
    "print(\"This is it!\".replace(\"is\", \"are\"))\n",
    "print(\"Apple juice\".replace(\"juice\", \"\"))"
   ]
  },
  {
   "cell_type": "markdown",
   "metadata": {},
   "source": [
    "- The ***three-parameter*** `replace()` variant uses the third argument (a number) to ***limit the number of replacements***."
   ]
  },
  {
   "cell_type": "code",
   "execution_count": null,
   "metadata": {},
   "outputs": [],
   "source": [
    "print(\"This is it!\".replace(\"is\", \"are\", 1))\n",
    "print(\"This is it!\".replace(\"is\", \"are\", 2))"
   ]
  },
  {
   "cell_type": "markdown",
   "metadata": {},
   "source": [
    "#### The rfind() method"
   ]
  },
  {
   "cell_type": "markdown",
   "metadata": {},
   "source": [
    "- The one-, two-, and three-parameter methods named `rfind()` do nearly the same things as their counterparts (the ones devoid of the r prefix), but ***start their searches from the end of the string***, not the beginning (hence the prefix r, for right)."
   ]
  },
  {
   "cell_type": "code",
   "execution_count": null,
   "metadata": {},
   "outputs": [],
   "source": [
    "# Demonstrating the rfind() method\n",
    "print(\"tau tau tau\".rfind(\"ta\"))\n",
    "print(\"tau tau tau\".rfind(\"ta\", 9))\n",
    "print(\"tau tau tau\".rfind(\"ta\", 3, 9))"
   ]
  },
  {
   "cell_type": "markdown",
   "metadata": {},
   "source": [
    "#### The rstrip() method"
   ]
  },
  {
   "cell_type": "markdown",
   "metadata": {},
   "source": [
    "- Two variants of the `rstrip()` method do nearly the same as `lstrip()`, but ***affect the opposite side of the string***."
   ]
  },
  {
   "cell_type": "code",
   "execution_count": null,
   "metadata": {},
   "outputs": [],
   "source": [
    "# Demonstrating the rstrip() method\n",
    "print(\"[\" + \" upsilon \".rstrip() + \"]\")\n",
    "print(\"cisco.com\".rstrip(\".scom\"))"
   ]
  },
  {
   "cell_type": "markdown",
   "metadata": {},
   "source": [
    "#### The split() method"
   ]
  },
  {
   "cell_type": "markdown",
   "metadata": {},
   "source": [
    "- The `split()` method does what it says - it ***splits the string and builds a list of all detected substrings***.\n",
    "\n",
    "- The method ***assumes that the substrings are delimited by whitespaces*** - the spaces don't take part in the operation, and aren't copied into the resulting list."
   ]
  },
  {
   "cell_type": "code",
   "execution_count": null,
   "metadata": {},
   "outputs": [],
   "source": [
    "# Demonstrating the split() method\n",
    "print(\"phi       chi\\npsi\".split())"
   ]
  },
  {
   "cell_type": "markdown",
   "metadata": {},
   "source": [
    "#### The startswith() method"
   ]
  },
  {
   "cell_type": "markdown",
   "metadata": {},
   "source": [
    "- The `startswith()` method is a mirror reflection of `endswith()` - it ***checks if a given string starts with the specified substring***."
   ]
  },
  {
   "cell_type": "code",
   "execution_count": null,
   "metadata": {},
   "outputs": [],
   "source": [
    "# Demonstrating the startswith() method\n",
    "print(\"omega\".startswith(\"meg\"))\n",
    "print(\"omega\".startswith(\"om\"))"
   ]
  },
  {
   "cell_type": "markdown",
   "metadata": {},
   "source": [
    "#### The strip() method"
   ]
  },
  {
   "cell_type": "markdown",
   "metadata": {},
   "source": [
    "- The `strip()` method combines the effects caused by `rstrip()` and `lstrip()` - it ***makes a new string lacking all the leading and trailing whitespaces***."
   ]
  },
  {
   "cell_type": "code",
   "execution_count": null,
   "metadata": {},
   "outputs": [],
   "source": [
    "# Demonstrating the strip() method\n",
    "print(\"[\" + \"   aleph   \".strip() + \"]\")"
   ]
  },
  {
   "cell_type": "markdown",
   "metadata": {},
   "source": [
    "#### The swapcase() method"
   ]
  },
  {
   "cell_type": "markdown",
   "metadata": {},
   "source": [
    "- The `swapcase()` method ***makes a new string by swapping the case of all letters within the source string***: lower-case characters become upper-case, and vice versa."
   ]
  },
  {
   "cell_type": "code",
   "execution_count": null,
   "metadata": {},
   "outputs": [],
   "source": [
    "# Demonstrating the swapcase() method\n",
    "print(\"I know that I know nothing.\".swapcase())"
   ]
  },
  {
   "cell_type": "markdown",
   "metadata": {},
   "source": [
    "#### The title() method"
   ]
  },
  {
   "cell_type": "markdown",
   "metadata": {},
   "source": [
    "- The `title()` method performs a somewhat similar function - it changes every word's first letter to upper-case, turning all other ones to lower-case."
   ]
  },
  {
   "cell_type": "code",
   "execution_count": null,
   "metadata": {},
   "outputs": [],
   "source": [
    "# Demonstrating the title() method\n",
    "print(\"I know that I know nothing. Part 1.\".title())"
   ]
  },
  {
   "cell_type": "markdown",
   "metadata": {},
   "source": [
    "#### The upper() method"
   ]
  },
  {
   "cell_type": "markdown",
   "metadata": {},
   "source": [
    "- Last but not least, the `upper()` method ***makes a copy of the source string, replaces all lower-case letters with their upper-case counterparts***, and returns the string as the result."
   ]
  },
  {
   "cell_type": "code",
   "execution_count": null,
   "metadata": {},
   "outputs": [],
   "source": [
    "# Demonstrating the upper() method\n",
    "print(\"I know that I know nothing. Part 2.\".upper())"
   ]
  },
  {
   "cell_type": "markdown",
   "metadata": {},
   "source": [
    "### 5.1.9.18 Your own split"
   ]
  },
  {
   "cell_type": "markdown",
   "metadata": {},
   "source": [
    "Scenario\n",
    "\n",
    "You already know how split() works. Now we want you to prove it.\n",
    "\n",
    "Your task is to write your own function, which behaves almost exactly like the original `split()` method, i.e.:\n",
    "\n",
    "- it should accept exactly one argument - a string;\n",
    "- it should return a list of words created from the string, divided in the places where the string contains whitespaces;\n",
    "- if the string is empty, the function should return an empty list;\n",
    "- its name should be `mysplit()`"
   ]
  },
  {
   "cell_type": "code",
   "execution_count": null,
   "metadata": {},
   "outputs": [],
   "source": [
    "def mysplit(strng):\n",
    "    strng2 = strng.lstrip(' ')\n",
    "    find = strng2.find(' ')\n",
    "    findList = []\n",
    "    strList = []\n",
    "    pointer = 0\n",
    "    \n",
    "    if strng2.isalnum():\n",
    "        strList.append(strng2)\n",
    "        return strList\n",
    "    elif find == -1:\n",
    "        return []\n",
    "    else:\n",
    "        while find != -1:\n",
    "            findList.append(find)\n",
    "            find = strng2.find(' ', find + 1)\n",
    "\n",
    "        for i in findList:\n",
    "            strList.append(strng2[pointer:i])\n",
    "            pointer = i +1\n",
    "\n",
    "        if (strng.endswith(' ')) == False:\n",
    "            strList.append(strng2[findList[-1]+1:])\n",
    "\n",
    "        return strList\n",
    "\n",
    "print(mysplit(\"To be or not to be, that is the question\"))\n",
    "print(mysplit(\"To be or not to be,that is the question\"))\n",
    "print(mysplit(\"   \"))\n",
    "print(mysplit(\" abc \"))\n",
    "print(mysplit(\"\"))"
   ]
  },
  {
   "cell_type": "markdown",
   "metadata": {},
   "source": [
    "### 5.1.10.1 String in action"
   ]
  },
  {
   "cell_type": "markdown",
   "metadata": {},
   "source": [
    "#### Comparing strings"
   ]
  },
  {
   "cell_type": "markdown",
   "metadata": {},
   "source": [
    "- Python's strings can be compared using the same set of operators which are in use in relation to numbers.\n",
    "\n",
    "- Take a look at these operators - they can all compare strings, too:\n",
    "\n",
    "    - `==`\n",
    "    - `!=`\n",
    "    - `>`\n",
    "    - `>=`\n",
    "    - `<`\n",
    "    - `<=`"
   ]
  },
  {
   "cell_type": "markdown",
   "metadata": {},
   "source": [
    "- it just compares code point values, character by character."
   ]
  },
  {
   "cell_type": "markdown",
   "metadata": {},
   "source": [
    "- Two strings are equal when they consist of the same characters in the same order. By the same fashion, two strings are not equal when they don't consist of the same characters in the same order.\n",
    "- The final relation between strings is determined by ***comparing the first different character in both strings*** (keep ASCII/UNICODE code points in mind at all times.)"
   ]
  },
  {
   "cell_type": "code",
   "execution_count": null,
   "metadata": {},
   "outputs": [],
   "source": [
    "print('alpha' == 'alpha')\n",
    "print('alpha' != 'Alpha')"
   ]
  },
  {
   "cell_type": "markdown",
   "metadata": {},
   "source": [
    "- When you compare two strings of different lengths and the shorter one is identical to the longer one's beginning, the ***longer string is considered greater***."
   ]
  },
  {
   "cell_type": "code",
   "execution_count": null,
   "metadata": {},
   "outputs": [],
   "source": [
    "'alpha' < 'alphabet'"
   ]
  },
  {
   "cell_type": "markdown",
   "metadata": {},
   "source": [
    "- String comparison is always case-sensitive (***upper-case letters are taken as lesser than lower-case***)."
   ]
  },
  {
   "cell_type": "code",
   "execution_count": null,
   "metadata": {},
   "outputs": [],
   "source": [
    "'beta' > 'Beta'"
   ]
  },
  {
   "cell_type": "markdown",
   "metadata": {},
   "source": [
    "- Even ***if a string contains digits only, it's still not a number***. It's interpreted as-is, like any other regular string, and its (potential) numerical aspect is not taken into consideration in any way."
   ]
  },
  {
   "cell_type": "code",
   "execution_count": null,
   "metadata": {},
   "outputs": [],
   "source": [
    "print('10' == '010')\n",
    "print('10' > '010')\n",
    "print('10' > '8')\n",
    "print('20' < '8')\n",
    "print('20' < '80')"
   ]
  },
  {
   "cell_type": "markdown",
   "metadata": {},
   "source": [
    "- ***Comparing strings against numbers is generally a bad idea***.\n",
    "- The only comparisons you can perform with impunity are these symbolized by the `==` and `!=` operators. The former always gives `False`, while the latter always produces `True`"
   ]
  },
  {
   "cell_type": "code",
   "execution_count": null,
   "metadata": {},
   "outputs": [],
   "source": [
    "print('10' == 10)\n",
    "print('10' != 10)\n",
    "print('10' == 1)\n",
    "print('10' != 1)\n",
    "print('10' > 10)"
   ]
  },
  {
   "cell_type": "markdown",
   "metadata": {},
   "source": [
    "#### Sorting"
   ]
  },
  {
   "cell_type": "markdown",
   "metadata": {},
   "source": [
    "- In general, Python offers two different ways to sort lists.\n",
    "    - The first is implemented as a function named `sorted()`.\n",
    "        - The function takes one argument (a list) and ***returns a new list***, filled with the sorted argument's elements.\n",
    "    - The second method affects the list itself - ***no new list is created***. Ordering is performed in situ by the method named `sort()`."
   ]
  },
  {
   "cell_type": "code",
   "execution_count": null,
   "metadata": {},
   "outputs": [],
   "source": [
    "# Demonstrating the sorted() function\n",
    "firstGreek = ['omega', 'alpha', 'pi', 'gamma']\n",
    "firstGreek2 = sorted(firstGreek)\n",
    "\n",
    "print(firstGreek)\n",
    "print(firstGreek2)\n",
    "\n",
    "print()\n",
    "\n",
    "# Demonstrating the sort() method\n",
    "secondGreek = ['omega', 'alpha', 'pi', 'gamma']\n",
    "print(secondGreek)\n",
    "\n",
    "secondGreek.sort()\n",
    "print(secondGreek)"
   ]
  },
  {
   "cell_type": "markdown",
   "metadata": {},
   "source": [
    "#### Strings vs. numbers"
   ]
  },
  {
   "cell_type": "markdown",
   "metadata": {},
   "source": [
    "- The number-string conversion is simple, as it is always possible. It's done by a function named `str()`."
   ]
  },
  {
   "cell_type": "code",
   "execution_count": null,
   "metadata": {},
   "outputs": [],
   "source": [
    "itg = 13\n",
    "flt = 1.3\n",
    "si = str(itg)\n",
    "sf = str(flt)\n",
    "\n",
    "print(si + ' ' + sf)"
   ]
  },
  {
   "cell_type": "markdown",
   "metadata": {},
   "source": [
    "- The reverse transformation (string-number) is possible when and only when the string represents a valid number. If the condition is not met, expect a ***ValueError*** exception."
   ]
  },
  {
   "cell_type": "code",
   "execution_count": null,
   "metadata": {},
   "outputs": [],
   "source": [
    "si = '13'\n",
    "sf = '1.3'\n",
    "itg = int(si)\n",
    "flt = float(sf)\n",
    "\n",
    "print(itg + flt)"
   ]
  },
  {
   "cell_type": "markdown",
   "metadata": {},
   "source": [
    "### 5.1.10.6 LAB: A LED Display\n"
   ]
  },
  {
   "cell_type": "markdown",
   "metadata": {},
   "source": [
    "Scenario\n",
    "\n",
    "- You've surely seen a seven-segment display.\n",
    "\n",
    "- It's a device (sometimes electronic, sometimes mechanical) designed to present one decimal digit using a subset of seven segments. If you still don't know what it is, refer to the following Wikipedia article.\n",
    "\n",
    "- Your task is to write ***a program which is able to simulate the work of a seven-display device***, although you're going to use single LEDs instead of segments.\n",
    "\n",
    "- Each digit is constructed from 13 LEDs (some lit, some dark, of course) - that's how we imagine it:\n",
    "```\n",
    "  # ### ### # # ### ### ### ### ### ### \n",
    "  #   #   # # # #   #     # # # # # # # \n",
    "  # ### ### ### ### ###   # ### ### # # \n",
    "  # #     #   #   # # #   # # #   # # # \n",
    "  # ### ###   # ### ###   # ### ### ###\n",
    "```\n",
    "- Note: the number 8 shows all the LED lights on.\n",
    "\n",
    "- Your code has to display any non-negative integer number entered by the user.\n",
    "\n",
    "- Tip: using a list containing patterns of all ten digits may be very helpful."
   ]
  },
  {
   "cell_type": "code",
   "execution_count": null,
   "metadata": {},
   "outputs": [],
   "source": [
    "zero = \"\"\"\n",
    "###\n",
    "# #\n",
    "# #\n",
    "# #\n",
    "###\n",
    "\"\"\"\n",
    "one = '''\n",
    "  #\n",
    "  #\n",
    "  #\n",
    "  #\n",
    "  #\n",
    "'''\n",
    "two = '''\n",
    "###\n",
    "  #\n",
    "###\n",
    "#  \n",
    "###\n",
    "'''\n",
    "three = '''\n",
    "###\n",
    "  #\n",
    "###\n",
    "  #\n",
    "###\n",
    "'''\n",
    "four = '''\n",
    "# #\n",
    "# #\n",
    "###\n",
    "  #\n",
    "  #\n",
    "'''\n",
    "five = '''\n",
    "###\n",
    "#  \n",
    "###\n",
    "  #\n",
    "###\n",
    "'''\n",
    "six = '''\n",
    "###\n",
    "#  \n",
    "###\n",
    "# #\n",
    "###\n",
    "'''\n",
    "seven = '''\n",
    "###\n",
    "  #\n",
    "  #\n",
    "  #\n",
    "  #\n",
    "'''\n",
    "\n",
    "eight = '''\n",
    "###\n",
    "# #\n",
    "###M\n",
    "# #\n",
    "###\n",
    "'''\n",
    "nine = '''\n",
    "###\n",
    "# #\n",
    "###\n",
    "  #\n",
    "###\n",
    "'''\n",
    "strNumbers = [zero, one, two, three, four, five, six, seven, eight, nine]\n",
    "checkNumbers = ['0','1', '2', '3', '4', '5', '6', '7', '8', '9']\n",
    "\n",
    "check = False\n",
    "while(check != True):\n",
    "    check = True\n",
    "    userInput = input(\"Enter numbers: \")\n",
    "    for item in userInput:\n",
    "        if item not in checkNumbers:\n",
    "            check = False\n",
    "\n",
    "\n",
    "strList = []\n",
    "for i in userInput:\n",
    "    if i == '0':\n",
    "        strList.append(strNumbers[0].strip('\\n').split('\\n'))\n",
    "    elif i == '1':\n",
    "        strList.append(strNumbers[1].strip('\\n').split('\\n'))\n",
    "    elif i == '2':\n",
    "        strList.append(strNumbers[2].strip('\\n').split('\\n'))\n",
    "    elif i == '3':\n",
    "        strList.append(strNumbers[3].strip('\\n').split('\\n'))\n",
    "    elif i == '4':\n",
    "        strList.append(strNumbers[4].strip('\\n').split('\\n'))\n",
    "    elif i == '5':\n",
    "        strList.append(strNumbers[5].strip('\\n').split('\\n'))\n",
    "    elif i == '6':\n",
    "        strList.append(strNumbers[6].strip('\\n').split('\\n'))\n",
    "    elif i == '7':\n",
    "        strList.append(strNumbers[7].strip('\\n').split('\\n'))\n",
    "    elif i == '8':\n",
    "        strList.append(strNumbers[8].strip('\\n').split('\\n'))\n",
    "    elif i == '9':\n",
    "        strList.append(strNumbers[9].strip('\\n').split('\\n'))\n",
    "\n",
    "newStr = ''\n",
    "for i in range(5):\n",
    "    for j in range(len(strList)):\n",
    "        newStr += (strList[j][i] + ' ')\n",
    "    newStr += '\\n'\n",
    "\n",
    "print(newStr)"
   ]
  },
  {
   "cell_type": "markdown",
   "metadata": {},
   "source": [
    "### 5.1.11.1 Four simple programs"
   ]
  },
  {
   "cell_type": "markdown",
   "metadata": {},
   "source": [
    "#### The Caesar Cipher: encrypting a message"
   ]
  },
  {
   "cell_type": "markdown",
   "metadata": {},
   "source": [
    "- The first problem we want to show you is called the Caesar cipher - more details here: https://en.wikipedia.org/wiki/Caesar_cipher.\n",
    "\n",
    "- This cipher was (probably) invented and used by Gaius Julius Caesar and his troops during the Gallic Wars. The idea is rather simple - every letter of the message is replaced by its nearest consequent (A becomes B, B becomes C, and so on). The only exception is Z, which becomes A.\n",
    "\n",
    "- The program in the editor is a very simple (but working) implementation of the algorithm.\n",
    "\n",
    "- We've written it using the following assumptions:\n",
    "\n",
    "    - it accepts Latin letters only (note: the Romans used neither whitespaces nor digits)\n",
    "    - all letters of the message are in upper case (note: the Romans knew only capitals)\n",
    "- Let's trace the code:\n",
    "\n",
    "    - line 02: ask the user to enter the open (unencrypted), one-line message;\n",
    "    - line 03: prepare a string for an encrypted message (empty for now)\n",
    "    - line 04: start the iteration through the message;\n",
    "    - line 05: if the current character is not alphabetic...\n",
    "    - line 06: ...ignore it;\n",
    "    - line 07: convert the letter to upper-case (it's preferable to do it blindly, rather than check whether it's needed or not)\n",
    "    - line 08: get the code of the letter and increment it by one;\n",
    "    - line 09: if the resulting code has \"left\" the Latin alphabet (if it's greater than the Z code)...\n",
    "    - line 10: ...change it to the A code;\n",
    "    - line 11: append the received character to the end of the encrypted message;\n",
    "    - line 13: print the cipher."
   ]
  },
  {
   "cell_type": "code",
   "execution_count": null,
   "metadata": {},
   "outputs": [],
   "source": [
    "# Caesar cipher\n",
    "text = input(\"Enter your message: \")\n",
    "cipher = ''\n",
    "for char in text:\n",
    "    if not char.isalpha():\n",
    "        continue\n",
    "    char = char.upper()\n",
    "    code = ord(char) + 1\n",
    "    if code > ord('Z'):\n",
    "        code = ord('A')\n",
    "    cipher += chr(code)\n",
    "\n",
    "print(cipher)"
   ]
  },
  {
   "cell_type": "markdown",
   "metadata": {},
   "source": [
    "#### The Caesar Cipher: decrypting a message"
   ]
  },
  {
   "cell_type": "code",
   "execution_count": null,
   "metadata": {},
   "outputs": [],
   "source": [
    "# Caesar cipher - decrypting a message\n",
    "cipher = input('Enter your cryptogram: ')\n",
    "text = ''\n",
    "for char in cipher:\n",
    "    if not char.isalpha():\n",
    "        continue\n",
    "    char = char.upper()\n",
    "    code = ord(char) - 1\n",
    "    if code < ord('A'):\n",
    "        code = ord('Z')\n",
    "    text += chr(code)\n",
    "\n",
    "print(text)"
   ]
  },
  {
   "cell_type": "markdown",
   "metadata": {},
   "source": [
    "#### The Numbers Processor"
   ]
  },
  {
   "cell_type": "markdown",
   "metadata": {},
   "source": [
    "- The third program shows a simple method allowing you to input a line filled with numbers, and to process them easily. Note: the routine `input()` function, combined together with the `int()` or `float()` functions, is unsuitable for this purpose.\n",
    "\n",
    "- The processing will be extremely easy - we want the numbers to be summed.\n",
    "\n",
    "- Look at the code in the editor. Let's analyze it.\n",
    "\n",
    "- Using list comprehension may make the code slimmer. You can do that if you want.\n",
    "\n",
    "- Let's present our version:\n",
    "\n",
    "    - line 03: ask the user to enter a line filled with any number of numbers (the numbers can be floats)\n",
    "    - line 04: split the line receiving a list of substrings;\n",
    "    - line 05: initiate the total sum to zero;\n",
    "    - line 06: as the string-float conversion may raise an exception, it's best to continue with the protection of the try-except block;\n",
    "    - line 07: iterate through the list...\n",
    "    - line 08: ...and try to convert all its elements into float numbers; if it works, increase the sum;\n",
    "    - line 09: everything is good so far, so print the sum;\n",
    "    - line 10: the program ends here in the case of an error;\n",
    "    - line 11: print a diagnostic message showing the user the reason for the failure.\n",
    "- The code has one important weakness - it displays a bogus result when the user enters an empty line. Can you fix it?"
   ]
  },
  {
   "cell_type": "code",
   "execution_count": null,
   "metadata": {},
   "outputs": [],
   "source": [
    "# Numbers Processor\n",
    "check = False\n",
    "while check != True:\n",
    "    line = input(\"Enter a line of numbers - separate them with spaces: \")\n",
    "    if line != '':\n",
    "        check = True\n",
    "\n",
    "strings = line.split()\n",
    "total = 0\n",
    "try:\n",
    "    for substr in strings:\n",
    "        total += float(substr)\n",
    "    print(\"The total is:\", total)\n",
    "except:\n",
    "    print(substr, \"is not a number.\")"
   ]
  },
  {
   "cell_type": "markdown",
   "metadata": {},
   "source": [
    "#### The IBAN Validator"
   ]
  },
  {
   "cell_type": "markdown",
   "metadata": {},
   "source": [
    "- The fourth program implements (in a slightly simplified form) an algorithm used by European banks to specify account numbers. The standard named IBAN (International Bank Account Number) provides a simple and fairly reliable method of validating the account numbers against simple typos that can occur during rewriting of the number e.g., from paper documents, like invoices or bills, into computers.\n",
    "\n",
    "- You can find more details here: [https://en.wikipedia.org/wiki/International_Bank_Account_Number](https://en.wikipedia.org/wiki/International_Bank_Account_Number)."
   ]
  },
  {
   "cell_type": "markdown",
   "metadata": {},
   "source": [
    "- An IBAN-compliant account number consists of:\n",
    "\n",
    "    - a two-letter country code taken from the ISO 3166-1 standard (e.g., FR for France, GB for Great Britain, DE for Germany, and so on)\n",
    "    - two check digits used to perform the validity checks - fast and simple, but not fully reliable, tests, showing whether a number is invalid (distorted by a typo) or seems to be good;\n",
    "    - the actual account number (up to 30 alphanumeric characters - the length of that part depends on the country)"
   ]
  },
  {
   "cell_type": "markdown",
   "metadata": {},
   "source": [
    "- The standard says that validation requires the following steps (according to Wikipedia):\n",
    "\n",
    "    - (step 1) Check that the total IBAN length is correct as per the country (this program won't do that, but you can modify the code to meet this requirement if you wish; note: you have to teach the code all the lengths used in Europe)\n",
    "    - (step 2) Move the four initial characters to the end of the string (i.e., the country code and the check digits)\n",
    "    - (step 3) Replace each letter in the string with two digits, thereby expanding the string, where A = 10, B = 11 ... Z = 35;\n",
    "    - (step 4) Interpret the string as a decimal integer and compute the remainder of that number on division by 97; If the remainder is 1, the check digit test is passed and the IBAN might be valid."
   ]
  },
  {
   "cell_type": "markdown",
   "metadata": {},
   "source": [
    "- Look at the code in the editor. Let's analyze it:\n",
    "\n",
    "    - line 03: ask the user to enter the IBAN (the number can contain spaces, as they significantly improve number readability...\n",
    "    - line 04: ...but remove them immediately)\n",
    "    - line 05: the entered IBAN must consist of digits and letters only - if it doesn't...\n",
    "    - line 06: ...output the message;\n",
    "    - line 07: the IBAN mustn't be shorter than 15 characters (this is the shortest variant, used in Norway)\n",
    "    - line 08: if it is shorter, the user is informed;\n",
    "    - line 09: moreover, the IBAN cannot be longer than 31 characters (this is the longest variant, used in Malta)\n",
    "    - line 10: if it is longer, make an announcement;\n",
    "    - line 11: start the actual processing;\n",
    "    - line 12: move the four initial characters to the number's end, and convert all letters to upper case (step 02 of the algorithm)\n",
    "    - line 13: this is the variable used to complete the number, created by replacing the letters with digits (according to the algorithm's step 03)\n",
    "    - line 14: iterate through the IBAN;\n",
    "    - line 15: if the character is a digit...\n",
    "    - line 16: just copy it;\n",
    "    - line 17: otherwise...\n",
    "    - line 18: ...convert it into two digits (note the way it's done here)\n",
    "    - line 19: the converted form of the IBAN is ready - make an integer out of it;\n",
    "    - line 20: is the remainder of the division of iban2 by 97 equal to 1?\n",
    "    - line 21: If yes, then success;\n",
    "    - line 22: Otherwise...\n",
    "    - line 23: ...the number is invalid."
   ]
  },
  {
   "cell_type": "markdown",
   "metadata": {},
   "source": [
    "- Let's add some test data (all these numbers are valid - you can invalidate them by changing any character).\n",
    "\n",
    "    - British: GB72 HBZU 7006 7212 1253 00\n",
    "    - French: FR76 30003 03620 00020216907 50\n",
    "    - German: DE02100100100152517108"
   ]
  },
  {
   "cell_type": "code",
   "execution_count": null,
   "metadata": {},
   "outputs": [],
   "source": [
    "# IBAN Validator\n",
    "\n",
    "iban = input(\"Enter IBAN, please: \")\n",
    "iban = iban.replace(' ','')\n",
    "if not iban.isalnum():\n",
    "    print(\"You have entered invalid characters.\")\n",
    "elif len(iban) < 15:\n",
    "    print(\"IBAN entered is too short.\")\n",
    "elif len(iban) > 31:\n",
    "    print(\"IBAN entered is too long.\")\n",
    "else:\n",
    "    iban = (iban[4:] + iban[0:4]).upper()\n",
    "    iban2 = ''\n",
    "    for ch in iban:\n",
    "        if ch.isdigit():\n",
    "            iban2 += ch\n",
    "        else:\n",
    "            iban2 += str(10 + ord(ch) - ord('A'))\n",
    "    ibann = int(iban2)\n",
    "    if ibann % 97 == 1:\n",
    "        print(\"IBAN entered is valid.\")\n",
    "    else:\n",
    "        print(\"IBAN entered is invalid.\")"
   ]
  },
  {
   "cell_type": "markdown",
   "metadata": {},
   "source": [
    "### 5.1.11.6 LAB: Improving the Caesar cipher"
   ]
  },
  {
   "cell_type": "markdown",
   "metadata": {},
   "source": [
    "Scenario\n",
    "\n",
    "- You are already familiar with the Caesar cipher, and this is why we want you to improve the code we showed you recently.\n",
    "\n",
    "\n",
    "- The original Caesar cipher shifts each character by one: a becomes b, z becomes a, and so on. Let's make it a bit harder, and allow the shifted value to come from the range 1..25 inclusive.\n",
    "\n",
    "\n",
    "- Moreover, let the code preserve the letters' case (lower-case letters will remain lower-case) and all non-alphabetical characters should remain untouched.\n",
    "\n",
    "\n",
    "- Your task is to write a program which:\n",
    "    - asks the user for one line of text to encrypt;\n",
    "    - asks the user for a shift value (an integer number from the range 1..25 - note: you should force the user to enter a valid shift value (don't give up and don't let bad data fool you!)\n",
    "    - prints out the encoded text.\n",
    "    \n",
    "    \n",
    "- Test your code using the data we've provided.\n",
    "    - Sample input:\n",
    "    ```\n",
    "    abcxyzABCxyz 123\n",
    "    2\n",
    "    ```\n",
    "    - Sample output:`cdezabCDEzab 123`\n",
    "    \n",
    "    - Sample input:\n",
    "        ```\n",
    "        The die is cast\n",
    "        25\n",
    "        ```\n",
    "    - Sample output:\n",
    "        `Sgd chd hr bzrs`"
   ]
  },
  {
   "cell_type": "code",
   "execution_count": null,
   "metadata": {},
   "outputs": [],
   "source": [
    "checkText = False\n",
    "while checkText != True:\n",
    "    text = input(\"Enter your message: \")\n",
    "    if text != '':\n",
    "        checkText = True\n",
    "\n",
    "checkShift = False\n",
    "shiftNumber = list(range(1,26))\n",
    "while checkShift != True:\n",
    "    try:\n",
    "        shift = int(input(\"Enter your shift number(1~25): \"))\n",
    "        if shift in shiftNumber:\n",
    "            checkShift = True\n",
    "    except:\n",
    "        print(\"Please Enter number between 1 and 25!!\")\n",
    "        continue\n",
    "\n",
    "\n",
    "cipher = ''\n",
    "for char in text:\n",
    "    if not char.isalpha():\n",
    "        cipher += char\n",
    "    if char.islower():\n",
    "        code = ord(char) + shift\n",
    "        if code > ord('z'):\n",
    "            code = ord('a') + (code - ord('z') - 1)\n",
    "        cipher += chr(code)\n",
    "        \n",
    "    if char.isupper():\n",
    "        code = ord(char) + shift\n",
    "        if code > ord('Z'):\n",
    "            code = ord('A') + (code -ord('Z') - 1)\n",
    "        cipher += chr(code)\n",
    "\n",
    "print(cipher)"
   ]
  },
  {
   "cell_type": "markdown",
   "metadata": {},
   "source": [
    "### 5.1.11.7 LAB: Palindromes"
   ]
  },
  {
   "cell_type": "markdown",
   "metadata": {},
   "source": [
    "Scenario\n",
    "\n",
    "- Do you know what a palindrome is?\n",
    "\n",
    "- It's a word which look the same when read forward and backward. For example, \"kayak\" is a palindrome, while \"loyal\" is not.\n",
    "\n",
    "- Your task is to write a program which:\n",
    "\n",
    "    - asks the user for some text;\n",
    "    - checks whether the entered text is a palindrome, and prints result.\n",
    "\n",
    "- Note:\n",
    "\n",
    "    - assume that an empty string isn't a palindrome;\n",
    "    - treat upper- and lower-case letters as equal;\n",
    "    - spaces are not taken into account during the check - treat them as non-existent;\n",
    "    - there are more than a few correct solutions - try to find more than one.\n",
    "    - Test your code using the data we've provided."
   ]
  },
  {
   "cell_type": "code",
   "execution_count": null,
   "metadata": {},
   "outputs": [],
   "source": [
    "userInput = input(\"Enter some texts: \").replace(' ', '').lower()\n",
    "\n",
    "reverseInput = []\n",
    "for chr in userInput:\n",
    "    reverseInput.append(chr)\n",
    "reverseInput.reverse()\n",
    "\n",
    "newStr = ''.join(reverseInput)\n",
    "if newStr == userInput:\n",
    "    print(\"It's a palindrome\")\n",
    "else:\n",
    "    print(\"It's not a palindrome\")"
   ]
  },
  {
   "cell_type": "markdown",
   "metadata": {},
   "source": [
    "### 5.1.11.8 LAB: Anagrams"
   ]
  },
  {
   "cell_type": "markdown",
   "metadata": {},
   "source": [
    "Scenario\n",
    "\n",
    "- An anagram is a new word formed by rearranging the letters of a word, using all the original letters exactly once. For example, the phrases \"rail safety\" and \"fairy tales\" are anagrams, while \"I am\" and \"You are\" are not.\n",
    "\n",
    "- Your task is to write a program which:\n",
    "\n",
    "    - asks the user for two separate texts;\n",
    "    - checks whether, the entered texts are anagrams and prints the result.\n",
    "\n",
    "- Note:\n",
    "\n",
    "    - assume that two empty strings are not anagrams;\n",
    "    - treat upper- and lower-case letters as equal;\n",
    "    - spaces are not taken into account during the check - treat them as non-existent"
   ]
  },
  {
   "cell_type": "code",
   "execution_count": null,
   "metadata": {},
   "outputs": [],
   "source": [
    "text1 = input(\"Enter the first text: \").replace(' ', '').lower()\n",
    "text2 = input(\"Enter the second text: \").replace(' ', '').lower()\n",
    "\n",
    "text1List = []\n",
    "for chr in text1:\n",
    "    text1List.append(chr)\n",
    "    \n",
    "text1List.sort()\n",
    "newText1 = ''.join(text1List)\n",
    "\n",
    "text2List = []\n",
    "for chr in text2:\n",
    "    text2List.append(chr)\n",
    "    \n",
    "text2List.sort()\n",
    "newText2 = ''.join(text2List)\n",
    "if newText1 == '' and newText2 == '':\n",
    "    print('Not anagrams')\n",
    "elif newText1 == newText2:\n",
    "    print('Anagrams')\n",
    "else:\n",
    "    print('Not anagrams')"
   ]
  },
  {
   "cell_type": "markdown",
   "metadata": {},
   "source": [
    "### 5.1.11.9 LAB: The Digit of Life\n"
   ]
  },
  {
   "cell_type": "markdown",
   "metadata": {},
   "source": [
    "Scenario\n",
    "\n",
    "- Some say that the Digit of Life is a digit evaluated using somebody's birthday. It's simple - you just need to sum all the digits of the date. If the result contains more than one digit, you have to repeat the addition until you get exactly one digit. For example:\n",
    "\n",
    "    - 1 January 2017 = 2017 01 01\n",
    "    - 2 + 0 + 1 + 7 + 0 + 1 + 0 + 1 = 12\n",
    "    - 1 + 2 = 3\n",
    "- 3 is the digit we searched for and found.\n",
    "\n",
    "- Your task is to write a program which:\n",
    "\n",
    "    - asks the user her/his birthday (in the format YYYYMMDD, or YYYYDDMM, or MMDDYYYY - actually, the order of the digits doesn't matter)\n",
    "    - outputs the Digit of Life for the date."
   ]
  },
  {
   "cell_type": "code",
   "execution_count": null,
   "metadata": {},
   "outputs": [],
   "source": [
    "userInput = ''\n",
    "while (userInput.isdigit() != True) or (len(userInput) != 8):\n",
    "    userInput = input(\"Enter Your Birthday: \")\n",
    "\n",
    "checkSum = False\n",
    "while(checkSum == False):\n",
    "    numberList = []\n",
    "    sum = 0\n",
    "    for chr in userInput:\n",
    "        numberList.append(int(chr))\n",
    "    for number in numberList:\n",
    "        sum += number\n",
    "    if sum >= 10:\n",
    "        userInput = str(sum)\n",
    "    else: \n",
    "        checkSum = True\n",
    "\n",
    "print(\"Digit of Life: \", sum)"
   ]
  },
  {
   "cell_type": "markdown",
   "metadata": {},
   "source": [
    "### 5.1.11.10 LAB: Find a word!\n"
   ]
  },
  {
   "cell_type": "markdown",
   "metadata": {},
   "source": [
    "Scenario\n",
    "\n",
    "- Let's play a game. We will give you two strings: one being a word (e.g., \"dog\") and the second being a combination of any characters.\n",
    "\n",
    "- Your task is to write a program which answers the following question: ***are the characters comprising the first string hidden inside the second string?***\n",
    "\n",
    "- For example:\n",
    "\n",
    "    - if the second string is given as \"vcxzxduybfdsobywuefgas\", the answer is yes;\n",
    "    - if the second string is \"vcxzxdcybfdstbywuefsas\", the answer is no (as there are neither the letters \"d\", \"o\", or \"g\", in this order)\n",
    "    \n",
    "- Note: don't worry about case sensitivity."
   ]
  },
  {
   "cell_type": "code",
   "execution_count": null,
   "metadata": {},
   "outputs": [],
   "source": [
    "def checkAllChr(word, lword):\n",
    "    lwordList = []   \n",
    "    for chr in lword:\n",
    "        lwordList.append(chr)\n",
    "    check = True    \n",
    "    for chr in word:\n",
    "        if chr not in lwordList:\n",
    "            check = False\n",
    "    return check\n",
    "    \n",
    "def checkSequence(word, lword):\n",
    "    find = 0\n",
    "    for chr in word:\n",
    "        find = lword.find(chr, find)\n",
    "        if find != -1:\n",
    "            find += 1\n",
    "        else:\n",
    "            return \"No\"\n",
    "    return \"Yes\"\n",
    "    \n",
    "# \n",
    "text1 = input(\"Enter a short text: \").lower()\n",
    "text2 = input(\"Enter a long text: \").lower()\n",
    "\n",
    "check = checkAllChr(text1,text2)\n",
    "if check:\n",
    "    answer = checkSequence(text1,text2)\n",
    "    print(answer)\n",
    "else:\n",
    "    print(\"No\")"
   ]
  },
  {
   "cell_type": "markdown",
   "metadata": {},
   "source": [
    "#### 5.1.11.11 LAB: Sudoku"
   ]
  },
  {
   "cell_type": "markdown",
   "metadata": {},
   "source": [
    "Scenario\n",
    "\n",
    "- As you probably know, Sudoku is a number-placing puzzle played on a 9x9 board. The player has to fill the board in a very specific way:\n",
    "\n",
    "    - each row of the board must contain all digits from 0 to 9 (the order doesn't matter)\n",
    "    - each column of the board must contain all digits from 0 to 9 (again, the order doesn't matter)\n",
    "    - each of the nine 3x3 \"tiles\" (we will name them \"sub-squares\") of the table must contain all digits from 0 to 9.\n",
    "\n",
    "- Your task is to write a program which:\n",
    "\n",
    "    - reads 9 rows of the Sudoku, each containing 9 digits (check carefully if the data entered are valid)\n",
    "    - outputs `Yes` if the Sudoku is valid, and `No` otherwise."
   ]
  },
  {
   "cell_type": "code",
   "execution_count": 104,
   "metadata": {},
   "outputs": [
    {
     "name": "stdout",
     "output_type": "stream",
     "text": [
      "Enter the matrix you would like to check (Sudoku): 295743861 431865927 876192543 387459216 612387495 549216738 763524189 928671354 154938672\n",
      "Yes\n"
     ]
    }
   ],
   "source": [
    "def inputToMatrix(userInputList):\n",
    "    testList = []\n",
    "    for i in range(9):\n",
    "        tempList = []\n",
    "        for chr in userInputList[i]:\n",
    "            tempList.append(int(chr))\n",
    "        testList.append(tempList)\n",
    "    return testList\n",
    "\n",
    "\n",
    "def checkRowAndColumnSum(testList):\n",
    "    sumOf1to9 = 0\n",
    "    for i in range(10):\n",
    "        sumOf1to9 += i\n",
    "    \n",
    "    for i in range(len(testList)):\n",
    "        rowSum = 0\n",
    "        columnSum = 0\n",
    "\n",
    "        for rowNum in testList[i]:\n",
    "            rowSum += rowNum\n",
    "        if rowSum != sumOf1to9:\n",
    "            return False\n",
    "\n",
    "        for j in range(9):\n",
    "            columnSum += testList[j][i]\n",
    "        if columnSum != sumOf1to9:\n",
    "            return False\n",
    "        \n",
    "    return True\n",
    "\n",
    "\n",
    "def tosliceMatrix(testList):    \n",
    "    slicedMatrix = []\n",
    "    for i in range(9):\n",
    "        temp = []\n",
    "        for j in range(3):\n",
    "            temp.append(testList[i][3*j:(j+1)*3])\n",
    "        slicedMatrix.append(temp)\n",
    "    return slicedMatrix\n",
    "\n",
    "# Note: this show the subMatrix \n",
    "\n",
    "# slicedMatrix[0][0]  slicedMatrix[0][1]  slicedMatrix[0][2]\n",
    "# slicedMatrix[1][0]  slicedMatrix[1][1]  slicedMatrix[1][2]\n",
    "# slicedMatrix[2][0]  slicedMatrix[2][1]  slicedMatrix[2][2]\n",
    "\n",
    "# slicedMatrix[3][0]  slicedMatrix[3][1]  slicedMatrix[3][2]\n",
    "# slicedMatrix[4][0]  slicedMatrix[4][1]  slicedMatrix[4][2]\n",
    "# slicedMatrix[5][0]  slicedMatrix[5][1]  slicedMatrix[5][2]\n",
    "\n",
    "# slicedMatrix[6][0]  slicedMatrix[6][1]  slicedMatrix[6][2]\n",
    "# slicedMatrix[7][0]  slicedMatrix[7][1]  slicedMatrix[7][2]\n",
    "# slicedMatrix[8][0]  slicedMatrix[8][1]  slicedMatrix[8][2]\n",
    "\n",
    "def checkSubMatrixSum(slicedMatrix):\n",
    "    for k in range(3):\n",
    "        k *= 3\n",
    "        for j in range(3):\n",
    "            matrixSum = 0\n",
    "            for i in range(3):\n",
    "                subSum = 0\n",
    "                for num in slicedMatrix[i+k][j]:\n",
    "                    subSum += num\n",
    "                matrixSum += subSum\n",
    "            if matrixSum != 45:\n",
    "                return False\n",
    "    return True\n",
    "\n",
    "# main part\n",
    "userInput = input(\"Enter the matrix you would like to check (Sudoku): \").strip()\n",
    "userInputList = userInput.split(' ')\n",
    "\n",
    "testList = inputToMatrix(userInputList)\n",
    "answer1 = checkRowAndColumnSum(testList)\n",
    "\n",
    "slicedMatrix = tosliceMatrix(testList)\n",
    "anwser2 = checkSubMatrixSum(slicedMatrix)\n",
    "\n",
    "if answer1 and anwser2:\n",
    "    print(\"Yes\")\n",
    "else:\n",
    "    print(\"No\")"
   ]
  },
  {
   "cell_type": "markdown",
   "metadata": {},
   "source": [
    "## Programming Essentials in Python: Module 6"
   ]
  },
  {
   "cell_type": "markdown",
   "metadata": {},
   "source": [
    "### 6.1.1.2 The foundations of OOP\n"
   ]
  },
  {
   "cell_type": "markdown",
   "metadata": {},
   "source": [
    "#### The basic cocepts of the object-oriented approach"
   ]
  },
  {
   "cell_type": "markdown",
   "metadata": {},
   "source": [
    "- The procedural style of programming was the dominant approach to software development for decades of IT, and it is still in use today. Moreover, it isn't going to disappear in the future, as it works very well for specific types of projects (generally, not very complex ones and not large ones, but there are lots of exceptions to that rule)."
   ]
  },
  {
   "cell_type": "markdown",
   "metadata": {},
   "source": [
    "- The object approach is quite young (much younger than the procedural approach) and is particularly useful when applied to big and complex projects carried out by large teams consisting of many developers."
   ]
  },
  {
   "cell_type": "markdown",
   "metadata": {},
   "source": [
    "- This kind of understanding of a project's structure makes many important tasks easier, e.g., dividing the project into small, independent parts, and independent development of different project elements."
   ]
  },
  {
   "cell_type": "markdown",
   "metadata": {},
   "source": [
    "- ***Python is a universal tool for both object and procedural programming***. It may be successfully utilized in both spheres."
   ]
  },
  {
   "cell_type": "markdown",
   "metadata": {},
   "source": [
    "- Furthermore, you can create lots of useful applications, even if you know nothing about classes and objects, but you have to keep in mind that some of the problems (e.g., graphical user interface handling) may require a strict object approach."
   ]
  },
  {
   "cell_type": "markdown",
   "metadata": {},
   "source": [
    "#### Procedural vs. the object-oriented approach"
   ]
  },
  {
   "cell_type": "markdown",
   "metadata": {},
   "source": [
    "- In the ***procedural approach***, it's possible to distinguish two different and completely separate worlds: ***the world of data***, and ***the world of code***. The world of data is populated with variables of different kinds, while the world of code is inhabited by code grouped into modules and functions."
   ]
  },
  {
   "cell_type": "markdown",
   "metadata": {},
   "source": [
    "- Functions are able to use data, but not vice versa. Furthermore, functions are able to abuse data, i.e., to use the value in an unauthorized manner (e.g., when the sine function gets a bank account balance as a parameter)."
   ]
  },
  {
   "cell_type": "markdown",
   "metadata": {},
   "source": [
    "- We said in the past that data cannot use functions. But is this entirely true? Are there some special kinds of data that can use functions?\n",
    "\n",
    "- Yes, there are - the ones named methods. These are functions which are invoked from within the data, not beside them. If you can see this distinction, you've taken the first step into object programming."
   ]
  },
  {
   "cell_type": "markdown",
   "metadata": {},
   "source": [
    "- The ***object approach*** suggests a completely different way of thinking. The data and the code are enclosed together in the same world, divided into classes."
   ]
  },
  {
   "cell_type": "markdown",
   "metadata": {},
   "source": [
    "- Every ***class is like a recipe which can be used when you want to create a useful object*** (this is where the name of the approach comes from). You may produce as many objects as you need to solve your problem."
   ]
  },
  {
   "cell_type": "markdown",
   "metadata": {},
   "source": [
    "- Every object has a set of traits (they are called properties or attributes - we'll use both words synonymously) and is able to perform a set of activities (which are called methods)."
   ]
  },
  {
   "cell_type": "markdown",
   "metadata": {},
   "source": [
    "- The recipes may be modified if they are inadequate for specific purposes and, in effect, new classes may be created. These new classes inherit properties and methods from the originals, and usually add some new ones, creating new, more specific tools."
   ]
  },
  {
   "cell_type": "markdown",
   "metadata": {},
   "source": [
    "- ***Objects are incarnations*** of ideas expressed in classes, like a cheesecake on your plate is an incarnation of the idea expressed in a recipe printed in an old cookbook."
   ]
  },
  {
   "cell_type": "markdown",
   "metadata": {},
   "source": [
    "- The objects interact with each other, exchanging data or activating their methods. A properly constructed class (and thus, its objects) are able to protect the sensible data and hide it from unauthorized modifications."
   ]
  },
  {
   "cell_type": "markdown",
   "metadata": {},
   "source": [
    "- There is no clear border between data and code: they live as one in objects."
   ]
  },
  {
   "cell_type": "markdown",
   "metadata": {},
   "source": [
    "- All these concepts are not as abstract as you may at first suspect. On the contrary, they all are taken from real-life experiences, and therefore are extremely useful in computer programming: they don't create artificial life - ***they reflect real facts, relationships, and circumstances***."
   ]
  },
  {
   "cell_type": "markdown",
   "metadata": {},
   "source": [
    "![](./images/45_class.png)"
   ]
  },
  {
   "cell_type": "markdown",
   "metadata": {},
   "source": [
    "#### Class hierarchies"
   ]
  },
  {
   "cell_type": "markdown",
   "metadata": {},
   "source": [
    "- The class that we are concerned with is like a ***category***, as a result of precisely defined similarities."
   ]
  },
  {
   "cell_type": "markdown",
   "metadata": {},
   "source": [
    "![](./images/47_hierachies.png)"
   ]
  },
  {
   "cell_type": "markdown",
   "metadata": {},
   "source": [
    "- Note: ***the hierarchy grows from top to bottom, like tree roots, not branches***. The most general, and the widest, class is always at the top (the superclass) while its descendants are located below (the subclasses)."
   ]
  },
  {
   "cell_type": "markdown",
   "metadata": {},
   "source": [
    "- Another example is the hierarchy of the taxonomic kingdom of animals."
   ]
  },
  {
   "cell_type": "markdown",
   "metadata": {},
   "source": [
    "![](./images/48_hierachies_1.png)"
   ]
  },
  {
   "cell_type": "markdown",
   "metadata": {},
   "source": [
    "#### What is an object?"
   ]
  },
  {
   "cell_type": "markdown",
   "metadata": {},
   "source": [
    "- A class (among other definitions) is a ***set of objects***. An object is ***a being belonging to a class***.\n",
    "\n",
    "- An object is ***an incarnation of the requirements, traits, and qualities assigned to a specific class***. This may sound simple, but note the following important circumstances. Classes form a hierarchy. This may mean that an object belonging to a specific class belongs to all the superclasses at the same time. It may also mean that any object belonging to a superclass may not belong to any of its subclasses.\n",
    "\n",
    "- For example: any personal car is an object belonging to the wheeled vehicles class. It also means that the same car belongs to all superclasses of its home class; therefore, it is a member of the vehicles class, too. Your dog (or your cat) is an object included in the domesticated mammals class, which explicitly means that it is included in the animals class as well.\n",
    "\n",
    "- Each ***subclass is more specialized*** (or more specific) than its superclass. Conversely, each ***superclass is more general*** (more abstract) than any of its subclasses. Note that we've presumed that a class may only have one superclass - this is not always true, but we'll discuss this issue more a bit later.\n",
    "\n"
   ]
  },
  {
   "cell_type": "markdown",
   "metadata": {},
   "source": [
    "#### Inheritance"
   ]
  },
  {
   "cell_type": "markdown",
   "metadata": {},
   "source": [
    "- Let's define one of the fundamental concepts of object programming, named inheritance. Any object bound to a specific level of a class hierarchy ***inherits all the traits (as well as the requirements and qualities) defined inside any of the superclasses***.\n",
    "\n",
    "- The object's home class may define new traits (as well as requirements and qualities) which will be inherited by any of its superclasses.\n",
    "\n",
    "- You shouldn't have any problems matching this rule to specific examples, whether it applies to animals, or to vehicles."
   ]
  },
  {
   "cell_type": "markdown",
   "metadata": {},
   "source": [
    "![](./images/49_inheritance.png)"
   ]
  },
  {
   "cell_type": "markdown",
   "metadata": {},
   "source": [
    "#### What does an object have?"
   ]
  },
  {
   "cell_type": "markdown",
   "metadata": {},
   "source": [
    "The object programming convention assumes that ***every existing object may be equipped with three groups of attributes***:"
   ]
  },
  {
   "cell_type": "markdown",
   "metadata": {},
   "source": [
    "- an object has a ***name*** that uniquely identifies it within its home namespace (although there may be some anonymous objects, too)\n",
    "- an object has a ***set of individual properties*** which make it original, unique or outstanding (although it's possible that some objects may have no properties at all)\n",
    "- an object has a ***set of abilities to perform specific activities***, able to change the object itself, or some of the other objects."
   ]
  },
  {
   "cell_type": "markdown",
   "metadata": {},
   "source": [
    "There is a hint (although this doesn't always work) which can help you identify any of the three spheres above. Whenever you describe an object and you use:"
   ]
  },
  {
   "cell_type": "markdown",
   "metadata": {},
   "source": [
    "- a noun - you probably define the object's name;\n",
    "- an adjective - you probably define the object's property;\n",
    "- a verb - you probably define the object's activity."
   ]
  },
  {
   "cell_type": "markdown",
   "metadata": {},
   "source": [
    "#### Your first class"
   ]
  },
  {
   "cell_type": "markdown",
   "metadata": {},
   "source": [
    "- Object programming is ***the art of defining and expanding classes***. A class is a model of a very specific part of reality, reflecting properties and activities found in the real world."
   ]
  },
  {
   "cell_type": "markdown",
   "metadata": {},
   "source": [
    "- The classes defined at the beginning are too general and imprecise to cover the largest possible number of real cases.\n",
    "\n",
    "- There's no obstacle to defining new, more precise subclasses. They'll inherit everything from their superclass, so the work that went into its creation isn't wasted.\n",
    "\n",
    "- The new class may add new properties and new activities, and therefore may be more useful in specific applications. Obviously, it may be used as a superclass for any number of newly created subclasses.\n",
    "\n",
    "- The process doesn't need to have an end. You can create as many classes as you need.\n",
    "\n",
    "- The class you define has nothing to do with the object: the existence of a class does not mean that any of the compatible objects will automatically be created. The class itself isn't able to create an object - you have to create it yourself, and Python allows you to do this."
   ]
  },
  {
   "cell_type": "markdown",
   "metadata": {},
   "source": [
    "- It's time to define the simplest class and to create an object. Take a look at the example below:"
   ]
  },
  {
   "cell_type": "code",
   "execution_count": null,
   "metadata": {},
   "outputs": [],
   "source": [
    "class TheSimplestClass:\n",
    "    pass"
   ]
  },
  {
   "cell_type": "markdown",
   "metadata": {},
   "source": [
    "#### Your first object"
   ]
  },
  {
   "cell_type": "code",
   "execution_count": null,
   "metadata": {},
   "outputs": [],
   "source": [
    "myFirstObject = TheSimplestClass()"
   ]
  },
  {
   "cell_type": "markdown",
   "metadata": {},
   "source": [
    "- Note:\n",
    "\n",
    "    - the class name tries to pretend that it's a function\n",
    "    - the newly created object is equipped with everything the class brings\n",
    "    - The act of creating an object of the selected class is also called an ***instantiation*** (as the object becomes an instance of the class)."
   ]
  },
  {
   "cell_type": "markdown",
   "metadata": {},
   "source": [
    "### 6.1.2.1 A short journey from procedural to object approach\n"
   ]
  },
  {
   "cell_type": "markdown",
   "metadata": {},
   "source": [
    "#### What is a stack?"
   ]
  },
  {
   "cell_type": "markdown",
   "metadata": {},
   "source": [
    "- ***A stack is a structure developed to store data in a very specific way***. Imagine a stack of coins. You aren't able to put a coin anywhere else but on the top of the stack. Similarly, you can't get a coin off the stack from any place other than the top of the stack. If you want to get the coin that lies on the bottom, you have to remove all the coins from the higher levels.\n",
    "\n",
    "- The alternative name for a stack (but only in IT terminology) is ***LIFO***. It's an abbreviation for a very clear description of the stack's behavior: ***Last In - First Out***. The coin that came last onto the stack will leave first.\n",
    "\n",
    "- ***A stack is an object*** with two elementary operations, conventionally named push (when a new element is put on the top) and pop (when an existing element is taken away from the top).\n",
    "\n",
    "- Stacks are used very often in many classical algorithms, and it's hard to imagine the implementation of many widely used tools without the use of stacks."
   ]
  },
  {
   "cell_type": "markdown",
   "metadata": {},
   "source": [
    "![](./images/50_stack.png)"
   ]
  },
  {
   "cell_type": "markdown",
   "metadata": {},
   "source": [
    "#### The stack - the procedural approach"
   ]
  },
  {
   "cell_type": "markdown",
   "metadata": {},
   "source": [
    "- We suggest using the simplest of methods, and employing a list for this job. Let's assume that the size of the stack is not limited in any way. Let's also assume that the last element of the list stores the top element."
   ]
  },
  {
   "cell_type": "code",
   "execution_count": 1,
   "metadata": {},
   "outputs": [
    {
     "name": "stdout",
     "output_type": "stream",
     "text": [
      "1\n",
      "2\n",
      "3\n"
     ]
    }
   ],
   "source": [
    "stack = []\n",
    "\n",
    "def push(val):\n",
    "    stack.append(val)\n",
    "\n",
    "\n",
    "def pop():\n",
    "    val = stack[-1]\n",
    "    del stack[-1]\n",
    "    return val\n",
    "\n",
    "push(3)\n",
    "push(2)\n",
    "push(1)\n",
    "\n",
    "print(pop())\n",
    "print(pop())\n",
    "print(pop())"
   ]
  },
  {
   "cell_type": "markdown",
   "metadata": {},
   "source": [
    "- Note: the function doesn't check if there is any element in the stack."
   ]
  },
  {
   "cell_type": "markdown",
   "metadata": {},
   "source": [
    "#### The stack - the procedural approach vs. the object-oriented approach"
   ]
  },
  {
   "cell_type": "markdown",
   "metadata": {},
   "source": [
    "- The procedural stack is ready. Of course, there are some weaknesses, and the implementation could be improved in many ways (harnessing exceptions to work is a good idea), but in general the stack is fully implemented, and you can use it if you need to."
   ]
  },
  {
   "cell_type": "markdown",
   "metadata": {},
   "source": [
    "- But the more often you use it, the more disadvantages you'll encounter. Here are some of them:\n",
    "    - the essential variable (the stack list) is highly vulnerable; anyone can modify it in an uncontrollable way, destroying the stack, in effect; this doesn't mean that it's been done maliciously - on the contrary, it may happen as a result of carelessness, e.g., when somebody confuses variable names; imagine that you have accidentally written something like this:\n",
    "    ```\n",
    "    stack[0] = 0\n",
    "    ```\n",
    "    - The functioning of the stack will be completely disorganized;\n",
    "    - it may also happen that one day you need more than one stack; you'll have to create another list for the stack's storage, and probably other push and pop functions too;\n",
    "\n",
    "    - it may also happen that you need not only push and pop functions, but also some other conveniences; you could certainly implement them, but try to imagine what would happen if you had dozens of separately implemented stacks."
   ]
  },
  {
   "cell_type": "markdown",
   "metadata": {},
   "source": [
    "- The objective approach delivers solutions for each of the above problems. Let's name them first:\n",
    "    - the ability to hide (protect) selected values against unauthorized access is called ***encapsulation***; ***the encapsulated values can be neither accessed nor modified if you want to use them exclusively***;\n",
    "\n",
    "    - when you have a class implementing all the needed stack behaviors, you can produce as many stacks as you want; you needn't copy or replicate any part of the code;\n",
    "\n",
    "    - the ability to enrich the stack with new functions comes from inheritance; you can create a new class (a subclass) which inherits all the existing traits from the superclass, and adds some new ones.\n"
   ]
  },
  {
   "cell_type": "markdown",
   "metadata": {},
   "source": [
    "#### The stack - the object approach"
   ]
  },
  {
   "cell_type": "markdown",
   "metadata": {},
   "source": [
    "- How do you guarantee that such an activity takes place every time the new stack is created?\n",
    "    - Such a function is called a ***constructor***, as its general purpose is to ***construct a new object***. The constructor should know everything about the object's structure, and must perform all the needed initializations."
   ]
  },
  {
   "cell_type": "code",
   "execution_count": 2,
   "metadata": {},
   "outputs": [
    {
     "name": "stdout",
     "output_type": "stream",
     "text": [
      "Hi!\n"
     ]
    }
   ],
   "source": [
    "class Stack:    # defining the Stack class\n",
    "    def __init__(self):    # defining the constructor function\n",
    "        print(\"Hi!\")\n",
    "\n",
    "stackObject = Stack()    # instantiating the object"
   ]
  },
  {
   "cell_type": "markdown",
   "metadata": {},
   "source": [
    "- And now:    \n",
    "    - the constructor's name is always __init__;\n",
    "    - it has to have ***at least one parameter*** (we'll discuss this later); the parameter is used to represent the newly created object - you can use the parameter to manipulate the object, and to enrich it with the needed properties; you'll make use of this soon;\n",
    "    - note: the obligatory parameter is usually named self - it's only ***a convention, but you should follow it*** - it simplifies the process of reading and understanding your code."
   ]
  },
  {
   "cell_type": "code",
   "execution_count": 3,
   "metadata": {},
   "outputs": [
    {
     "name": "stdout",
     "output_type": "stream",
     "text": [
      "0\n"
     ]
    }
   ],
   "source": [
    "class Stack:\n",
    "    def __init__(self):\n",
    "        self.stackList = []\n",
    "\n",
    "stackObject = Stack()\n",
    "print(len(stackObject.stackList))"
   ]
  },
  {
   "cell_type": "markdown",
   "metadata": {},
   "source": [
    "- Note:\n",
    "    - we've used the ***dotted notation***, just like when invoking methods; this is the general convention for accessing an object's properties - you need to name the object, put a dot (`.`)after it, and specify the desired property's name; don't use parentheses! You don't want to invoke a method - you want to ***access a property***;"
   ]
  },
  {
   "cell_type": "code",
   "execution_count": 4,
   "metadata": {},
   "outputs": [
    {
     "ename": "AttributeError",
     "evalue": "'Stack' object has no attribute '__stackList'",
     "output_type": "error",
     "traceback": [
      "\u001b[1;31m---------------------------------------------------------------------------\u001b[0m",
      "\u001b[1;31mAttributeError\u001b[0m                            Traceback (most recent call last)",
      "\u001b[1;32m<ipython-input-4-9e3b7dedea00>\u001b[0m in \u001b[0;36m<module>\u001b[1;34m\u001b[0m\n\u001b[0;32m      4\u001b[0m \u001b[1;33m\u001b[0m\u001b[0m\n\u001b[0;32m      5\u001b[0m \u001b[0mstackObject\u001b[0m \u001b[1;33m=\u001b[0m \u001b[0mStack\u001b[0m\u001b[1;33m(\u001b[0m\u001b[1;33m)\u001b[0m\u001b[1;33m\u001b[0m\u001b[1;33m\u001b[0m\u001b[0m\n\u001b[1;32m----> 6\u001b[1;33m \u001b[0mprint\u001b[0m\u001b[1;33m(\u001b[0m\u001b[0mlen\u001b[0m\u001b[1;33m(\u001b[0m\u001b[0mstackObject\u001b[0m\u001b[1;33m.\u001b[0m\u001b[0m__stackList\u001b[0m\u001b[1;33m)\u001b[0m\u001b[1;33m)\u001b[0m\u001b[1;33m\u001b[0m\u001b[1;33m\u001b[0m\u001b[0m\n\u001b[0m",
      "\u001b[1;31mAttributeError\u001b[0m: 'Stack' object has no attribute '__stackList'"
     ]
    }
   ],
   "source": [
    "class Stack:\n",
    "    def __init__(self):\n",
    "        self.__stackList = []\n",
    "\n",
    "stackObject = Stack()\n",
    "print(len(stackObject.__stackList))"
   ]
  },
  {
   "cell_type": "markdown",
   "metadata": {},
   "source": [
    "- Why?\n",
    "\n",
    "    - When any class component has a name starting with two underscores (`__`), it becomes private - this means that it can be accessed only from within the class.\n",
    "\n",
    "    - You cannot see it from the outside world. This is how Python implements the encapsulation concept."
   ]
  },
  {
   "cell_type": "markdown",
   "metadata": {},
   "source": [
    "#### The object approach: a stack from scratch"
   ]
  },
  {
   "cell_type": "code",
   "execution_count": 5,
   "metadata": {},
   "outputs": [
    {
     "name": "stdout",
     "output_type": "stream",
     "text": [
      "1\n",
      "2\n",
      "3\n"
     ]
    }
   ],
   "source": [
    "class Stack:\n",
    "    def __init__(self):\n",
    "        self.__stackList = []\n",
    "\n",
    "    def push(self, val):\n",
    "        self.__stackList.append(val)\n",
    "\n",
    "    def pop(self):\n",
    "        val = self.__stackList[-1]\n",
    "        del self.__stackList[-1]\n",
    "        return val\n",
    "\n",
    "\n",
    "stackObject = Stack()\n",
    "\n",
    "stackObject.push(3)\n",
    "stackObject.push(2)\n",
    "stackObject.push(1)\n",
    "\n",
    "print(stackObject.pop())\n",
    "print(stackObject.pop())\n",
    "print(stackObject.pop())"
   ]
  },
  {
   "cell_type": "markdown",
   "metadata": {},
   "source": [
    "- Such a component is called ***public***, so you ***can't begin its name with two (or more) underscores***. There is one more requirement - ***the name must have no more than one trailing underscore***. As no trailing underscores at all fully meets the requirement, you can assume that the name is acceptable."
   ]
  },
  {
   "cell_type": "markdown",
   "metadata": {},
   "source": [
    "- All methods have to have this parameter(`self`). It plays the same role as the first constructor parameter.\n",
    "    - It allows the method to access entities (properties and activities/methods) carried out by the actual object. You cannot omit it. Every time Python invokes a method, it implicitly sends the current object as the first argument.\n",
    "\n",
    "    - This means that a ***method is obligated to have at least one parameter, which is used by Python itself*** - you don't have any influence on it.\n",
    "\n",
    "    - If your method needs no parameters at all, this one must be specified anyway. If it's designed to process just one parameter, you have to specify two, and the first one's role is still the same."
   ]
  },
  {
   "cell_type": "code",
   "execution_count": 6,
   "metadata": {},
   "outputs": [
    {
     "name": "stdout",
     "output_type": "stream",
     "text": [
      "3\n"
     ]
    }
   ],
   "source": [
    "class Stack:\n",
    "    def __init__(self):\n",
    "        self.__stackList = []\n",
    "\n",
    "    def push(self, val):\n",
    "        self.__stackList.append(val)\n",
    "\n",
    "    def pop(self):\n",
    "        val = self.__stackList[-1]\n",
    "        del self.__stackList[-1]\n",
    "        return val\n",
    "\n",
    "\n",
    "stackObject1 = Stack()\n",
    "stackObject2 = Stack()\n",
    "\n",
    "stackObject1.push(3)\n",
    "stackObject2.push(stackObject1.pop())\n",
    "\n",
    "print(stackObject2.pop())"
   ]
  },
  {
   "cell_type": "markdown",
   "metadata": {},
   "source": [
    "- There are ***two stacks created from the same base class***. They work ***independently***."
   ]
  },
  {
   "cell_type": "markdown",
   "metadata": {},
   "source": [
    "#### The object approach: a stack from scratch (continued)"
   ]
  },
  {
   "cell_type": "code",
   "execution_count": 7,
   "metadata": {},
   "outputs": [],
   "source": [
    "class Stack:\n",
    "    def __init__(self):\n",
    "        self.__stackList = []\n",
    "\n",
    "    def push(self, val):\n",
    "        self.__stackList.append(val)\n",
    "\n",
    "    def pop(self):\n",
    "        val = self.__stackList[-1]\n",
    "        del self.__stackList[-1]\n",
    "        return val\n",
    "\n",
    "class AddingStack(Stack):\n",
    "    def __init__(self):\n",
    "        Stack.__init__(self)\n",
    "        self.__sum = 0"
   ]
  },
  {
   "cell_type": "markdown",
   "metadata": {},
   "source": [
    "- Contrary to many other languages, Python forces you to ***explicitly invoke a superclass's constructor***. Omitting this point will have harmful effects - the object will be deprived of the `__stackList` list. Such a stack will not function properly."
   ]
  },
  {
   "cell_type": "markdown",
   "metadata": {},
   "source": [
    "- Note the syntax:\n",
    "    - you specify the superclass's name (this is the class whose constructor you want to run)\n",
    "    - you put a dot (`.`)after it;\n",
    "    - you specify the name of the constructor;\n",
    "    - you have to point to the object (the class's instance) which has to be initialized by the constructor - this is why you have to specify the argument and use the `self` variable here; note: ***invoking any method (including constructors) from outside the class never requires you to put the `self` argument at the argument's list*** - invoking a method from within the class demands explicit usage of the `self` argument, and it has to be put first on the list."
   ]
  },
  {
   "cell_type": "markdown",
   "metadata": {},
   "source": [
    "- Let's start with the implementation of the `push` function. This is what we expect from it:\n",
    "    - to add the value to the `__sum` variable;\n",
    "    - to push the value onto the stack."
   ]
  },
  {
   "cell_type": "code",
   "execution_count": null,
   "metadata": {},
   "outputs": [],
   "source": [
    "class Stack:\n",
    "    def __init__(self):\n",
    "        self.__stackList = []\n",
    "\n",
    "    def push(self, val):\n",
    "        self.__stackList.append(val)\n",
    "\n",
    "    def pop(self):\n",
    "        val = self.__stackList[-1]\n",
    "        del self.__stackList[-1]\n",
    "        return val\n",
    "\n",
    "class AddingStack(Stack):\n",
    "    def __init__(self):\n",
    "        Stack.__init__(self)\n",
    "        self.__sum = 0\n",
    "\n",
    "    def push(self, val):\n",
    "        self.__sum += val\n",
    "        Stack.push(self, val)\n",
    "        "
   ]
  },
  {
   "cell_type": "markdown",
   "metadata": {},
   "source": [
    "- Note the way we've invoked the previous implementation of the `push` method (the one available in the superclass):\n",
    "\n",
    "    - we have to specify the superclass's name; this is necessary in order to clearly indicate the class containing the method, to avoid confusing it with any other function of the same name;\n",
    "    - we have to specify the target object and to pass it as the first argument (it's not implicitly added to the invocation in this context.)"
   ]
  },
  {
   "cell_type": "markdown",
   "metadata": {},
   "source": [
    "- We say that the push method has been overridden - the same name as in the superclass now represents a different functionality."
   ]
  },
  {
   "cell_type": "code",
   "execution_count": 1,
   "metadata": {},
   "outputs": [
    {
     "name": "stdout",
     "output_type": "stream",
     "text": [
      "10\n",
      "4\n",
      "3\n",
      "2\n",
      "1\n",
      "0\n"
     ]
    }
   ],
   "source": [
    "class Stack:\n",
    "    def __init__(self):\n",
    "        self.__stackList = []\n",
    "\n",
    "    def push(self, val):\n",
    "        self.__stackList.append(val)\n",
    "\n",
    "    def pop(self):\n",
    "        val = self.__stackList[-1]\n",
    "        del self.__stackList[-1]\n",
    "        return val\n",
    "\n",
    "\n",
    "class AddingStack(Stack):\n",
    "    def __init__(self):\n",
    "        Stack.__init__(self)\n",
    "        self.__sum = 0\n",
    "\n",
    "    def getSum(self):\n",
    "        return self.__sum\n",
    "\n",
    "    def push(self, val):\n",
    "        self.__sum += val\n",
    "        Stack.push(self, val)\n",
    "\n",
    "    def pop(self):\n",
    "        val = Stack.pop(self)\n",
    "        self.__sum -= val\n",
    "        return val\n",
    "\n",
    "\n",
    "stackObject = AddingStack()\n",
    "\n",
    "for i in range(5):\n",
    "    stackObject.push(i)\n",
    "print(stackObject.getSum())\n",
    "\n",
    "for i in range(5):\n",
    "    print(stackObject.pop())"
   ]
  },
  {
   "cell_type": "markdown",
   "metadata": {},
   "source": [
    "### 6.1.3.1 OOP: Properties\n"
   ]
  },
  {
   "cell_type": "markdown",
   "metadata": {},
   "source": [
    "#### Instance variables"
   ]
  },
  {
   "cell_type": "markdown",
   "metadata": {},
   "source": [
    "- Such an approach has some important consequences:\n",
    "\n",
    "    - different objects of the same class ***may possess different sets of properties***;\n",
    "    - there must be a way to ***safely check if a specific object owns the property*** you want to utilize (unless you want to provoke an exception - it's always worth considering)\n",
    "    - each object ***carries its own set of properties*** - they don't interfere with one another in any way.\n",
    "- Such variables (properties) are called ***instance variables***.\n",
    "\n",
    "- The word ***instance*** suggests that they are closely connected to the objects (which are class instances), not to the classes themselves. Let's take a closer look at them.\n",
    "\n"
   ]
  },
  {
   "cell_type": "markdown",
   "metadata": {},
   "source": [
    "- Here is an example:"
   ]
  },
  {
   "cell_type": "code",
   "execution_count": 4,
   "metadata": {},
   "outputs": [
    {
     "name": "stdout",
     "output_type": "stream",
     "text": [
      "{'first': 1}\n",
      "{'first': 2, 'second': 3}\n",
      "{'first': 4, 'third': 5}\n"
     ]
    }
   ],
   "source": [
    "class ExampleClass:\n",
    "    def __init__(self, val = 1):\n",
    "        self.first = val\n",
    "\n",
    "    def setSecond(self, val):\n",
    "        self.second = val\n",
    "\n",
    "\n",
    "exampleObject1 = ExampleClass()\n",
    "exampleObject2 = ExampleClass(2)\n",
    "\n",
    "exampleObject2.setSecond(3)\n",
    "\n",
    "exampleObject3 = ExampleClass(4)\n",
    "exampleObject3.third = 5\n",
    "\n",
    "\n",
    "print(exampleObject1.__dict__)\n",
    "print(exampleObject2.__dict__)\n",
    "print(exampleObject3.__dict__)"
   ]
  },
  {
   "cell_type": "markdown",
   "metadata": {},
   "source": [
    "- Python objects, when created, are gifted with a ***small set of predefined properties and methods***. Each object has got them, whether you want them or not. One of them is a variable named __dict__ (it's a dictionary).\n",
    "\n",
    "- The variable contains the names and values of all the properties (variables) the object is currently carrying."
   ]
  },
  {
   "cell_type": "markdown",
   "metadata": {},
   "source": [
    "- we've created three objects of the class `ExampleClass`, but all these instances differ:\n",
    "\n",
    "    - `exampleObject1` only has the property named `first`;\n",
    "\n",
    "    - `exampleObject2` has two properties: `first` and `second`;\n",
    "\n",
    "    - `exampleObject3` has been enriched with a property named `third` just on the fly, outside the class's code - this is possible and fully permissible."
   ]
  },
  {
   "cell_type": "markdown",
   "metadata": {},
   "source": [
    "- **modifying an instance variable of any object has no impact on all the remaining objects**."
   ]
  },
  {
   "cell_type": "code",
   "execution_count": 5,
   "metadata": {},
   "outputs": [
    {
     "name": "stdout",
     "output_type": "stream",
     "text": [
      "{'_ExampleClass__first': 1}\n",
      "{'_ExampleClass__first': 2, '_ExampleClass__second': 3}\n",
      "{'_ExampleClass__first': 4, '__third': 5}\n"
     ]
    }
   ],
   "source": [
    "class ExampleClass:\n",
    "    def __init__(self, val = 1):\n",
    "        self.__first = val\n",
    "\n",
    "    def setSecond(self, val = 2):\n",
    "        self.__second = val\n",
    "\n",
    "\n",
    "exampleObject1 = ExampleClass()\n",
    "exampleObject2 = ExampleClass(2)\n",
    "\n",
    "exampleObject2.setSecond(3)\n",
    "\n",
    "exampleObject3 = ExampleClass(4)\n",
    "exampleObject3.__third = 5\n",
    "\n",
    "\n",
    "print(exampleObject1.__dict__)\n",
    "print(exampleObject2.__dict__)\n",
    "print(exampleObject3.__dict__)"
   ]
  },
  {
   "cell_type": "markdown",
   "metadata": {},
   "source": [
    "- We've ***added two underscores*** (__) in front of them.\n",
    "\n",
    "- As you know, such an addition makes the instance variable private - it becomes inaccessible from the outer world."
   ]
  },
  {
   "cell_type": "markdown",
   "metadata": {},
   "source": [
    "- When Python sees that you want to add an instance variable to an object and you're going to do it inside any of the object's methods, it mangles the operation in the following way:\n",
    "\n",
    "    - it puts a class name before your name;\n",
    "    - it puts an additional underscore at the beginning."
   ]
  },
  {
   "cell_type": "markdown",
   "metadata": {},
   "source": [
    "- ***The name is now fully accessible from outside the class***. You can run a code like this:"
   ]
  },
  {
   "cell_type": "code",
   "execution_count": 6,
   "metadata": {},
   "outputs": [
    {
     "name": "stdout",
     "output_type": "stream",
     "text": [
      "1\n"
     ]
    }
   ],
   "source": [
    "print(exampleObject1._ExampleClass__first)"
   ]
  },
  {
   "cell_type": "markdown",
   "metadata": {},
   "source": [
    "- ***The mangling won't work if you add an instance variable outside the class code***. In this case, it'll behave like any other ordinary property."
   ]
  },
  {
   "cell_type": "markdown",
   "metadata": {},
   "source": [
    "#### Class variables"
   ]
  },
  {
   "cell_type": "markdown",
   "metadata": {},
   "source": [
    "- A class variable is ***a property which exists in just one copy and is stored outside any object***."
   ]
  },
  {
   "cell_type": "markdown",
   "metadata": {},
   "source": [
    "- Note: no instance variable exists if there is no object in the class; a class variable exists in one copy even if there are no objects in the class."
   ]
  },
  {
   "cell_type": "markdown",
   "metadata": {},
   "source": [
    "- Class variables are created differently to their instance siblings. The example will tell you more:"
   ]
  },
  {
   "cell_type": "code",
   "execution_count": 7,
   "metadata": {},
   "outputs": [
    {
     "name": "stdout",
     "output_type": "stream",
     "text": [
      "{'_ExampleClass__first': 1} 3\n",
      "{'_ExampleClass__first': 2} 3\n",
      "{'_ExampleClass__first': 4} 3\n"
     ]
    }
   ],
   "source": [
    "class ExampleClass:\n",
    "    counter = 0\n",
    "    def __init__(self, val = 1):\n",
    "        self.__first = val\n",
    "        ExampleClass.counter += 1\n",
    "\n",
    "exampleObject1 = ExampleClass()\n",
    "exampleObject2 = ExampleClass(2)\n",
    "exampleObject3 = ExampleClass(4)\n",
    "\n",
    "print(exampleObject1.__dict__, exampleObject1.counter)\n",
    "print(exampleObject2.__dict__, exampleObject2.counter)\n",
    "print(exampleObject3.__dict__, exampleObject3.counter)"
   ]
  },
  {
   "cell_type": "markdown",
   "metadata": {},
   "source": [
    "- Two important conclusions come from the example:\n",
    "    - class variables ***aren't shown in an object's*** `__dict__` (this is natural as class variables aren't parts of an object) but you can always try to look into the variable of the same name, but at the class level - we'll show you this very soon;\n",
    "    - a class variable ***always presents the same value*** in all class instances (objects)"
   ]
  },
  {
   "cell_type": "markdown",
   "metadata": {},
   "source": [
    "- Mangling a class variable's name has the same effects as those you're already familiar with."
   ]
  },
  {
   "cell_type": "code",
   "execution_count": 8,
   "metadata": {},
   "outputs": [
    {
     "name": "stdout",
     "output_type": "stream",
     "text": [
      "{'_ExampleClass__first': 1} 3\n",
      "{'_ExampleClass__first': 2} 3\n",
      "{'_ExampleClass__first': 4} 3\n"
     ]
    }
   ],
   "source": [
    "class ExampleClass:\n",
    "    __counter = 0\n",
    "    def __init__(self, val = 1):\n",
    "        self.__first = val\n",
    "        ExampleClass.__counter += 1\n",
    "\n",
    "exampleObject1 = ExampleClass()\n",
    "exampleObject2 = ExampleClass(2)\n",
    "exampleObject3 = ExampleClass(4)\n",
    "\n",
    "print(exampleObject1.__dict__, exampleObject1._ExampleClass__counter)\n",
    "print(exampleObject2.__dict__, exampleObject2._ExampleClass__counter)\n",
    "print(exampleObject3.__dict__, exampleObject3._ExampleClass__counter)\n"
   ]
  },
  {
   "cell_type": "markdown",
   "metadata": {},
   "source": [
    "- We told you before that class variables exist even when no class instance (object) had been created.\n",
    "\n",
    "- Now we're going to take the opportunity to show you the difference between these two __dict__ variables, the one from the class and the one from the object."
   ]
  },
  {
   "cell_type": "code",
   "execution_count": 9,
   "metadata": {},
   "outputs": [
    {
     "name": "stdout",
     "output_type": "stream",
     "text": [
      "{'__module__': '__main__', 'varia': 1, '__init__': <function ExampleClass.__init__ at 0x0000024408C12438>, '__dict__': <attribute '__dict__' of 'ExampleClass' objects>, '__weakref__': <attribute '__weakref__' of 'ExampleClass' objects>, '__doc__': None}\n",
      "{'__module__': '__main__', 'varia': 2, '__init__': <function ExampleClass.__init__ at 0x0000024408C12438>, '__dict__': <attribute '__dict__' of 'ExampleClass' objects>, '__weakref__': <attribute '__weakref__' of 'ExampleClass' objects>, '__doc__': None}\n",
      "{}\n"
     ]
    }
   ],
   "source": [
    "class ExampleClass:\n",
    "    varia = 1\n",
    "    def __init__(self, val):\n",
    "        ExampleClass.varia = val\n",
    "\n",
    "print(ExampleClass.__dict__)\n",
    "exampleObject = ExampleClass(2)\n",
    "\n",
    "print(ExampleClass.__dict__)\n",
    "print(exampleObject.__dict__)"
   ]
  },
  {
   "cell_type": "markdown",
   "metadata": {},
   "source": [
    "- As you can see, the class' `__dict__` contains much more data than its object's counterpart. Most of them are useless now - the one we want you to check carefully shows the current varia value.\n",
    "\n",
    "- Note that the object's `__dict__` is empty - the object has no instance variables."
   ]
  },
  {
   "cell_type": "markdown",
   "metadata": {},
   "source": [
    "#### Checking an attribute's existence"
   ]
  },
  {
   "cell_type": "markdown",
   "metadata": {},
   "source": [
    "- Python's attitude to object instantiation raises one important issue - in contrast to other programming languages, ***you may not expect that all objects of the same class have the same sets of properties***."
   ]
  },
  {
   "cell_type": "code",
   "execution_count": 10,
   "metadata": {},
   "outputs": [
    {
     "name": "stdout",
     "output_type": "stream",
     "text": [
      "1\n"
     ]
    },
    {
     "ename": "AttributeError",
     "evalue": "'ExampleClass' object has no attribute 'b'",
     "output_type": "error",
     "traceback": [
      "\u001b[1;31m---------------------------------------------------------------------------\u001b[0m",
      "\u001b[1;31mAttributeError\u001b[0m                            Traceback (most recent call last)",
      "\u001b[1;32m<ipython-input-10-133e5552d0f6>\u001b[0m in \u001b[0;36m<module>\u001b[1;34m\u001b[0m\n\u001b[0;32m      9\u001b[0m \u001b[1;33m\u001b[0m\u001b[0m\n\u001b[0;32m     10\u001b[0m \u001b[0mprint\u001b[0m\u001b[1;33m(\u001b[0m\u001b[0mexampleObject\u001b[0m\u001b[1;33m.\u001b[0m\u001b[0ma\u001b[0m\u001b[1;33m)\u001b[0m\u001b[1;33m\u001b[0m\u001b[1;33m\u001b[0m\u001b[0m\n\u001b[1;32m---> 11\u001b[1;33m \u001b[0mprint\u001b[0m\u001b[1;33m(\u001b[0m\u001b[0mexampleObject\u001b[0m\u001b[1;33m.\u001b[0m\u001b[0mb\u001b[0m\u001b[1;33m)\u001b[0m\u001b[1;33m\u001b[0m\u001b[1;33m\u001b[0m\u001b[0m\n\u001b[0m",
      "\u001b[1;31mAttributeError\u001b[0m: 'ExampleClass' object has no attribute 'b'"
     ]
    }
   ],
   "source": [
    "class ExampleClass:\n",
    "    def __init__(self, val):\n",
    "        if val % 2 != 0:\n",
    "            self.a = 1\n",
    "        else:\n",
    "            self.b = 1\n",
    "\n",
    "exampleObject = ExampleClass(1)\n",
    "\n",
    "print(exampleObject.a)\n",
    "print(exampleObject.b)"
   ]
  },
  {
   "cell_type": "markdown",
   "metadata": {},
   "source": [
    "- The try-except instruction gives you the chance to avoid issues with non-existent properties."
   ]
  },
  {
   "cell_type": "code",
   "execution_count": 11,
   "metadata": {},
   "outputs": [
    {
     "name": "stdout",
     "output_type": "stream",
     "text": [
      "1\n"
     ]
    }
   ],
   "source": [
    "class ExampleClass:\n",
    "    def __init__(self, val):\n",
    "        if val % 2 != 0:\n",
    "            self.a = 1\n",
    "        else:\n",
    "            self.b = 1\n",
    "\n",
    "exampleObject = ExampleClass(1)\n",
    "print(exampleObject.a)\n",
    "\n",
    "try:\n",
    "    print(exampleObject.b)\n",
    "except AttributeError:\n",
    "    pass"
   ]
  },
  {
   "cell_type": "markdown",
   "metadata": {},
   "source": [
    "- Python provides a ***function which is able to safely check if any object/class contains a specified property***. The function is named `hasattr`, and expects two arguments to be passed to it:\n",
    "    - the class or the object being checked;\n",
    "    - the name of the property whose existence has to be reported (note: it has to be a string containing the attribute name, not the name alone)"
   ]
  },
  {
   "cell_type": "code",
   "execution_count": 14,
   "metadata": {},
   "outputs": [
    {
     "name": "stdout",
     "output_type": "stream",
     "text": [
      "1\n"
     ]
    }
   ],
   "source": [
    "class ExampleClass:\n",
    "    def __init__(self, val):\n",
    "        if val % 2 != 0:\n",
    "            self.a = 1\n",
    "        else:\n",
    "            self.b = 1\n",
    "\n",
    "exampleObject = ExampleClass(1)\n",
    "print(exampleObject.a)\n",
    "\n",
    "if hasattr(exampleObject, 'b'):\n",
    "    print(exampleObject.b)"
   ]
  },
  {
   "cell_type": "markdown",
   "metadata": {},
   "source": [
    "- Don't forget that the `hasattr()` function can operate on classes, too. You can use it ***to find out if a class variable is available***"
   ]
  },
  {
   "cell_type": "code",
   "execution_count": 15,
   "metadata": {},
   "outputs": [
    {
     "name": "stdout",
     "output_type": "stream",
     "text": [
      "True\n",
      "False\n"
     ]
    }
   ],
   "source": [
    "class ExampleClass:\n",
    "    attr = 1\n",
    "\n",
    "print(hasattr(ExampleClass, 'attr'))\n",
    "print(hasattr(ExampleClass, 'prop'))"
   ]
  },
  {
   "cell_type": "markdown",
   "metadata": {},
   "source": [
    "- And one more example"
   ]
  },
  {
   "cell_type": "code",
   "execution_count": 16,
   "metadata": {},
   "outputs": [
    {
     "name": "stdout",
     "output_type": "stream",
     "text": [
      "True\n",
      "True\n",
      "False\n",
      "True\n"
     ]
    }
   ],
   "source": [
    "class ExampleClass:\n",
    "    a = 1\n",
    "    def __init__(self):\n",
    "        self.b = 2\n",
    "\n",
    "exampleObject = ExampleClass()\n",
    "\n",
    "print(hasattr(exampleObject, 'b'))\n",
    "print(hasattr(exampleObject, 'a'))\n",
    "print(hasattr(ExampleClass, 'b'))\n",
    "print(hasattr(ExampleClass, 'a'))"
   ]
  },
  {
   "cell_type": "markdown",
   "metadata": {},
   "source": [
    "### 6.1.4.1 OOP: Methods"
   ]
  },
  {
   "cell_type": "markdown",
   "metadata": {},
   "source": [
    "#### Methods in detail"
   ]
  },
  {
   "cell_type": "markdown",
   "metadata": {},
   "source": [
    "- As you already know, a ***method is a function embedded inside a class***.\n",
    "- There is one fundamental requirement - ***a method is obliged to have at least one parameter*** (there are no such thing as parameterless methods - a method may be invoked without an argument, but not declared without parameters).\n",
    "- The first (or only) parameter is usually named self. We suggest that you follow the convention - it's commonly used, and you'll cause a few surprises by using other names for it.\n",
    "- The name `self` suggests the parameter's purpose - ***it identifies the object for which the method is invoked***.\n",
    "- The example in the editor shows the difference."
   ]
  },
  {
   "cell_type": "code",
   "execution_count": 1,
   "metadata": {},
   "outputs": [
    {
     "name": "stdout",
     "output_type": "stream",
     "text": [
      "method: 1\n",
      "method: 2\n",
      "method: 3\n"
     ]
    }
   ],
   "source": [
    "class Classy:\n",
    "    def method(self, par):\n",
    "        print(\"method:\", par)\n",
    "\n",
    "obj = Classy()\n",
    "obj.method(1)\n",
    "obj.method(2)\n",
    "obj.method(3)"
   ]
  },
  {
   "cell_type": "markdown",
   "metadata": {},
   "source": [
    "- The `self` parameter is used ***to obtain access to the object's instance and class variables***."
   ]
  },
  {
   "cell_type": "code",
   "execution_count": 2,
   "metadata": {},
   "outputs": [
    {
     "name": "stdout",
     "output_type": "stream",
     "text": [
      "2 3\n"
     ]
    }
   ],
   "source": [
    "class Classy:\n",
    "    varia = 2\n",
    "    def method(self):\n",
    "        print(self.varia, self.var)\n",
    "\n",
    "obj = Classy()\n",
    "obj.var = 3\n",
    "obj.method()"
   ]
  },
  {
   "cell_type": "markdown",
   "metadata": {},
   "source": [
    "- The `self` parameter is also used ***to invoke other object/class methods from inside the class***."
   ]
  },
  {
   "cell_type": "code",
   "execution_count": 3,
   "metadata": {},
   "outputs": [
    {
     "name": "stdout",
     "output_type": "stream",
     "text": [
      "method\n",
      "other\n"
     ]
    }
   ],
   "source": [
    "class Classy:\n",
    "    def other(self):\n",
    "        print(\"other\")\n",
    "\n",
    "    def method(self):\n",
    "        print(\"method\")\n",
    "        self.other()\n",
    "\n",
    "obj = Classy()\n",
    "obj.method()"
   ]
  },
  {
   "cell_type": "markdown",
   "metadata": {},
   "source": [
    "- If you name a method like this: `__init__`, it won't be a regular method - it will be a ***constructor***.\n",
    "- If a class has a constructor, it is invoked automatically and implicitly when the object of the class is instantiated."
   ]
  },
  {
   "cell_type": "markdown",
   "metadata": {},
   "source": [
    "- The constructor:\n",
    "    - ***is obliged to have the `self` parameter*** (it's set automatically, as usual);\n",
    "    - ***may (but doesn't need to) have more parameters*** than just `self`; if this happens, the way in which the class name is used to create the object must reflect the `__init__` definition;\n",
    "    - ***can be used to set up the object***, i.e., properly initialize its internal state, create instance variables, instantiate any other objects if their existence is needed, etc."
   ]
  },
  {
   "cell_type": "code",
   "execution_count": 4,
   "metadata": {},
   "outputs": [
    {
     "name": "stdout",
     "output_type": "stream",
     "text": [
      "object\n"
     ]
    }
   ],
   "source": [
    "class Classy:\n",
    "    def __init__(self, value):\n",
    "        self.var = value\n",
    "\n",
    "obj1 = Classy(\"object\")\n",
    "\n",
    "print(obj1.var)"
   ]
  },
  {
   "cell_type": "markdown",
   "metadata": {},
   "source": [
    "- Note that the constructor:\n",
    "    - ***cannot return a value***, as it is designed to return a newly created object and nothing else;\n",
    "    - ***cannot be invoked directly either from the object or from inside the class*** (you can invoke a constructor from any of the object's superclasses, but we'll discuss this issue later.)"
   ]
  },
  {
   "cell_type": "markdown",
   "metadata": {},
   "source": [
    "- Everything we've said about ***property name mangling*** applies to method names, too - a method whose name starts with `__` is (partially) hidden.\n",
    "- The example shows this effect:"
   ]
  },
  {
   "cell_type": "code",
   "execution_count": 5,
   "metadata": {},
   "outputs": [
    {
     "name": "stdout",
     "output_type": "stream",
     "text": [
      "visible\n",
      "failed\n",
      "hidden\n"
     ]
    }
   ],
   "source": [
    "class Classy:\n",
    "    def visible(self):\n",
    "        print(\"visible\")\n",
    "    \n",
    "    def __hidden(self):\n",
    "        print(\"hidden\")\n",
    "\n",
    "obj = Classy()\n",
    "obj.visible()\n",
    "\n",
    "try:\n",
    "    obj.__hidden()\n",
    "except:\n",
    "    print(\"failed\")\n",
    "\n",
    "obj._Classy__hidden()"
   ]
  },
  {
   "cell_type": "markdown",
   "metadata": {},
   "source": [
    "#### The inner life of classes and objects"
   ]
  },
  {
   "cell_type": "markdown",
   "metadata": {},
   "source": [
    "- Each Python class and each Python object is pre-equipped with a set of useful attributes which can be used to examine its capabilities."
   ]
  },
  {
   "cell_type": "code",
   "execution_count": 6,
   "metadata": {},
   "outputs": [
    {
     "name": "stdout",
     "output_type": "stream",
     "text": [
      "{'var': 2}\n",
      "{'__module__': '__main__', 'varia': 1, '__init__': <function Classy.__init__ at 0x000001B60F336DC8>, 'method': <function Classy.method at 0x000001B60F336678>, '_Classy__hidden': <function Classy.__hidden at 0x000001B60F336EE8>, '__dict__': <attribute '__dict__' of 'Classy' objects>, '__weakref__': <attribute '__weakref__' of 'Classy' objects>, '__doc__': None}\n"
     ]
    }
   ],
   "source": [
    "class Classy:\n",
    "    varia = 1\n",
    "    def __init__(self):\n",
    "        self.var = 2\n",
    "\n",
    "    def method(self):\n",
    "        pass\n",
    "\n",
    "    def __hidden(self):\n",
    "        pass\n",
    "\n",
    "obj = Classy()\n",
    "\n",
    "print(obj.__dict__)\n",
    "print(Classy.__dict__)"
   ]
  },
  {
   "cell_type": "markdown",
   "metadata": {},
   "source": [
    "- `__dict__` is a dictionary. Another built-in property worth mentioning is __name__, which is a string.\n",
    "- The property contains ***the name of the class***. It's nothing exciting, just a string.\n",
    "- Note: the `__name__` attribute is absent from the object - ***it exists only inside classes***.m\n",
    "- If you want to ***find the class of a particular object***, you can use a function named `type()`, which is able (among other things) to find a class which has been used to instantiate any object."
   ]
  },
  {
   "cell_type": "code",
   "execution_count": 7,
   "metadata": {},
   "outputs": [
    {
     "name": "stdout",
     "output_type": "stream",
     "text": [
      "Classy\n",
      "Classy\n"
     ]
    }
   ],
   "source": [
    "class Classy:\n",
    "    pass\n",
    "\n",
    "print(Classy.__name__)\n",
    "obj = Classy()\n",
    "print(type(obj).__name__)"
   ]
  },
  {
   "cell_type": "markdown",
   "metadata": {},
   "source": [
    "- `__module__` is a string, too - it ***stores the name of the module which contains the definition of the class***."
   ]
  },
  {
   "cell_type": "code",
   "execution_count": 8,
   "metadata": {},
   "outputs": [
    {
     "name": "stdout",
     "output_type": "stream",
     "text": [
      "__main__\n",
      "__main__\n"
     ]
    }
   ],
   "source": [
    "class Classy:\n",
    "    pass\n",
    "\n",
    "print(Classy.__module__)\n",
    "obj = Classy()\n",
    "print(obj.__module__)"
   ]
  },
  {
   "cell_type": "markdown",
   "metadata": {},
   "source": [
    "- As you know, any module named `__main__` is actually not a module, but the ***file currently being run***."
   ]
  },
  {
   "cell_type": "markdown",
   "metadata": {},
   "source": [
    "- `__bases__` is a tuple. The ***tuple contains classes*** (not class names) which are direct superclasses for the class.\n",
    "\n",
    "- The order is the same as that used inside the class definition.\n",
    "\n",
    "- We'll show you only a very basic example, as we want to highlight ***how inheritance works***.\n",
    "\n",
    "- Moreover, we're going to show you how to use this attribute when we discuss the objective aspects of exceptions.\n",
    "\n",
    "- Note: ***only classes have this attribute*** - objects don't."
   ]
  },
  {
   "cell_type": "code",
   "execution_count": 9,
   "metadata": {},
   "outputs": [
    {
     "name": "stdout",
     "output_type": "stream",
     "text": [
      "( object )\n",
      "( object )\n",
      "( SuperOne SuperTwo )\n"
     ]
    }
   ],
   "source": [
    "class SuperOne:\n",
    "    pass\n",
    "\n",
    "class SuperTwo:\n",
    "    pass\n",
    "\n",
    "class Sub(SuperOne, SuperTwo):\n",
    "    pass\n",
    "\n",
    "\n",
    "def printBases(cls):\n",
    "    print('( ', end='')\n",
    "\n",
    "    for x in cls.__bases__:\n",
    "        print(x.__name__, end=' ')\n",
    "    print(')')\n",
    "\n",
    "\n",
    "printBases(SuperOne)\n",
    "printBases(SuperTwo)\n",
    "printBases(Sub)"
   ]
  },
  {
   "cell_type": "markdown",
   "metadata": {},
   "source": [
    "#### Reflection and introspection"
   ]
  },
  {
   "cell_type": "markdown",
   "metadata": {},
   "source": [
    "- All these means allow the Python programmer to perform two important activities specific to many objective languages. They are:\n",
    "    - `introspection`, which is the ability of a program to examine the type or properties of an object at runtime;\n",
    "    - `reflection`, which goes a step further, and is the ability of a program to manipulate the values, properties and/or functions of an object at runtime.\n",
    "- In other words, you don't have to know a complete class/object definition to manipulate the object, as the object and/or its class contain the metadata allowing you to recognize its features during program execution."
   ]
  },
  {
   "cell_type": "markdown",
   "metadata": {},
   "source": [
    "![](./images/51_introspection.png)"
   ]
  },
  {
   "cell_type": "markdown",
   "metadata": {},
   "source": [
    "#### Investigating classes"
   ]
  },
  {
   "cell_type": "markdown",
   "metadata": {},
   "source": [
    "- Both reflection and introspection enable a programmer to do anything with every object, no matter where it comes from."
   ]
  },
  {
   "cell_type": "code",
   "execution_count": 1,
   "metadata": {},
   "outputs": [
    {
     "name": "stdout",
     "output_type": "stream",
     "text": [
      "{'a': 1, 'b': 2, 'i': 3, 'ireal': 3.5, 'integer': 4, 'z': 5}\n",
      "{'a': 1, 'b': 2, 'i': 4, 'ireal': 3.5, 'integer': 5, 'z': 5}\n"
     ]
    }
   ],
   "source": [
    "class MyClass:\n",
    "    pass\n",
    "\n",
    "obj = MyClass()\n",
    "obj.a = 1\n",
    "obj.b = 2\n",
    "obj.i = 3\n",
    "obj.ireal = 3.5\n",
    "obj.integer = 4\n",
    "obj.z = 5\n",
    "\n",
    "def incIntsI(obj):\n",
    "    for name in obj.__dict__.keys():\n",
    "        if name.startswith('i'):\n",
    "            val = getattr(obj, name)\n",
    "            if isinstance(val, int):\n",
    "                setattr(obj, name, val + 1)\n",
    "\n",
    "print(obj.__dict__)\n",
    "incIntsI(obj)\n",
    "print(obj.__dict__)"
   ]
  },
  {
   "cell_type": "markdown",
   "metadata": {},
   "source": [
    "- The function named `incIntsI()` gets an object of any class, scans its contents in order to find all integer attributes with names starting with `i`, and increments them by one."
   ]
  },
  {
   "cell_type": "markdown",
   "metadata": {},
   "source": [
    "### 6.1.5.1 OOP Fundamentals: Inheritance"
   ]
  },
  {
   "cell_type": "markdown",
   "metadata": {},
   "source": [
    "#### Inheritance - why and how?"
   ]
  },
  {
   "cell_type": "code",
   "execution_count": 1,
   "metadata": {},
   "outputs": [
    {
     "name": "stdout",
     "output_type": "stream",
     "text": [
      "<__main__.Star object at 0x059D0D50>\n"
     ]
    }
   ],
   "source": [
    "class Star:\n",
    "    def __init__(self, name, galaxy):\n",
    "        self.name = name\n",
    "        self.galaxy = galaxy\n",
    "\n",
    "sun = Star(\"Sun\", \"Milky Way\")\n",
    "print(sun)"
   ]
  },
  {
   "cell_type": "markdown",
   "metadata": {},
   "source": [
    "- When Python needs any class/object to be presented as a string (putting an object as an argument in the `print()` function invocation fits this condition) it tries to invoke a method named `__str__()` from the object and to use the string it returns.\n",
    "\n",
    "- The default `__str__()` method returns the previous string - ugly and not very informative. You can change it just by defining your own method of the name."
   ]
  },
  {
   "cell_type": "code",
   "execution_count": 2,
   "metadata": {},
   "outputs": [
    {
     "name": "stdout",
     "output_type": "stream",
     "text": [
      "Sun in Milky Way\n"
     ]
    }
   ],
   "source": [
    "class Star:\n",
    "    def __init__(self, name, galaxy):\n",
    "        self.name = name\n",
    "        self.galaxy = galaxy\n",
    "\n",
    "    def __str__(self):\n",
    "        return self.name + ' in ' + self.galaxy\n",
    "\n",
    "sun = Star(\"Sun\", \"Milky Way\")\n",
    "print(sun)"
   ]
  },
  {
   "cell_type": "markdown",
   "metadata": {},
   "source": [
    "Let's define the term for our purposes:\n",
    "\n",
    "- Inheritance is a common practice (in object programming) of ***passing attributes and methods from the superclass (defined and existing) to a newly created class, called the subclass***.\n",
    "\n",
    "- In other words, inheritance is ***a way of building a new class, not from scratch, but by using an already defined repertoire of traits***. The new class inherits (and this is the key) all the already existing equipment, but is able to add some new ones if needed.\n",
    "\n",
    "- Thanks to that, it's possible to ***build more specialized (more concrete) classes*** using some sets of predefined general rules and behaviors."
   ]
  },
  {
   "cell_type": "markdown",
   "metadata": {},
   "source": [
    "- A very simple example of two-level inheritance is presented here:"
   ]
  },
  {
   "cell_type": "code",
   "execution_count": null,
   "metadata": {},
   "outputs": [],
   "source": [
    "class Vehicle:\n",
    "    pass\n",
    "\n",
    "class LandVehicle(Vehicle):\n",
    "    pass\n",
    "\n",
    "class TrackedVehicle(LandVehicle):\n",
    "    pass"
   ]
  },
  {
   "cell_type": "markdown",
   "metadata": {},
   "source": [
    "We can say that:\n",
    "\n",
    "- The Vehicle class is the superclass for both the LandVehicle and TrackedVehicle classes;\n",
    "- The LandVehicle class is a subclass of Vehicle and a superclass of TrackedVehicle at the same time;\n",
    "- The TrackedVehicle class is a subclass of both the Vehicle and LandVehicle classes."
   ]
  },
  {
   "cell_type": "markdown",
   "metadata": {},
   "source": [
    "#### Inheritance: issubclass()"
   ]
  },
  {
   "cell_type": "markdown",
   "metadata": {},
   "source": [
    "- Python offers a function which is able to ***identify a relationship between two classes***, and although its diagnosis isn't complex, it can ***check if a particular class is a subclass of any other class***."
   ]
  },
  {
   "cell_type": "markdown",
   "metadata": {},
   "source": [
    "- This is how it looks:"
   ]
  },
  {
   "cell_type": "code",
   "execution_count": null,
   "metadata": {},
   "outputs": [],
   "source": [
    "issubclass(ClassOne, ClassTwo)"
   ]
  },
  {
   "cell_type": "markdown",
   "metadata": {},
   "source": [
    "- The function returns True if `ClassOne` is a subclass of `ClassTwo`, and False otherwise."
   ]
  },
  {
   "cell_type": "code",
   "execution_count": 1,
   "metadata": {},
   "outputs": [
    {
     "name": "stdout",
     "output_type": "stream",
     "text": [
      "True\tFalse\tFalse\t\n",
      "True\tTrue\tFalse\t\n",
      "True\tTrue\tTrue\t\n"
     ]
    }
   ],
   "source": [
    "class Vehicle:\n",
    "    pass\n",
    "\n",
    "class LandVehicle(Vehicle):\n",
    "    pass\n",
    "\n",
    "class TrackedVehicle(LandVehicle):\n",
    "    pass\n",
    "\n",
    "\n",
    "for cls1 in [Vehicle, LandVehicle, TrackedVehicle]:\n",
    "    for cls2 in [Vehicle, LandVehicle, TrackedVehicle]:\n",
    "        print(issubclass(cls1, cls2), end=\"\\t\")\n",
    "    print()"
   ]
  },
  {
   "cell_type": "markdown",
   "metadata": {},
   "source": [
    "- There is one important observation to make: ***each class is considered to be a subclass of itself***."
   ]
  },
  {
   "cell_type": "markdown",
   "metadata": {},
   "source": [
    "#### Inheritance: isinstance()"
   ]
  },
  {
   "cell_type": "markdown",
   "metadata": {},
   "source": [
    "- As you already know, ***an object is an incarnation of a class***. This means that the object is like a cake baked using a recipe which is included inside the class.\n",
    "- In other words, whether it is an object of a certain class or not.\n",
    "- Such a fact could be detected by the function named isinstance():"
   ]
  },
  {
   "cell_type": "code",
   "execution_count": null,
   "metadata": {},
   "outputs": [],
   "source": [
    "isinstance(objectName, ClassName)"
   ]
  },
  {
   "cell_type": "markdown",
   "metadata": {},
   "source": [
    "- Being an instance of a class means that the object (the cake) has been prepared using a recipe contained in either the class or one of its superclasses."
   ]
  },
  {
   "cell_type": "code",
   "execution_count": 2,
   "metadata": {},
   "outputs": [
    {
     "name": "stdout",
     "output_type": "stream",
     "text": [
      "True\tFalse\tFalse\t\n",
      "True\tTrue\tFalse\t\n",
      "True\tTrue\tTrue\t\n"
     ]
    }
   ],
   "source": [
    "class Vehicle:\n",
    "    pass\n",
    "\n",
    "class LandVehicle(Vehicle):\n",
    "    pass\n",
    "\n",
    "class TrackedVehicle(LandVehicle):\n",
    "    pass\n",
    "\n",
    "\n",
    "myVehicle = Vehicle()\n",
    "myLandVehicle = LandVehicle()\n",
    "myTrackedVehicle = TrackedVehicle()\n",
    "\n",
    "for obj in [myVehicle, myLandVehicle, myTrackedVehicle]:\n",
    "    for cls in [Vehicle, LandVehicle, TrackedVehicle]:\n",
    "        print(isinstance(obj, cls), end=\"\\t\")\n",
    "    print()"
   ]
  },
  {
   "cell_type": "markdown",
   "metadata": {},
   "source": [
    "#### Inheritance: the is operatorm"
   ]
  },
  {
   "cell_type": "markdown",
   "metadata": {},
   "source": [
    "- There is also a Python operator worth mentioning, as it refers directly to objects - here it is:"
   ]
  },
  {
   "cell_type": "code",
   "execution_count": null,
   "metadata": {},
   "outputs": [],
   "source": [
    "objectOne is objectTwo"
   ]
  },
  {
   "cell_type": "markdown",
   "metadata": {},
   "source": [
    "- ***The `is` operator checks whether two variables (`objectOne` and `objectTwo` here) refer to the same object***."
   ]
  },
  {
   "cell_type": "markdown",
   "metadata": {},
   "source": [
    "- Don't forget that ***variables don't store the objects themselves, but only the handles pointing to the internal Python memory***."
   ]
  },
  {
   "cell_type": "markdown",
   "metadata": {},
   "source": [
    "- Assigning a value of an object variable to another variable doesn't copy the object, but only its handle. This is why an operator like `is` may be very useful in particular circumstances."
   ]
  },
  {
   "cell_type": "code",
   "execution_count": 3,
   "metadata": {},
   "outputs": [
    {
     "name": "stdout",
     "output_type": "stream",
     "text": [
      "False\n",
      "False\n",
      "True\n",
      "1 2 1\n",
      "True False\n"
     ]
    }
   ],
   "source": [
    "class SampleClass:\n",
    "    def __init__(self, val):\n",
    "        self.val = val\n",
    "\n",
    "ob1 = SampleClass(0)\n",
    "ob2 = SampleClass(2)\n",
    "ob3 = ob1\n",
    "ob3.val += 1\n",
    "\n",
    "print(ob1 is ob2)\n",
    "print(ob2 is ob3)\n",
    "print(ob3 is ob1)\n",
    "print(ob1.val, ob2.val, ob3.val)\n",
    "\n",
    "str1 = \"Mary had a little \"\n",
    "str2 = \"Mary had a little lamb\"\n",
    "str1 += \"lamb\"\n",
    "\n",
    "print(str1 == str2, str1 is str2)"
   ]
  },
  {
   "cell_type": "markdown",
   "metadata": {},
   "source": [
    "#### How Python finds properties and methods"
   ]
  },
  {
   "cell_type": "code",
   "execution_count": 4,
   "metadata": {},
   "outputs": [
    {
     "name": "stdout",
     "output_type": "stream",
     "text": [
      "My name is Andy.\n"
     ]
    }
   ],
   "source": [
    "class Super:\n",
    "    def __init__(self, name):\n",
    "        self.name = name\n",
    "\n",
    "    def __str__(self):\n",
    "        return \"My name is \" + self.name + \".\"\n",
    "\n",
    "class Sub(Super):\n",
    "    def __init__(self, name):\n",
    "        Super.__init__(self, name)\n",
    "\n",
    "\n",
    "obj = Sub(\"Andy\")\n",
    "\n",
    "print(obj)"
   ]
  },
  {
   "cell_type": "markdown",
   "metadata": {},
   "source": [
    "- we make use of the super() function, which ***ccesses the superclass without needing to know its name***"
   ]
  },
  {
   "cell_type": "markdown",
   "metadata": {},
   "source": [
    "- Note: you can use this mechanism not only to invoke the superclass constructor, but also to get access to any of the resources available inside the superclass."
   ]
  },
  {
   "cell_type": "code",
   "execution_count": 5,
   "metadata": {},
   "outputs": [
    {
     "name": "stdout",
     "output_type": "stream",
     "text": [
      "My name is Andy.\n"
     ]
    }
   ],
   "source": [
    "class Super:\n",
    "    def __init__(self, name):\n",
    "        self.name = name\n",
    "\n",
    "    def __str__(self):\n",
    "        return \"My name is \" + self.name + \".\"\n",
    "\n",
    "class Sub(Super):\n",
    "    def __init__(self, name):\n",
    "        super().__init__(name)\n",
    "\n",
    "\n",
    "obj = Sub(\"Andy\")\n",
    "\n",
    "print(obj)"
   ]
  },
  {
   "cell_type": "markdown",
   "metadata": {},
   "source": [
    "- Let's try to do something similar, but with properties (more precisely: with class variables)."
   ]
  },
  {
   "cell_type": "code",
   "execution_count": 6,
   "metadata": {},
   "outputs": [
    {
     "name": "stdout",
     "output_type": "stream",
     "text": [
      "2\n",
      "1\n"
     ]
    }
   ],
   "source": [
    "# Testing properties: class variables\n",
    "class Super:\n",
    "    supVar = 1\n",
    "\n",
    "class Sub(Super):\n",
    "    subVar = 2\n",
    "\n",
    "obj = Sub()\n",
    "\n",
    "print(obj.subVar)\n",
    "print(obj.supVar)"
   ]
  },
  {
   "cell_type": "markdown",
   "metadata": {},
   "source": [
    "- The same effect can be observed with ***instance variables*** - take a look at the second example in the editor."
   ]
  },
  {
   "cell_type": "code",
   "execution_count": 7,
   "metadata": {},
   "outputs": [
    {
     "name": "stdout",
     "output_type": "stream",
     "text": [
      "12\n",
      "11\n"
     ]
    }
   ],
   "source": [
    "# Testing properties: instance variables\n",
    "class Super:\n",
    "    def __init__(self):\n",
    "        self.supVar = 11\n",
    "\n",
    "class Sub(Super):\n",
    "    def __init__(self):\n",
    "        super().__init__()\n",
    "        self.subVar = 12\n",
    "\n",
    "obj = Sub()\n",
    "\n",
    "print(obj.subVar)\n",
    "print(obj.supVar)"
   ]
  },
  {
   "cell_type": "markdown",
   "metadata": {},
   "source": [
    "- When you try to access any object's entity, Python will try to (in this order):\n",
    "    - find it `inside the object` itself;\n",
    "    - find it `in all classes` involved in the object's inheritance line from bottom to top;\n",
    "- If both of the above fail, an exception (`AttributeError`) is raised."
   ]
  },
  {
   "cell_type": "code",
   "execution_count": 8,
   "metadata": {},
   "outputs": [
    {
     "name": "stdout",
     "output_type": "stream",
     "text": [
      "100 101 102\n",
      "200 201 202\n",
      "300 301 302\n"
     ]
    }
   ],
   "source": [
    "class Level1:\n",
    "    varia1 = 100\n",
    "    def __init__(self):\n",
    "        self.var1 = 101\n",
    "\n",
    "    def fun1(self):\n",
    "        return 102\n",
    "\n",
    "\n",
    "class Level2(Level1):\n",
    "    varia2 = 200\n",
    "    def __init__(self):\n",
    "        super().__init__()\n",
    "        self.var2 = 201\n",
    "    \n",
    "    def fun2(self):\n",
    "        return 202\n",
    "\n",
    "\n",
    "class Level3(Level2):\n",
    "    varia3 = 300\n",
    "    def __init__(self):\n",
    "        super().__init__()\n",
    "        self.var3 = 301\n",
    "\n",
    "    def fun3(self):\n",
    "        return 302\n",
    "\n",
    "\n",
    "obj = Level3()\n",
    "\n",
    "print(obj.varia1, obj.var1, obj.fun1())\n",
    "print(obj.varia2, obj.var2, obj.fun2())\n",
    "print(obj.varia3, obj.var3, obj.fun3())"
   ]
  },
  {
   "cell_type": "markdown",
   "metadata": {},
   "source": [
    "- Multiple inheritance occurs when a class has more than one superclass."
   ]
  },
  {
   "cell_type": "code",
   "execution_count": 9,
   "metadata": {},
   "outputs": [
    {
     "name": "stdout",
     "output_type": "stream",
     "text": [
      "10 11\n",
      "20 21\n"
     ]
    }
   ],
   "source": [
    "class SuperA:\n",
    "    varA = 10\n",
    "    def funA(self):\n",
    "        return 11\n",
    "\n",
    "class SuperB:\n",
    "    varB = 20\n",
    "    def funB(self):\n",
    "        return 21\n",
    "\n",
    "class Sub(SuperA, SuperB):\n",
    "    pass\n",
    "\n",
    "obj = Sub()\n",
    "\n",
    "print(obj.varA, obj.funA())\n",
    "print(obj.varB, obj.funB())"
   ]
  },
  {
   "cell_type": "markdown",
   "metadata": {},
   "source": [
    "- The entity defined later (in the inheritance sense) overrides the same entity defined earlier."
   ]
  },
  {
   "cell_type": "code",
   "execution_count": 10,
   "metadata": {},
   "outputs": [
    {
     "name": "stdout",
     "output_type": "stream",
     "text": [
      "200 201\n"
     ]
    }
   ],
   "source": [
    "class Level1:\n",
    "    var = 100\n",
    "    def fun(self):\n",
    "        return 101\n",
    "\n",
    "class Level2(Level1):\n",
    "    var = 200\n",
    "    def fun(self):\n",
    "        return 201\n",
    "\n",
    "class Level3(Level2):\n",
    "    pass\n",
    "\n",
    "obj = Level3()\n",
    "\n",
    "print(obj.var, obj.fun())\n"
   ]
  },
  {
   "cell_type": "markdown",
   "metadata": {},
   "source": [
    "- We can also say that Python looks for an entity from bottom to top, and is fully satisfied with the first entity of the desired name."
   ]
  },
  {
   "cell_type": "markdown",
   "metadata": {},
   "source": [
    "- We can say that Python looks for object components in the following order:\n",
    "    - ***inside the object*** itself;\n",
    "    - ***in its superclasses***, from bottom to top;\n",
    "    - if there is more than one class on a particular inheritance path, Python scans them from left to right."
   ]
  },
  {
   "cell_type": "code",
   "execution_count": 11,
   "metadata": {},
   "outputs": [
    {
     "name": "stdout",
     "output_type": "stream",
     "text": [
      "L LL RR Left\n"
     ]
    }
   ],
   "source": [
    "class Left:\n",
    "    var = \"L\"\n",
    "    varLeft = \"LL\"\n",
    "    def fun(self):\n",
    "        return \"Left\"\n",
    "\n",
    "\n",
    "class Right:\n",
    "    var = \"R\"\n",
    "    varRight = \"RR\"\n",
    "    def fun(self):\n",
    "        return \"Right\"\n",
    "\n",
    "class Sub(Left, Right):\n",
    "    pass\n",
    "\n",
    "\n",
    "obj = Sub()\n",
    "\n",
    "print(obj.var, obj.varLeft, obj.varRight, obj.fun())"
   ]
  },
  {
   "cell_type": "markdown",
   "metadata": {},
   "source": [
    "#### How to build a hierarchy of classes"
   ]
  },
  {
   "cell_type": "markdown",
   "metadata": {},
   "source": [
    "- Note: the situation in which ***the subclass is able to modify its superclass behavior (just like in the example) is called polymorphism***. The word comes from Greek (polys: \"many, much\" and morphe, \"form, shape\"), which means that one and the same class can take various forms depending on the redefinitions done by any of its subclasses.\n",
    "\n",
    "- The method, redefined in any of the superclasses, thus changing the behavior of the superclass, is called ***virtual***.\n",
    "\n",
    "- In other words, no class is given once and for all. Each class's behavior may be modified at any time by any of its subclasses."
   ]
  },
  {
   "cell_type": "code",
   "execution_count": 12,
   "metadata": {},
   "outputs": [
    {
     "name": "stdout",
     "output_type": "stream",
     "text": [
      "doit from One\n",
      "doit from Two\n"
     ]
    }
   ],
   "source": [
    "class One:\n",
    "    def doit(self):\n",
    "        print(\"doit from One\")\n",
    "\n",
    "    def doanything(self):\n",
    "        self.doit()\n",
    "\n",
    "class Two(One):\n",
    "    def doit(self):\n",
    "        print(\"doit from Two\")\n",
    "\n",
    "one = One()\n",
    "two = Two()\n",
    "\n",
    "one.doanything()\n",
    "two.doanything()"
   ]
  },
  {
   "cell_type": "markdown",
   "metadata": {},
   "source": [
    "- Can you see what's wrong with the following code?"
   ]
  },
  {
   "cell_type": "code",
   "execution_count": null,
   "metadata": {},
   "outputs": [],
   "source": [
    "import time\n",
    "\n",
    "class TrackedVehicle:\n",
    "    def controltrack(left, stop):\n",
    "        pass\n",
    "\n",
    "    def turn(left):\n",
    "        controltrack(left, True)\n",
    "        time.sleep(0.25)\n",
    "        controltrack(left, False)\n",
    "\n",
    "\n",
    "class WheeledVehicle:\n",
    "    def turnfrontwheels(left, on):\n",
    "        pass\n",
    "\n",
    "    def turn(left):\n",
    "        turnfrontwheels(left, True)\n",
    "        time.sleep(0.25)\n",
    "        turnfrontwheel(left, False)"
   ]
  },
  {
   "cell_type": "markdown",
   "metadata": {},
   "source": [
    "- The `turn()` methods look too similar to leave them in this form.\n",
    "\n",
    "- Let's rebuild the code - we're going to introduce a superclass to gather all the similar aspects of the driving vehicles, moving all the specifics to the subclasses."
   ]
  },
  {
   "cell_type": "markdown",
   "metadata": {},
   "source": [
    "#### abstract method"
   ]
  },
  {
   "cell_type": "code",
   "execution_count": null,
   "metadata": {},
   "outputs": [],
   "source": [
    "import time\n",
    "\n",
    "class Vehicle:\n",
    "    def changedirection(left, on):\n",
    "        pass\n",
    "\n",
    "    def turn(left):\n",
    "        changedirection(left, True)\n",
    "        time.sleep(0.25)\n",
    "        changedirection(left, False)\n",
    "\n",
    "class TrackedVehicle(Vehicle):\n",
    "    def controltrack(left, stop):\n",
    "        pass\n",
    "\n",
    "    def changedirection(left, on):\n",
    "        controltrack(left, on)\n",
    "\n",
    "class WheeledVehicle(Vehicle):\n",
    "    def turnfrontwheels(left, on):\n",
    "        pass\n",
    "\n",
    "    def changedirection(left, on):\n",
    "        turnfrontwheels(left, on)"
   ]
  },
  {
   "cell_type": "markdown",
   "metadata": {},
   "source": [
    "- This is what we've done:\n",
    "\n",
    "    - we defined a superclass named `Vehicle`, which uses the `turn()` method to implement a general scheme of turning, while the turning itself is done by a method named `changedirection()`; note: the former method is empty, as we are going to put all the details into the subclass (such a method is often called an ***abstract method***, as it only demonstrates some possibility which will be instantiated later)\n",
    "    - we defined a subclass named `TrackedVehicle` (note: it's derived from the `Vehicle` class) which instantiated the `changedirection()` method by using the specific (concrete) method named `controltrack()`\n",
    "    - respectively, the subclass named `WheeledVehicle` does the same trick, but uses the `turnfrontwheel()` method to force the vehicle to turn."
   ]
  },
  {
   "cell_type": "markdown",
   "metadata": {},
   "source": [
    "- The most important advantage (omitting readability issues) is that this form of code enables you to implement a brand new turning algorithm just by modifying the turn() method, which can be done in just one place, as all the vehicles will obey it.\n",
    "\n",
    "- This is how ***polymorphism helps the developer to keep the code clean and consistent***."
   ]
  },
  {
   "cell_type": "markdown",
   "metadata": {},
   "source": [
    "#### Composition "
   ]
  },
  {
   "cell_type": "markdown",
   "metadata": {},
   "source": [
    "- ***Composition is the process of composing an object using other different objects***. The objects used in the composition deliver a set of desired traits (properties and/or methods) so we can say that they act like blocks used to build a more complicated structure.\n",
    "\n",
    "- It can be said that:\n",
    "\n",
    "    - ***inheritance extends a class's capabilities*** by adding new components and modifying existing ones; in other words, the complete recipe is contained inside the class itself and all its ancestors; the object takes all the class's belongings and makes use of them;\n",
    "    - ***composition projects a class as a container*** able to store and use other objects (derived from other classes) where each of the objects implements a part of a desired class's behavior."
   ]
  },
  {
   "cell_type": "code",
   "execution_count": 2,
   "metadata": {},
   "outputs": [
    {
     "name": "stdout",
     "output_type": "stream",
     "text": [
      "wheels:  True True\n",
      "wheels:  True False\n",
      "tracks:  False True\n",
      "tracks:  False False\n"
     ]
    }
   ],
   "source": [
    "import time\n",
    "\n",
    "class Tracks:\n",
    "    def changedirection(self, left, on):\n",
    "        print(\"tracks: \", left, on)\n",
    "\n",
    "class Wheels:\n",
    "    def changedirection(self, left, on):\n",
    "        print(\"wheels: \", left, on)\n",
    "\n",
    "class Vehicle:\n",
    "    def __init__(self, controller):\n",
    "        self.controller = controller\n",
    "\n",
    "    def turn(self, left):\n",
    "        self.controller.changedirection(left, True)\n",
    "        time.sleep(0.25)\n",
    "        self.controller.changedirection(left, False)\n",
    "\n",
    "wheeled = Vehicle(Wheels())\n",
    "tracked = Vehicle(Tracks())\n",
    "\n",
    "wheeled.turn(True)\n",
    "tracked.turn(False)"
   ]
  },
  {
   "cell_type": "markdown",
   "metadata": {},
   "source": [
    "- here are two classes named `Tracks` and `Wheels` - they know how to control the vehicle's direction. There is also a class named `Vehicle` which can use any of the available controllers (the two already defined, or any other defined in the future) - the `controller` itself is passed to the class during initialization.\n",
    "\n",
    "- In this way, the vehicle's ability to turn is composed using an external object, not implemented inside the Vehicle class."
   ]
  },
  {
   "cell_type": "markdown",
   "metadata": {},
   "source": [
    "#### Single inheritance vs. multiple inheritance"
   ]
  },
  {
   "cell_type": "markdown",
   "metadata": {},
   "source": [
    "- Don't forget that:\n",
    "\n",
    "    - a single inheritance class is always simpler, safer, and easier to understand and maintain;\n",
    "\n",
    "    - multiple inheritance is always risky, as you have many more opportunities to make a mistake in identifying these parts of the superclasses which will effectively influence the new class;\n",
    "\n",
    "    - multiple inheritance may make overriding extremely tricky; moreover, using the super() function becomes ambiguous;\n",
    "\n",
    "    - multiple inheritance violates the single responsibility principle (more details here: https://en.wikipedia.org/wiki/Single_responsibility_principle) as it makes a new class of two (or more) classes that know nothing about each other;\n",
    "\n",
    "    - we strongly suggest multiple inheritance as the last of all possible solutions - if you really need the many different functionalities offered by different classes, composition may be a better alternative."
   ]
  },
  {
   "cell_type": "markdown",
   "metadata": {},
   "source": [
    "### 6.1.6.1 Exceptions once again"
   ]
  },
  {
   "cell_type": "markdown",
   "metadata": {},
   "source": [
    "#### More about exceptions"
   ]
  },
  {
   "cell_type": "code",
   "execution_count": 2,
   "metadata": {},
   "outputs": [
    {
     "name": "stdout",
     "output_type": "stream",
     "text": [
      "Everything went fine\n",
      "0.5\n",
      "Division failed\n",
      "None\n"
     ]
    }
   ],
   "source": [
    "def reciprocal(n):\n",
    "    try:\n",
    "        n = 1 / n\n",
    "    except ZeroDivisionError:\n",
    "        print(\"Division failed\")\n",
    "        return None\n",
    "    else:\n",
    "        print(\"Everything went fine\")\n",
    "        return n\n",
    "\n",
    "print(reciprocal(2))\n",
    "print(reciprocal(0))"
   ]
  },
  {
   "cell_type": "code",
   "execution_count": 3,
   "metadata": {},
   "outputs": [
    {
     "name": "stdout",
     "output_type": "stream",
     "text": [
      "Everything went fine\n",
      "It's time to say goodbye\n",
      "0.5\n",
      "Division failed\n",
      "It's time to say goodbye\n",
      "None\n"
     ]
    }
   ],
   "source": [
    "def reciprocal(n):\n",
    "    try:\n",
    "        n = 1 / n\n",
    "    except ZeroDivisionError:\n",
    "        print(\"Division failed\")\n",
    "        n = None\n",
    "    else:\n",
    "        print(\"Everything went fine\")\n",
    "    finally:\n",
    "        print(\"It's time to say goodbye\")\n",
    "        return n\n",
    "\n",
    "print(reciprocal(2))\n",
    "print(reciprocal(0))"
   ]
  },
  {
   "cell_type": "markdown",
   "metadata": {},
   "source": [
    "#### Exceptions are classes"
   ]
  },
  {
   "cell_type": "markdown",
   "metadata": {},
   "source": [
    "- As you can see, the `except` statement is extended, and contains an additional phrase starting with the `as` keyword, followed by an identifier. The identifier is designed to catch the exception object so you can analyze its nature and draw proper conclusions."
   ]
  },
  {
   "cell_type": "code",
   "execution_count": 4,
   "metadata": {},
   "outputs": [
    {
     "name": "stdout",
     "output_type": "stream",
     "text": [
      "invalid literal for int() with base 10: 'Hello!'\n",
      "invalid literal for int() with base 10: 'Hello!'\n"
     ]
    }
   ],
   "source": [
    "try:\n",
    "    i = int(\"Hello!\")\n",
    "except Exception as e:\n",
    "    print(e)\n",
    "    print(e.__str__())"
   ]
  },
  {
   "cell_type": "markdown",
   "metadata": {},
   "source": [
    "- As a tree is a perfect example of a recursive data structure, a recursion seems to be the best tool to traverse through it. The `printExcTree()` function takes two arguments:\n",
    "\n",
    "    - a point inside the tree from which we start traversing the tree;\n",
    "    - a nesting level (we'll use it to build a simplified drawing of the tree's branches)\n",
    "    \n",
    "- Let's start from the tree's root - the root of Python's exception classes is the `BaseException` class (it's a superclass of all other exceptions).\n",
    "\n",
    "- For each of the encountered classes, perform the same set of operations:\n",
    "\n",
    "    - print its name, taken from the `__name__ `property;\n",
    "    - iterate through the list of subclasses delivered by the `__subclasses__()` method, and recursively invoke the `printExcTree()` function, incrementing the nesting level respectively."
   ]
  },
  {
   "cell_type": "code",
   "execution_count": null,
   "metadata": {},
   "outputs": [],
   "source": [
    "def printExcTree(thisclass, nest = 0):\n",
    "    if nest > 1:\n",
    "        print(\"   |\" * (nest - 1), end=\"\")\n",
    "    if nest > 0:\n",
    "        print(\"   +---\", end=\"\")\n",
    "\n",
    "    print(thisclass.__name__)\n",
    "\n",
    "    for subclass in thisclass.__subclasses__():\n",
    "        printExcTree(subclass, nest + 1)\n",
    "\n",
    "printExcTree(BaseException)"
   ]
  },
  {
   "cell_type": "markdown",
   "metadata": {},
   "source": [
    "```\n",
    "BaseException\n",
    "   +---Exception\n",
    "   |   +---TypeError\n",
    "   |   +---StopAsyncIteration\n",
    "   |   +---StopIteration\n",
    "   |   +---ImportError\n",
    "   |   |   +---ModuleNotFoundError\n",
    "   |   |   +---ZipImportError\n",
    "   |   +---OSError\n",
    "   |   |   +---ConnectionError\n",
    "   |   |   |   +---BrokenPipeError\n",
    "   |   |   |   +---ConnectionAbortedError\n",
    "   |   |   |   +---ConnectionRefusedError\n",
    "   |   |   |   +---ConnectionResetError\n",
    "   |   |   +---BlockingIOError\n",
    "   |   |   +---ChildProcessError\n",
    "   |   |   +---FileExistsError\n",
    "   |   |   +---FileNotFoundError\n",
    "   |   |   +---IsADirectoryError\n",
    "   |   |   +---NotADirectoryError\n",
    "   |   |   +---InterruptedError\n",
    "   |   |   +---PermissionError\n",
    "   |   |   +---ProcessLookupError\n",
    "   |   |   +---TimeoutError\n",
    "   |   |   +---UnsupportedOperation\n",
    "   |   |   +---herror\n",
    "   |   |   +---gaierror\n",
    "   |   |   +---timeout\n",
    "   |   |   +---Error\n",
    "   |   |   |   +---SameFileError\n",
    "   |   |   +---SpecialFileError\n",
    "   |   |   +---ExecError\n",
    "   |   |   +---ReadError\n",
    "   |   +---EOFError\n",
    "   |   +---RuntimeError\n",
    "   |   |   +---RecursionError\n",
    "   |   |   +---NotImplementedError\n",
    "   |   |   +---_DeadlockError\n",
    "   |   |   +---BrokenBarrierError\n",
    "   |   +---NameError\n",
    "   |   |   +---UnboundLocalError\n",
    "   |   +---AttributeError\n",
    "   |   +---SyntaxError\n",
    "   |   |   +---IndentationError\n",
    "   |   |   |   +---TabError\n",
    "   |   +---LookupError\n",
    "   |   |   +---IndexError\n",
    "   |   |   +---KeyError\n",
    "   |   |   +---CodecRegistryError\n",
    "   |   +---ValueError\n",
    "   |   |   +---UnicodeError\n",
    "   |   |   |   +---UnicodeEncodeError\n",
    "   |   |   |   +---UnicodeDecodeError\n",
    "   |   |   |   +---UnicodeTranslateError\n",
    "   |   |   +---UnsupportedOperation\n",
    "   |   +---AssertionError\n",
    "   |   +---ArithmeticError\n",
    "   |   |   +---FloatingPointError\n",
    "   |   |   +---OverflowError\n",
    "   |   |   +---ZeroDivisionError\n",
    "   |   +---SystemError\n",
    "   |   |   +---CodecRegistryError\n",
    "   |   +---ReferenceError\n",
    "   |   +---BufferError\n",
    "   |   +---MemoryError\n",
    "   |   +---Warning\n",
    "   |   |   +---UserWarning\n",
    "   |   |   +---DeprecationWarning\n",
    "   |   |   +---PendingDeprecationWarning\n",
    "   |   |   +---SyntaxWarning\n",
    "   |   |   +---RuntimeWarning\n",
    "   |   |   +---FutureWarning\n",
    "   |   |   +---ImportWarning\n",
    "   |   |   +---UnicodeWarning\n",
    "   |   |   +---BytesWarning\n",
    "   |   |   +---ResourceWarning\n",
    "   |   +---error\n",
    "   |   +---Verbose\n",
    "   |   +---Error\n",
    "   |   +---TokenError\n",
    "   |   +---StopTokenizing\n",
    "   |   +---Empty\n",
    "   |   +---Full\n",
    "   |   +---_OptionError\n",
    "   |   +---TclError\n",
    "   |   +---SubprocessError\n",
    "   |   |   +---CalledProcessError\n",
    "   |   |   +---TimeoutExpired\n",
    "   |   +---Error\n",
    "   |   |   +---NoSectionError\n",
    "   |   |   +---DuplicateSectionError\n",
    "   |   |   +---DuplicateOptionError\n",
    "   |   |   +---NoOptionError\n",
    "   |   |   +---InterpolationError\n",
    "   |   |   |   +---InterpolationMissingOptionError\n",
    "   |   |   |   +---InterpolationSyntaxError\n",
    "   |   |   |   +---InterpolationDepthError\n",
    "   |   |   +---ParsingError\n",
    "   |   |   |   +---MissingSectionHeaderError\n",
    "   |   +---InvalidConfigType\n",
    "   |   +---InvalidConfigSet\n",
    "   |   +---InvalidFgBg\n",
    "   |   +---InvalidTheme\n",
    "   |   +---EndOfBlock\n",
    "   |   +---BdbQuit\n",
    "   |   +---error\n",
    "   |   +---_Stop\n",
    "   |   +---PickleError\n",
    "   |   |   +---PicklingError\n",
    "   |   |   +---UnpicklingError\n",
    "   |   +---_GiveupOnSendfile\n",
    "   |   +---error\n",
    "   |   +---LZMAError\n",
    "   |   +---RegistryError\n",
    "   |   +---ErrorDuringImport\n",
    "   +---GeneratorExit\n",
    "   +---SystemExit\n",
    "   +---KeyboardInterrupt\n",
    "```"
   ]
  },
  {
   "cell_type": "markdown",
   "metadata": {},
   "source": [
    "#### Detailed anatomy of exceptions"
   ]
  },
  {
   "cell_type": "markdown",
   "metadata": {},
   "source": [
    "- The `BaseException` class introduces a property named `args`. It's a `tuple designed to gather all arguments passed to the class constructor`. It is empty if the construct has been invoked without any arguments, or contains just one element when the constructor gets one argument (we don't count the `self` argument here), and so on."
   ]
  },
  {
   "cell_type": "code",
   "execution_count": 13,
   "metadata": {},
   "outputs": [
    {
     "name": "stdout",
     "output_type": "stream",
     "text": [
      " :  : \n",
      "my exception : my exception : my exception\n",
      "('my', 'exception') : ('my', 'exception') : ('my', 'exception')\n"
     ]
    }
   ],
   "source": [
    "def printargs(args):\n",
    "    lng = len(args)\n",
    "    if lng == 0:\n",
    "        print(\"\")\n",
    "    elif lng == 1:\n",
    "        print(args[0])\n",
    "    else:\n",
    "        print(str(args))\n",
    "\n",
    "try:\n",
    "    raise Exception\n",
    "except Exception as e:\n",
    "    print(e, e.__str__(), sep=' : ' ,end=' : ')\n",
    "    printargs(e.args)\n",
    "\n",
    "try:\n",
    "    raise Exception(\"my exception\")\n",
    "except Exception as e:\n",
    "    print(e, e.__str__(), sep=' : ', end=' : ')\n",
    "    printargs(e.args)\n",
    "\n",
    "try:\n",
    "    raise Exception(\"my\", \"exception\")\n",
    "except Exception as e:\n",
    "    print(e, e.__str__(), sep=' : ', end=' : ')\n",
    "    printargs(e.args)"
   ]
  },
  {
   "cell_type": "markdown",
   "metadata": {},
   "source": [
    "#### How to create your own exception"
   ]
  },
  {
   "cell_type": "markdown",
   "metadata": {},
   "source": [
    "- This is done by ***defining your own, new exceptions as subclasses derived from predefined ones***.\n",
    "\n",
    "- Note: if you want to create an exception which will be utilized as a specialized case of any built-in exception, derive it from just this one. If you want to build your own hierarchy, and don't want it to be closely connected to Python's exception tree, derive it from any of the top exception classes, like Exception."
   ]
  },
  {
   "cell_type": "code",
   "execution_count": 3,
   "metadata": {},
   "outputs": [
    {
     "name": "stdout",
     "output_type": "stream",
     "text": [
      "Division by zero\n",
      "Division by zero\n",
      "Original division by zero\n",
      "My division by zero\n"
     ]
    }
   ],
   "source": [
    "class MyZeroDivisionError(ZeroDivisionError):\n",
    "    pass\n",
    "\n",
    "def doTheDivision(mine):\n",
    "    if mine:\n",
    "        raise MyZeroDivisionError(\"some worse news\")\n",
    "    else:\n",
    "        raise ZeroDivisionError(\"some bad news\")\n",
    "\n",
    "for mode in [False, True]:\n",
    "    try:\n",
    "        doTheDivision(mode)\n",
    "    except ZeroDivisionError:\n",
    "        print('Division by zero')\n",
    "\n",
    "\n",
    "for mode in [False, True]:\n",
    "    try:\n",
    "        doTheDivision(mode)\n",
    "    except MyZeroDivisionError:\n",
    "        print('My division by zero')\n",
    "    except ZeroDivisionError:\n",
    "        print('Original division by zero')"
   ]
  },
  {
   "cell_type": "markdown",
   "metadata": {},
   "source": [
    "- build your own exception structure."
   ]
  },
  {
   "cell_type": "code",
   "execution_count": 17,
   "metadata": {},
   "outputs": [
    {
     "name": "stdout",
     "output_type": "stream",
     "text": [
      "Pizza ready!\n",
      "too much cheese : 110\n",
      "no such pizza on the menu : mafia\n"
     ]
    }
   ],
   "source": [
    "class PizzaError(Exception):\n",
    "    def __init__(self, pizza, message):\n",
    "        Exception.__init__(self, message)\n",
    "        self.pizza = pizza\n",
    "\n",
    "\n",
    "class TooMuchCheeseError(PizzaError):\n",
    "    def __init__(self, pizza, cheese, message):\n",
    "        PizzaError.__init__(self, pizza, message)\n",
    "        self.cheese = cheese\n",
    "\n",
    "\n",
    "def makePizza(pizza, cheese):\n",
    "    if pizza not in ['margherita', 'capricciosa', 'calzone']:\n",
    "        raise PizzaError(pizza, \"no such pizza on the menu\")\n",
    "    if cheese > 100:\n",
    "        raise TooMuchCheeseError(pizza, cheese, \"too much cheese\")\n",
    "    print(\"Pizza ready!\")\n",
    "\n",
    "\n",
    "for (pz, ch) in [('calzone', 0), ('margherita', 110), ('mafia', 20)]:\n",
    "    try:\n",
    "        makePizza(pz, ch)\n",
    "    except TooMuchCheeseError as tmce:\n",
    "        print(tmce, ':', tmce.cheese)\n",
    "    except PizzaError as pe:\n",
    "        print(pe, ':', pe.pizza)"
   ]
  },
  {
   "cell_type": "markdown",
   "metadata": {},
   "source": [
    "### 6.1.7.1 Generators and closures\n"
   ]
  },
  {
   "cell_type": "markdown",
   "metadata": {},
   "source": [
    "#### Generators - where to find them"
   ]
  },
  {
   "cell_type": "markdown",
   "metadata": {},
   "source": [
    "- A Python generator is ***a piece of specialized code able to produce a series of values, and to control the iteration process***. This is why generators are very often called iterators, and although some may find a very subtle distinction between these two, we'll treat them as one."
   ]
  },
  {
   "cell_type": "markdown",
   "metadata": {},
   "source": [
    "- A generator ***returns a series of values***, and in general, is (implicitly) invoked more than once."
   ]
  },
  {
   "cell_type": "code",
   "execution_count": 18,
   "metadata": {},
   "outputs": [
    {
     "name": "stdout",
     "output_type": "stream",
     "text": [
      "0\n",
      "1\n",
      "2\n",
      "3\n",
      "4\n"
     ]
    }
   ],
   "source": [
    "for i in range(5):\n",
    "    print(i)"
   ]
  },
  {
   "cell_type": "markdown",
   "metadata": {},
   "source": [
    "- The ***iterator protocol is a way in which an object should behave to conform to the rules imposed by the context of the for and `in` statements***. An object conforming to the iterator protocol is called an `iterator`."
   ]
  },
  {
   "cell_type": "markdown",
   "metadata": {},
   "source": [
    "- An iterator must provide two methods:\n",
    "\n",
    "    - `__iter__()` which should ***return the object itself*** and which is invoked once (it's needed for Python to successfully start the iteration)\n",
    "    - `__next__()` which is intended to ***return the next value*** (first, second, and so on) of the desired series - it will be invoked by the `for`/`in` statements in order to pass through the next iteration; if there are no more values to provide, the method should ***raise the `StopIteration` exception***."
   ]
  },
  {
   "cell_type": "markdown",
   "metadata": {},
   "source": [
    "- We've built a class able to iterate through the first n values (where n is a constructor parameter) of the Fibonacci numbers.\n",
    "\n",
    "- Let us remind you - the Fibonacci numbers (Fibi) are defined as follows:\n",
    "```\n",
    "Fib1 = 1\n",
    "Fib2 = 1\n",
    "Fibi = Fibi-1 + Fibi-2\n",
    "```"
   ]
  },
  {
   "cell_type": "markdown",
   "metadata": {},
   "source": [
    "- In other words:\n",
    "\n",
    "    - the first two Fibonacci numbers are equal to 1;\n",
    "    - any other Fibonacci number is the sum of the two previous ones (e.g., Fib3 = 2, Fib4 = 3, Fib5 = 5, and so on)"
   ]
  },
  {
   "cell_type": "code",
   "execution_count": 21,
   "metadata": {},
   "outputs": [
    {
     "name": "stdout",
     "output_type": "stream",
     "text": [
      "__init__\n",
      "__iter__\n",
      "__next__\n",
      "1\n",
      "__next__\n",
      "1\n",
      "__next__\n",
      "2\n",
      "__next__\n",
      "3\n",
      "__next__\n",
      "5\n",
      "__next__\n",
      "8\n",
      "__next__\n",
      "13\n",
      "__next__\n",
      "21\n",
      "__next__\n",
      "34\n",
      "__next__\n",
      "55\n",
      "__next__\n"
     ]
    }
   ],
   "source": [
    "class Fib:\n",
    "    def __init__(self, nn):\n",
    "        print(\"__init__\")\n",
    "        self.__n = nn\n",
    "        self.__i = 0\n",
    "        self.__p1 = self.__p2 = 1\n",
    "    def __iter__(self):\n",
    "        print(\"__iter__\")\n",
    "        return self\n",
    "    def __next__(self):\n",
    "        print(\"__next__\")\n",
    "        self.__i += 1\n",
    "        if self.__i > self.__n:\n",
    "            raise StopIteration\n",
    "        if self.__i in [1, 2]:\n",
    "            return 1\n",
    "        ret = self.__p1 + self.__p2\n",
    "        self.__p1, self.__p2 = self.__p2, ret\n",
    "        return ret\n",
    "\n",
    "for i in Fib(10):\n",
    "    print(i)"
   ]
  },
  {
   "cell_type": "markdown",
   "metadata": {},
   "source": [
    "- Let's dive into the code:\n",
    "    - lines 2 through 6: the class constructor prints a message (we'll use this to trace the class's behavior), prepares some variables (`__n` to store the series limit, `__i` to track the current Fibonacci number to provide, and `__p1` along with `__p2` to save the two previous numbers);\n",
    "\n",
    "    - lines 8 through 10: the `__iter__ `method is obliged to return the iterator object itself; its purpose may be a bit ambiguous here, but there's no mystery; try to imagine an object which is not an iterator (e.g., it's a collection of some entities), but one of its components is an iterator able to scan the collection; the `__iter__` method should ***extract the iterator and entrust it with the execution of the iteration protocol***; as you can see, the method starts its action by printing a message;\n",
    "\n",
    "    - lines 12 through 21: the `__next__` method is responsible for creating the sequence; it's somewhat wordy, but this should make it more readable; first, it prints a message, then it updates the number of desired values, and if it reaches the end of the sequence, the method breaks the iteration by raising the StopIteration exception; the rest of the code is simple, and it precisely reflects the definition we showed you earlier;"
   ]
  },
  {
   "cell_type": "code",
   "execution_count": 24,
   "metadata": {},
   "outputs": [
    {
     "name": "stdout",
     "output_type": "stream",
     "text": [
      "Class iter\n",
      "1\n",
      "1\n",
      "2\n",
      "3\n",
      "5\n",
      "8\n",
      "13\n",
      "21\n"
     ]
    }
   ],
   "source": [
    "class Fib:\n",
    "    def __init__(self, nn):\n",
    "        self.__n = nn\n",
    "        self.__i = 0\n",
    "        self.__p1 = self.__p2 = 1\n",
    "    def __iter__(self):\n",
    "        print(\"Fib iter\")\n",
    "        return self\n",
    "    def __next__(self):\n",
    "        self.__i += 1\n",
    "        if self.__i > self.__n:\n",
    "            raise StopIteration\n",
    "        if self.__i in [1, 2]:\n",
    "            return 1\n",
    "        ret = self.__p1 + self.__p2\n",
    "        self.__p1, self.__p2 = self.__p2, ret\n",
    "        return ret\n",
    "\n",
    "class Class:\n",
    "    def __init__(self, n):\n",
    "        self.__iter = Fib(n)\n",
    "    def __iter__(self):\n",
    "        print(\"Class iter\")\n",
    "        return self.__iter;\n",
    "\n",
    "object = Class(8)\n",
    "\n",
    "for i in object:\n",
    "    print(i)"
   ]
  },
  {
   "cell_type": "markdown",
   "metadata": {},
   "source": [
    "#### The yield statement"
   ]
  },
  {
   "cell_type": "markdown",
   "metadata": {},
   "source": [
    "- The iterator protocol isn't particularly difficult to understand and use, but it is also indisputable that the ***protocol is rather inconvenient***.\n",
    "\n",
    "- The main discomfort it brings is ***the need to save the state of the iteration between subsequent `__iter__` invocations***.\n",
    "\n",
    "- For example, the `Fib` iterator is forced to precisely store the place in which the last invocation has been stopped (i.e., the evaluated number and the values of the two previous elements). This makes the code larger and less comprehensible."
   ]
  },
  {
   "cell_type": "code",
   "execution_count": null,
   "metadata": {},
   "outputs": [],
   "source": [
    "def fun(n):\n",
    "    for i in range(n):\n",
    "        yield i"
   ]
  },
  {
   "cell_type": "markdown",
   "metadata": {},
   "source": [
    "- We've added `yield` instead of `return`. This little amendment ***turns the function into a generator***, and executing the `yield` statement has some very interesting effects.\n",
    "\n",
    "- First of all, it provides the value of the expression specified after the `yield` keyword, just like `return`, but doesn't lose the state of the function.\n",
    "\n",
    "- All the variables' values are frozen, and wait for the next invocation, when the execution is resumed (not taken from scratch, like after `return`).\n",
    "\n",
    "- There is one important limitation: such a ***function should not be invoked explicitly*** as - in fact - it isn't a function anymore; ***it's a generator object***.\n",
    "\n",
    "- The invocation will ***return the object's identifier***, not the series we expect from the generator."
   ]
  },
  {
   "cell_type": "code",
   "execution_count": 1,
   "metadata": {},
   "outputs": [
    {
     "name": "stdout",
     "output_type": "stream",
     "text": [
      "0\n",
      "1\n",
      "2\n",
      "3\n",
      "4\n"
     ]
    }
   ],
   "source": [
    "def fun(n):\n",
    "    for i in range(n):\n",
    "        yield i\n",
    "\n",
    "for v in fun(5):\n",
    "    print(v)"
   ]
  },
  {
   "cell_type": "markdown",
   "metadata": {},
   "source": [
    "#### How to build your own generator"
   ]
  },
  {
   "cell_type": "code",
   "execution_count": 2,
   "metadata": {},
   "outputs": [
    {
     "name": "stdout",
     "output_type": "stream",
     "text": [
      "1\n",
      "2\n",
      "4\n",
      "8\n",
      "16\n",
      "32\n",
      "64\n",
      "128\n"
     ]
    }
   ],
   "source": [
    "def powersOf2(n):\n",
    "    pow = 1\n",
    "    for i in range(n):\n",
    "        yield pow\n",
    "        pow *= 2\n",
    "\n",
    "for v in powersOf2(8):\n",
    "    print(v)"
   ]
  },
  {
   "cell_type": "markdown",
   "metadata": {},
   "source": [
    "- Generators may also be used within ***list comprehensions***, just like here:"
   ]
  },
  {
   "cell_type": "code",
   "execution_count": 3,
   "metadata": {},
   "outputs": [
    {
     "name": "stdout",
     "output_type": "stream",
     "text": [
      "[1, 2, 4, 8, 16]\n"
     ]
    }
   ],
   "source": [
    "def powersOf2(n):\n",
    "    pow = 1\n",
    "    for i in range(n):\n",
    "        yield pow\n",
    "        pow *= 2\n",
    "\n",
    "t = [x for x in powersOf2(5)]\n",
    "\n",
    "print(t)"
   ]
  },
  {
   "cell_type": "markdown",
   "metadata": {},
   "source": [
    "- The `list()` function can transform a series of subsequent generator invocations into ***a real list***:"
   ]
  },
  {
   "cell_type": "code",
   "execution_count": 4,
   "metadata": {},
   "outputs": [
    {
     "name": "stdout",
     "output_type": "stream",
     "text": [
      "[1, 2, 4]\n"
     ]
    }
   ],
   "source": [
    "def powersOf2(n):\n",
    "    pow = 1\n",
    "    for i in range(n):\n",
    "        yield pow\n",
    "        pow *= 2\n",
    "\n",
    "t = list(powersOf2(3))\n",
    "\n",
    "print(t)"
   ]
  },
  {
   "cell_type": "markdown",
   "metadata": {},
   "source": [
    "- Moreover, the context created by the `in` operator allows you to use a generator, too."
   ]
  },
  {
   "cell_type": "code",
   "execution_count": 5,
   "metadata": {},
   "outputs": [
    {
     "name": "stdout",
     "output_type": "stream",
     "text": [
      "1\n",
      "2\n",
      "4\n",
      "8\n"
     ]
    }
   ],
   "source": [
    "def powersOf2(n):\n",
    "    pow = 1\n",
    "    for i in range(n):\n",
    "        yield pow\n",
    "        pow *= 2\n",
    "\n",
    "for i in range(20):\n",
    "    if i in powersOf2(4):\n",
    "        print(i)"
   ]
  },
  {
   "cell_type": "markdown",
   "metadata": {},
   "source": [
    "- Now let's see a ***Fibonacci number generator***, and ensure that it looks much better than the objective version based on the direct iterator protocol implementation."
   ]
  },
  {
   "cell_type": "code",
   "execution_count": 6,
   "metadata": {},
   "outputs": [
    {
     "name": "stdout",
     "output_type": "stream",
     "text": [
      "[1, 1, 2, 3, 5, 8, 13, 21, 34, 55]\n"
     ]
    }
   ],
   "source": [
    "def Fib(n):\n",
    "    p = pp = 1\n",
    "    for i in range(n):\n",
    "        if i in [0, 1]:\n",
    "            yield 1\n",
    "        else:\n",
    "            n = p + pp\n",
    "            pp, p = p, n\n",
    "            yield n\n",
    "\n",
    "fibs = list(Fib(10))\n",
    "\n",
    "print(fibs)"
   ]
  },
  {
   "cell_type": "markdown",
   "metadata": {},
   "source": [
    "#### More about list comprehensions"
   ]
  },
  {
   "cell_type": "markdown",
   "metadata": {},
   "source": [
    "- You should be able to remember the rules governing the creation and use of a very special Python phenomenon named ***list comprehension - a simple and very impressive way of creating lists and their contents***."
   ]
  },
  {
   "cell_type": "code",
   "execution_count": 7,
   "metadata": {},
   "outputs": [
    {
     "name": "stdout",
     "output_type": "stream",
     "text": [
      "[1, 10, 100, 1000, 10000, 100000]\n",
      "[1, 10, 100, 1000, 10000, 100000]\n"
     ]
    }
   ],
   "source": [
    "listOne = []\n",
    "\n",
    "for ex in range(6):\n",
    "    listOne.append(10 ** ex)\n",
    "\n",
    "\n",
    "listTwo = [10 ** ex for ex in range(6)]\n",
    "\n",
    "print(listOne)\n",
    "print(listTwo)"
   ]
  },
  {
   "cell_type": "markdown",
   "metadata": {},
   "source": [
    "-  a conditional expression - a way of selecting one of two different values based on the result of a Boolean expression."
   ]
  },
  {
   "cell_type": "code",
   "execution_count": 8,
   "metadata": {},
   "outputs": [
    {
     "name": "stdout",
     "output_type": "stream",
     "text": [
      "[1, 0, 1, 0, 1, 0, 1, 0, 1, 0]\n"
     ]
    }
   ],
   "source": [
    "lst = []\n",
    "\n",
    "for x in range(10):\n",
    "    lst.append(1 if x % 2 == 0 else 0)\n",
    "\n",
    "print(lst)"
   ]
  },
  {
   "cell_type": "markdown",
   "metadata": {},
   "source": [
    "- Compactness and elegance - these two words come to mind when looking at the code."
   ]
  },
  {
   "cell_type": "code",
   "execution_count": 9,
   "metadata": {},
   "outputs": [
    {
     "name": "stdout",
     "output_type": "stream",
     "text": [
      "[1, 0, 1, 0, 1, 0, 1, 0, 1, 0]\n"
     ]
    }
   ],
   "source": [
    "lst = [1 if x % 2 == 0 else 0 for x in range(10)]\n",
    "\n",
    "print(lst)"
   ]
  },
  {
   "cell_type": "markdown",
   "metadata": {},
   "source": [
    "- Just one change can ***turn any comprehension into a generator***."
   ]
  },
  {
   "cell_type": "code",
   "execution_count": 10,
   "metadata": {},
   "outputs": [
    {
     "name": "stdout",
     "output_type": "stream",
     "text": [
      "1 0 1 0 1 0 1 0 1 0 \n",
      "1 0 1 0 1 0 1 0 1 0 \n"
     ]
    }
   ],
   "source": [
    "lst = [1 if x % 2 == 0 else 0 for x in range(10)]\n",
    "genr = (1 if x % 2 == 0 else 0 for x in range(10))\n",
    "\n",
    "for v in lst:\n",
    "    print(v, end=\" \")\n",
    "print()\n",
    "\n",
    "for v in genr:\n",
    "    print(v, end=\" \")\n",
    "print()"
   ]
  },
  {
   "cell_type": "markdown",
   "metadata": {},
   "source": [
    "- There is some proof we can show you. Apply the `len()` function to both these entities.\n",
    "\n",
    "- `len(lst)` will evaluate to `10`. Clear and predictable. `len(genr)` will raise an exception, and you will see the following message:"
   ]
  },
  {
   "cell_type": "code",
   "execution_count": 12,
   "metadata": {},
   "outputs": [
    {
     "name": "stdout",
     "output_type": "stream",
     "text": [
      "10\n"
     ]
    },
    {
     "ename": "TypeError",
     "evalue": "object of type 'generator' has no len()",
     "output_type": "error",
     "traceback": [
      "\u001b[1;31m---------------------------------------------------------------------------\u001b[0m",
      "\u001b[1;31mTypeError\u001b[0m                                 Traceback (most recent call last)",
      "\u001b[1;32m<ipython-input-12-ab0ec410db71>\u001b[0m in \u001b[0;36m<module>\u001b[1;34m\u001b[0m\n\u001b[0;32m      1\u001b[0m \u001b[0mprint\u001b[0m\u001b[1;33m(\u001b[0m\u001b[0mlen\u001b[0m\u001b[1;33m(\u001b[0m\u001b[0mlst\u001b[0m\u001b[1;33m)\u001b[0m\u001b[1;33m)\u001b[0m\u001b[1;33m\u001b[0m\u001b[1;33m\u001b[0m\u001b[0m\n\u001b[1;32m----> 2\u001b[1;33m \u001b[0mprint\u001b[0m\u001b[1;33m(\u001b[0m\u001b[0mlen\u001b[0m\u001b[1;33m(\u001b[0m\u001b[0mgenr\u001b[0m\u001b[1;33m)\u001b[0m\u001b[1;33m)\u001b[0m\u001b[1;33m\u001b[0m\u001b[1;33m\u001b[0m\u001b[0m\n\u001b[0m",
      "\u001b[1;31mTypeError\u001b[0m: object of type 'generator' has no len()"
     ]
    }
   ],
   "source": [
    "print(len(lst))\n",
    "print(len(genr))"
   ]
  },
  {
   "cell_type": "code",
   "execution_count": 13,
   "metadata": {},
   "outputs": [
    {
     "name": "stdout",
     "output_type": "stream",
     "text": [
      "1 0 1 0 1 0 1 0 1 0 \n",
      "1 0 1 0 1 0 1 0 1 0 \n"
     ]
    }
   ],
   "source": [
    "for v in [1 if x % 2 == 0 else 0 for x in range(10)]:\n",
    "    print(v, end=\" \")\n",
    "print()\n",
    "\n",
    "for v in (1 if x % 2 == 0 else 0 for x in range(10)):\n",
    "    print(v, end=\" \")\n",
    "print()"
   ]
  },
  {
   "cell_type": "markdown",
   "metadata": {},
   "source": [
    "- Note: the same appearance of the output doesn't mean that both loops work in the same way. In the first loop, the list is created (and iterated through) as a whole - it actually exists when the loop is being executed.\n",
    "\n",
    "- In the second loop, there is no list at all - there are only subsequent values produced by the generator, one by one."
   ]
  },
  {
   "cell_type": "markdown",
   "metadata": {},
   "source": [
    "#### The lambda function"
   ]
  },
  {
   "cell_type": "markdown",
   "metadata": {},
   "source": [
    "- Mathematicians use the ***Lambda calculus*** in many formal systems connected with logic, recursion, or theorem provability. Programmers use the `lambda` function to simplify the code, to make it clearer and easier to understand.\n",
    "\n",
    "- A `lambda` function is a function without a name (you can also call it ***an anonymous function***). Of course, such a statement immediately raises the question: how do you use anything that cannot be identified?\n",
    "\n",
    "- Fortunately, it's not a problem, as you can name such a function if you really need, but, in fact, in many cases the `lambda` function can exist and work while remaining fully incognito."
   ]
  },
  {
   "cell_type": "markdown",
   "metadata": {},
   "source": [
    "- The declaration of the `lambda` function doesn't resemble a normal function declaration in any way - see for yourself:"
   ]
  },
  {
   "cell_type": "code",
   "execution_count": null,
   "metadata": {},
   "outputs": [],
   "source": [
    "lambda parameters : expression"
   ]
  },
  {
   "cell_type": "markdown",
   "metadata": {},
   "source": [
    "- Such a clause ***returns the value of the expression when taking into account the current value of the current `lambda` argument***."
   ]
  },
  {
   "cell_type": "code",
   "execution_count": 14,
   "metadata": {},
   "outputs": [
    {
     "name": "stdout",
     "output_type": "stream",
     "text": [
      "4 4\n",
      "1 1\n",
      "0 0\n",
      "1 1\n",
      "4 4\n"
     ]
    }
   ],
   "source": [
    "two = lambda : 2\n",
    "sqr = lambda x : x * x\n",
    "pwr = lambda x, y : x ** y\n",
    "\n",
    "for a in range(-2, 3):\n",
    "    print(sqr(a), end=\" \")\n",
    "    print(pwr(a, two()))"
   ]
  },
  {
   "cell_type": "markdown",
   "metadata": {},
   "source": [
    "#### How to use lambdas and what for?"
   ]
  },
  {
   "cell_type": "markdown",
   "metadata": {},
   "source": [
    "- The most interesting part of using lambdas appears when you can use them in their pure form - ***as anonymous parts of code intended to evaluate a result***."
   ]
  },
  {
   "cell_type": "code",
   "execution_count": 2,
   "metadata": {},
   "outputs": [
    {
     "name": "stdout",
     "output_type": "stream",
     "text": [
      "f(-2)=18\n",
      "f(-1)=8\n",
      "f(0)=2\n",
      "f(1)=0\n",
      "f(2)=2\n"
     ]
    }
   ],
   "source": [
    "def printfunction(args, fun):\n",
    "    for x in args:\n",
    "        print('f(', x,')=', fun(x), sep='')\n",
    "\n",
    "def poly(x):\n",
    "    return 2 * x**2 - 4 * x + 2\n",
    "\n",
    "printfunction([x for x in range(-2, 3)], poly)"
   ]
  },
  {
   "cell_type": "markdown",
   "metadata": {},
   "source": [
    "- Let's analyze it. The printfunction() function takes two parameters:\n",
    "    - the first, a list of arguments for which we want to print the results;\n",
    "    - the second, a function which should be invoked as many times as the number of values that are collected inside the first parameter."
   ]
  },
  {
   "cell_type": "markdown",
   "metadata": {},
   "source": [
    "- Can we avoid defining the `poly()` function, as we're not going to use it more than once? Yes, we can - this is the benefit a lambda can bring."
   ]
  },
  {
   "cell_type": "code",
   "execution_count": 3,
   "metadata": {},
   "outputs": [
    {
     "name": "stdout",
     "output_type": "stream",
     "text": [
      "f(-2)=18\n",
      "f(-1)=8\n",
      "f(0)=2\n",
      "f(1)=0\n",
      "f(2)=2\n"
     ]
    }
   ],
   "source": [
    "def printfunction(args, fun):\n",
    "    for x in args:\n",
    "        print('f(', x,')=', fun(x), sep='')\n",
    "\n",
    "printfunction([x for x in range(-2, 3)], lambda x: 2 * x**2 - 4 * x + 2)"
   ]
  },
  {
   "cell_type": "markdown",
   "metadata": {},
   "source": [
    "#### Lambdas and the map() function"
   ]
  },
  {
   "cell_type": "markdown",
   "metadata": {},
   "source": [
    "- In the simplest of all possible cases, the map() function takes two arguments:\n",
    "\n",
    "    - a function;\n",
    "    - a list."
   ]
  },
  {
   "cell_type": "code",
   "execution_count": null,
   "metadata": {},
   "outputs": [],
   "source": [
    "map(function, list)"
   ]
  },
  {
   "cell_type": "markdown",
   "metadata": {},
   "source": [
    "- The above description is extremely simplified, as:\n",
    "\n",
    "    - the second `map()` argument may be any entity that can be iterated (e.g., a tuple, or just a generator)\n",
    "    - `map()` can accept more than two arguments."
   ]
  },
  {
   "cell_type": "markdown",
   "metadata": {},
   "source": [
    "- The `map()` ***function applies the function passed by its first argument to all its second argument's elements, and returns an iterator delivering all subsequent function results***. You can use the resulting iterator in a loop, or convert it into a list using the `list()` function."
   ]
  },
  {
   "cell_type": "code",
   "execution_count": 4,
   "metadata": {},
   "outputs": [
    {
     "name": "stdout",
     "output_type": "stream",
     "text": [
      "[1, 2, 4, 8, 16]\n",
      "1 4 16 64 256 \n"
     ]
    }
   ],
   "source": [
    "list1 = [x for x in range(5)]\n",
    "list2 = list(map(lambda x: 2 ** x, list1))\n",
    "print(list2)\n",
    "for x in map(lambda x: x * x, list2):\n",
    "\tprint(x, end=' ')\n",
    "print()"
   ]
  },
  {
   "cell_type": "markdown",
   "metadata": {},
   "source": [
    "#### Lambdas and the filter() function"
   ]
  },
  {
   "cell_type": "markdown",
   "metadata": {},
   "source": [
    "- It expects the same kind of arguments as map(), but does something different - it ***filters its second argument while being guided by directions flowing from the function specified as the first argument*** (the function is invoked for each list element, just like in map())."
   ]
  },
  {
   "cell_type": "code",
   "execution_count": 4,
   "metadata": {},
   "outputs": [
    {
     "name": "stdout",
     "output_type": "stream",
     "text": [
      "[-8, -9, 10, 6, -9]\n",
      "[10, 6]\n"
     ]
    }
   ],
   "source": [
    "from random import seed, randint\n",
    "\n",
    "seed()\n",
    "data = [ randint(-10,10) for x in range(5) ]\n",
    "filtered = list(filter(lambda x: x > 0 and x % 2 == 0, data))\n",
    "print(data)\n",
    "print(filtered)"
   ]
  },
  {
   "cell_type": "markdown",
   "metadata": {},
   "source": [
    "#### A brief look at closures"
   ]
  },
  {
   "cell_type": "markdown",
   "metadata": {},
   "source": [
    "- Let's start with a definition: ***closure is a technique which allows the storing of values in spite of the fact that the context in which they have been created does not exist anymore***. Intricate? A bit."
   ]
  },
  {
   "cell_type": "code",
   "execution_count": 6,
   "metadata": {},
   "outputs": [
    {
     "name": "stdout",
     "output_type": "stream",
     "text": [
      "1\n"
     ]
    }
   ],
   "source": [
    "def outer(par):\n",
    "    loc = par\n",
    "    def inner():\n",
    "        return loc\n",
    "    return inner\n",
    "\n",
    "var = 1\n",
    "fun = outer(var)\n",
    "print(fun())"
   ]
  },
  {
   "cell_type": "markdown",
   "metadata": {},
   "source": [
    "- We can say that `inner()` is `outer()`'s private tool - no other part of the code can access it."
   ]
  },
  {
   "cell_type": "markdown",
   "metadata": {},
   "source": [
    "- Look carefully:\n",
    "\n",
    "    - the `inner()` function returns the value of the variable accessible inside its scope, as `inner()` can use any of the entities at the disposal of `outer()`\n",
    "    - the `outer()` function returns the `inner()` function itself; more precisely, it returns a copy of the `inner()` function, the one which was frozen at the moment of `outer()`'s invocation; the frozen function contains its full environment, including the state of all local variables, which also means that the value of `loc` is successfully retained, although `outer()` ceased to exist a long time ago."
   ]
  },
  {
   "cell_type": "markdown",
   "metadata": {},
   "source": [
    "- The function returned during the outer() invocation is a ***closure***."
   ]
  },
  {
   "cell_type": "markdown",
   "metadata": {},
   "source": [
    "- A closure has to be invoked in exactly the same way in which it has been declared."
   ]
  },
  {
   "cell_type": "code",
   "execution_count": 8,
   "metadata": {},
   "outputs": [
    {
     "name": "stdout",
     "output_type": "stream",
     "text": [
      "0 0 0\n",
      "1 1 1\n",
      "2 4 8\n",
      "3 9 27\n",
      "4 16 64\n"
     ]
    }
   ],
   "source": [
    "def makeclosure(par):\n",
    "    loc = par\n",
    "    def power(p):\n",
    "        return p ** loc\n",
    "    return power\n",
    "\n",
    "fsqr = makeclosure(2)\n",
    "fcub = makeclosure(3)\n",
    "for i in range(5):\n",
    "    print(i, fsqr(i), fcub(i))"
   ]
  },
  {
   "cell_type": "markdown",
   "metadata": {},
   "source": [
    "- This means that the closure not only makes use of the frozen environment, but it can also ***modify its behavior by using values taken from the outside***."
   ]
  },
  {
   "cell_type": "markdown",
   "metadata": {},
   "source": [
    "### 6.1.8.1 Processing files"
   ]
  },
  {
   "cell_type": "markdown",
   "metadata": {},
   "source": [
    "#### Accessing files from Python code"
   ]
  },
  {
   "cell_type": "markdown",
   "metadata": {},
   "source": [
    "- In principle, any non-simple programming problem relies on the use of files, whether it processes images (stored in files), multiplies matrices (stored in files), or calculates wages and taxes (reading data stored in files)."
   ]
  },
  {
   "cell_type": "markdown",
   "metadata": {},
   "source": [
    "#### File names"
   ]
  },
  {
   "cell_type": "markdown",
   "metadata": {},
   "source": [
    "- As you can see, systems derived from Unix/Linux don't use the disk drive letter (e.g., `C:`) and all the directories grow from one root directory called `/`, while Windows systems recognize the root directory as `\\`."
   ]
  },
  {
   "cell_type": "markdown",
   "metadata": {},
   "source": [
    "- In addition, Unix/Linux system file names are case-sensitive. Windows systems store the case of letters used in the file name, but don't distinguish between their cases at all."
   ]
  },
  {
   "cell_type": "markdown",
   "metadata": {},
   "source": [
    "- The main and most striking difference is that you have to use ***two different separators for the directory*** names: `\\` in Windows, and `/` in Unix/Linux."
   ]
  },
  {
   "cell_type": "markdown",
   "metadata": {},
   "source": [
    "- In fact, it's not strange at all, but quite obvious and natural. Python uses the \\ as an escape character (like `\\n`)."
   ]
  },
  {
   "cell_type": "markdown",
   "metadata": {},
   "source": [
    "- Fortunately, there is also one more solution. Python is smart enough to be able to convert slashes into backslashes each time it discovers that it's required by the OS."
   ]
  },
  {
   "cell_type": "markdown",
   "metadata": {},
   "source": [
    "- Any program written in Python (and not only in Python, because that convention applies to virtually all programming languages) does not communicate with the files directly, but through some abstract entities that are named differently in different languages or environments - the most-used terms are `handles` or `streams` (we'll use them as synonyms here).\n",
    "\n",
    "\n",
    "- The programmer, having a more- or less-rich set of functions/methods, is able to perform certain operations on the stream, which affect the real files using mechanisms contained in the operating system kernel.\n",
    "\n",
    "\n",
    "- In this way, you can implement the process of accessing any file, even when the name of the file is unknown at the time of writing the program."
   ]
  },
  {
   "cell_type": "markdown",
   "metadata": {},
   "source": [
    "- The operations performed with the abstract stream reflect the activities related to the physical file.\n",
    "\n",
    "\n",
    "- To connect (bind) the stream with the file, it's necessary to perform an explicit operation.\n",
    "\n",
    "\n",
    "- The operation of connecting the stream with a file is called ***opening the file***, while disconnecting this link is named ***closing the file***."
   ]
  },
  {
   "cell_type": "markdown",
   "metadata": {},
   "source": [
    "#### File streams"
   ]
  },
  {
   "cell_type": "markdown",
   "metadata": {},
   "source": [
    "- The opening of the stream is not only associated with the file, but should also declare the manner in which the stream will be processed. This declaration is called an ***open mode***.\n",
    "\n",
    "- If the opening is successful, the ***program will be allowed to perform only the operations which are consistent with the declared open mode***.\n",
    "\n",
    "- There are two basic operations performed on the stream:\n",
    "\n",
    "    - `read` from the stream: the portions of the data are retrieved from the file and placed in a memory area managed by the program (e.g., a variable);\n",
    "    - `write` to the stream: the portions of the data from the memory (e.g., a variable) are transferred to the file.\n",
    "    \n",
    "- There are three basic modes used to open the stream:\n",
    "\n",
    "    - `read mode`: a stream opened in this mode allows `read operations only`; trying to write to the stream will cause an exception (the exception is named UnsupportedOperation, which inherits OSError and ValueError, and comes from the io module);\n",
    "    - `write mode`: a stream opened in this mode allows `write operations only`; attempting to read the stream will cause the exception mentioned above;\n",
    "    - `update mode`: a stream opened in this mode allows `both writes and reads`."
   ]
  },
  {
   "cell_type": "markdown",
   "metadata": {},
   "source": [
    "- The stream behaves almost like a tape recorder.\n",
    "- Whenever we talk about reading from and writing to the stream, try to imagine this analogy. The programming books refer to this mechanism as the *** current file position***."
   ]
  },
  {
   "cell_type": "markdown",
   "metadata": {},
   "source": [
    "#### File handles"
   ]
  },
  {
   "cell_type": "markdown",
   "metadata": {},
   "source": [
    "- Python assumes that ***every file is hidden behind an object of an adequate class***.\n",
    "\n",
    "- An object of an adequate class is ***created when you open the file and annihilate it at the time of closing***.\n",
    "\n",
    "- Between these two events, you can use the object to specify what operations should be performed on a particular stream. The operations you're allowed to use are imposed by ***the way in which you've opened the file***."
   ]
  },
  {
   "cell_type": "markdown",
   "metadata": {},
   "source": [
    "- In general, the object comes from one of the classes shown here:"
   ]
  },
  {
   "cell_type": "markdown",
   "metadata": {},
   "source": [
    "![](./images/52_IOBase.png)"
   ]
  },
  {
   "cell_type": "markdown",
   "metadata": {},
   "source": [
    "- Note: you never use constructors to bring these objects to life. The only way you ***obtain them is to invoke the function named `open()`***.\n",
    "\n",
    "\n",
    "- The function analyses the arguments you've provided, and automatically creates the required object.\n",
    "\n",
    "\n",
    "- If you want to ***get rid of the object, you invoke the method named `close()`***.\n",
    "\n",
    "\n",
    "- The invocation will sever the connection to the object, and the file and will remove the object.\n",
    "\n",
    "\n",
    "- For our purposes, we'll concern ourselves only with streams represented by `BufferIOBase` and `TextIOBase` objects."
   ]
  },
  {
   "cell_type": "markdown",
   "metadata": {},
   "source": [
    "- Due to the type of the stream's contents, ***all the streams are divided into text and binary streams***.\n",
    "\n",
    "\n",
    "- The text streams ones are structured in lines; that is, they contain typographical characters (letters, digits, punctuation, etc.) arranged in rows (lines), as seen with the naked eye when you look at the contents of the file in the editor.\n",
    "\n",
    "\n",
    "- This file is written (or read) mostly character by character, or line by line.\n",
    "\n",
    "\n",
    "- The binary streams don't contain text but a sequence of bytes of any value. This sequence can be, for example, an executable program, an image, an audio or a video clip, a database file, etc.\n",
    "\n",
    "\n",
    "- Because these files don't contain lines, the reads and writes relate to portions of data of any size. Hence the data is read/written byte by byte, or block by block, where the size of the block usually ranges from one to an arbitrarily chosen value.\n",
    "\n",
    "\n",
    "- Then comes a subtle problem. In Unix/Linux systems, the line ends are marked by a single character named `LF` (ASCII code 10) designated in Python programs as `\\n`.\n",
    "\n",
    "\n",
    "- Other operating systems, especially these derived from the prehistoric CP/M system (which applies to Windows family systems, too) use a different convention: the end of line is marked by a pair of characters, `CR` and `LF` (ASCII codes 13 and 10) which can be encoded as `\\r\\n`.\n",
    "\n",
    "\n",
    "- This ambiguity can cause various unpleasant consequences.\n",
    "\n",
    "\n",
    "- If you create a program responsible for processing a text file, and it is written for Windows, you can recognize the ends of the lines by finding the `\\r\\n` characters, but the same program running in a Unix/Linux environment will be completely useless, and vice versa: the program written for Unix/Linux systems might be useless in Windows.\n",
    "\n",
    "\n",
    "- Such undesirable features of the program, which prevent or hinder the use of the program in different environments, are called ***non-portability***.\n",
    "\n",
    "\n",
    "- Similarly, the trait of the program allowing execution in different environments is called ***portability***. A program endowed with such a trait is called a ***portable program***."
   ]
  },
  {
   "cell_type": "markdown",
   "metadata": {},
   "source": [
    "Since portability issues were (and still are) very serious, a decision was made to definitely resolve the issue in a way that doesn't engage the developer's attention.\n",
    "\n",
    "It was done at the level of classes, which are responsible for reading and writing characters to and from the stream. It works in the following way:\n",
    "\n",
    "- when the stream is open and it's advised that the data in the associated file will be processed as text (or there is no such advisory at all), it is ***switched into text mode***;\n",
    "\n",
    "\n",
    "- during reading/writing of lines from/to the associated file, nothing special occurs in the Unix environment, but when the same operations are performed in the Windows environment, a process called a ***translation of newline characters*** occurs: when you read a line from the file, every pair of `\\r\\n` characters is replaced with a single `\\n` character, and vice versa; during write operations, every `\\n` character is replaced with a pair of `\\r\\n` characters;\n",
    "\n",
    "\n",
    "- the mechanism is completely ***transparent*** to the program, which can be written as if it was intended for processing Unix/Linux text files only; the source code run in a Windows environment will work properly, too;\n",
    "\n",
    "\n",
    "- when the stream is open and it's advised to do so, its contents are taken as-is, ***without any conversion*** - no bytes are added or omitted."
   ]
  },
  {
   "cell_type": "markdown",
   "metadata": {},
   "source": [
    "#### Opening the streams"
   ]
  },
  {
   "cell_type": "markdown",
   "metadata": {},
   "source": [
    "The opening of the stream is performed by a function which can be invoked in the following way:"
   ]
  },
  {
   "cell_type": "code",
   "execution_count": null,
   "metadata": {},
   "outputs": [],
   "source": [
    "stream = open(file, mode = 'r', encoding = None)"
   ]
  },
  {
   "cell_type": "markdown",
   "metadata": {},
   "source": [
    "Let's analyze it:\n",
    "\n",
    "- the name of the function (`open`) speaks for itself; if the opening is successful, the function returns a stream object; otherwise, an exception is raised (e.g., _FileNotFoundError_ ***if the file you're going to read doesn't exist***);\n",
    "\n",
    "\n",
    "- the first parameter of the function (`file`) specifies the name of the file to be associated with the stream;\n",
    "\n",
    "\n",
    "- the second parameter `(mode`) specifies the open mode used for the stream; it's a string filled with a sequence of characters, and each of them has its own special meaning (more details soon);\n",
    "\n",
    "\n",
    "- the third parameter (`encoding`) specifies the encoding type (e.g., UTF-8 when working with text files)\n",
    "\n",
    "\n",
    "- the opening must be the very first operation performed on the stream.\n",
    "\n",
    "\n",
    "Note: the mode and encoding arguments may be omitted - their default values are assumed then. The default opening mode is reading in text mode, while the default encoding depends on the platform used."
   ]
  },
  {
   "cell_type": "markdown",
   "metadata": {},
   "source": [
    "#### Opening the streams: modes"
   ]
  },
  {
   "cell_type": "markdown",
   "metadata": {},
   "source": [
    "`r` open mode: read\n",
    "\n",
    "- the stream will be opened in read mode;\n",
    "- the file associated with the stream must exist and has to be readable, otherwise the open() function raises an exception.\n",
    "\n",
    "`w` open mode: write\n",
    "\n",
    "- the stream will be opened in write mode;\n",
    "- the file associated with the stream doesn't need to exist; if it doesn't exist it will be created; if it exists, it will be truncated to the length of zero (erased); if the creation isn't possible (e.g., due to system permissions) the open() function raises an exception.\n",
    "\n",
    "`a` open mode: append\n",
    "\n",
    "- the stream will be opened in append mode;\n",
    "- the file associated with the stream doesn't need to exist; if it doesn't exist, it will be created; if it exists the virtual recording head will be set at the end of the file (the previous content of the file remains untouched.)\n",
    "\n",
    "`r+` open mode: read and update\n",
    "\n",
    "- the stream will be opened in read and update mode;\n",
    "- the file associated with the stream must exist and has to be writeable, otherwise the open() function raises an exception;\n",
    "- both read and write operations are allowed for the stream.\n",
    "\n",
    "`w+` open mode: write and update\n",
    "\n",
    "- the stream will be opened in write and update mode;\n",
    "- the file associated with the stream doesn't need to exist; if it doesn't exist, it will be created; - the previous content of the file remains untouched;\n",
    "- both read and write operations are allowed for the stream.\n"
   ]
  },
  {
   "cell_type": "markdown",
   "metadata": {},
   "source": [
    "#### Selecting text and binary modes"
   ]
  },
  {
   "cell_type": "markdown",
   "metadata": {},
   "source": [
    "If there is a letter `b` at the end of the mode string it means that the stream is to be opened in the ***binary mode***.\n",
    "\n",
    "If the mode string ends with a letter `t` the stream is opened in the ***text mode***.\n",
    "\n",
    "Text mode is the default behaviour assumed when no binary/text mode specifier is used.\n",
    "\n",
    "Finally, the successful opening of the file will set the current file position (the virtual reading/writing head) before the first byte of the file if the mode is not a and after the last byte of file ***if the mode is set to*** `a`.\n",
    "\n",
    "|  Text mode | Binary mode  | Description  |\n",
    "|:-:|:-:|:---:|\n",
    "|  `rt` | `rb`  | read  |\n",
    "| `wt`  | `wb`  | write  |\n",
    "|  `at` | `a`b  |  append |\n",
    "| `r+t`  | `r+b`  |  read and update |\n",
    "|  `w+t` | `w+b`  |  write and update |\n",
    "\n",
    "\n",
    "EXTRA\n",
    "\n",
    "You can also open a file for its exclusive creation. You can do this using the `x` open mode. If the file already exists, the open() function will raise an exception."
   ]
  },
  {
   "cell_type": "markdown",
   "metadata": {},
   "source": [
    "#### Opening the stream for the first timem"
   ]
  },
  {
   "cell_type": "markdown",
   "metadata": {},
   "source": [
    "- Imagine that we want to develop a program that reads content of the text file named: `C:\\Users\\User\\Desktop\\file.txt`.\n",
    "\n",
    "- How to open that file for reading? Here's the relevant snippet of the code:"
   ]
  },
  {
   "cell_type": "code",
   "execution_count": null,
   "metadata": {},
   "outputs": [],
   "source": [
    "try:\n",
    "    stream = open(\"C:\\Users\\User\\Desktop\\file.txt\", \"rt\")\n",
    "    # processing goes here\n",
    "    stream.close()\n",
    "except Exception as exc:\n",
    "    print(\"Cannot open the file:\", exc)"
   ]
  },
  {
   "cell_type": "markdown",
   "metadata": {},
   "source": [
    "#### Pre-opened streams"
   ]
  },
  {
   "cell_type": "markdown",
   "metadata": {},
   "source": [
    "- When our program starts, the three streams are already opened and don't require any extra preparations. What's more, your program can use these streams explicitly if you take care to import the `sys` module:"
   ]
  },
  {
   "cell_type": "code",
   "execution_count": null,
   "metadata": {},
   "outputs": [],
   "source": [
    "import sys"
   ]
  },
  {
   "cell_type": "markdown",
   "metadata": {},
   "source": [
    "- `sys.stdin`\n",
    "    - stdin (as standard input)\n",
    "    - the `stdin` stream is normally associated with the keyboard, pre-open for reading and regarded as the - primary data source for the running programs;\n",
    "    - the well-known `input()` function reads data from `stdin` by default.\n",
    "\n",
    "- `sys.stdout`\n",
    "    - stdout (as standard output)\n",
    "    - the `stdout` stream is normally associated with the screen, pre-open for writing, regarded as the primary target for outputting data by the running program;\n",
    "    - the well-known `print()` function outputs the data to the `stdout` stream.\n",
    "\n",
    "- `sys.stderr`\n",
    "    - `stderr` (as standard error output)\n",
    "    - the `stderr` stream is normally associated with the screen, pre-open for writing, regarded as the primary place where the running program should send information on the errors encountered during its work;\n",
    "    - we haven't presented any method to send the data to this stream (we will do it soon, we promise)\n",
    "    - the separation of `stdout` (useful results produced by the program) from the `stderr` (error messages, undeniably useful but does not provide results) gives the possibility of redirecting these two types of information to the different targets."
   ]
  },
  {
   "cell_type": "markdown",
   "metadata": {},
   "source": [
    "#### Closing streams"
   ]
  },
  {
   "cell_type": "markdown",
   "metadata": {},
   "source": [
    "- The last operation performed on a stream (this doesn't include the `stdin`, `stdout`, and `stderr` streams which don't require it) should be closing.\n",
    "\n",
    "\n",
    "- That action is performed by a method invoked from within open stream object: `stream.close()`.\n",
    "\n",
    "    - the name of the function is definitely self-commenting (`close()`)\n",
    "    \n",
    "    - the function expects exactly no arguments; the stream doesn't need to be opened\n",
    "    \n",
    "    - the function returns nothing but raises IOError exception in case of error;\n",
    "    \n",
    "    - most developers believe that the `close()` function always succeeds and thus there is no need to check if it's done its task properly.\n",
    "\n",
    "        - This belief is only partly justified. If the stream was opened for writing and then a series of write operations were performed, it may happen that the data sent to the stream has not been transferred to the physical device yet (due to mechanism called ***caching*** or ***buffering***). Since the closing of the stream forces the buffers to flush them, it may be that the flushes fail and therefore the `close()` fails too.\n",
    "        "
   ]
  },
  {
   "cell_type": "markdown",
   "metadata": {},
   "source": [
    "#### Diagnosing stream problems"
   ]
  },
  {
   "cell_type": "markdown",
   "metadata": {},
   "source": [
    "- The `IOError` object is equipped with a property named `errno` (the name comes from the phrase ***error number***) and you can access it as follows:"
   ]
  },
  {
   "cell_type": "code",
   "execution_count": null,
   "metadata": {},
   "outputs": [],
   "source": [
    "try:\n",
    "    # some stream operations\n",
    "except IOError as exc:\n",
    "    print(exc.errno)"
   ]
  },
  {
   "cell_type": "markdown",
   "metadata": {},
   "source": [
    "- The value of the `errno` attribute can be compared with one of the predefined symbolic constants defined in the `errno` module."
   ]
  },
  {
   "cell_type": "markdown",
   "metadata": {},
   "source": [
    "- Let's take a look at some selected constants useful for detecting stream errors:\n",
    "\n",
    "    `errno.EACCES → Permission denied`\n",
    "\n",
    "    The error occurs when you try, for example, to open a file with the read only attribute for writing.\n",
    "\n",
    "    `errno.EBADF → Bad file number`\n",
    "\n",
    "    The error occurs when you try, for example, to operate with an unopened stream.\n",
    "\n",
    "    `errno.EEXIST → File exists`\n",
    "\n",
    "    The error occurs when you try, for example, to rename a file with its previous name.\n",
    "\n",
    "    `errno.EFBIG → File too large`\n",
    "\n",
    "    The error occurs when you try to create a file that is larger than the maximum allowed by the operating system.\n",
    "\n",
    "    `errno.EISDIR → Is a directory`\n",
    "\n",
    "    The error occurs when you try to treat a directory name as the name of an ordinary file.\n",
    "\n",
    "    `errno.EMFILE → Too many open files`\n",
    "\n",
    "    The error occurs when you try to simultaneously open more streams than acceptable for your operating system.\n",
    "\n",
    "    `errno.ENOENT → No such file or directory`\n",
    "\n",
    "    The error occurs when you try to access a non-existent file/directory.\n",
    "\n",
    "    `errno.ENOSPC → No space left on device`\n",
    "\n",
    "    The error occurs when there is no free space on the media."
   ]
  },
  {
   "cell_type": "markdown",
   "metadata": {},
   "source": [
    "- If you are a very careful programmer, you may feel the need to use the sequence of statements similar to those presented below:"
   ]
  },
  {
   "cell_type": "code",
   "execution_count": null,
   "metadata": {},
   "outputs": [],
   "source": [
    "import errno\n",
    "try:\n",
    "    s = open(\"c:/users/user/Desktop/file.txt\", \"rt\")\n",
    "    # actual processing goes here\n",
    "    s.close()\n",
    "except Exception as exc:\n",
    "    if exc.errno == errno.ENOENT:\n",
    "        print(\"The file doesn't exist.\")\n",
    "    elif exc.errno == errno.EMFILE:\n",
    "        print(\"You've opened too many files.\")\n",
    "    else:\n",
    "        printf(\"The error number is:\", exc.errno)"
   ]
  },
  {
   "cell_type": "markdown",
   "metadata": {},
   "source": [
    "- Fortunately, there is a function that can dramatically ***simplify the error handling code***. Its name is `strerror()`, and it comes from the `os` module and ***expects just one argument - an error number***.\n",
    "\n",
    "\n",
    "- Note: if you pass a non-existent error code (a number which is not bound to any actual error), the function will raise ValueError exception."
   ]
  },
  {
   "cell_type": "markdown",
   "metadata": {},
   "source": [
    "- Now we can simplify our code in the following way:"
   ]
  },
  {
   "cell_type": "code",
   "execution_count": null,
   "metadata": {},
   "outputs": [],
   "source": [
    "from os import strerror\n",
    "try:\n",
    "    s = open(\"c:/users/user/Desktop/file.txt\", \"rt\")\n",
    "    # actual processing goes here\n",
    "    s.close()\n",
    "except Exception as exc:\n",
    "    print(\"The file could not be opened:\", strerror(exc.errno));"
   ]
  },
  {
   "cell_type": "markdown",
   "metadata": {},
   "source": [
    "### 6.1.9.1 Working with real files"
   ]
  },
  {
   "cell_type": "markdown",
   "metadata": {},
   "source": [
    "- If your text files contain some national characters not covered by the standard ASCII charset, you may need an additional step. Your `open()` function invocation may require an argument denoting specific text encoding.\n",
    "\n",
    "- For example, if you're using a Unix/Linux OS configured to use UTF-8 as a system-wide setting, the `open()` function may look as follows:"
   ]
  },
  {
   "cell_type": "code",
   "execution_count": null,
   "metadata": {},
   "outputs": [],
   "source": [
    "stream = open('file.txt', 'rt', encoding='utf-8')"
   ]
  },
  {
   "cell_type": "markdown",
   "metadata": {},
   "source": [
    "- We'll start with the simplest variant and use a file named text.txt."
   ]
  },
  {
   "cell_type": "code",
   "execution_count": 3,
   "metadata": {},
   "outputs": [
    {
     "name": "stdout",
     "output_type": "stream",
     "text": [
      "Beautiful is better than ugly.\n",
      "Explicit is better than implicit.\n",
      "Simple is better than complex.\n",
      "Complex is better than complicated.\n",
      "\n",
      "Characters in file: 131\n"
     ]
    }
   ],
   "source": [
    "from os import strerror\n",
    "\n",
    "try:\n",
    "    cnt = 0\n",
    "    s = open('text.txt', \"rt\")\n",
    "    # try to read the very first character from the file\n",
    "    ch = s.read(1)\n",
    "    while ch != '':\n",
    "        print(ch, end='')\n",
    "        cnt += 1\n",
    "        ch = s.read(1)\n",
    "    s.close()\n",
    "    print(\"\\n\\nCharacters in file:\", cnt)\n",
    "except IOError as e:\n",
    "    print(\"I/O error occurred: \", strerr(e.errno))"
   ]
  },
  {
   "cell_type": "markdown",
   "metadata": {},
   "source": [
    "- If you're absolutely sure that the file's length is safe and you can read the whole file to the memory at once, you can do it - the `read()` function, invoked without any arguments or with an argument that evaluates to `None`, will do the job for you.\n",
    "\n",
    "- Remember - ***reading a terabyte-long file using this method may corrupt your OS***.\n",
    "\n",
    "- Don't expect miracles - computer memory isn't stretchable."
   ]
  },
  {
   "cell_type": "code",
   "execution_count": 4,
   "metadata": {},
   "outputs": [
    {
     "name": "stdout",
     "output_type": "stream",
     "text": [
      "Beautiful is better than ugly.\n",
      "Explicit is better than implicit.\n",
      "Simple is better than complex.\n",
      "Complex is better than complicated.\n",
      "\n",
      "Characters in file: 131\n"
     ]
    }
   ],
   "source": [
    "from os import strerror\n",
    "\n",
    "try:\n",
    "    cnt = 0\n",
    "    s = open('text.txt', \"rt\")\n",
    "    content = s.read()\n",
    "    for ch in content:\n",
    "        print(ch, end='')\n",
    "        cnt += 1\n",
    "        ch = s.read(1)\n",
    "    s.close()\n",
    "    print(\"\\n\\nCharacters in file:\", cnt)\n",
    "except IOError as e:\n",
    "    print(\"I/O error occurred: \", strerr(e.errno))"
   ]
  },
  {
   "cell_type": "markdown",
   "metadata": {},
   "source": [
    "#### Processing text files: readline()"
   ]
  },
  {
   "cell_type": "code",
   "execution_count": 5,
   "metadata": {},
   "outputs": [
    {
     "name": "stdout",
     "output_type": "stream",
     "text": [
      "Beautiful is better than ugly.\n",
      "Explicit is better than implicit.\n",
      "Simple is better than complex.\n",
      "Complex is better than complicated.\n",
      "\n",
      "Characters in file: 131\n",
      "Lines in file:      4\n"
     ]
    }
   ],
   "source": [
    "from os import strerror\n",
    "\n",
    "try:\n",
    "    ccnt = lcnt = 0\n",
    "    s = open('text.txt', 'rt')\n",
    "    line = s.readline()\n",
    "    while line != '':\n",
    "        lcnt += 1\n",
    "        for ch in line:\n",
    "            print(ch, end='')\n",
    "            ccnt += 1\n",
    "        line = s.readline()\n",
    "    s.close()\n",
    "    print(\"\\n\\nCharacters in file:\", ccnt)\n",
    "    print(\"Lines in file:     \", lcnt)\n",
    "except IOError as e:\n",
    "    print(\"I/O error occurred:\", strerr(e.errno))"
   ]
  },
  {
   "cell_type": "markdown",
   "metadata": {},
   "source": [
    "#### Processing text files: readlines()"
   ]
  },
  {
   "cell_type": "markdown",
   "metadata": {},
   "source": [
    "- The `readlines()` method, when invoked without arguments, tries to ***read all the file contents, and returns a list of strings, one element per file line***.\n",
    "\n",
    "\n",
    "- If you're not sure if the file size is small enough and don't want to test the OS, you can convince the `readlines()` method to read not more than a specified number of bytes at once (the returning value remains the same - it's a list of a string).\n",
    "\n",
    "\n",
    "- Note: when there is nothing to read from the file, the method returns an empty list. Use it to detect the end of the file."
   ]
  },
  {
   "cell_type": "code",
   "execution_count": 6,
   "metadata": {},
   "outputs": [
    {
     "name": "stdout",
     "output_type": "stream",
     "text": [
      "Beautiful is better than ugly.\n",
      "Explicit is better than implicit.\n",
      "Simple is better than complex.\n",
      "Complex is better than complicated.\n",
      "\n",
      "Characters in file: 131\n",
      "Lines in file:      4\n"
     ]
    }
   ],
   "source": [
    "from os import strerror\n",
    "\n",
    "try:\n",
    "    ccnt = lcnt = 0\n",
    "    s = open('text.txt', 'rt')\n",
    "    lines = s.readlines(20)\n",
    "    while len(lines) != 0:\n",
    "        for line in lines:\n",
    "            lcnt += 1\n",
    "            for ch in line:\n",
    "                print(ch, end='')\n",
    "                ccnt += 1\n",
    "        lines = s.readlines(10)\n",
    "    s.close()\n",
    "    print(\"\\n\\nCharacters in file:\", ccnt)\n",
    "    print(\"Lines in file:     \", lcnt)\n",
    "except IOError as e:\n",
    "    print(\"I/O error occurred:\", strerr(e.errno))"
   ]
  },
  {
   "cell_type": "markdown",
   "metadata": {},
   "source": [
    "- The last example we want to present shows a very interesting trait of the object returned by the `open()` function in text mode.\n",
    "\n",
    "- We think it may surprise you - ***the object is an instance of the iterable class***.\n",
    "\n",
    "- Strange? Not at all. Usable? Yes, absolutely.\n",
    "\n",
    "- The ***iteration protocol defined for the file object*** is very simple - its `__next__` method just ***returns the next line read in from the file***.\n",
    "\n",
    "- Moreover, you can expect that the object automatically invokes `close()` when any of the file reads reaches the end of the file."
   ]
  },
  {
   "cell_type": "code",
   "execution_count": 8,
   "metadata": {},
   "outputs": [
    {
     "name": "stdout",
     "output_type": "stream",
     "text": [
      "Beautiful is better than ugly.\n",
      "Explicit is better than implicit.\n",
      "Simple is better than complex.\n",
      "Complex is better than complicated.\n",
      "\n",
      "Characters in file: 131\n",
      "Lines in file:      4\n"
     ]
    }
   ],
   "source": [
    "from os import strerror\n",
    "\n",
    "try:\n",
    "    ccnt = lcnt = 0\n",
    "    for line in open('text.txt', 'rt'):\n",
    "        lcnt += 1\n",
    "        for ch in line:\n",
    "            print(ch, end='')\n",
    "            ccnt += 1\n",
    "    print(\"\\n\\nCharacters in file:\", ccnt)\n",
    "    print(\"Lines in file:     \", lcnt)\n",
    "except IOError as e:\n",
    "    print(\"I/O error occurred: \", strerr(e.errno))"
   ]
  },
  {
   "cell_type": "markdown",
   "metadata": {},
   "source": [
    "#### Dealing with text files: write()"
   ]
  },
  {
   "cell_type": "markdown",
   "metadata": {},
   "source": [
    "- The method is named `write()` and it expects just one argument - a string that will be transferred to an open file (don't forget - the open mode should reflect the way in which the data is transferred - ***writing a file opened in read mode won't succeed***)"
   ]
  },
  {
   "cell_type": "code",
   "execution_count": 3,
   "metadata": {},
   "outputs": [],
   "source": [
    "from os import strerror\n",
    "\n",
    "try:\n",
    "    fo = open('newtext.txt', 'wt') # a new file (newtext.txt) is created\n",
    "    for i in range(10):\n",
    "        s = \"line #\" + str(i+1) + \"\\n\"\n",
    "        for ch in s:\n",
    "            fo.write(ch)\n",
    "    fo.close()\n",
    "except IOError as e:\n",
    "    print(\"I/O error occurred: \", strerr(e.errno))"
   ]
  },
  {
   "cell_type": "markdown",
   "metadata": {},
   "source": [
    "- The string to be recorded consists of the word line, followed by the line number. We've decided to write the string's contents character by character (this is done by the inner `for` loop) but you're not obliged to do it in this way.\n",
    "\n",
    "- We just wanted to show you that `write()` is able to operate on single characters."
   ]
  },
  {
   "cell_type": "code",
   "execution_count": 4,
   "metadata": {},
   "outputs": [],
   "source": [
    "from os import strerror\n",
    "\n",
    "try:\n",
    "    fo = open('newtext.txt', 'wt')\n",
    "    for i in range(10):\n",
    "        fo.write(\"line #\" + str(i+1) + \"\\n\")\n",
    "    fo.close()\n",
    "except IOError as e:\n",
    "    print(\"I/O error occurred: \", strerr(e.errno))"
   ]
  },
  {
   "cell_type": "markdown",
   "metadata": {},
   "source": [
    "- The contents of the newly created file are the same.\n",
    "\n",
    "\n",
    "- Note: you can use the same method to write to the stderr stream, but don't try to open it, as it's always open implicitly.\n",
    "\n",
    "\n",
    "- For example, if you want to send a message string to stderr to distinguish it from normal program output, it may look like this:"
   ]
  },
  {
   "cell_type": "code",
   "execution_count": null,
   "metadata": {},
   "outputs": [],
   "source": [
    "import sys\n",
    "sys.stderr.write(\"Error message\")"
   ]
  },
  {
   "cell_type": "markdown",
   "metadata": {},
   "source": [
    "#### What is a bytearray?"
   ]
  },
  {
   "cell_type": "markdown",
   "metadata": {},
   "source": [
    "- ***the specialized classes Python uses to store amorphous data***.\n",
    "\n",
    "\n",
    "- ***Amorphous data is data which have no specific shape or form*** - they are just a series of bytes.\n",
    "\n",
    "\n",
    "- This doesn't mean that these bytes cannot have their own meaning, or cannot represent any useful object, e.g., bitmap graphics.\n",
    "\n",
    "\n",
    "- The most important aspect of this is that in the place where we have contact with the data, we are not able to, or simply don't want to, know anything about it.\n",
    "\n",
    "\n",
    "- Amorphous data cannot be stored using any of the previously presented means - they are neither strings nor lists.\n",
    "\n",
    "\n",
    "- There should be a special container able to handle such data.\n",
    "\n",
    "\n",
    "- Python has more than one such container - one of them is ***a specialized class name bytearray*** - as the name suggests, it's ***an array containing (amorphous) bytes***.\n",
    "\n",
    "\n",
    "- If you want to have such a container, e.g., in order to read in a bitmap image and process it in any way, you need to create it explicitly, using one of available constructors.\n",
    "\n",
    "\n",
    "- Take a look:"
   ]
  },
  {
   "cell_type": "code",
   "execution_count": null,
   "metadata": {},
   "outputs": [],
   "source": [
    "data = bytearray(10)"
   ]
  },
  {
   "cell_type": "markdown",
   "metadata": {},
   "source": [
    "- Such an invocation creates a bytearray object able to store ten bytes.\n",
    "\n",
    "- Note: such a constructor ***fills the whole array with zeros***."
   ]
  },
  {
   "cell_type": "markdown",
   "metadata": {},
   "source": [
    "- Bytearrays resemble lists in many respects. For example, they are `mutable`, they're a subject of the `len()` function, and you can access any of their elements using conventional indexing.\n",
    "\n",
    "\n",
    "- There is one important limitation - ***you mustn't set any byte array elements with a value which is not an integer*** (violating this rule will cause a **TypeError** exception) and you're ***not allowed to assign a value that doesn't come from the range 0 to 255 inclusive*** (unless you want to provoke a ValueError exception)."
   ]
  },
  {
   "cell_type": "code",
   "execution_count": 5,
   "metadata": {},
   "outputs": [
    {
     "name": "stdout",
     "output_type": "stream",
     "text": [
      "0xa\n",
      "0x9\n",
      "0x8\n",
      "0x7\n",
      "0x6\n",
      "0x5\n",
      "0x4\n",
      "0x3\n",
      "0x2\n",
      "0x1\n"
     ]
    }
   ],
   "source": [
    "data = bytearray(10)\n",
    "\n",
    "for i in range(len(data)):\n",
    "    data[i] = 10 - i\n",
    "\n",
    "for b in data:\n",
    "    print(hex(b))"
   ]
  },
  {
   "cell_type": "markdown",
   "metadata": {},
   "source": [
    "#### Bytearrays: continued"
   ]
  },
  {
   "cell_type": "code",
   "execution_count": 6,
   "metadata": {},
   "outputs": [],
   "source": [
    "from os import strerror\n",
    "\n",
    "data = bytearray(10)\n",
    "\n",
    "for i in range(len(data)):\n",
    "    data[i] = 10 + i\n",
    "\n",
    "try:\n",
    "    bf = open('file.bin', 'wb')\n",
    "    bf.write(data)\n",
    "    bf.close()\n",
    "except IOError as e:\n",
    "    print(\"I/O error occurred:\", strerr(e.errno))"
   ]
  },
  {
   "cell_type": "markdown",
   "metadata": {},
   "source": [
    "#### How to read bytes from a stream"
   ]
  },
  {
   "cell_type": "markdown",
   "metadata": {},
   "source": [
    "- Reading from a binary file requires use of a specialized method name `readinto()`, as the method doesn't create a new byte array object, but fills a previously created one with the values taken from the binary file.\n",
    "\n",
    "- Note:\n",
    "\n",
    "    - the method returns the number of successfully read bytes;\n",
    "    - the method tries to fill the whole space available inside its argument; if there are more data in the file than space in the argument, the read operation will stop before the end of the file; otherwise, the method's result may indicate that the byte array has only been filled fragmentarily (the result will show you that, too, and the part of the array not being used by the newly read contents remains untouched)"
   ]
  },
  {
   "cell_type": "code",
   "execution_count": 7,
   "metadata": {},
   "outputs": [
    {
     "name": "stdout",
     "output_type": "stream",
     "text": [
      "0xa 0xb 0xc 0xd 0xe 0xf 0x10 0x11 0x12 0x13 "
     ]
    }
   ],
   "source": [
    "from os import strerror\n",
    "\n",
    "data = bytearray(10)\n",
    "\n",
    "try:\n",
    "    bf = open('file.bin', 'rb')\n",
    "    bf.readinto(data)\n",
    "    bf.close()\n",
    "\n",
    "    for b in data:\n",
    "        print(hex(b), end=' ')\n",
    "except IOError as e:\n",
    "    print(\"I/O error occurred:\", strerr(e.errno))"
   ]
  },
  {
   "cell_type": "markdown",
   "metadata": {},
   "source": [
    "#### How to read bytes from a stream"
   ]
  },
  {
   "cell_type": "markdown",
   "metadata": {},
   "source": [
    "- An alternative way of reading the contents of a binary file is offered by the method named `read()`.\n",
    "\n",
    "\n",
    "- Invoked without arguments, it tries to ***read all the contents of the file into the memory***, making them a part of a newly created object of the bytes class.\n",
    "\n",
    "\n",
    "- This class has some similarities to `bytearray`, with the exception of one significant difference - it's ***immutable***."
   ]
  },
  {
   "cell_type": "code",
   "execution_count": 8,
   "metadata": {},
   "outputs": [
    {
     "name": "stdout",
     "output_type": "stream",
     "text": [
      "0xa 0xb 0xc 0xd 0xe 0xf 0x10 0x11 0x12 0x13 "
     ]
    }
   ],
   "source": [
    "from os import strerror\n",
    "\n",
    "try:\n",
    "    bf = open('file.bin', 'rb')\n",
    "    data = bytearray(bf.read())\n",
    "    bf.close()\n",
    "\n",
    "    for b in data:\n",
    "        print(hex(b), end=' ')\n",
    "\n",
    "except IOError as e:\n",
    "    print(\"I/O error occurred:\", strerr(e.errno))"
   ]
  },
  {
   "cell_type": "markdown",
   "metadata": {},
   "source": [
    "- Be careful - ***don't use this kind of read if you're not sure that the file's contents will fit the available memory***."
   ]
  },
  {
   "cell_type": "markdown",
   "metadata": {},
   "source": [
    "#### How to read bytes from a stream: continued"
   ]
  },
  {
   "cell_type": "markdown",
   "metadata": {},
   "source": [
    "- If the `read()` method is invoked with an argument, it ***specifies the maximum number of bytes to be read***.\n",
    "\n",
    "\n",
    "- The method tries to read the desired number of bytes from the file, and the length of the returned object can be used to determine the number of bytes actually read.\n",
    "\n",
    "\n",
    "- You can use the method just like here:"
   ]
  },
  {
   "cell_type": "code",
   "execution_count": 9,
   "metadata": {},
   "outputs": [
    {
     "name": "stdout",
     "output_type": "stream",
     "text": [
      "0xa 0xb 0xc 0xd 0xe "
     ]
    }
   ],
   "source": [
    "try:\n",
    "    bf = open('file.bin', 'rb')\n",
    "    data = bytearray(bf.read(5))\n",
    "    bf.close()\n",
    "\n",
    "    for b in data:\n",
    "        print(hex(b), end=' ')\n",
    "\n",
    "except IOError as e:\n",
    "    print(\"I/O error occurred:\", strerr(e.errno))"
   ]
  },
  {
   "cell_type": "markdown",
   "metadata": {},
   "source": [
    "- Note: the first five bytes of the file have been read by the code - the next five are still waiting to be processed."
   ]
  },
  {
   "cell_type": "markdown",
   "metadata": {},
   "source": [
    "#### Copying files - a simple and functional tool"
   ]
  },
  {
   "cell_type": "code",
   "execution_count": 10,
   "metadata": {},
   "outputs": [
    {
     "name": "stdout",
     "output_type": "stream",
     "text": [
      "Source file name?: file.bin\n",
      "Destination file name?: fileDst.bin\n",
      "10 byte(s) succesfully written\n"
     ]
    }
   ],
   "source": [
    "from os import strerror\n",
    "\n",
    "srcname = input(\"Source file name?: \")\n",
    "try:\n",
    "    src = open(srcname, 'rb')\n",
    "except IOError as e:\n",
    "    print(\"Cannot open source file: \", strerror(e.errno))\n",
    "    # use the exit() function to stop program execution and \n",
    "    # to pass the completion code to the OS; \n",
    "    # any completion code other than 0 says that the program \n",
    "    # has encountered some problems; \n",
    "    # use the errno value to specify the nature of the issue;\n",
    "    exit(e.errno)\t\n",
    "dstname = input(\"Destination file name?: \")\n",
    "try:\n",
    "    dst = open(dstname, 'wb')\n",
    "except Exception as e:\n",
    "    print(\"Cannot create destination file: \", strerr(e.errno))\n",
    "    src.close()\n",
    "    exit(e.errno)\n",
    "\n",
    "# prepare a piece of memory for transferring data from the source file \n",
    "# to the target one; such a transfer area is often called a buffer, \n",
    "# hence the name of the variable; the size of the buffer is arbitrary \n",
    "# in this case, we decided to use 64 kilobytes;\n",
    "buffer = bytearray(65536)\n",
    "# count the bytes copied - this is the counter and its initial value;\n",
    "total  = 0\n",
    "try:\n",
    "    # try to fill the buffer for the very first time;\n",
    "    readin = src.readinto(buffer)\n",
    "    # as long as you get a non-zero number of bytes, repeat the same actions\n",
    "    while readin > 0:\n",
    "        # write the buffer's contents to the output file \n",
    "        # (note: we've used a slice to limit the number of bytes being written, \n",
    "        # as write() always prefer to write the whole buffer)\n",
    "        written = dst.write(buffer[:readin])\n",
    "        total += written\n",
    "        # read the next file chunk\n",
    "        readin = src.readinto(buffer)\n",
    "except IOError as e:\n",
    "    print(\"Cannot create destination file: \", strerr(e.errno))\n",
    "    exit(e.errno)\n",
    "    \n",
    "print(total,'byte(s) succesfully written')\n",
    "src.close()\n",
    "dst.close()"
   ]
  },
  {
   "cell_type": "markdown",
   "metadata": {},
   "source": [
    "### 6.1.9.15 LAB: Character frequency histogram"
   ]
  },
  {
   "cell_type": "markdown",
   "metadata": {},
   "source": [
    "Scenario\n",
    "\n",
    "- A text file contains some text (nothing unusual) but we need to know how often (or how rare) each letter appears in the text. Such an analysis may be useful in cryptography, so we want to be able to do that in reference to the Latin alphabet.\n",
    "\n",
    "- Your task is to write a program which:\n",
    "\n",
    "    - asks the user for the input file's name;\n",
    "    - reads the file (if possible) and counts all the Latin letters (lower- and upper-case letters are treated as equal)\n",
    "    - prints a simple histogram in alphabetical order (only non-zero counts should be presented)\n",
    "    \n",
    "- Create a test file for the code, and check if your histogram contains valid results."
   ]
  },
  {
   "cell_type": "code",
   "execution_count": 66,
   "metadata": {},
   "outputs": [
    {
     "name": "stdout",
     "output_type": "stream",
     "text": [
      "Open a file:text.txt\n",
      "a  ->  6\n",
      "b  ->  5\n",
      "c  ->  6\n",
      "d  ->  1\n",
      "e  ->  14\n",
      "f  ->  1\n",
      "g  ->  1\n",
      "h  ->  4\n",
      "i  ->  12\n",
      "l  ->  8\n",
      "m  ->  5\n",
      "n  ->  4\n",
      "o  ->  3\n",
      "p  ->  6\n",
      "r  ->  4\n",
      "s  ->  5\n",
      "t  ->  16\n",
      "u  ->  3\n",
      "x  ->  3\n",
      "y  ->  1\n"
     ]
    }
   ],
   "source": [
    "from os import strerror\n",
    "srcname = input(\"Open a file:\")\n",
    "try:\n",
    "    src = open(srcname, 'rt')\n",
    "except IOError as e:\n",
    "    print(\"Cannot open the file: \",strerror(e.errno))\n",
    "    \n",
    "alpha = 'abcdefghijklmnopqrstuvwxyz'\n",
    "dataDict ={}\n",
    "for letter in alpha:\n",
    "    dataDict.update({letter:0})\n",
    "    \n",
    "data = src.read().strip()\n",
    "data2 = data.lower()\n",
    "\n",
    "for ch in data2:\n",
    "    if ch.isalpha():\n",
    "        temp = {ch:dataDict[ch]+1}\n",
    "        dataDict.update(temp)\n",
    "\n",
    "for i in alpha:\n",
    "    if dataDict[i] > 0:\n",
    "        print(i,' -> ', dataDict[i])\n",
    "        \n",
    "src.close()"
   ]
  },
  {
   "cell_type": "markdown",
   "metadata": {},
   "source": [
    "Scenario\n",
    "- The previous code needs to be improved. It's okay, but it has to be better.\n",
    "\n",
    "- Your task is to make some amendments, which generate the following results:\n",
    "\n",
    "    - the output histogram will be sorted based on the characters' frequency (the bigger counter should be presented first)\n",
    "    - the histogram should be sent to a file with the same name as the input one, but with the suffix '.hist' (it should be concatenated to the original name)"
   ]
  },
  {
   "cell_type": "code",
   "execution_count": 68,
   "metadata": {},
   "outputs": [
    {
     "name": "stdout",
     "output_type": "stream",
     "text": [
      "Open a file: text.txt\n",
      "Select a dst file: text.hist\n",
      "t  ->  16\n",
      "e  ->  14\n",
      "i  ->  12\n",
      "l  ->  8\n",
      "a  ->  6\n",
      "c  ->  6\n",
      "p  ->  6\n",
      "b  ->  5\n",
      "m  ->  5\n",
      "s  ->  5\n",
      "h  ->  4\n",
      "n  ->  4\n",
      "r  ->  4\n",
      "o  ->  3\n",
      "u  ->  3\n",
      "x  ->  3\n",
      "d  ->  1\n",
      "f  ->  1\n",
      "g  ->  1\n",
      "y  ->  1\n"
     ]
    }
   ],
   "source": [
    "from os import strerror\n",
    "srcname = input(\"Open a file: \")\n",
    "dstname = input(\"Select a dst file: \")\n",
    "try:\n",
    "    src = open(srcname, 'rt')\n",
    "    dst = open(dstname, 'wt')\n",
    "except IOError as e:\n",
    "    print(\"Cannot open the file: \",strerror(e.errno))\n",
    "    \n",
    "alpha = 'abcdefghijklmnopqrstuvwxyz'\n",
    "dataDict ={}\n",
    "for letter in alpha:\n",
    "    dataDict.update({letter:0})\n",
    "    \n",
    "data = src.read().strip()\n",
    "data2 = data.lower()\n",
    "\n",
    "for ch in data2:\n",
    "    if ch.isalpha():\n",
    "        temp = {ch:dataDict[ch]+1}\n",
    "        dataDict.update(temp)\n",
    "\n",
    "valueList = list(dataDict.values())\n",
    "valueList.sort()\n",
    "sortedValue = list(filter(lambda x: x > 0, valueList))\n",
    "\n",
    "acendValue = []\n",
    "for i in range(0,len(sortedValue)):\n",
    "    acendValue.append(sortedValue.pop())\n",
    "\n",
    "for item in acendValue:\n",
    "    for letter in list(dataDict.keys()):\n",
    "        if dataDict[letter] == item:\n",
    "            print(letter, ' -> ', item)\n",
    "            newData = letter + ' -> ' + str(item) + '\\n'\n",
    "            dst.write(newData)\n",
    "            del dataDict[letter]\n",
    "            \n",
    "src.close()\n",
    "dst.close()"
   ]
  },
  {
   "cell_type": "markdown",
   "metadata": {},
   "source": [
    "Scenario\n",
    "\n",
    "- Prof. Jekyll conducts classes with students and regularly makes notes in a text file. Each line of the file contains 3 elements: the student's first name, the student's last name, and the number of point the student received during certain classes.\n",
    "\n",
    "- The elements are separated with white spaces. Each student may appear more than once inside Prof. Jekyll's file.\n",
    "\n",
    "- The file may look as follows:\n",
    "\n",
    "    ```\n",
    "    John\tSmith\t5\n",
    "    Anna\tBoleyn\t4.5\n",
    "    John\tSmith\t2\n",
    "    Anna\tBoleyn\t11\n",
    "    Andrew\tCox\t1.5\n",
    "    ```\n",
    "    \n",
    "- Your task is to write a program which:\n",
    "\n",
    "    - asks the user for Prof. Jekyll's file name;\n",
    "    - reads the file contents and counts the sum of the received points for each student;\n",
    "    - prints a simple (but sorted) report, just like this one:\n",
    "    ```\n",
    "    Andrew Cox \t 1.5\n",
    "    Anna Boleyn \t 15.5\n",
    "    John Smith \t 7.0\n",
    "    ```\n",
    "\n",
    "- Note:\n",
    "\n",
    "    - your program must be fully protected against all possible failures: the file's non-existence, the file's emptiness, or any input data failures; encountering any data error should cause immediate program termination, and the erroneous should be presented to the user;\n",
    "    - implement and use your own exceptions hierarchy - we've presented it in the editor; the second exception should be raised when a bad line is detect, and the third when the source file exists but is empty."
   ]
  },
  {
   "cell_type": "code",
   "execution_count": 86,
   "metadata": {},
   "outputs": [
    {
     "name": "stdout",
     "output_type": "stream",
     "text": [
      "Enter the source file: studentsScores.txt\n",
      "Enter the destination file: studentsScoresResult.txt\n"
     ]
    }
   ],
   "source": [
    "class StudentsDataException(BaseException):\n",
    "    pass \n",
    "\n",
    "class BadLine(StudentsDataException):\n",
    "    def __str__ (self):\n",
    "        return \"There is bad lines or wrong scores.\" \n",
    "\n",
    "class FileEmpty(StudentsDataException):\n",
    "    def __str__ (self):\n",
    "        return \"There is no data in the file.\" \n",
    "\n",
    "def closeFilesAndExit(src, dst, e):\n",
    "    src.close()\n",
    "    dst.close()\n",
    "    return e.__str__()\n",
    "\n",
    "try:\n",
    "    srcname = input(\"Enter the source file: \")\n",
    "    dstname = input(\"Enter the destination file: \")\n",
    "    src = open(srcname, 'rt')  \n",
    "    dst = open(dstname, 'wt')\n",
    "    \n",
    "    data = src.readlines()\n",
    "    if data == []:\n",
    "        raise FileEmpty()\n",
    "    try:\n",
    "        studentDict = {}\n",
    "        for i in data:\n",
    "            newData = i.strip().replace('\\t',' ')\n",
    "            studentData = newData.split(' ')\n",
    "            student = studentData[0] + '\\t'+studentData[1] +'\\t'\n",
    "            studentOneScore = studentData[2]                 \n",
    "            if student in studentDict.keys():\n",
    "                temp = {student: float(studentDict[student])+float(studentOneScore)}\n",
    "            else:\n",
    "                temp = {student: float(studentOneScore)}\n",
    "            studentDict.update(temp)\n",
    "\n",
    "        for k in sorted(studentDict.keys()):\n",
    "            temp = k + str(studentDict[k]) + '\\n'\n",
    "            dst.write(temp)\n",
    "    except:\n",
    "        raise BadLine()\n",
    "\n",
    "    src.close()\n",
    "    dst.close()\n",
    "                \n",
    "except FileEmpty as fe:\n",
    "    message = closeFilesAndExit(src, dst, fe)\n",
    "    print(message)\n",
    "except BadLine as bl:\n",
    "    message = closeFilesAndExit(src, dst, bl)\n",
    "    print(message)\n",
    "except BaseException as e:\n",
    "    message = closeFilesAndExit(src, dst, e)\n",
    "    print(message)"
   ]
  },
  {
   "cell_type": "code",
   "execution_count": null,
   "metadata": {},
   "outputs": [],
   "source": []
  },
  {
   "cell_type": "code",
   "execution_count": null,
   "metadata": {},
   "outputs": [],
   "source": []
  },
  {
   "cell_type": "code",
   "execution_count": null,
   "metadata": {},
   "outputs": [],
   "source": []
  },
  {
   "cell_type": "code",
   "execution_count": null,
   "metadata": {},
   "outputs": [],
   "source": []
  }
 ],
 "metadata": {
  "kernelspec": {
   "display_name": "Python 3",
   "language": "python",
   "name": "python3"
  },
  "language_info": {
   "codemirror_mode": {
    "name": "ipython",
    "version": 3
   },
   "file_extension": ".py",
   "mimetype": "text/x-python",
   "name": "python",
   "nbconvert_exporter": "python",
   "pygments_lexer": "ipython3",
   "version": "3.7.4"
  }
 },
 "nbformat": 4,
 "nbformat_minor": 2
}
