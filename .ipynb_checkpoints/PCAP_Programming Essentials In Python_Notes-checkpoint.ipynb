{
 "cells": [
  {
   "cell_type": "code",
   "execution_count": null,
   "metadata": {},
   "outputs": [],
   "source": []
  },
  {
   "cell_type": "code",
   "execution_count": null,
   "metadata": {},
   "outputs": [],
   "source": []
  },
  {
   "cell_type": "code",
   "execution_count": null,
   "metadata": {},
   "outputs": [],
   "source": []
  },
  {
   "cell_type": "code",
   "execution_count": null,
   "metadata": {},
   "outputs": [],
   "source": []
  },
  {
   "cell_type": "code",
   "execution_count": null,
   "metadata": {},
   "outputs": [],
   "source": []
  },
  {
   "cell_type": "markdown",
   "metadata": {},
   "source": [
    "### 2.1.6.11 LAB: Operators and expressions"
   ]
  },
  {
   "cell_type": "markdown",
   "metadata": {},
   "source": [
    "Scenario\n",
    "Your task is to prepare a simple code able to evaluate the end time of a period of time, given as a number of minutes (it could be arbitrarily large). The start time is given as a pair of hours (0..23) and minutes (0..59). The result has to be printed to the console.\n",
    "\n",
    "For example, if an event starts at 12:17 and lasts 59 minutes, it will end at 13:16.\n",
    "\n",
    "Don't worry about any imperfections in your code - it's okay if it accepts an invalid time - the most important thing is that the code produce valid results for valid input data.\n",
    "\n",
    "Test your code carefully. Hint: using the % operator may be the key to success.\n",
    "\n",
    "Test Data\n",
    "Sample input:\n",
    "12\n",
    "17\n",
    "59\n",
    "\n",
    "Expected output: 13:16\n",
    "\n",
    "\n",
    "Sample input:\n",
    "23\n",
    "58\n",
    "642\n",
    "\n",
    "Expected output: 10:40\n",
    "\n",
    "\n",
    "Sample input:\n",
    "0\n",
    "1\n",
    "2939\n",
    "\n",
    "Expected output: 1:0"
   ]
  },
  {
   "cell_type": "code",
   "execution_count": null,
   "metadata": {},
   "outputs": [],
   "source": [
    "hour = int(input(\"Starting time (hours): \"))\n",
    "mins = int(input(\"Starting time (minutes): \"))\n",
    "dura = int(input(\"Event duration (minutes): \"))\n",
    "time_hour = (hour + dura//60 + (mins+ dura%60)//60)%24\n",
    "time_min = (mins+ dura%60)%60\n",
    "# put your code here\n",
    "print(\"The time is: \" + str(time_hour) + \":\" + str(time_min))"
   ]
  },
  {
   "cell_type": "code",
   "execution_count": 1,
   "metadata": {},
   "outputs": [
    {
     "name": "stdout",
     "output_type": "stream",
     "text": [
      "Enter your name: peter\n",
      "Hello, peter. Nice to meet you!\n",
      "\n",
      "Press Enter to end the program.\n",
      "\n",
      "THE END.\n"
     ]
    }
   ],
   "source": [
    "name = input(\"Enter your name: \")\n",
    "print(\"Hello, \" + name + \". Nice to meet you!\")\n",
    "\n",
    "print(\"\\nPress Enter to end the program.\")\n",
    "input()\n",
    "print(\"THE END.\")"
   ]
  },
  {
   "cell_type": "markdown",
   "metadata": {},
   "source": [
    "### 2.1.6.12 SECTION SUMMARY"
   ]
  },
  {
   "cell_type": "markdown",
   "metadata": {},
   "source": [
    "1. The `print()` function sends data to the console, while the `input()` function gets data from the console.\n",
    "\n",
    "2. The `input()` function comes with an optional parameter: the prompt string. It allows you to write a message before the user input, e.g.:\n",
    "\n",
    "    ```\n",
    "    name = input(\"Enter your name: \")\n",
    "    print(\"Hello, \" + name + \". Nice to meet you!\")\n",
    "    ```\n",
    "\n",
    "3. When the `input()` function is called, the program's flow is stopped, the prompt symbol keeps blinking (it prompts the user to take action when the console is switched to input mode) until the user has entered an input and/or pressed the Enter key."
   ]
  },
  {
   "cell_type": "markdown",
   "metadata": {},
   "source": [
    "- Exercise 1\n",
    "```\n",
    "x = int(input(\"Enter a number: \")) # the user enters 2\n",
    "print(x * \"5\")\n",
    "```\n",
    "- Answer: 55"
   ]
  },
  {
   "cell_type": "markdown",
   "metadata": {},
   "source": [
    "- Exercise 2\n",
    "```\n",
    "x = input(\"Enter a number: \") # the user enters 2\n",
    "print(type(x))\n",
    "```\n",
    "- Answer: <class 'str'>"
   ]
  },
  {
   "cell_type": "markdown",
   "metadata": {},
   "source": [
    "## Programming Essentials in Python: Module 3"
   ]
  },
  {
   "cell_type": "markdown",
   "metadata": {},
   "source": [
    "### In this module, you will learn about:\n",
    "\n",
    "- Boolean values;\n",
    "- if-elif-else instructions;\n",
    "- the while and for loops;\n",
    "- flow control;\n",
    "- logical and bitwise operations;\n",
    "- lists and arrays."
   ]
  },
  {
   "cell_type": "markdown",
   "metadata": {},
   "source": [
    "### 3.1.1.2 Making decisions in Python"
   ]
  },
  {
   "cell_type": "markdown",
   "metadata": {},
   "source": [
    "#### Comparison: equality operator\n",
    "Don't forget this important distinction:\n",
    "\n",
    "- `=` is an **assignment operator**, e.g., `a = b` assigns `a` with the value of `b`;\n",
    "- `==` is the question are these values equal?; `a == b` **compares** `a` and `b`.\n",
    "It is a **binary operator with left-sided binding.** It needs two arguments and checks if they are equal."
   ]
  },
  {
   "cell_type": "markdown",
   "metadata": {},
   "source": [
    "#### Question #2: What is the result of the following comparison?\n",
    "`2 == 2.`\n",
    "\n",
    "This question is not as easy as the first one. Luckily, Python is able to convert the integer value into its real equivalent, and consequently, the answer is **True**."
   ]
  },
  {
   "cell_type": "markdown",
   "metadata": {},
   "source": [
    "### 3.1.1.3 Making decisions in Python"
   ]
  },
  {
   "cell_type": "markdown",
   "metadata": {},
   "source": [
    "- Equality: the equal to operator `==`\n",
    "- Inequality: the not equal to operator `!=`"
   ]
  },
  {
   "cell_type": "code",
   "execution_count": null,
   "metadata": {},
   "outputs": [],
   "source": []
  }
 ],
 "metadata": {
  "kernelspec": {
   "display_name": "Python 3",
   "language": "python",
   "name": "python3"
  },
  "language_info": {
   "codemirror_mode": {
    "name": "ipython",
    "version": 3
   },
   "file_extension": ".py",
   "mimetype": "text/x-python",
   "name": "python",
   "nbconvert_exporter": "python",
   "pygments_lexer": "ipython3",
   "version": "3.7.4"
  }
 },
 "nbformat": 4,
 "nbformat_minor": 2
}
