{
 "cells": [
  {
   "cell_type": "code",
   "execution_count": null,
   "metadata": {},
   "outputs": [],
   "source": [
    "from random import randrange"
   ]
  },
  {
   "cell_type": "code",
   "execution_count": null,
   "metadata": {},
   "outputs": [],
   "source": [
    "def DisplayBoard(board):\n",
    "    \n",
    "    print(board)"
   ]
  },
  {
   "cell_type": "code",
   "execution_count": null,
   "metadata": {},
   "outputs": [],
   "source": [
    "# convert board string to list\n",
    "def listOfBoard(board):\n",
    "    \n",
    "    listOfBoard = []\n",
    "    for sign in board:\n",
    "        listOfBoard.append(sign)\n",
    "    return listOfBoard"
   ]
  },
  {
   "cell_type": "code",
   "execution_count": null,
   "metadata": {},
   "outputs": [],
   "source": [
    "# make a dictionary that contain numbers with its indexes\n",
    "def MakeListOfFreeFields(board):\n",
    "    \n",
    "    boardList = listOfBoard(board)   \n",
    "    numberString = '12346789'\n",
    "    indexOfFreeFields = {}\n",
    "    \n",
    "    for i in numberString:\n",
    "        if i in boardList:\n",
    "            indexOfFreeFields.update({i:boardList.index(i)})\n",
    "            \n",
    "    return indexOfFreeFields"
   ]
  },
  {
   "cell_type": "code",
   "execution_count": null,
   "metadata": {},
   "outputs": [],
   "source": [
    "# User enter a number to mark as 'O'\n",
    "def EnterMove(board):\n",
    "    \n",
    "    boardList = listOfBoard(board)\n",
    "    userMove = input(\"Enter your move: \")\n",
    "    indexOfFreeFields = MakeListOfFreeFields(board)\n",
    "    \n",
    "    while (userMove not in indexOfFreeFields.keys()):\n",
    "        userMove = input(\"Enter your move again or enter 'exit' to exit: \")\n",
    "        if (userMove == 'exit'):\n",
    "            return 'Game has been exited!'\n",
    "        \n",
    "    boardList[indexOfFreeFields[userMove]] = 'O'\n",
    "    newBoard = ''.join(boardList)\n",
    "    DisplayBoard(newBoard)\n",
    "    \n",
    "    return newBoard"
   ]
  },
  {
   "cell_type": "code",
   "execution_count": null,
   "metadata": {},
   "outputs": [],
   "source": [
    "# to check who wins the game\n",
    "def VictoryFor(board, sign):\n",
    "    \n",
    "    indexOfFreeFields = MakeListOfFreeFields(board)\n",
    "    if indexOfFreeFields == {}:\n",
    "        print(\"The game ends with a tie !!\")\n",
    "        return True\n",
    "\n",
    "    numberPosition = [57, 65, 73, \n",
    "                      161, 169, 177, \n",
    "                      265, 273, 281]\n",
    "    \n",
    "    boardList = listOfBoard(board)\n",
    "    \n",
    "    if (boardList[57] == sign and boardList[65] == sign and boardList[73] == sign) \\\n",
    "        or (boardList[161] == sign and boardList[169] == sign and boardList[177] == sign) \\\n",
    "        or (boardList[265] == sign and boardList[273] == sign and boardList[281] == sign) \\\n",
    "        or (boardList[57] == sign and boardList[161] == sign and boardList[265] == sign) \\\n",
    "        or (boardList[65] == sign and boardList[169] == sign and boardList[273] == sign) \\\n",
    "        or (boardList[73] == sign and boardList[177] == sign and boardList[281] == sign) \\\n",
    "        or (boardList[57] == sign and boardList[169] == sign and boardList[281] == sign) \\\n",
    "        or (boardList[73] == sign and boardList[169] == sign and boardList[265] == sign):\n",
    "            if sign == 'X':\n",
    "                print(\"You lose !\")\n",
    "            else:\n",
    "                print(\"You won !\")\n",
    "            return True\n",
    "    \n",
    "    return False"
   ]
  },
  {
   "cell_type": "code",
   "execution_count": null,
   "metadata": {},
   "outputs": [],
   "source": [
    "# computer auto-enter his move with 'X'\n",
    "def DrawMove(board):\n",
    "\n",
    "    boardList = listOfBoard(board)\n",
    "    indexOfFreeFields = MakeListOfFreeFields(board)\n",
    "    \n",
    "    while(True):\n",
    "        computerMove = str(randrange(1,10))\n",
    "        if computerMove in indexOfFreeFields.keys():\n",
    "            boardList[indexOfFreeFields[computerMove]] = 'X'\n",
    "            newBoard = ''.join(boardList)\n",
    "            break\n",
    "    DisplayBoard(newBoard)\n",
    "    \n",
    "    return newBoard"
   ]
  },
  {
   "cell_type": "code",
   "execution_count": null,
   "metadata": {},
   "outputs": [],
   "source": [
    "# initial board format\n",
    "board = \"\"\"\n",
    "+-------+-------+-------+\n",
    "|       |       |       |\n",
    "|   1   |   2   |   3   |\n",
    "|       |       |       |\n",
    "+-------+-------+-------+\n",
    "|       |       |       |\n",
    "|   4   |   X   |   6   |\n",
    "|       |       |       |\n",
    "+-------+-------+-------+\n",
    "|       |       |       |\n",
    "|   7   |   8   |   9   |\n",
    "|       |       |       |\n",
    "+-------+-------+-------+\n",
    "\"\"\""
   ]
  },
  {
   "cell_type": "code",
   "execution_count": null,
   "metadata": {},
   "outputs": [],
   "source": [
    "# the main part of this game\n",
    "DisplayBoard(board)\n",
    "\n",
    "while ((VictoryFor(board, 'X') or VictoryFor(board, 'O')) == False):\n",
    "    board = EnterMove(board)\n",
    "    if board == 'Game has been exited!':\n",
    "        print(board)\n",
    "        break\n",
    "    elif VictoryFor(board, 'O') == True:\n",
    "        break\n",
    "    board = DrawMove(board)\n",
    "    if VictoryFor(board, 'X') == True:\n",
    "        break"
   ]
  }
 ],
 "metadata": {
  "kernelspec": {
   "display_name": "Python 3",
   "language": "python",
   "name": "python3"
  },
  "language_info": {
   "codemirror_mode": {
    "name": "ipython",
    "version": 3
   },
   "file_extension": ".py",
   "mimetype": "text/x-python",
   "name": "python",
   "nbconvert_exporter": "python",
   "pygments_lexer": "ipython3",
   "version": "3.7.4"
  }
 },
 "nbformat": 4,
 "nbformat_minor": 2
}
